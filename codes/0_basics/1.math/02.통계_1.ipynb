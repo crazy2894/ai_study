{
 "cells": [
  {
   "cell_type": "markdown",
   "metadata": {},
   "source": [
    "# < 커리큘럼 >\n",
    "- 이부일 쎄오님 010-3420-8736"
   ]
  },
  {
   "cell_type": "code",
   "execution_count": null,
   "metadata": {},
   "outputs": [],
   "source": [
    "# 패키지(Package) 로딩(Loading) 하기 : 로딩 = (패키지를 램에 올리는 기능)\n",
    "\n",
    "import scipy.stats as stats # 통계와 관련된 (science ipy)\n",
    "import pandas      as pd    # 데이터 읽어오기, 핸들링, 분석 등 등\n",
    "import seaborn     as sns   # 데이터 시각화"
   ]
  },
  {
   "cell_type": "markdown",
   "metadata": {},
   "source": [
    "#### 1. 정규분포에서 확률 구하기"
   ]
  },
  {
   "cell_type": "code",
   "execution_count": null,
   "metadata": {},
   "outputs": [],
   "source": [
    "# 문제 : 모집단이 평균 170, 표준 편차 10인 정규 분포를 따를때\n",
    "\n",
    "# 1. 170 이하의 면적은? loc = 평균, scale = 표준편차\n",
    "stats.norm.cdf(170, loc = 170, scale = 10) # cdf : cumulative density function : 누적 확률 밀도함수 사진"
   ]
  },
  {
   "cell_type": "code",
   "execution_count": null,
   "metadata": {},
   "outputs": [],
   "source": [
    "# 2. 190 이하의 면적은?\n",
    "1 - stats.norm.cdf(190, loc = 170, scale = 10)"
   ]
  },
  {
   "cell_type": "code",
   "execution_count": null,
   "metadata": {},
   "outputs": [],
   "source": [
    "# 3. 140 에서 200 사이의 면적은?\n",
    "stats.norm.cdf(200, loc = 170, scale = 10) - stats.norm.cdf(140, loc = 170, scale = 10)"
   ]
  },
  {
   "cell_type": "markdown",
   "metadata": {},
   "source": [
    "#### 2. 일표본 검정 (One sample test)\n",
    "- 정규성 가정을 만족하면: 일표본 t 검정 (One sample t-test)\n",
    "- 정규성 가정을 만족안함: 윌콕슨의 부호 순위 검정 (wilcoxon's signed rank test)"
   ]
  },
  {
   "cell_type": "code",
   "execution_count": null,
   "metadata": {},
   "outputs": [],
   "source": [
    "# 1. 가설 검정 첫번째\n",
    "# 귀무 가설: 성인들의 용돈의 평균은 50만원이다.\n",
    "# 대립 가설: 성인들의 용돈의 평균은 50만원 보다 많다.\n",
    "\n",
    "# 엑셀 데이라 읽어오기\n",
    "income = pd.read_excel(io         = \"income.xlsx\",\n",
    "                       sheet_name = 0,\n",
    "                       header     = 0)\n",
    "income"
   ]
  },
  {
   "cell_type": "code",
   "execution_count": null,
   "metadata": {},
   "outputs": [],
   "source": [
    "# 1단계 : 정규성 검정(Normality Test)\n",
    "# 귀무 가설 : 성인들의 용돈은 정규 분포를 따른다. H_0\n",
    "# 대립 가설 : 성인들의 용돈은 정규 분포를 따르지 않는다. H_1\n",
    "\n",
    "# n(표본의 데이터 수) < 5000 : Shapiro-wilk\n",
    "# n(표본의 데이터 수) >= 5000 : Anderson-darling\n",
    "\n",
    "# n = 19 < 5000 : Shapiro-wilk\n",
    "stats.shapiro(income[\"money\"])"
   ]
  },
  {
   "cell_type": "code",
   "execution_count": null,
   "metadata": {},
   "outputs": [],
   "source": [
    "# statistic=0.975 : 검정 통계랑 W\n",
    "# pvalue=0.866    : 유의 확률\n",
    "\n",
    "# 결론\n",
    "# p-value 가 (0.866) > 유의수준 0.05 : 귀무가설\n",
    "# 성인들의 용돈은 정규분포를 따른다. ->>>>> 원샘플 T 테스트를 한다."
   ]
  },
  {
   "cell_type": "code",
   "execution_count": null,
   "metadata": {},
   "outputs": [],
   "source": [
    "# 2단계 : 일표본 t검정 (one sample t-test)\n",
    "stats.ttest_1samp(income[\"money\"],\n",
    "                  popmean     = 50,\n",
    "                  alternative = \"greater\")\n",
    "\n",
    "# income[\"money\"] : 검정 변수\n",
    "# popmean         : 귀무가설의 모평균\n",
    "# alternative     : 대립가설 : \"greater\", \"less\", \"two-sided.\""
   ]
  },
  {
   "cell_type": "code",
   "execution_count": null,
   "metadata": {},
   "outputs": [],
   "source": [
    "# statistic = 6.381         : t: 검정 통계 량\n",
    "# p - value = 0.000         : 유의수준 (0.05)\n",
    "# df        = 18            : 자유도 = n-1\n",
    "\n",
    "#결론\n",
    "#p-val (0.000) < 유의수준(0.05) : 대립가설\n",
    "# 성인들의 용돈은 평균은 50만원 보다 많다."
   ]
  },
  {
   "cell_type": "code",
   "execution_count": null,
   "metadata": {},
   "outputs": [],
   "source": [
    "# 가설검정 2\n",
    "# 귀무가설 : 다이아몬드의 가격의 평균은 5000 달러이다.\n",
    "# 대립가설 : 다이아몬드의 가격의 평균은 5000 달러보다 작다."
   ]
  },
  {
   "cell_type": "code",
   "execution_count": null,
   "metadata": {},
   "outputs": [],
   "source": [
    "diamonds = sns.load_dataset(\"diamonds\")\n",
    "diamonds.head()"
   ]
  },
  {
   "cell_type": "code",
   "execution_count": null,
   "metadata": {},
   "outputs": [],
   "source": [
    "# n = 53940 > 5000 : Anderson-Darling"
   ]
  },
  {
   "cell_type": "code",
   "execution_count": null,
   "metadata": {},
   "outputs": [],
   "source": [
    "# 1단계: 정규성 검정 : Anderson-Darling\n",
    "# 귀무가설 : 다이아몬드 가격은 정규분포를 따른다.\n",
    "# 대립가설 : 다이아몬드 가격은 정규분포를 따르지 않는다."
   ]
  },
  {
   "cell_type": "code",
   "execution_count": null,
   "metadata": {},
   "outputs": [],
   "source": [
    "stats.anderson(diamonds[\"price\"],\n",
    "               dist = \"norm\")\n",
    "\n",
    "# dist : distribution\n",
    "# \"norm\" : Normal distribution"
   ]
  },
  {
   "cell_type": "code",
   "execution_count": null,
   "metadata": {},
   "outputs": [],
   "source": [
    "# statistic = 3474.016 : 검정통계랑\n",
    "# critical_values      : 임계값              =>, 유의 수준(0.05, 5%) : 5.: 0.787\n",
    "# significance_level   : 유의 수준(0.05, 5%) : 5.\n",
    "\n",
    "# 검정 통계량 > 임계값 : 대립가설로 간다.\n",
    "# 다이아 몬드 가격은 정규분포를 따르지 않는다.\n",
    "# 정규성 가정이 깨짐"
   ]
  },
  {
   "cell_type": "code",
   "execution_count": null,
   "metadata": {},
   "outputs": [],
   "source": [
    "# 2단계 : 윌콬슨 부호 순위 검정 (wilcoxon's singend rank test)\n",
    "stats.wilcoxon(diamonds[\"price\"] - 5000, # 이 함수는 뮤값을 0으로 지정하기 때문에 diamonds[\"price\"] - 5000\n",
    "               alternative = \"less\"\n",
    "               )"
   ]
  },
  {
   "cell_type": "code",
   "execution_count": null,
   "metadata": {},
   "outputs": [],
   "source": [
    "# statistic = 416688559.0 : 검정 통계량 : W+\n",
    "# p-value   = 0.0         : 유의 확률 (0.000)\n",
    "\n",
    "# 결론\n",
    "# p-value(0.000) < 유의 수준 (0.05) : 대립가설\n",
    "# 다이아몬드의 가격의 평균은 5000 달러보다 작다."
   ]
  }
 ],
 "metadata": {
  "kernelspec": {
   "display_name": "Python 3",
   "language": "python",
   "name": "python3"
  },
  "language_info": {
   "codemirror_mode": {
    "name": "ipython",
    "version": 3
   },
   "file_extension": ".py",
   "mimetype": "text/x-python",
   "name": "python",
   "nbconvert_exporter": "python",
   "pygments_lexer": "ipython3",
   "version": "3.11.9"
  }
 },
 "nbformat": 4,
 "nbformat_minor": 2
}
