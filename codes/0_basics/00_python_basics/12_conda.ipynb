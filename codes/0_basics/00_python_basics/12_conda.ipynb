{
 "cells": [
  {
   "cell_type": "markdown",
   "metadata": {},
   "source": [
    "# 콘다 (conda) 설치 및 가상환경 연습"
   ]
  },
  {
   "cell_type": "markdown",
   "metadata": {},
   "source": [
    "<목표> \n",
    "- Miniconda3 설치\n",
    "- 가상환경 만들기 / 사용하기\n",
    "- 가상환경 export, import, clone\n",
    "- 패키지 설치 및 삭제"
   ]
  },
  {
   "cell_type": "markdown",
   "metadata": {},
   "source": [
    "### 아나콘다, 미니콘다, 미니포지, 맘바포지 어디서 들어보긴 했는데"
   ]
  },
  {
   "cell_type": "markdown",
   "metadata": {},
   "source": [
    "- Anaconda = conda + python + packages\n",
    "- **Miniconda3** = conda + python3\n",
    "- Miniforge3 = conda + python3 + conda-forge channel\n",
    "- Mambaforge = mamba + python3 + conda-forge channel"
   ]
  },
  {
   "cell_type": "markdown",
   "metadata": {},
   "source": [
    "- 200명 이상의 기업에서는 유료 버전을 사용해야 함 (Anaconda / Miniconda3)\n",
    "- 우리는 개인이니까 일단 Miniconda3!!"
   ]
  },
  {
   "cell_type": "markdown",
   "metadata": {},
   "source": [
    "- Miniconda3\n",
    "   - https://docs.anaconda.com/free/miniconda/\n",
    "   - Archive: https://repo.anaconda.com/miniconda/\n",
    "   - MS-Windows: Miniconda3-latest-Windows-x86_64.exe\n",
    "   - 설치 시 주의: Select Installation Type에서 반드시 Just Me (recommended) 선택\n"
   ]
  },
  {
   "cell_type": "markdown",
   "metadata": {},
   "source": [
    "## conda 정보 확인\n",
    "```\n",
    "conda --version\n",
    "conda --help\n",
    "conda info\n",
    "```"
   ]
  },
  {
   "cell_type": "markdown",
   "metadata": {},
   "source": [
    "## conda 가상환경 만들기\n",
    "```\n",
    "conda env list\n",
    "conda create --name devel python=3.10\n",
    "conda env list\n",
    "```"
   ]
  },
  {
   "cell_type": "markdown",
   "metadata": {},
   "source": [
    "## conda 가상환경 사용하기\n",
    "```\n",
    "conda activate devel\n",
    "python --version\n",
    "```"
   ]
  },
  {
   "cell_type": "markdown",
   "metadata": {},
   "source": [
    "## conda 패키지 설치\n",
    "```\n",
    "conda list\n",
    "conda install jupyterlab\n",
    "jupyter lab\n",
    "conda install numpy pandas matplotlib\n",
    "conda list\n",
    "```"
   ]
  },
  {
   "cell_type": "markdown",
   "metadata": {},
   "source": [
    "## conda 가상환경 나가기\n",
    "```\n",
    "conda deactivate\n",
    "```"
   ]
  },
  {
   "cell_type": "markdown",
   "metadata": {},
   "source": [
    "## conda 가상환경 export\n",
    "```\n",
    "conda env export > devel.yml\n",
    "type devel.yml\n",
    "```"
   ]
  },
  {
   "cell_type": "markdown",
   "metadata": {},
   "source": [
    "## conda 가상환경 지우기\n",
    "```\n",
    "conda deactivate\n",
    "conda env remove --name devel\n",
    "conda env list\n",
    "```"
   ]
  },
  {
   "cell_type": "markdown",
   "metadata": {},
   "source": [
    "## conda 가상환경 붙이기\n",
    "```\n",
    "conda env create --file devel.yml\n",
    "conda env list\n",
    "conda list\n",
    "```"
   ]
  },
  {
   "cell_type": "markdown",
   "metadata": {},
   "source": [
    "## 가상환경 복제\n",
    "```\n",
    "conda create -n devel_clone --clone devel\n",
    "conda env list\n",
    "conda list\n",
    "```"
   ]
  },
  {
   "cell_type": "markdown",
   "metadata": {},
   "source": [
    "## conda 패키지 지우기\n",
    "```\n",
    "conda remove numpy\n",
    "conda list\n",
    "```"
   ]
  },
  {
   "cell_type": "markdown",
   "metadata": {},
   "source": [
    "## conda 패키지 업데이트\n",
    "```\n",
    "conda update --all\n",
    "conda clean --all\n",
    "```"
   ]
  },
  {
   "cell_type": "markdown",
   "metadata": {},
   "source": [
    "## Conda Cheat sheet (PDF)\n",
    "- https://docs.conda.io/projects/conda/en/latest/user-guide/cheatsheet.html"
   ]
  },
  {
   "cell_type": "markdown",
   "metadata": {},
   "source": []
  }
 ],
 "metadata": {
  "kernelspec": {
   "display_name": "base",
   "language": "python",
   "name": "python3"
  },
  "language_info": {
   "codemirror_mode": {
    "name": "ipython",
    "version": 3
   },
   "file_extension": ".py",
   "mimetype": "text/x-python",
   "name": "python",
   "nbconvert_exporter": "python",
   "pygments_lexer": "ipython3",
   "version": "3.11.5"
  }
 },
 "nbformat": 4,
 "nbformat_minor": 2
}
