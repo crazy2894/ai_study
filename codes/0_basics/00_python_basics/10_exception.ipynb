{
 "cells": [
  {
   "cell_type": "markdown",
   "metadata": {},
   "source": [
    "# 10. 예외처리\n"
   ]
  },
  {
   "cell_type": "markdown",
   "metadata": {},
   "source": [
    "## 10.1 오류의 종류\n"
   ]
  },
  {
   "cell_type": "markdown",
   "metadata": {},
   "source": [
    "- 프로그램 실행 전에 발생하는 오류 : 구문 오류 (SyntaxError)\n",
    "- 프로그램 실행 중에 발생하는 오류 : 예외 (Exception) 또는 런타임 오류 (Runtime Error)"
   ]
  },
  {
   "cell_type": "markdown",
   "metadata": {},
   "source": [
    "### 구문 오류\n"
   ]
  },
  {
   "cell_type": "markdown",
   "metadata": {},
   "source": [
    "괄효의 개수, 들어쓰기 문제 등으로 프로그램이 실행되기도 전에 발생하는 오류"
   ]
  },
  {
   "cell_type": "code",
   "execution_count": 3,
   "metadata": {},
   "outputs": [
    {
     "ename": "SyntaxError",
     "evalue": "unterminated string literal (detected at line 2) (3501779716.py, line 2)",
     "output_type": "error",
     "traceback": [
      "\u001b[1;36m  Cell \u001b[1;32mIn[3], line 2\u001b[1;36m\u001b[0m\n\u001b[1;33m    print('에러가 발생합니다!)\u001b[0m\n\u001b[1;37m          ^\u001b[0m\n\u001b[1;31mSyntaxError\u001b[0m\u001b[1;31m:\u001b[0m unterminated string literal (detected at line 2)\n"
     ]
    }
   ],
   "source": [
    "print('프로그램이 실행되었습니다!')\n",
    "print('에러가 발생합니다!)"
   ]
  },
  {
   "cell_type": "markdown",
   "metadata": {},
   "source": [
    "SyntaxError의 경우, 구문에 문제가 있어 프로그램이 실행조차 되지 않는 오류"
   ]
  },
  {
   "cell_type": "code",
   "execution_count": 4,
   "metadata": {},
   "outputs": [
    {
     "name": "stdout",
     "output_type": "stream",
     "text": [
      "프로그램이 실행되었습니다!\n",
      "에러가 발생합니다!\n"
     ]
    }
   ],
   "source": [
    "print('프로그램이 실행되었습니다!')\n",
    "print('에러가 발생합니다!')"
   ]
  },
  {
   "cell_type": "markdown",
   "metadata": {},
   "source": [
    "### 예외\n"
   ]
  },
  {
   "cell_type": "code",
   "execution_count": 6,
   "metadata": {},
   "outputs": [
    {
     "name": "stdout",
     "output_type": "stream",
     "text": [
      "프로그램이 시작되었습니다!\n"
     ]
    },
    {
     "ename": "NameError",
     "evalue": "name 'sample_list' is not defined",
     "output_type": "error",
     "traceback": [
      "\u001b[1;31m---------------------------------------------------------------------------\u001b[0m",
      "\u001b[1;31mNameError\u001b[0m                                 Traceback (most recent call last)",
      "Cell \u001b[1;32mIn[6], line 2\u001b[0m\n\u001b[0;32m      1\u001b[0m \u001b[38;5;28mprint\u001b[39m(\u001b[38;5;124m'\u001b[39m\u001b[38;5;124m프로그램이 시작되었습니다!\u001b[39m\u001b[38;5;124m'\u001b[39m)\n\u001b[1;32m----> 2\u001b[0m sample_list[\u001b[38;5;241m1\u001b[39m]\n",
      "\u001b[1;31mNameError\u001b[0m: name 'sample_list' is not defined"
     ]
    }
   ],
   "source": [
    "print('프로그램이 시작되었습니다!')\n",
    "sample_list[1]"
   ]
  },
  {
   "cell_type": "markdown",
   "metadata": {},
   "source": [
    "프로그램이 일단 실행된 다음, 실행 중에 발생하는 오류 (첫번째 줄은 일단 출력이 됨)"
   ]
  },
  {
   "cell_type": "code",
   "execution_count": 7,
   "metadata": {},
   "outputs": [
    {
     "name": "stdout",
     "output_type": "stream",
     "text": [
      "프로그램이 실행되었습니다!\n"
     ]
    },
    {
     "data": {
      "text/plain": [
       "2"
      ]
     },
     "execution_count": 7,
     "metadata": {},
     "output_type": "execute_result"
    }
   ],
   "source": [
    "print('프로그램이 실행되었습니다!')\n",
    "sample_list = [1, 2, 3, 4, 5]\n",
    "sample_list[1]"
   ]
  },
  {
   "cell_type": "markdown",
   "metadata": {},
   "source": [
    "## 10.2 기본 예외 처리\n"
   ]
  },
  {
   "cell_type": "markdown",
   "metadata": {},
   "source": [
    "- 조건문을 사용하는 방법 <- 기본 예외 처리\n",
    "- try 구문을 사용하는 방법"
   ]
  },
  {
   "cell_type": "markdown",
   "metadata": {},
   "source": [
    "### 예외 상황 확인하기\n"
   ]
  },
  {
   "cell_type": "code",
   "execution_count": 14,
   "metadata": {},
   "outputs": [
    {
     "ename": "ValueError",
     "evalue": "invalid literal for int() with base 10: '5.'",
     "output_type": "error",
     "traceback": [
      "\u001b[1;31m---------------------------------------------------------------------------\u001b[0m",
      "\u001b[1;31mValueError\u001b[0m                                Traceback (most recent call last)",
      "Cell \u001b[1;32mIn[14], line 2\u001b[0m\n\u001b[0;32m      1\u001b[0m \u001b[38;5;66;03m# 숫자를 입력합니다\u001b[39;00m\n\u001b[1;32m----> 2\u001b[0m number_input_a \u001b[38;5;241m=\u001b[39m \u001b[38;5;28mint\u001b[39m(\u001b[38;5;28minput\u001b[39m(\u001b[38;5;124m'\u001b[39m\u001b[38;5;124m정수 입력>\u001b[39m\u001b[38;5;124m'\u001b[39m))\n\u001b[0;32m      4\u001b[0m \u001b[38;5;66;03m# pi 값 할당\u001b[39;00m\n\u001b[0;32m      5\u001b[0m pi \u001b[38;5;241m=\u001b[39m \u001b[38;5;241m3.14\u001b[39m\n",
      "\u001b[1;31mValueError\u001b[0m: invalid literal for int() with base 10: '5.'"
     ]
    }
   ],
   "source": [
    "# 숫자를 입력받습니다.\n",
    "number_input_a = int(input('정수 입력>'))\n",
    "\n",
    "# pi 값 할당\n",
    "pi = 3.14\n",
    "\n",
    "# 출력합니다.\n",
    "print(\"원의 반지름 : {}\".format(number_input_a))\n",
    "print(\"원의 둘레 : {:.2f}\".format(2 * pi * number_input_a))\n",
    "print(\"원의 넓이 : {:.2f}\".format(pi * (number_input_a)**2))"
   ]
  },
  {
   "cell_type": "markdown",
   "metadata": {},
   "source": [
    "### 조건문으로 예외 처리하기\n"
   ]
  },
  {
   "cell_type": "code",
   "execution_count": 16,
   "metadata": {},
   "outputs": [
    {
     "name": "stdout",
     "output_type": "stream",
     "text": [
      "정수를 입력하지 않았습니다.\n"
     ]
    }
   ],
   "source": [
    "# 숫자를 입력 요청\n",
    "user_input_a = input('정수 입력>')\n",
    "\n",
    "# pi 값 할당\n",
    "pi = 3.14\n",
    "\n",
    "# 입력이 숫자로만 구성되어 있는지 확인\n",
    "if user_input_a.isdigit():\n",
    "    # 숫자로 변환\n",
    "    number_input_a = int(user_input_a)\n",
    "\n",
    "    # 출력\n",
    "    print(\"원의 반지름 : {}\".format(number_input_a))\n",
    "    print(\"원의 둘레 : {:.2f}\".format(2 * pi * number_input_a))\n",
    "    print(\"원의 넓이 : {:.2f}\".format(pi * (number_input_a)**2))\n",
    "\n",
    "else:\n",
    "    print('정수를 입력하지 않았습니다.')"
   ]
  },
  {
   "cell_type": "markdown",
   "metadata": {},
   "source": [
    "## 10.3 try except 구문\n",
    "\n",
    "- 조건문 만으로 모든 예외를 처리하기는 어려움\n",
    "- 예외 처리를 위한 구문 : try except 구문\n",
    "```\n",
    "try:\n",
    "    예외가 발생할 가능성이 있는 코드\n",
    "except:\n",
    "    예외가 발생했을 때 실행할 코드\n",
    "```"
   ]
  },
  {
   "cell_type": "code",
   "execution_count": 17,
   "metadata": {},
   "outputs": [
    {
     "name": "stdout",
     "output_type": "stream",
     "text": [
      "정수를 입력하지 않았습니다.\n"
     ]
    }
   ],
   "source": [
    "# 숫자를 입력 요청\n",
    "user_input_a = input('정수 입력>')\n",
    "\n",
    "# pi 값 할당\n",
    "pi = 3.14\n",
    "\n",
    "# 입력이 숫자로만 구성되어 있는지 확인\n",
    "try:\n",
    "    # 숫자로 변환\n",
    "    number_input_a = int(user_input_a)\n",
    "\n",
    "    # 출력\n",
    "    print(\"원의 반지름 : {}\".format(number_input_a))\n",
    "    print(\"원의 둘레 : {:.2f}\".format(2 * pi * number_input_a))\n",
    "    print(\"원의 넓이 : {:.2f}\".format(pi * (number_input_a)**2))\n",
    "\n",
    "except:\n",
    "    print('정수를 입력하지 않았습니다.')"
   ]
  },
  {
   "cell_type": "markdown",
   "metadata": {},
   "source": [
    "### try except 구문과 pass 키워드 조합하기\n"
   ]
  },
  {
   "cell_type": "markdown",
   "metadata": {},
   "source": [
    "일단 오류 발생 만 막고, 발생시에는 넘기겠다 하는 경우 : pass 키워드 조합\n",
    "```\n",
    "try:\n",
    "    예외가 발생할 가능성이 있는 코드\n",
    "except:\n",
    "    pass\n",
    "```"
   ]
  },
  {
   "cell_type": "markdown",
   "metadata": {},
   "source": [
    "숫자로 변환되는 요소만 리스트에 넣기"
   ]
  },
  {
   "cell_type": "code",
   "execution_count": 19,
   "metadata": {},
   "outputs": [
    {
     "name": "stdout",
     "output_type": "stream",
     "text": [
      "['52', '273', '32', '스파이', '103'] 내부에 있는 숫자는\n",
      "['52', '273', '32', '103'] 입니다.\n"
     ]
    }
   ],
   "source": [
    "# 변수 선언\n",
    "sample_list = ['52', '273', '32', '스파이', '103']\n",
    "\n",
    "# 반복문\n",
    "number_list = []\n",
    "for element in sample_list:\n",
    "    # 숫자를 변환해서 리스트에 추가\n",
    "    try:\n",
    "        float(element) # 숫자 형태의 문자열이 아니라면 에러 발생\n",
    "        number_list.append(element) # 예외가 발생하지 않았다면 number_list에 담기\n",
    "    except:\n",
    "        pass # 에러 발생시 넘어가\n",
    "\n",
    "print('{} 내부에 있는 숫자는'.format(sample_list))\n",
    "print('{} 입니다.'.format(number_list))"
   ]
  },
  {
   "cell_type": "markdown",
   "metadata": {},
   "source": [
    "## 10.4 try except else 구문\n"
   ]
  },
  {
   "cell_type": "markdown",
   "metadata": {},
   "source": [
    "try except 구문 뒤에 else 구문을 붙여서 사용하면 '예외가 발생하지 않았을 때 실행할 코드'를 지정할 수 있음\n",
    "```\n",
    "try:\n",
    "    예외가 발생할 가능성이 있는 코드\n",
    "except:\n",
    "    예외가 발생했을 때 실행할 코드\n",
    "else:\n",
    "    예외가 발생하지 않았을 때 실행할 코드\n",
    "```"
   ]
  },
  {
   "cell_type": "code",
   "execution_count": 21,
   "metadata": {},
   "outputs": [
    {
     "name": "stdout",
     "output_type": "stream",
     "text": [
      "정수를 입력하지 않았습니다.\n"
     ]
    }
   ],
   "source": [
    "# 숫자를 입력 요청\n",
    "user_input_a = input('정수 입력>')\n",
    "\n",
    "# pi 값 할당\n",
    "pi = 3.14\n",
    "\n",
    "# 입력이 숫자로만 구성되어 있는지 확인\n",
    "try:\n",
    "    # 숫자로 변환\n",
    "    number_input_a = int(user_input_a)\n",
    "\n",
    "except:\n",
    "    print('정수를 입력하지 않았습니다.')\n",
    "\n",
    "else:\n",
    "    # 출력\n",
    "    print(\"원의 반지름 : {}\".format(number_input_a))\n",
    "    print(\"원의 둘레 : {:.2f}\".format(2 * pi * number_input_a))\n",
    "    print(\"원의 넓이 : {:.2f}\".format(pi * (number_input_a)**2))"
   ]
  },
  {
   "cell_type": "markdown",
   "metadata": {},
   "source": [
    "@ try except 구문 만으로 가능하지만, 이런 기능이 있다 정도 기억해 두면 좋음 "
   ]
  },
  {
   "cell_type": "markdown",
   "metadata": {},
   "source": [
    "## 10.5 finally 구문\n"
   ]
  },
  {
   "cell_type": "markdown",
   "metadata": {},
   "source": [
    "- 예외 처리 구문에서 가장 마지막에 사용할 수 있는 구문\n",
    "- 예외가 발생하든 발생하지 않든 무조건 실행할 때 사용하는 코드\n",
    "\n",
    "```\n",
    "try:\n",
    "    예외가 발생할 가능성이 있는 코드\n",
    "except:\n",
    "    예외가 발생했을 때 실행할 코드\n",
    "else:\n",
    "    예외가 발생하지 않았을 때 실행할 코드\n",
    "finally:\n",
    "    무조건 실행할 코드\n",
    "```"
   ]
  },
  {
   "cell_type": "code",
   "execution_count": 22,
   "metadata": {},
   "outputs": [],
   "source": [
    "def test():\n",
    "    # 숫자를 입력 요청\n",
    "    user_input_a = input('정수 입력>')\n",
    "\n",
    "    # pi 값 할당\n",
    "    pi = 3.14\n",
    "\n",
    "    # 입력이 숫자로만 구성되어 있는지 확인\n",
    "    try:\n",
    "        # 숫자로 변환\n",
    "        number_input_a = int(user_input_a)\n",
    "\n",
    "    except:\n",
    "        print('정수를 입력하지 않았습니다.')\n",
    "\n",
    "    else:\n",
    "        # 출력\n",
    "        print(\"원의 반지름 : {}\".format(number_input_a))\n",
    "        print(\"원의 둘레 : {:.2f}\".format(2 * pi * number_input_a))\n",
    "        print(\"원의 넓이 : {:.2f}\".format(pi * (number_input_a)**2))\n",
    "\n",
    "    finally:\n",
    "        print('프로그램을 종료합니다.')"
   ]
  },
  {
   "cell_type": "code",
   "execution_count": 23,
   "metadata": {},
   "outputs": [
    {
     "name": "stdout",
     "output_type": "stream",
     "text": [
      "원의 반지름 : 10\n",
      "원의 둘레 : 62.80\n",
      "원의 넓이 : 314.00\n",
      "프로그램을 종료합니다.\n"
     ]
    }
   ],
   "source": [
    "test()"
   ]
  },
  {
   "cell_type": "code",
   "execution_count": 24,
   "metadata": {},
   "outputs": [
    {
     "name": "stdout",
     "output_type": "stream",
     "text": [
      "정수를 입력하지 않았습니다.\n",
      "프로그램을 종료합니다.\n"
     ]
    }
   ],
   "source": [
    "test()"
   ]
  },
  {
   "cell_type": "markdown",
   "metadata": {},
   "source": [
    "### try, except, finally 구문의 조합\n"
   ]
  },
  {
   "cell_type": "markdown",
   "metadata": {},
   "source": [
    "- 예외 처리 구문에서 지켜야 할 규칙\n",
    "    - try 구문은 단독으로 사용불가 / except 구문 이나 finally 구문과 함께 사용\n",
    "    - else 구문은 반드시 except 구문뒤에 사용\n",
    "\n",
    "- 가능한 조합\n",
    "    - try + except 구문 조합\n",
    "    - try + except + else 구문 조합\n",
    "    - try + except + finally 구문 조합\n",
    "    - try + except + else + finally 구문 조합\n",
    "    - try + finally 구문 조합"
   ]
  },
  {
   "cell_type": "markdown",
   "metadata": {},
   "source": [
    "try + else 구문 조합을 사용한다면?"
   ]
  },
  {
   "cell_type": "code",
   "execution_count": 25,
   "metadata": {},
   "outputs": [
    {
     "ename": "SyntaxError",
     "evalue": "expected 'except' or 'finally' block (3497466207.py, line 12)",
     "output_type": "error",
     "traceback": [
      "\u001b[1;36m  Cell \u001b[1;32mIn[25], line 12\u001b[1;36m\u001b[0m\n\u001b[1;33m    else:\u001b[0m\n\u001b[1;37m    ^\u001b[0m\n\u001b[1;31mSyntaxError\u001b[0m\u001b[1;31m:\u001b[0m expected 'except' or 'finally' block\n"
     ]
    }
   ],
   "source": [
    "# 숫자를 입력 요청\n",
    "user_input_a = input('정수 입력>')\n",
    "\n",
    "# pi 값 할당\n",
    "pi = 3.14\n",
    "\n",
    "# 입력이 숫자로만 구성되어 있는지 확인\n",
    "try:\n",
    "    # 숫자로 변환\n",
    "    number_input_a = int(user_input_a)\n",
    "\n",
    "else:\n",
    "    # 출력\n",
    "    print(\"원의 반지름 : {}\".format(number_input_a))\n",
    "    print(\"원의 둘레 : {:.2f}\".format(2 * pi * number_input_a))\n",
    "    print(\"원의 넓이 : {:.2f}\".format(pi * (number_input_a)**2))"
   ]
  },
  {
   "cell_type": "markdown",
   "metadata": {},
   "source": [
    "### finally에 대한 오해\n"
   ]
  },
  {
   "cell_type": "code",
   "execution_count": null,
   "metadata": {},
   "outputs": [],
   "source": [
    "def test():\n",
    "    # 숫자를 입력 요청\n",
    "    user_input_a = input('정수 입력>')\n",
    "\n",
    "    # pi 값 할당\n",
    "    pi = 3.14\n",
    "\n",
    "    # 입력이 숫자로만 구성되어 있는지 확인\n",
    "    try:\n",
    "        # 숫자로 변환\n",
    "        number_input_a = int(user_input_a)\n",
    "\n",
    "    except:\n",
    "        print('정수를 입력하지 않았습니다.')\n",
    "\n",
    "    else:\n",
    "        # 출력\n",
    "        print(\"원의 반지름 : {}\".format(number_input_a))\n",
    "        print(\"원의 둘레 : {:.2f}\".format(2 * pi * number_input_a))\n",
    "        print(\"원의 넓이 : {:.2f}\".format(pi * (number_input_a)**2))\n",
    "\n",
    "    \n",
    "    print('프로그램을 종료합니다.')"
   ]
  },
  {
   "cell_type": "code",
   "execution_count": null,
   "metadata": {},
   "outputs": [
    {
     "name": "stdout",
     "output_type": "stream",
     "text": [
      "원의 반지름 : 10\n",
      "원의 둘레 : 62.80\n",
      "원의 넓이 : 314.00\n",
      "프로그램을 종료합니다.\n"
     ]
    }
   ],
   "source": [
    "test()"
   ]
  },
  {
   "cell_type": "code",
   "execution_count": null,
   "metadata": {},
   "outputs": [
    {
     "name": "stdout",
     "output_type": "stream",
     "text": [
      "정수를 입력하지 않았습니다.\n",
      "프로그램을 종료합니다.\n"
     ]
    }
   ],
   "source": [
    "test()"
   ]
  },
  {
   "cell_type": "markdown",
   "metadata": {},
   "source": [
    "## 10.6 예외 객체"
   ]
  },
  {
   "cell_type": "markdown",
   "metadata": {},
   "source": [
    "어떤 예외가 발생했는지 확인하고 싶으면 어떻게 해야할까?"
   ]
  },
  {
   "cell_type": "markdown",
   "metadata": {},
   "source": [
    "```\n",
    "try:\n",
    "    예외가 발생할 가능성이 있는 구문\n",
    "except 예외의 종류 as 예외 객체를 활용할 변수 이름:\n",
    "    예외가 발생했을 때 실행할 구문\n",
    "```"
   ]
  },
  {
   "cell_type": "markdown",
   "metadata": {},
   "source": [
    "- Exception : '모든 예외'를 포괄하는 \"클래스\""
   ]
  },
  {
   "cell_type": "code",
   "execution_count": 35,
   "metadata": {},
   "outputs": [
    {
     "name": "stdout",
     "output_type": "stream",
     "text": [
      "정수를 입력하지 않았습니다.\n",
      "invalid literal for int() with base 10: '7cm'\n",
      "<class 'ValueError'>\n"
     ]
    }
   ],
   "source": [
    "# 숫자를 입력 요청\n",
    "user_input_a = input('정수 입력>')\n",
    "\n",
    "# pi 값 할당\n",
    "pi = 3.14\n",
    "\n",
    "# 입력이 숫자로만 구성되어 있는지 확인\n",
    "try:\n",
    "    # 숫자로 변환\n",
    "    number_input_a = int(user_input_a)\n",
    "\n",
    "except Exception as exception:\n",
    "    print('정수를 입력하지 않았습니다.')\n",
    "    print(exception)\n",
    "    print(type(exception))\n",
    "\n",
    "else:\n",
    "    # 출력\n",
    "    print(\"원의 반지름 : {}\".format(number_input_a))\n",
    "    print(\"원의 둘레 : {:.2f}\".format(2 * pi * number_input_a))\n",
    "    print(\"원의 넓이 : {:.2f}\".format(pi * (number_input_a)**2))"
   ]
  },
  {
   "cell_type": "markdown",
   "metadata": {},
   "source": [
    "## 10.7 예외 구분하기"
   ]
  },
  {
   "cell_type": "code",
   "execution_count": 40,
   "metadata": {},
   "outputs": [],
   "source": [
    "def test():\n",
    "    # 변수 선언\n",
    "    number_list = [52, 273, 32, 72, 100]\n",
    "\n",
    "    # try except 구문으로 예외 처리\n",
    "    try:\n",
    "        # 숫자 입력 요청\n",
    "        number_input = int(input('{} 이상 {} 이하 정수 입력> '.format(-len(number_list), len(number_list)-1)))\n",
    "\n",
    "        # 리스트의 요소 출력\n",
    "        print('{}번째 요소 : {}'.format(number_input, number_list[number_input]))\n",
    "\n",
    "    except Exception as exception:\n",
    "        # 예외 객체 출력\n",
    "        print(exception)\n",
    "        print(type(exception))"
   ]
  },
  {
   "cell_type": "code",
   "execution_count": 41,
   "metadata": {},
   "outputs": [
    {
     "name": "stdout",
     "output_type": "stream",
     "text": [
      "2번째 요소 : 32\n"
     ]
    }
   ],
   "source": [
    "# 2 입력\n",
    "test()"
   ]
  },
  {
   "cell_type": "code",
   "execution_count": 42,
   "metadata": {},
   "outputs": [
    {
     "name": "stdout",
     "output_type": "stream",
     "text": [
      "invalid literal for int() with base 10: '두번째'\n",
      "<class 'ValueError'>\n"
     ]
    }
   ],
   "source": [
    "# '두번째' 입력\n",
    "test()"
   ]
  },
  {
   "cell_type": "code",
   "execution_count": 43,
   "metadata": {},
   "outputs": [
    {
     "name": "stdout",
     "output_type": "stream",
     "text": [
      "list index out of range\n",
      "<class 'IndexError'>\n"
     ]
    }
   ],
   "source": [
    "# 10 입력\n",
    "test()"
   ]
  },
  {
   "cell_type": "markdown",
   "metadata": {},
   "source": [
    "```\n",
    "try:\n",
    "    예외가 발생할 가능성이 있는 구문\n",
    "escept 예외의 종류A:\n",
    "    예외A가 발생했을 때 실행할 구문\n",
    "escept 예외의 종류B:\n",
    "    예외B가 발생했을 때 실행할 구문\n",
    "escept 예외의 종류C:\n",
    "    예외C가 발생했을 때 실행할 구문\n",
    "```"
   ]
  },
  {
   "cell_type": "code",
   "execution_count": 52,
   "metadata": {},
   "outputs": [],
   "source": [
    "def test():\n",
    "    # 변수 선언\n",
    "    number_list = [52, 273, 32, 72, 100]\n",
    "\n",
    "    # try except 구문으로 예외 처리\n",
    "    try:\n",
    "        # 숫자 입력 요청\n",
    "        number_input = int(input('{} 이상 {} 이하 정수 입력> '.format(-len(number_list), len(number_list)-1)))\n",
    "\n",
    "        # 리스트의 요소 출력\n",
    "        print('{}번째 요소 : {}'.format(number_input, number_list[number_input]))\n",
    "\n",
    "    except ValueError as exception:\n",
    "        # ValueError가 발생하는 경우\n",
    "        print('정수를 입력해 주세요.')\n",
    "        print('exception:', exception)\n",
    "\n",
    "    except IndexError as exception:\n",
    "        print('{} 이상 {} 이하의 정수를 입력해주세요.'.format(-len(number_list), len(number_list)-1))\n",
    "        print('exception:', exception)"
   ]
  },
  {
   "cell_type": "code",
   "execution_count": 53,
   "metadata": {},
   "outputs": [
    {
     "name": "stdout",
     "output_type": "stream",
     "text": [
      "정수를 입력해 주세요.\n",
      "exception: invalid literal for int() with base 10: '2nd'\n"
     ]
    }
   ],
   "source": [
    "# '두번째' 입력\n",
    "test()"
   ]
  },
  {
   "cell_type": "code",
   "execution_count": 54,
   "metadata": {},
   "outputs": [
    {
     "name": "stdout",
     "output_type": "stream",
     "text": [
      "-5 이상 4 이하의 정수를 입력해주세요.\n",
      "exception: list index out of range\n"
     ]
    }
   ],
   "source": [
    "# 10 입력\n",
    "test()"
   ]
  },
  {
   "cell_type": "markdown",
   "metadata": {},
   "source": [
    "## 10.7 모든 예외 잡기"
   ]
  },
  {
   "cell_type": "code",
   "execution_count": 56,
   "metadata": {},
   "outputs": [],
   "source": [
    "def test():\n",
    "    # 변수 선언\n",
    "    number_list = [52, 273, 32, 72, 100]\n",
    "\n",
    "    # try except 구문으로 예외 처리\n",
    "    try:\n",
    "        # 숫자 입력 요청\n",
    "        number_input = int(input('{} 이상 {} 이하 정수 입력> '.format(-len(number_list), len(number_list)-1)))\n",
    "\n",
    "        # 리스트의 요소 출력\n",
    "        print('{}번째 요소 : {}'.format(number_input, number_list[number_input]))\n",
    "\n",
    "        # 일부러 예외 발생\n",
    "        예외.나와라뚝딱()\n",
    "\n",
    "    except ValueError as exception:\n",
    "        # ValueError가 발생하는 경우\n",
    "        print('정수를 입력해 주세요.')\n",
    "        print('exception:', exception)\n",
    "\n",
    "    except IndexError as exception:\n",
    "        print('{} 이상 {} 이하의 정수를 입력해주세요.'.format(-len(number_list), len(number_list)-1))\n",
    "        print('exception:', exception)"
   ]
  },
  {
   "cell_type": "code",
   "execution_count": 57,
   "metadata": {},
   "outputs": [
    {
     "name": "stdout",
     "output_type": "stream",
     "text": [
      "4번째 요소 : 100\n"
     ]
    },
    {
     "ename": "NameError",
     "evalue": "name '예외' is not defined",
     "output_type": "error",
     "traceback": [
      "\u001b[1;31m---------------------------------------------------------------------------\u001b[0m",
      "\u001b[1;31mNameError\u001b[0m                                 Traceback (most recent call last)",
      "Cell \u001b[1;32mIn[57], line 1\u001b[0m\n\u001b[1;32m----> 1\u001b[0m test()\n",
      "Cell \u001b[1;32mIn[56], line 14\u001b[0m, in \u001b[0;36mtest\u001b[1;34m()\u001b[0m\n\u001b[0;32m     11\u001b[0m     \u001b[38;5;28mprint\u001b[39m(\u001b[38;5;124m'\u001b[39m\u001b[38;5;132;01m{}\u001b[39;00m\u001b[38;5;124m번째 요소 : \u001b[39m\u001b[38;5;132;01m{}\u001b[39;00m\u001b[38;5;124m'\u001b[39m\u001b[38;5;241m.\u001b[39mformat(number_input, number_list[number_input]))\n\u001b[0;32m     13\u001b[0m     \u001b[38;5;66;03m# 일부러 예외 발생\u001b[39;00m\n\u001b[1;32m---> 14\u001b[0m     예외\u001b[38;5;241m.\u001b[39m나와라뚝딱()\n\u001b[0;32m     16\u001b[0m \u001b[38;5;28;01mexcept\u001b[39;00m \u001b[38;5;167;01mValueError\u001b[39;00m \u001b[38;5;28;01mas\u001b[39;00m exception:\n\u001b[0;32m     17\u001b[0m     \u001b[38;5;66;03m# ValueError가 발생하는 경우\u001b[39;00m\n\u001b[0;32m     18\u001b[0m     \u001b[38;5;28mprint\u001b[39m(\u001b[38;5;124m'\u001b[39m\u001b[38;5;124m정수를 입력해 주세요.\u001b[39m\u001b[38;5;124m'\u001b[39m)\n",
      "\u001b[1;31mNameError\u001b[0m: name '예외' is not defined"
     ]
    }
   ],
   "source": [
    "test()"
   ]
  },
  {
   "cell_type": "code",
   "execution_count": 58,
   "metadata": {},
   "outputs": [],
   "source": [
    "def test():\n",
    "    # 변수 선언\n",
    "    number_list = [52, 273, 32, 72, 100]\n",
    "\n",
    "    # try except 구문으로 예외 처리\n",
    "    try:\n",
    "        # 숫자 입력 요청\n",
    "        number_input = int(input('{} 이상 {} 이하 정수 입력> '.format(-len(number_list), len(number_list)-1)))\n",
    "\n",
    "        # 리스트의 요소 출력\n",
    "        print('{}번째 요소 : {}'.format(number_input, number_list[number_input]))\n",
    "\n",
    "        # 일부러 예외 발생\n",
    "        예외.나와라뚝딱()\n",
    "\n",
    "    except ValueError as exception:\n",
    "        # ValueError가 발생하는 경우\n",
    "        print('정수를 입력해 주세요.')\n",
    "        print('exception:', exception)\n",
    "\n",
    "    except IndexError as exception:\n",
    "        print('{} 이상 {} 이하의 정수를 입력해주세요.'.format(-len(number_list), len(number_list)-1))\n",
    "        print('exception:', exception)\n",
    "\n",
    "    except Exception as exception:\n",
    "        print('예상치 못한 예외가 발생했습니다.')\n",
    "        print(exception, type(exception))"
   ]
  },
  {
   "cell_type": "code",
   "execution_count": 59,
   "metadata": {},
   "outputs": [
    {
     "name": "stdout",
     "output_type": "stream",
     "text": [
      "3번째 요소 : 72\n",
      "예상치 못한 예외가 발생했습니다.\n",
      "name '예외' is not defined <class 'NameError'>\n"
     ]
    }
   ],
   "source": [
    "test()"
   ]
  },
  {
   "cell_type": "code",
   "execution_count": null,
   "metadata": {},
   "outputs": [],
   "source": []
  },
  {
   "cell_type": "code",
   "execution_count": 6,
   "metadata": {},
   "outputs": [],
   "source": [
    "import random"
   ]
  },
  {
   "cell_type": "code",
   "execution_count": null,
   "metadata": {},
   "outputs": [
    {
     "name": "stdout",
     "output_type": "stream",
     "text": [
      "924\n",
      "입력값 : 924 | 판정결과 : 3S 0B\n",
      "축하합니다! 924 정답입니다.\n"
     ]
    }
   ],
   "source": [
    "goal = '{}{}{}'.format(*random.sample(range(1, 10), 3))\n",
    "print(goal)\n",
    "\n",
    "while True:\n",
    "    number_string = input('중복되지 않은 세자리 숫자를 입력해주세요>')\n",
    "\n",
    "    s_cnt = 0\n",
    "    b_cnt = 0\n",
    "\n",
    "    for i, num in enumerate(number_string):\n",
    "        if num == goal[i]:\n",
    "            s_cnt += 1\n",
    "            \n",
    "        elif num in goal:\n",
    "            b_cnt += 1\n",
    "    \n",
    "    \n",
    "    print('입력값 : {} | 판정결과 : {}S {}B'.format(number_string, s_cnt, b_cnt))\n",
    "\n",
    "    if s_cnt == 3:\n",
    "        break\n",
    "\n",
    "print('축하합니다! {} 정답입니다.'.format(number_string))"
   ]
  },
  {
   "cell_type": "code",
   "execution_count": null,
   "metadata": {},
   "outputs": [],
   "source": [
    "def sb_decision(number_string, goal):\n",
    "    s_cnt = 0\n",
    "    b_cnt = 0\n",
    "\n",
    "    for i, num in enumerate(number_string):\n",
    "        if num == goal[i]:\n",
    "            s_cnt += 1\n",
    "            \n",
    "        elif num in goal:\n",
    "            b_cnt += 1\n",
    "    \n",
    "    return s_cnt, b_cnt"
   ]
  },
  {
   "cell_type": "code",
   "execution_count": null,
   "metadata": {},
   "outputs": [
    {
     "name": "stdout",
     "output_type": "stream",
     "text": [
      "924\n",
      "입력값 : 924 | 판정결과 : 3S 0B\n",
      "축하합니다! 924 정답입니다.\n"
     ]
    }
   ],
   "source": [
    "goal = '{}{}{}'.format(*random.sample(range(1, 10), 3))\n",
    "print(goal)\n",
    "\n",
    "while True:\n",
    "    number_string = input('중복되지 않은 세자리 숫자를 입력해주세요>')\n",
    "    if len(number_string) != 3:\n",
    "        print('세자리가 아닙니다.')\n",
    "        continue\n",
    "\n",
    "    elif ' ' in number_string:\n",
    "        print('공백 문자가 포함되어 있습니다.')\n",
    "        continue\n",
    "\n",
    "    elif '0' in number_string:\n",
    "        print('0이 포함되어 있습니다.')\n",
    "        continue\n",
    "    \n",
    "    try:\n",
    "        float(number_string)\n",
    "    except:\n",
    "        print('문자가 포함되어 있습니다.')\n",
    "        continue\n",
    "   \n",
    "    try:\n",
    "        int(number_string)\n",
    "    except:\n",
    "        print('실수를 입력하였습니다.')\n",
    "        continue\n",
    "    \n",
    "    repeat_check = set(number_string)\n",
    "\n",
    "    if len(repeat_check) != 3:\n",
    "        print('중복 숫자가 있습니다.')\n",
    "        continue\n",
    "\n",
    "    s_cnt, b_cnt = sb_decision(number_string, goal)\n",
    "    \n",
    "    print('입력값 : {} | 판정결과 : {}S {}B'.format(number_string, s_cnt, b_cnt))\n",
    "\n",
    "    if s_cnt == 3:\n",
    "        break\n",
    "\n",
    "print('축하합니다! {} 정답입니다.'.format(number_string))"
   ]
  },
  {
   "cell_type": "code",
   "execution_count": 9,
   "metadata": {},
   "outputs": [],
   "source": [
    "def case_check(number_string):\n",
    "    if len(number_string) != 3:\n",
    "        return '세자리가 아닙니다.'\n",
    "\n",
    "    elif ' ' in number_string:\n",
    "        return '공백 문자가 포함되어 있습니다.'\n",
    "\n",
    "    elif '0' in number_string:\n",
    "        return '0이 포함되어 있습니다.'\n",
    "    \n",
    "    try:\n",
    "        float(number_string)\n",
    "    except:\n",
    "        return '문자가 포함되어 있습니다.'\n",
    "   \n",
    "    try:\n",
    "        int(number_string)\n",
    "    except:\n",
    "        return '실수를 입력하였습니다.'\n",
    "    \n",
    "    repeat_check = set(number_string)\n",
    "\n",
    "    if len(repeat_check) != 3:\n",
    "        return '중복 숫자가 있습니다.'\n",
    "    \n",
    "    return ''"
   ]
  },
  {
   "cell_type": "code",
   "execution_count": 10,
   "metadata": {},
   "outputs": [
    {
     "name": "stdout",
     "output_type": "stream",
     "text": [
      "694\n",
      "0이 포함되어 있습니다.\n",
      "입력값 : 123 | 판정결과 : 0S 0B\n",
      "세자리가 아닙니다.\n",
      "실수를 입력하였습니다.\n",
      "실수를 입력하였습니다.\n",
      "0이 포함되어 있습니다.\n",
      "0이 포함되어 있습니다.\n",
      "세자리가 아닙니다.\n",
      "공백 문자가 포함되어 있습니다.\n",
      "중복 숫자가 있습니다.\n",
      "세자리가 아닙니다.\n",
      "세자리가 아닙니다.\n",
      "문자가 포함되어 있습니다.\n",
      "세자리가 아닙니다.\n",
      "입력값 : 694 | 판정결과 : 3S 0B\n",
      "축하합니다! 694 정답입니다.\n"
     ]
    }
   ],
   "source": [
    "goal = '{}{}{}'.format(*random.sample(range(1, 10), 3))\n",
    "print(goal)\n",
    "\n",
    "while True:\n",
    "    number_string = input('중복되지 않은 세자리 숫자를 입력해주세요>')\n",
    "    \n",
    "    case = case_check(number_string)\n",
    "    \n",
    "    if case:\n",
    "        print(case)\n",
    "        continue\n",
    "\n",
    "    s_cnt, b_cnt = sb_decision(number_string, goal)\n",
    "    \n",
    "    print('입력값 : {} | 판정결과 : {}S {}B'.format(number_string, s_cnt, b_cnt))\n",
    "\n",
    "    if s_cnt == 3:\n",
    "        break\n",
    "\n",
    "print('축하합니다! {} 정답입니다.'.format(number_string))"
   ]
  },
  {
   "cell_type": "code",
   "execution_count": 2,
   "metadata": {},
   "outputs": [
    {
     "data": {
      "text/plain": [
       "False"
      ]
     },
     "execution_count": 2,
     "metadata": {},
     "output_type": "execute_result"
    }
   ],
   "source": [
    "'1.1'.isdigit()"
   ]
  },
  {
   "cell_type": "code",
   "execution_count": null,
   "metadata": {},
   "outputs": [],
   "source": []
  }
 ],
 "metadata": {
  "kernelspec": {
   "display_name": "base",
   "language": "python",
   "name": "python3"
  },
  "language_info": {
   "codemirror_mode": {
    "name": "ipython",
    "version": 3
   },
   "file_extension": ".py",
   "mimetype": "text/x-python",
   "name": "python",
   "nbconvert_exporter": "python",
   "pygments_lexer": "ipython3",
   "version": "3.11.5"
  }
 },
 "nbformat": 4,
 "nbformat_minor": 2
}
