{
 "cells": [
  {
   "cell_type": "markdown",
   "metadata": {},
   "source": [
    "# 5. 리스트와 반복문"
   ]
  },
  {
   "cell_type": "markdown",
   "metadata": {},
   "source": [
    "- 리스트(list) : 사전적 의미로는 '목록'\n",
    "- 파이썬에서는 '여러가지 자료형을 저장할 수 있는 자료형'\n",
    "- 숫자, 문자열, 불 등은 독립적인 자료형\n",
    "- 리스트는 이러한 자료들을 모아서 사용할 수 있는 형태의 자료형\n",
    "- 리스트의 형태\n",
    "```\n",
    "[요소, 요소, 요소, ...]\n",
    "```"
   ]
  },
  {
   "cell_type": "markdown",
   "metadata": {},
   "source": [
    "## 5.1 리스트 선언하고 요소에 접근하기\n"
   ]
  },
  {
   "cell_type": "code",
   "execution_count": null,
   "metadata": {},
   "outputs": [
    {
     "data": {
      "text/plain": [
       "[1, 2, 3, 4]"
      ]
     },
     "metadata": {},
     "output_type": "display_data"
    }
   ],
   "source": [
    "[1, 2, 3, 4] # 숫자만으로 구성된 리스트"
   ]
  },
  {
   "cell_type": "code",
   "execution_count": null,
   "metadata": {},
   "outputs": [
    {
     "data": {
      "text/plain": [
       "['안', '녕', '하', '세', '요']"
      ]
     },
     "metadata": {},
     "output_type": "display_data"
    }
   ],
   "source": [
    "['안', '녕', '하', '세', '요'] # 문자열만으로 구성된 리스트"
   ]
  },
  {
   "cell_type": "code",
   "execution_count": null,
   "metadata": {},
   "outputs": [
    {
     "data": {
      "text/plain": [
       "[273, 32, 103.1, 'string', True, False]"
      ]
     },
     "metadata": {},
     "output_type": "display_data"
    }
   ],
   "source": [
    "[273, 32, 103.1, 'string', True, False] # 여러 자료형으로 구성된 리스트"
   ]
  },
  {
   "cell_type": "code",
   "execution_count": null,
   "metadata": {},
   "outputs": [],
   "source": [
    "list_a = [273, 32, 103.1, 'string', True, False]"
   ]
  },
  {
   "cell_type": "markdown",
   "metadata": {},
   "source": [
    "#### 리스트의 요소에 접근하기\n",
    "문자열에서 특정 문자를 선택하는 방법과 동일"
   ]
  },
  {
   "cell_type": "code",
   "execution_count": null,
   "metadata": {},
   "outputs": [
    {
     "data": {
      "text/plain": [
       "273"
      ]
     },
     "metadata": {},
     "output_type": "display_data"
    }
   ],
   "source": [
    "list_a[0]"
   ]
  },
  {
   "cell_type": "code",
   "execution_count": null,
   "metadata": {},
   "outputs": [
    {
     "data": {
      "text/plain": [
       "32"
      ]
     },
     "metadata": {},
     "output_type": "display_data"
    }
   ],
   "source": [
    "list_a[1]"
   ]
  },
  {
   "cell_type": "code",
   "execution_count": null,
   "metadata": {},
   "outputs": [
    {
     "data": {
      "text/plain": [
       "103.1"
      ]
     },
     "metadata": {},
     "output_type": "display_data"
    }
   ],
   "source": [
    "list_a[2]"
   ]
  },
  {
   "cell_type": "code",
   "execution_count": null,
   "metadata": {},
   "outputs": [
    {
     "data": {
      "text/plain": [
       "[32, 103.1]"
      ]
     },
     "metadata": {},
     "output_type": "display_data"
    }
   ],
   "source": [
    "list_a[1:3]"
   ]
  },
  {
   "cell_type": "code",
   "execution_count": null,
   "metadata": {},
   "outputs": [
    {
     "data": {
      "text/plain": [
       "False"
      ]
     },
     "metadata": {},
     "output_type": "display_data"
    }
   ],
   "source": [
    "list_a[-1]"
   ]
  },
  {
   "cell_type": "code",
   "execution_count": null,
   "metadata": {},
   "outputs": [
    {
     "data": {
      "text/plain": [
       "True"
      ]
     },
     "metadata": {},
     "output_type": "display_data"
    }
   ],
   "source": [
    "list_a[-2]"
   ]
  },
  {
   "cell_type": "code",
   "execution_count": null,
   "metadata": {},
   "outputs": [
    {
     "data": {
      "text/plain": [
       "'string'"
      ]
     },
     "metadata": {},
     "output_type": "display_data"
    }
   ],
   "source": [
    "list_a[-3]"
   ]
  },
  {
   "cell_type": "markdown",
   "metadata": {},
   "source": [
    "#### 리스트 요소 변경"
   ]
  },
  {
   "cell_type": "code",
   "execution_count": null,
   "metadata": {},
   "outputs": [],
   "source": [
    "list_a = [273, 32, 103.1, 'string', True, False]"
   ]
  },
  {
   "cell_type": "code",
   "execution_count": null,
   "metadata": {},
   "outputs": [],
   "source": [
    "list_a[0] = '변경'"
   ]
  },
  {
   "cell_type": "code",
   "execution_count": null,
   "metadata": {},
   "outputs": [
    {
     "data": {
      "text/plain": [
       "['변경', 32, 103.1, 'string', True, False]"
      ]
     },
     "metadata": {},
     "output_type": "display_data"
    }
   ],
   "source": [
    "list_a"
   ]
  },
  {
   "cell_type": "markdown",
   "metadata": {},
   "source": [
    "#### 리스트 내 요소의 인덱싱"
   ]
  },
  {
   "cell_type": "code",
   "execution_count": null,
   "metadata": {},
   "outputs": [
    {
     "data": {
      "text/plain": [
       "'t'"
      ]
     },
     "metadata": {},
     "output_type": "display_data"
    }
   ],
   "source": [
    "list_a[3][1]"
   ]
  },
  {
   "cell_type": "code",
   "execution_count": null,
   "metadata": {},
   "outputs": [],
   "source": [
    "list_a = [[1,2,3], [4,5,6], [7,8,9]]"
   ]
  },
  {
   "cell_type": "code",
   "execution_count": null,
   "metadata": {},
   "outputs": [],
   "source": [
    "list_a = [\n",
    "    [1,2,3],\n",
    "    [4,5,6],\n",
    "    [7,8,9]\n",
    "]"
   ]
  },
  {
   "cell_type": "code",
   "execution_count": null,
   "metadata": {},
   "outputs": [
    {
     "data": {
      "text/plain": [
       "[4, 5, 6]"
      ]
     },
     "metadata": {},
     "output_type": "display_data"
    }
   ],
   "source": [
    "list_a[1]"
   ]
  },
  {
   "cell_type": "code",
   "execution_count": null,
   "metadata": {},
   "outputs": [
    {
     "data": {
      "text/plain": [
       "5"
      ]
     },
     "metadata": {},
     "output_type": "display_data"
    }
   ],
   "source": [
    "list_a[1][1]"
   ]
  },
  {
   "cell_type": "markdown",
   "metadata": {},
   "source": [
    "### 리스트에서의 IndexError 예외\n"
   ]
  },
  {
   "cell_type": "code",
   "execution_count": null,
   "metadata": {},
   "outputs": [
    {
     "ename": "IndexError",
     "evalue": "list index out of range",
     "output_type": "error",
     "traceback": [
      "\u001b[1;31m---------------------------------------------------------------------------\u001b[0m\n",
      "\u001b[1;31mIndexError\u001b[0m                                Traceback (most recent call last)\n",
      "Cell \u001b[1;32mIn[20], line 1\u001b[0m\n",
      "\u001b[1;32m----> 1\u001b[0m list_a[\u001b[38;5;241m4\u001b[39m]\n",
      "\n",
      "\u001b[1;31mIndexError\u001b[0m: list index out of range"
     ]
    }
   ],
   "source": [
    "list_a[4]"
   ]
  },
  {
   "cell_type": "markdown",
   "metadata": {},
   "source": [
    "## 5.2 리스트 연산하기: 연결(+), 반복(*), len()\n"
   ]
  },
  {
   "cell_type": "code",
   "execution_count": null,
   "metadata": {},
   "outputs": [],
   "source": [
    "# 리스트를 선언\n",
    "list_a = [1, 2, 3]\n",
    "list_b = [4, 5, 6]"
   ]
  },
  {
   "cell_type": "code",
   "execution_count": null,
   "metadata": {},
   "outputs": [
    {
     "name": "stdout",
     "output_type": "stream",
     "text": [
      "list_a =  [1, 2, 3]\n",
      "list_b =  [4, 5, 6]\n"
     ]
    }
   ],
   "source": [
    "print(\"list_a = \", list_a)\n",
    "print(\"list_b = \", list_b)"
   ]
  },
  {
   "cell_type": "code",
   "execution_count": null,
   "metadata": {},
   "outputs": [
    {
     "name": "stdout",
     "output_type": "stream",
     "text": [
      "list_a + list_b = [1, 2, 3, 4, 5, 6]\n",
      "list_a * 3 = [1, 2, 3, 1, 2, 3, 1, 2, 3]\n"
     ]
    }
   ],
   "source": [
    "# +, * 연산자\n",
    "print(\"list_a + list_b =\", list_a + list_b)\n",
    "print(\"list_a * 3 =\", list_a * 3)"
   ]
  },
  {
   "cell_type": "code",
   "execution_count": null,
   "metadata": {},
   "outputs": [
    {
     "name": "stdout",
     "output_type": "stream",
     "text": [
      "리스트의 길이: 3\n"
     ]
    }
   ],
   "source": [
    "# len 함수\n",
    "print(\"리스트의 길이:\", len(list_a))"
   ]
  },
  {
   "cell_type": "markdown",
   "metadata": {},
   "source": [
    "## 5.3 리스트에 요소 추가하기: list.append(), list.insert()"
   ]
  },
  {
   "cell_type": "markdown",
   "metadata": {},
   "source": [
    "- 방법1: list.append()\n",
    "```\n",
    "리스트.append(요소)\n",
    "```\n",
    "  - 리스트의 맨 뒤에 요소가 추가됨\n"
   ]
  },
  {
   "cell_type": "code",
   "execution_count": null,
   "metadata": {},
   "outputs": [
    {
     "name": "stdout",
     "output_type": "stream",
     "text": [
      "Before: [1, 2, 3]\n",
      "After1: [1, 2, 3, 4]\n",
      "After2: [1, 2, 3, 4, 5]\n"
     ]
    }
   ],
   "source": [
    "list_a = [1, 2, 3]\n",
    "\n",
    "# 리스트 뒤에 요소 추가\n",
    "print('Before:', list_a)\n",
    "list_a.append(4)\n",
    "print('After1:', list_a)\n",
    "list_a.append(5)\n",
    "print('After2:', list_a)"
   ]
  },
  {
   "cell_type": "markdown",
   "metadata": {},
   "source": [
    "- 방법2: list.insert()\n",
    "```\n",
    "리스트.insert(위치, 요소)\n",
    "```\n",
    "  - 지정한 위치에 요소를 넣고 뒤로 한칸씩 밀어냄"
   ]
  },
  {
   "cell_type": "code",
   "execution_count": null,
   "metadata": {},
   "outputs": [
    {
     "name": "stdout",
     "output_type": "stream",
     "text": [
      "Before: [1, 2, 3]\n",
      "After [10, 1, 2, 3]\n"
     ]
    }
   ],
   "source": [
    "# 리스트 중간에 요소 추가하기\n",
    "print('Before:', list_a)\n",
    "list_a.insert(0, 10)\n",
    "print('After', list_a)"
   ]
  },
  {
   "cell_type": "markdown",
   "metadata": {},
   "source": [
    "- 방법3: list.extend()\n",
    "  - list.append()와 list.insert()는 요소를 하나씩 추가함\n",
    "  - 한번에 여러 요소를 추가하려면, list.extend()\n",
    "```\n",
    "리스트1.extend(리스트2)\n",
    "```"
   ]
  },
  {
   "cell_type": "code",
   "execution_count": null,
   "metadata": {},
   "outputs": [],
   "source": [
    "list_a = [1, 2, 3]"
   ]
  },
  {
   "cell_type": "code",
   "execution_count": null,
   "metadata": {},
   "outputs": [],
   "source": [
    "list_a.extend([4,5,6])"
   ]
  },
  {
   "cell_type": "code",
   "execution_count": null,
   "metadata": {},
   "outputs": [
    {
     "name": "stdout",
     "output_type": "stream",
     "text": [
      "[1, 2, 3, 4, 5, 6]\n"
     ]
    }
   ],
   "source": [
    "print(list_a)"
   ]
  },
  {
   "cell_type": "markdown",
   "metadata": {},
   "source": [
    "### 리스트 연결 연산자와 요소 추가의 차이 (비파괴적 VS 파괴적)"
   ]
  },
  {
   "cell_type": "code",
   "execution_count": null,
   "metadata": {},
   "outputs": [],
   "source": [
    "list_a = [1, 2, 3]\n",
    "list_b = [4, 5, 6]"
   ]
  },
  {
   "cell_type": "code",
   "execution_count": null,
   "metadata": {},
   "outputs": [
    {
     "data": {
      "text/plain": [
       "[1, 2, 3, 4, 5, 6]"
      ]
     },
     "metadata": {},
     "output_type": "display_data"
    }
   ],
   "source": [
    "# 리스트 연결 연산자\n",
    "list_a + list_b"
   ]
  },
  {
   "cell_type": "code",
   "execution_count": null,
   "metadata": {},
   "outputs": [
    {
     "data": {
      "text/plain": [
       "[1, 2, 3]"
      ]
     },
     "metadata": {},
     "output_type": "display_data"
    }
   ],
   "source": [
    "list_a"
   ]
  },
  {
   "cell_type": "code",
   "execution_count": null,
   "metadata": {},
   "outputs": [
    {
     "data": {
      "text/plain": [
       "[4, 5, 6]"
      ]
     },
     "metadata": {},
     "output_type": "display_data"
    }
   ],
   "source": [
    "list_b"
   ]
  },
  {
   "cell_type": "code",
   "execution_count": null,
   "metadata": {},
   "outputs": [],
   "source": [
    "list_a = [1, 2, 3]\n",
    "list_b = [4, 5, 6]"
   ]
  },
  {
   "cell_type": "code",
   "execution_count": null,
   "metadata": {},
   "outputs": [],
   "source": [
    "list_a.extend(list_b)"
   ]
  },
  {
   "cell_type": "code",
   "execution_count": null,
   "metadata": {},
   "outputs": [
    {
     "data": {
      "text/plain": [
       "[1, 2, 3, 4, 5, 6]"
      ]
     },
     "metadata": {},
     "output_type": "display_data"
    }
   ],
   "source": [
    "list_a"
   ]
  },
  {
   "cell_type": "code",
   "execution_count": null,
   "metadata": {},
   "outputs": [
    {
     "data": {
      "text/plain": [
       "[4, 5, 6]"
      ]
     },
     "metadata": {},
     "output_type": "display_data"
    }
   ],
   "source": [
    "list_b"
   ]
  },
  {
   "cell_type": "markdown",
   "metadata": {},
   "source": [
    "- 비파괴적: 원본에 어떠한 영향도 주지 않은 경우 (함수나 연산의 결과를 재할당해야 하는 경우 / 리스트 연결 연산자)\n",
    "  - 원본 재활용 가능\n",
    "- 파괴적: 원본에 직접적인 영향을 주는 함수 또는 연산 (list.append(), list.insert(), list.extend())\n",
    "  - 리스트 용량이 엄청 큰 경우"
   ]
  },
  {
   "cell_type": "markdown",
   "metadata": {},
   "source": [
    "## 5.4 리스트에서 요소 제거하기\n"
   ]
  },
  {
   "cell_type": "markdown",
   "metadata": {},
   "source": [
    "- 인덱스로 제거하기\n",
    "- 값으로 제거하기"
   ]
  },
  {
   "cell_type": "markdown",
   "metadata": {},
   "source": [
    "### 인덱스로 제거하기: del 키워드, list.pop()\n"
   ]
  },
  {
   "cell_type": "markdown",
   "metadata": {},
   "source": [
    "- del 키워드\n",
    "```\n",
    "del 리스트[인덱스]\n",
    "```\n",
    "\n",
    "- list.pop()\n",
    "```\n",
    "리스트.pop(인덱스)\n",
    "```\n"
   ]
  },
  {
   "cell_type": "code",
   "execution_count": null,
   "metadata": {},
   "outputs": [],
   "source": [
    "list_a = [0, 1, 2, 3, 4, 5]"
   ]
  },
  {
   "cell_type": "code",
   "execution_count": null,
   "metadata": {},
   "outputs": [
    {
     "name": "stdout",
     "output_type": "stream",
     "text": [
      "Before: [0, 1, 2, 3, 4, 5]\n",
      "After: [0, 2, 3, 4, 5]\n"
     ]
    }
   ],
   "source": [
    "print('Before:', list_a)\n",
    "del list_a[1]\n",
    "print('After:', list_a)"
   ]
  },
  {
   "cell_type": "code",
   "execution_count": null,
   "metadata": {},
   "outputs": [
    {
     "name": "stdout",
     "output_type": "stream",
     "text": [
      "Before: [0, 2, 3, 4, 5]\n",
      "After: [0, 2, 4, 5]\n"
     ]
    }
   ],
   "source": [
    "print('Before:', list_a)\n",
    "list_a.pop(2)\n",
    "print('After:', list_a)"
   ]
  },
  {
   "cell_type": "code",
   "execution_count": null,
   "metadata": {},
   "outputs": [
    {
     "name": "stdout",
     "output_type": "stream",
     "text": [
      "Before: [0, 2, 4, 5]\n",
      "After: [0, 2, 4]\n"
     ]
    }
   ],
   "source": [
    "print('Before:', list_a)\n",
    "list_a.pop()\n",
    "print('After:', list_a)"
   ]
  },
  {
   "cell_type": "code",
   "execution_count": null,
   "metadata": {},
   "outputs": [
    {
     "name": "stdout",
     "output_type": "stream",
     "text": [
      "Before: [0, 2, 4]\n"
     ]
    },
    {
     "ename": "IndexError",
     "evalue": "list assignment index out of range",
     "output_type": "error",
     "traceback": [
      "\u001b[1;31m---------------------------------------------------------------------------\u001b[0m\n",
      "\u001b[1;31mIndexError\u001b[0m                                Traceback (most recent call last)\n",
      "Cell \u001b[1;32mIn[43], line 2\u001b[0m\n",
      "\u001b[0;32m      1\u001b[0m \u001b[38;5;28mprint\u001b[39m(\u001b[38;5;124m'\u001b[39m\u001b[38;5;124mBefore:\u001b[39m\u001b[38;5;124m'\u001b[39m, list_a)\n",
      "\u001b[1;32m----> 2\u001b[0m \u001b[38;5;28;01mdel\u001b[39;00m list_a[\u001b[38;5;241m3\u001b[39m]\n",
      "\u001b[0;32m      3\u001b[0m \u001b[38;5;28mprint\u001b[39m(\u001b[38;5;124m'\u001b[39m\u001b[38;5;124mAfter:\u001b[39m\u001b[38;5;124m'\u001b[39m, list_a)\n",
      "\n",
      "\u001b[1;31mIndexError\u001b[0m: list assignment index out of range"
     ]
    }
   ],
   "source": [
    "print('Before:', list_a)\n",
    "del list_a[3]\n",
    "print('After:', list_a)"
   ]
  },
  {
   "cell_type": "code",
   "execution_count": null,
   "metadata": {},
   "outputs": [
    {
     "name": "stdout",
     "output_type": "stream",
     "text": [
      "Before: [0, 2, 4]\n"
     ]
    },
    {
     "ename": "IndexError",
     "evalue": "pop index out of range",
     "output_type": "error",
     "traceback": [
      "\u001b[1;31m---------------------------------------------------------------------------\u001b[0m\n",
      "\u001b[1;31mIndexError\u001b[0m                                Traceback (most recent call last)\n",
      "Cell \u001b[1;32mIn[44], line 2\u001b[0m\n",
      "\u001b[0;32m      1\u001b[0m \u001b[38;5;28mprint\u001b[39m(\u001b[38;5;124m'\u001b[39m\u001b[38;5;124mBefore:\u001b[39m\u001b[38;5;124m'\u001b[39m, list_a)\n",
      "\u001b[1;32m----> 2\u001b[0m list_a\u001b[38;5;241m.\u001b[39mpop(\u001b[38;5;241m3\u001b[39m)\n",
      "\u001b[0;32m      3\u001b[0m \u001b[38;5;28mprint\u001b[39m(\u001b[38;5;124m'\u001b[39m\u001b[38;5;124mAfter:\u001b[39m\u001b[38;5;124m'\u001b[39m, list_a)\n",
      "\n",
      "\u001b[1;31mIndexError\u001b[0m: pop index out of range"
     ]
    }
   ],
   "source": [
    "print('Before:', list_a)\n",
    "list_a.pop(3)\n",
    "print('After:', list_a)"
   ]
  },
  {
   "cell_type": "code",
   "execution_count": null,
   "metadata": {},
   "outputs": [
    {
     "name": "stdout",
     "output_type": "stream",
     "text": [
      "Before: []\n"
     ]
    },
    {
     "ename": "IndexError",
     "evalue": "pop from empty list",
     "output_type": "error",
     "traceback": [
      "\u001b[1;31m---------------------------------------------------------------------------\u001b[0m\n",
      "\u001b[1;31mIndexError\u001b[0m                                Traceback (most recent call last)\n",
      "Cell \u001b[1;32mIn[45], line 3\u001b[0m\n",
      "\u001b[0;32m      1\u001b[0m list_a \u001b[38;5;241m=\u001b[39m []\n",
      "\u001b[0;32m      2\u001b[0m \u001b[38;5;28mprint\u001b[39m(\u001b[38;5;124m'\u001b[39m\u001b[38;5;124mBefore:\u001b[39m\u001b[38;5;124m'\u001b[39m, list_a)\n",
      "\u001b[1;32m----> 3\u001b[0m list_a\u001b[38;5;241m.\u001b[39mpop()\n",
      "\u001b[0;32m      4\u001b[0m \u001b[38;5;28mprint\u001b[39m(\u001b[38;5;124m'\u001b[39m\u001b[38;5;124mAfter:\u001b[39m\u001b[38;5;124m'\u001b[39m, list_a)\n",
      "\n",
      "\u001b[1;31mIndexError\u001b[0m: pop from empty list"
     ]
    }
   ],
   "source": [
    "list_a = []\n",
    "print('Before:', list_a)\n",
    "list_a.pop()\n",
    "print('After:', list_a)"
   ]
  },
  {
   "cell_type": "code",
   "execution_count": null,
   "metadata": {},
   "outputs": [
    {
     "name": "stdout",
     "output_type": "stream",
     "text": [
      "Before: []\n"
     ]
    },
    {
     "ename": "NameError",
     "evalue": "name 'list_a' is not defined",
     "output_type": "error",
     "traceback": [
      "\u001b[1;31m---------------------------------------------------------------------------\u001b[0m\n",
      "\u001b[1;31mNameError\u001b[0m                                 Traceback (most recent call last)\n",
      "Cell \u001b[1;32mIn[46], line 4\u001b[0m\n",
      "\u001b[0;32m      2\u001b[0m \u001b[38;5;28mprint\u001b[39m(\u001b[38;5;124m'\u001b[39m\u001b[38;5;124mBefore:\u001b[39m\u001b[38;5;124m'\u001b[39m, list_a)\n",
      "\u001b[0;32m      3\u001b[0m \u001b[38;5;28;01mdel\u001b[39;00m list_a\n",
      "\u001b[1;32m----> 4\u001b[0m \u001b[38;5;28mprint\u001b[39m(\u001b[38;5;124m'\u001b[39m\u001b[38;5;124mAfter:\u001b[39m\u001b[38;5;124m'\u001b[39m, list_a)\n",
      "\n",
      "\u001b[1;31mNameError\u001b[0m: name 'list_a' is not defined"
     ]
    }
   ],
   "source": [
    "list_a = []\n",
    "print('Before:', list_a)\n",
    "del list_a\n",
    "print('After:', list_a)"
   ]
  },
  {
   "cell_type": "code",
   "execution_count": null,
   "metadata": {},
   "outputs": [
    {
     "name": "stdout",
     "output_type": "stream",
     "text": [
      "Before: [0, 1, 2, 3, 4, 5, 6]\n",
      "After: [0, 1, 2, 6]\n"
     ]
    }
   ],
   "source": [
    "list_a = [0, 1, 2, 3, 4, 5, 6]\n",
    "print('Before:', list_a)\n",
    "del list_a[3:3+3]\n",
    "print('After:', list_a)"
   ]
  },
  {
   "cell_type": "code",
   "execution_count": null,
   "metadata": {},
   "outputs": [
    {
     "name": "stdout",
     "output_type": "stream",
     "text": [
      "Before: [0, 1, 2, 3, 4, 5, 6]\n",
      "After: [3, 4, 5, 6]\n"
     ]
    }
   ],
   "source": [
    "list_a = [0, 1, 2, 3, 4, 5, 6]\n",
    "print('Before:', list_a)\n",
    "del list_a[:0+3]\n",
    "print('After:', list_a)"
   ]
  },
  {
   "cell_type": "code",
   "execution_count": null,
   "metadata": {},
   "outputs": [
    {
     "name": "stdout",
     "output_type": "stream",
     "text": [
      "Before: [0, 1, 2, 3, 4, 5, 6]\n",
      "After: [0, 1, 2]\n"
     ]
    }
   ],
   "source": [
    "list_a = [0, 1, 2, 3, 4, 5, 6]\n",
    "print('Before:', list_a)\n",
    "del list_a[3:]\n",
    "print('After:', list_a)"
   ]
  },
  {
   "cell_type": "markdown",
   "metadata": {},
   "source": [
    "#### 번외. 리스트 슬라이싱\n",
    "```\n",
    "리스트[시작 인덱스:끝 인덱스:단계]\n",
    "```\n"
   ]
  },
  {
   "cell_type": "code",
   "execution_count": null,
   "metadata": {},
   "outputs": [
    {
     "name": "stdout",
     "output_type": "stream",
     "text": [
      "[1, 2, 3, 4, 5, 6, 7, 8]\n"
     ]
    }
   ],
   "source": [
    "number = [1, 2, 3, 4, 5, 6, 7, 8]\n",
    "print(number)"
   ]
  },
  {
   "cell_type": "code",
   "execution_count": null,
   "metadata": {},
   "outputs": [
    {
     "name": "stdout",
     "output_type": "stream",
     "text": [
      "[4, 5, 6]\n"
     ]
    }
   ],
   "source": [
    "# number 리스트에서 3번째부터 5번째 요소까지 선택\n",
    "print(number[3:5+1])"
   ]
  },
  {
   "cell_type": "code",
   "execution_count": null,
   "metadata": {},
   "outputs": [
    {
     "name": "stdout",
     "output_type": "stream",
     "text": [
      "[2, 4, 6, 8]\n"
     ]
    }
   ],
   "source": [
    "# number 리스트에서 1번째 원소부터 한칸씩 떼서 선택 \n",
    "print(number[1::2])"
   ]
  },
  {
   "cell_type": "code",
   "execution_count": null,
   "metadata": {},
   "outputs": [
    {
     "name": "stdout",
     "output_type": "stream",
     "text": [
      "[8, 7, 6, 5, 4, 3, 2, 1]\n"
     ]
    }
   ],
   "source": [
    "# number 리스트를 역순으로 선택\n",
    "print(number[::-1])"
   ]
  },
  {
   "cell_type": "markdown",
   "metadata": {},
   "source": [
    "### 값으로 제거하기: list.remove()\n"
   ]
  },
  {
   "cell_type": "markdown",
   "metadata": {},
   "source": [
    "```\n",
    "리스트.remove(값)\n",
    "```"
   ]
  },
  {
   "cell_type": "code",
   "execution_count": null,
   "metadata": {},
   "outputs": [
    {
     "name": "stdout",
     "output_type": "stream",
     "text": [
      "Before:  [1, 2, 3, 4]\n",
      "After: [1, 3, 4]\n"
     ]
    }
   ],
   "source": [
    "list_a = [1,2,3,4]\n",
    "print('Before: ', list_a)\n",
    "list_a.remove(2)\n",
    "print('After:', list_a)"
   ]
  },
  {
   "cell_type": "code",
   "execution_count": null,
   "metadata": {},
   "outputs": [
    {
     "name": "stdout",
     "output_type": "stream",
     "text": [
      "Before:  [1, 2, 1, 2]\n",
      "After: [1, 1, 2]\n"
     ]
    }
   ],
   "source": [
    "list_a = [1,2]*2\n",
    "print('Before: ', list_a)\n",
    "list_a.remove(2)\n",
    "print('After:', list_a)"
   ]
  },
  {
   "cell_type": "markdown",
   "metadata": {},
   "source": [
    "### 모두 제거하기: clear()\n"
   ]
  },
  {
   "cell_type": "code",
   "execution_count": null,
   "metadata": {},
   "outputs": [
    {
     "name": "stdout",
     "output_type": "stream",
     "text": [
      "Before: [0, 1, 2, 3, 4, 5]\n",
      "After: []\n"
     ]
    }
   ],
   "source": [
    "list_a = [0,1,2,3,4,5]\n",
    "print('Before:', list_a)\n",
    "list_a.clear()\n",
    "print('After:', list_a)"
   ]
  },
  {
   "cell_type": "markdown",
   "metadata": {},
   "source": [
    "## 5.5 리스트 정렬하기: list.sort()\n"
   ]
  },
  {
   "cell_type": "markdown",
   "metadata": {},
   "source": [
    "```\n",
    "리스트.sort()\n",
    "```"
   ]
  },
  {
   "cell_type": "code",
   "execution_count": null,
   "metadata": {},
   "outputs": [
    {
     "name": "stdout",
     "output_type": "stream",
     "text": [
      "Before: [52, 273, 103, 32, 275, 1, 7]\n",
      "After: [1, 7, 32, 52, 103, 273, 275]\n"
     ]
    }
   ],
   "source": [
    "# 오름차순 정렬 (뒤로 가면서 값이 점점 커지는 것)\n",
    "list_a = [52, 273, 103, 32, 275, 1, 7]\n",
    "print('Before:', list_a)\n",
    "list_a.sort()\n",
    "print('After:', list_a)"
   ]
  },
  {
   "cell_type": "code",
   "execution_count": null,
   "metadata": {},
   "outputs": [
    {
     "name": "stdout",
     "output_type": "stream",
     "text": [
      "Before: [52, 273, 103, 32, 275, 1, 7]\n",
      "After: [275, 273, 103, 52, 32, 7, 1]\n"
     ]
    }
   ],
   "source": [
    "# 내림차순 정렬 (뒤로 가면서 값이 점점 작아지는 것)\n",
    "list_a = [52, 273, 103, 32, 275, 1, 7]\n",
    "print('Before:', list_a)\n",
    "list_a.sort(reverse=True)\n",
    "print('After:', list_a)"
   ]
  },
  {
   "cell_type": "code",
   "execution_count": null,
   "metadata": {},
   "outputs": [],
   "source": [
    "list_a = [273, 32, 103.1, 'string', True, False]"
   ]
  },
  {
   "cell_type": "code",
   "execution_count": null,
   "metadata": {},
   "outputs": [
    {
     "ename": "TypeError",
     "evalue": "'<' not supported between instances of 'str' and 'float'",
     "output_type": "error",
     "traceback": [
      "\u001b[1;31m---------------------------------------------------------------------------\u001b[0m\n",
      "\u001b[1;31mTypeError\u001b[0m                                 Traceback (most recent call last)\n",
      "Cell \u001b[1;32mIn[66], line 1\u001b[0m\n",
      "\u001b[1;32m----> 1\u001b[0m list_a\u001b[38;5;241m.\u001b[39msort()\n",
      "\n",
      "\u001b[1;31mTypeError\u001b[0m: '<' not supported between instances of 'str' and 'float'"
     ]
    }
   ],
   "source": [
    "list_a.sort()"
   ]
  },
  {
   "cell_type": "code",
   "execution_count": null,
   "metadata": {},
   "outputs": [],
   "source": [
    "list_a = [[6,5,4], [1,3,2], [8,7,9]]"
   ]
  },
  {
   "cell_type": "code",
   "execution_count": null,
   "metadata": {},
   "outputs": [
    {
     "name": "stdout",
     "output_type": "stream",
     "text": [
      "[[6, 5, 4], [1, 3, 2], [8, 7, 9]]\n"
     ]
    }
   ],
   "source": [
    "print(list_a)"
   ]
  },
  {
   "cell_type": "code",
   "execution_count": null,
   "metadata": {},
   "outputs": [],
   "source": [
    "list_a.sort()"
   ]
  },
  {
   "cell_type": "code",
   "execution_count": null,
   "metadata": {},
   "outputs": [
    {
     "name": "stdout",
     "output_type": "stream",
     "text": [
      "[[1, 3, 2], [6, 5, 4], [8, 7, 9]]\n"
     ]
    }
   ],
   "source": [
    "print(list_a)"
   ]
  },
  {
   "cell_type": "code",
   "execution_count": null,
   "metadata": {},
   "outputs": [
    {
     "name": "stdout",
     "output_type": "stream",
     "text": [
      "Before: [[8, 5, 4], [1, 3, 2], [6, 7, 9]]\n",
      "After : [[1, 3, 2], [6, 7, 9], [8, 5, 4]]\n"
     ]
    }
   ],
   "source": [
    "list_a = [[8,5,4], [1,3,2], [6,7,9]]\n",
    "print('Before:', list_a)\n",
    "list_a.sort()\n",
    "print('After :', list_a)"
   ]
  },
  {
   "cell_type": "code",
   "execution_count": null,
   "metadata": {},
   "outputs": [
    {
     "name": "stdout",
     "output_type": "stream",
     "text": [
      "Before : [[8, 5, 4], [1, 3, 2], [6, 7, 9]]\n",
      "After  : [[1, 3, 2], [6, 7, 9], [8, 5, 4]]\n"
     ]
    }
   ],
   "source": [
    "# list_a = [[8,5,4], [1,3,2], [6,7,9]]\n",
    "# print('{:6s} : {}'.format('Before', list_a))\n",
    "# list_a.sort()\n",
    "# print('{:6s} : {}'.format('After', list_a))"
   ]
  },
  {
   "cell_type": "markdown",
   "metadata": {},
   "source": [
    "## 5.6 존재 여부 확인하기: in / not in 연산자\n"
   ]
  },
  {
   "cell_type": "markdown",
   "metadata": {},
   "source": [
    "특정 값이 리스트 내부에 있는지 확인\n",
    "```\n",
    "값 in 리스트\n",
    "```"
   ]
  },
  {
   "cell_type": "code",
   "execution_count": null,
   "metadata": {},
   "outputs": [
    {
     "name": "stdout",
     "output_type": "stream",
     "text": [
      "[273, 32, 103, 57, 52]\n"
     ]
    }
   ],
   "source": [
    "list_a = [273, 32, 103, 57, 52]\n",
    "print(list_a)"
   ]
  },
  {
   "cell_type": "markdown",
   "metadata": {},
   "source": [
    "- in"
   ]
  },
  {
   "cell_type": "code",
   "execution_count": null,
   "metadata": {},
   "outputs": [
    {
     "data": {
      "text/plain": [
       "True"
      ]
     },
     "metadata": {},
     "output_type": "display_data"
    }
   ],
   "source": [
    "# in\n",
    "273 in list_a"
   ]
  },
  {
   "cell_type": "markdown",
   "metadata": {},
   "source": [
    "특정 값이 리스트 내부에 있으면 True"
   ]
  },
  {
   "cell_type": "code",
   "execution_count": null,
   "metadata": {},
   "outputs": [
    {
     "data": {
      "text/plain": [
       "False"
      ]
     },
     "metadata": {},
     "output_type": "display_data"
    }
   ],
   "source": [
    "99 in list_a"
   ]
  },
  {
   "cell_type": "markdown",
   "metadata": {},
   "source": [
    "특정 값이 리스트 내부에 없으면 True"
   ]
  },
  {
   "cell_type": "markdown",
   "metadata": {},
   "source": [
    "- not in"
   ]
  },
  {
   "cell_type": "code",
   "execution_count": null,
   "metadata": {},
   "outputs": [
    {
     "data": {
      "text/plain": [
       "True"
      ]
     },
     "metadata": {},
     "output_type": "display_data"
    }
   ],
   "source": [
    "# not in\n",
    "100 not in list_a"
   ]
  },
  {
   "cell_type": "markdown",
   "metadata": {},
   "source": [
    "특정 값이 리스트 내부에 없으면 True"
   ]
  },
  {
   "cell_type": "code",
   "execution_count": null,
   "metadata": {},
   "outputs": [
    {
     "data": {
      "text/plain": [
       "False"
      ]
     },
     "metadata": {},
     "output_type": "display_data"
    }
   ],
   "source": [
    "273 not in list_a"
   ]
  },
  {
   "cell_type": "markdown",
   "metadata": {},
   "source": [
    "특정 값이 리스트 내부에 있으면 False"
   ]
  },
  {
   "cell_type": "markdown",
   "metadata": {},
   "source": [
    "## 5.7 리스트에 적용할 수 있는 기본 함수: min(), max(), sum()\n"
   ]
  },
  {
   "cell_type": "markdown",
   "metadata": {},
   "source": [
    "- min(): 리스트 내부에서 최솟값을 찾음\n",
    "- max(): 리스트 내부에서 최댓값을 찾음\n",
    "- max(): 리스트 내부의 모든 값을 더함"
   ]
  },
  {
   "cell_type": "code",
   "execution_count": 1,
   "metadata": {},
   "outputs": [],
   "source": [
    "list_a = [273, 32, 103, 57, 52]"
   ]
  },
  {
   "cell_type": "code",
   "execution_count": 2,
   "metadata": {},
   "outputs": [
    {
     "data": {
      "text/plain": [
       "32"
      ]
     },
     "execution_count": 2,
     "metadata": {},
     "output_type": "execute_result"
    }
   ],
   "source": [
    "min(list_a)"
   ]
  },
  {
   "cell_type": "code",
   "execution_count": 4,
   "metadata": {},
   "outputs": [
    {
     "data": {
      "text/plain": [
       "273"
      ]
     },
     "execution_count": 4,
     "metadata": {},
     "output_type": "execute_result"
    }
   ],
   "source": [
    "max(list_a)"
   ]
  },
  {
   "cell_type": "code",
   "execution_count": 5,
   "metadata": {},
   "outputs": [
    {
     "data": {
      "text/plain": [
       "517"
      ]
     },
     "execution_count": 5,
     "metadata": {},
     "output_type": "execute_result"
    }
   ],
   "source": [
    "sum(list_a)"
   ]
  },
  {
   "cell_type": "markdown",
   "metadata": {},
   "source": [
    "## 5.8 for 반복문\n"
   ]
  },
  {
   "cell_type": "markdown",
   "metadata": {},
   "source": [
    "- print('안녕하세요.')를 100번 반복하려면?\n",
    "\n",
    "```\n",
    "print('안녕하세요.')  \n",
    "print('안녕하세요.')  \n",
    "...  \n",
    "print('안녕하세요.')\n",
    "```\n",
    "\n",
    "- for 반복문을 이용하면?\n",
    "```\n",
    "for _ in range(100):  \n",
    "    print('안녕하세요.')\n",
    "```"
   ]
  },
  {
   "cell_type": "markdown",
   "metadata": {},
   "source": [
    "```\n",
    "for 반복 요소 in 반복할 수 있는 것:\n",
    "    코드 (반복적으로 싶은 것)\n",
    "```\n",
    "- 반복할 수 있는 것: 문자열, 리스트, 딕셔너리, 범위 등 (iterable)"
   ]
  },
  {
   "cell_type": "markdown",
   "metadata": {},
   "source": [
    "## 5.9 for 반복문: 리스트와 함께 사용하기"
   ]
  },
  {
   "cell_type": "code",
   "execution_count": null,
   "metadata": {},
   "outputs": [
    {
     "name": "stdout",
     "output_type": "stream",
     "text": [
      "[273, 32, 103, 57, 52]\n"
     ]
    }
   ],
   "source": [
    "list_a = [273, 32, 103, 57, 52]\n",
    "print(list_a)"
   ]
  },
  {
   "cell_type": "code",
   "execution_count": null,
   "metadata": {},
   "outputs": [
    {
     "name": "stdout",
     "output_type": "stream",
     "text": [
      "273\n",
      "32\n",
      "103\n",
      "57\n",
      "52\n"
     ]
    }
   ],
   "source": [
    "# list_a의 원소를 한줄에 하나씩 출력해보자.\n",
    "print(list_a[0])\n",
    "print(list_a[1])\n",
    "print(list_a[2])\n",
    "print(list_a[3])\n",
    "print(list_a[4])"
   ]
  },
  {
   "cell_type": "code",
   "execution_count": null,
   "metadata": {},
   "outputs": [
    {
     "name": "stdout",
     "output_type": "stream",
     "text": [
      "273\n",
      "32\n",
      "103\n",
      "57\n",
      "52\n"
     ]
    }
   ],
   "source": [
    "# for 반복문을 이용해보자.\n",
    "for element in list_a:\n",
    "    print(element)"
   ]
  },
  {
   "cell_type": "code",
   "execution_count": null,
   "metadata": {},
   "outputs": [
    {
     "name": "stdout",
     "output_type": "stream",
     "text": [
      "안\n",
      "녕\n",
      "하\n",
      "세\n",
      "요\n"
     ]
    }
   ],
   "source": [
    "# for 반복문을 이용해보자.\n",
    "for element in '안녕하세요':\n",
    "    print(element)"
   ]
  },
  {
   "cell_type": "markdown",
   "metadata": {},
   "source": [
    "## 5.10 중첩 리스트와 중첩 반복문"
   ]
  },
  {
   "cell_type": "code",
   "execution_count": null,
   "metadata": {},
   "outputs": [
    {
     "name": "stdout",
     "output_type": "stream",
     "text": [
      "[[1, 2, 3], [4, 5, 6, 7], [8, 9]]\n"
     ]
    }
   ],
   "source": [
    "list_of_list = [\n",
    "    [1, 2, 3],\n",
    "    [4, 5, 6, 7],\n",
    "    [8, 9]\n",
    "]\n",
    "print(list_a)"
   ]
  },
  {
   "cell_type": "code",
   "execution_count": null,
   "metadata": {},
   "outputs": [
    {
     "name": "stdout",
     "output_type": "stream",
     "text": [
      "1\n",
      "2\n",
      "3\n",
      "4\n",
      "5\n",
      "6\n",
      "7\n",
      "8\n",
      "9\n"
     ]
    }
   ],
   "source": [
    "print(list_of_list[0][0])\n",
    "print(list_of_list[0][1])\n",
    "print(list_of_list[0][2])\n",
    "print(list_of_list[1][0])\n",
    "print(list_of_list[1][1])\n",
    "print(list_of_list[1][2])\n",
    "print(list_of_list[1][3])\n",
    "print(list_of_list[2][0])\n",
    "print(list_of_list[2][1])"
   ]
  },
  {
   "cell_type": "code",
   "execution_count": null,
   "metadata": {},
   "outputs": [
    {
     "name": "stdout",
     "output_type": "stream",
     "text": [
      "[1, 2, 3]\n",
      "[4, 5, 6, 7]\n",
      "[8, 9]\n"
     ]
    }
   ],
   "source": [
    "for list_in_list in list_of_list:\n",
    "    print(list_in_list)"
   ]
  },
  {
   "cell_type": "code",
   "execution_count": null,
   "metadata": {},
   "outputs": [
    {
     "name": "stdout",
     "output_type": "stream",
     "text": [
      "[8, 9]\n"
     ]
    }
   ],
   "source": [
    "print(list_in_list)"
   ]
  },
  {
   "cell_type": "code",
   "execution_count": null,
   "metadata": {},
   "outputs": [
    {
     "name": "stdout",
     "output_type": "stream",
     "text": [
      "8\n",
      "9\n"
     ]
    }
   ],
   "source": [
    "for element in list_in_list:\n",
    "    print(element)"
   ]
  },
  {
   "cell_type": "code",
   "execution_count": null,
   "metadata": {},
   "outputs": [
    {
     "name": "stdout",
     "output_type": "stream",
     "text": [
      "1\n",
      "2\n",
      "3\n",
      "4\n",
      "5\n",
      "6\n",
      "7\n",
      "8\n",
      "9\n"
     ]
    }
   ],
   "source": [
    "for list_in_list in list_of_list:\n",
    "    # print(list_in_list)\n",
    "    for element in list_in_list:\n",
    "        print(element)"
   ]
  },
  {
   "cell_type": "markdown",
   "metadata": {},
   "source": [
    "# QUIZ"
   ]
  },
  {
   "cell_type": "code",
   "execution_count": null,
   "metadata": {},
   "outputs": [],
   "source": [
    "lyrics = \"\"\"Hoo-ooh-ooh-ooh\n",
    "Hoo-ooh-ooh-ooh\n",
    "Stay in the middle\n",
    "Like you a little\n",
    "Don't want no riddle\n",
    "말해줘 say it back, oh, say it ditto\n",
    "아침은 너무 멀어 so say it ditto\n",
    "훌쩍 커버렸어\n",
    "함께한 기억처럼\n",
    "널 보는 내 마음은\n",
    "어느새 여름 지나 가을\n",
    "기다렸지 all this time\n",
    "Do you want somebody\n",
    "Like I want somebody?\n",
    "날 보고 웃었지만\n",
    "Do you think about me now? Yeah\n",
    "All the time, yeah, all the time\n",
    "I got no time to lose\n",
    "내 길었던 하루, 난 보고 싶어\n",
    "Ra-ta-ta-ta 울린 심장 (ra-ta-ta-ta)\n",
    "I got nothing to lose\n",
    "널 좋아한다고 ooh-whoa, ooh-whoa, ooh-whoa\n",
    "Ra-ta-ta-ta 울린 심장 (ra-ta-ta-ta)\n",
    "But I don't want to\n",
    "Stay in the middle\n",
    "Like you a little\n",
    "Don't want no riddle\n",
    "말해줘 say it back, oh, say it ditto\n",
    "아침은 너무 멀어 so say it ditto\n",
    "I don't want to walk in this 미로\n",
    "다 아는 건 아니어도\n",
    "바라던 대로 말해줘 say it back\n",
    "Oh, say it ditto\n",
    "I want you so, want you, so say it ditto\n",
    "Not just anybody\n",
    "너를 상상했지\n",
    "항상 닿아있던\n",
    "처음 느낌 그대로 난\n",
    "기다렸지 all this time\n",
    "I got nothing to lose\n",
    "널 좋아한다고 ooh-whoa, ooh-whoa, ooh-whoa\n",
    "Ra-ta-ta-ta 울린 심장 (ra-ta-ta-ta)\n",
    "But I don't want to\n",
    "Stay in the middle\n",
    "Like you a little\n",
    "Don't want no riddle\n",
    "말해줘 say it back, oh, say it ditto\n",
    "아침은 너무 멀어 so say it ditto\n",
    "I don't want to walk in this 미로\n",
    "다 아는 건 아니어도\n",
    "바라던 대로 말해줘 say it back\n",
    "Oh, say it ditto\n",
    "I want you so, want you, so say it ditto\n",
    "Hoo-ooh-ooh-ooh\n",
    "Hoo-ooh-ooh-ooh\"\"\""
   ]
  },
  {
   "cell_type": "code",
   "execution_count": null,
   "metadata": {},
   "outputs": [],
   "source": [
    "lyrics_list = lyrics.split('\\n')"
   ]
  },
  {
   "cell_type": "code",
   "execution_count": null,
   "metadata": {},
   "outputs": [
    {
     "name": "stdout",
     "output_type": "stream",
     "text": [
      "글자수  15 | Hoo-ooh-ooh-ooh                         \n",
      "글자수  15 | Hoo-ooh-ooh-ooh                         \n",
      "글자수  18 | Stay in the middle                      \n",
      "글자수  17 | Like you a little                       \n",
      "글자수  20 | Don't want no riddle                    \n",
      "글자수  33 | 말해줘 say it back, oh, say it ditto       \n",
      "글자수  25 | 아침은 너무 멀어 so say it ditto               \n",
      "글자수   7 | 훌쩍 커버렸어                                 \n",
      "글자수   8 | 함께한 기억처럼                                \n",
      "글자수  10 | 널 보는 내 마음은                              \n",
      "글자수  12 | 어느새 여름 지나 가을                            \n",
      "글자수  18 | 기다렸지 all this time                      \n",
      "글자수  20 | Do you want somebody                    \n",
      "글자수  21 | Like I want somebody?                   \n",
      "글자수   9 | 날 보고 웃었지만                               \n",
      "글자수  31 | Do you think about me now? Yeah         \n",
      "글자수  32 | All the time, yeah, all the time        \n",
      "글자수  21 | I got no time to lose                   \n",
      "글자수  17 | 내 길었던 하루, 난 보고 싶어                       \n",
      "글자수  31 | Ra-ta-ta-ta 울린 심장 (ra-ta-ta-ta)         \n",
      "글자수  21 | I got nothing to lose                   \n",
      "글자수  36 | 널 좋아한다고 ooh-whoa, ooh-whoa, ooh-whoa    \n",
      "글자수  31 | Ra-ta-ta-ta 울린 심장 (ra-ta-ta-ta)         \n",
      "글자수  19 | But I don't want to                     \n",
      "글자수  18 | Stay in the middle                      \n",
      "글자수  17 | Like you a little                       \n",
      "글자수  20 | Don't want no riddle                    \n",
      "글자수  33 | 말해줘 say it back, oh, say it ditto       \n",
      "글자수  25 | 아침은 너무 멀어 so say it ditto               \n",
      "글자수  31 | I don't want to walk in this 미로         \n",
      "글자수  11 | 다 아는 건 아니어도                             \n",
      "글자수  22 | 바라던 대로 말해줘 say it back                  \n",
      "글자수  16 | Oh, say it ditto                        \n",
      "글자수  40 | I want you so, want you, so say it ditto\n",
      "글자수  16 | Not just anybody                        \n",
      "글자수   7 | 너를 상상했지                                 \n",
      "글자수   7 | 항상 닿아있던                                 \n",
      "글자수  11 | 처음 느낌 그대로 난                             \n",
      "글자수  18 | 기다렸지 all this time                      \n",
      "글자수  21 | I got nothing to lose                   \n",
      "글자수  36 | 널 좋아한다고 ooh-whoa, ooh-whoa, ooh-whoa    \n",
      "글자수  31 | Ra-ta-ta-ta 울린 심장 (ra-ta-ta-ta)         \n",
      "글자수  19 | But I don't want to                     \n",
      "글자수  18 | Stay in the middle                      \n",
      "글자수  17 | Like you a little                       \n",
      "글자수  20 | Don't want no riddle                    \n",
      "글자수  33 | 말해줘 say it back, oh, say it ditto       \n",
      "글자수  25 | 아침은 너무 멀어 so say it ditto               \n",
      "글자수  31 | I don't want to walk in this 미로         \n",
      "글자수  11 | 다 아는 건 아니어도                             \n",
      "글자수  22 | 바라던 대로 말해줘 say it back                  \n",
      "글자수  16 | Oh, say it ditto                        \n",
      "글자수  40 | I want you so, want you, so say it ditto\n",
      "글자수  15 | Hoo-ooh-ooh-ooh                         \n",
      "글자수  15 | Hoo-ooh-ooh-ooh                         \n"
     ]
    }
   ],
   "source": [
    "for element in lyrics_list:\n",
    "    character_length = len(element)\n",
    "    print('글자수 {:3d} | {:40s}'.format(character_length, element))"
   ]
  },
  {
   "cell_type": "markdown",
   "metadata": {},
   "source": [
    "### str.join() 함수\n",
    "```\n",
    "str.join(리스트)\n",
    "```"
   ]
  },
  {
   "cell_type": "code",
   "execution_count": 1,
   "metadata": {},
   "outputs": [
    {
     "name": "stdout",
     "output_type": "stream",
     "text": [
      "10 20 30 40 50\n"
     ]
    }
   ],
   "source": [
    "sample_str = \"10 20 30 40 50\"\n",
    "print(sample_str)"
   ]
  },
  {
   "cell_type": "code",
   "execution_count": 2,
   "metadata": {},
   "outputs": [
    {
     "name": "stdout",
     "output_type": "stream",
     "text": [
      "['10', '20', '30', '40', '50']\n",
      "<class 'list'>\n"
     ]
    }
   ],
   "source": [
    "split_str_list = sample_str.split()\n",
    "print(split_str_list)\n",
    "print(type(split_str_list))"
   ]
  },
  {
   "cell_type": "code",
   "execution_count": 3,
   "metadata": {},
   "outputs": [
    {
     "name": "stdout",
     "output_type": "stream",
     "text": [
      "10&20&30&40&50\n",
      "<class 'str'>\n"
     ]
    }
   ],
   "source": [
    "join_result = '&'.join(split_str_list)\n",
    "print(join_result)\n",
    "print(type(join_result))"
   ]
  },
  {
   "cell_type": "markdown",
   "metadata": {},
   "source": [
    "### QUIZ : 1~50까지 리스트가 있을때, 1부터 50까지 반복하면서 369 게임의 결과를 나타내는 프로그램을 만드시오."
   ]
  },
  {
   "cell_type": "code",
   "execution_count": 4,
   "metadata": {},
   "outputs": [
    {
     "name": "stdout",
     "output_type": "stream",
     "text": [
      "1 50\n"
     ]
    }
   ],
   "source": [
    "sample_list = list(range(1,51))\n",
    "print(sample_list[0], sample_list[-1])"
   ]
  },
  {
   "cell_type": "markdown",
   "metadata": {},
   "source": [
    "- 3,6,9 게임\n",
    "  - 1부터 50까지 돌아가면서 한명씩 숫자를 순서대로 외칩니다.\n",
    "  - 3, 6, 9가 들어간 숫자에서는 들어간 횟수만큼 박수를 칩니다."
   ]
  },
  {
   "cell_type": "markdown",
   "metadata": {},
   "source": [
    "- '369~ 369~ 369~ 369~' 출력하고 시작\n",
    "- 첫번째 라인: 1\n",
    "- 두번째 라인: 2\n",
    "- 세번째 라인: 짝  \n",
    "...\n",
    "- 서른번째 라인: 짝\n",
    "- 서른한번째 라인: 짝\n",
    "- 서른두번째 라인: 짝\n",
    "- 서른세번째 라인: 짝짝  \n",
    "...\n",
    "- 마흔번째 라인: 40  \n",
    "...\n",
    "- 쉰번째 라인: 50"
   ]
  },
  {
   "cell_type": "markdown",
   "metadata": {},
   "source": []
  }
 ],
 "metadata": {
  "kernelspec": {
   "display_name": "base",
   "language": "python",
   "name": "python3"
  },
  "language_info": {
   "codemirror_mode": {
    "name": "ipython",
    "version": 3
   },
   "file_extension": ".py",
   "mimetype": "text/x-python",
   "name": "python",
   "nbconvert_exporter": "python",
   "pygments_lexer": "ipython3",
   "version": "3.11.5"
  }
 },
 "nbformat": 4,
 "nbformat_minor": 2
}
