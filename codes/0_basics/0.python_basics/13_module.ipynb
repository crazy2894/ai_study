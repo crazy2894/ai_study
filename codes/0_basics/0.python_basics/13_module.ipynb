{
 "cells": [
  {
   "cell_type": "markdown",
   "metadata": {},
   "source": [
    "# 모듈\n"
   ]
  },
  {
   "cell_type": "markdown",
   "metadata": {},
   "source": [
    "- 파이썬은 모듈(module)이라는 기능을 활용해 코드를 분리하고 공유\n",
    "- 모듈은 여러 변수와 함수를 가지고 있는 집합체\n",
    "- 표준 모듈과 외부 모듈로 나뉨\n",
    "- 표준 모듈은 파이썬에 기본적으로 내장되어 있는 모듈\n",
    "- 외부 모듈은 다른 사람들이 만들어 공개한 모듈\n",
    "- 모듈 불러오기 방법\n",
    "\n",
    "```\n",
    "import 모듈 이름\n",
    "```\n",
    "\n",
    "- 코드 가장 위에 작성 (필요할 때 중간에서 불러오는 거 아님)"
   ]
  },
  {
   "cell_type": "markdown",
   "metadata": {},
   "source": [
    "## 12.1 표준 모듈\n"
   ]
  },
  {
   "cell_type": "markdown",
   "metadata": {},
   "source": [
    "### 12.1.1 math 모듈\n"
   ]
  },
  {
   "cell_type": "code",
   "execution_count": null,
   "metadata": {},
   "outputs": [],
   "source": [
    "import math"
   ]
  },
  {
   "cell_type": "code",
   "execution_count": null,
   "metadata": {},
   "outputs": [
    {
     "data": {
      "text/plain": [
       "0.8414709848078965"
      ]
     },
     "metadata": {},
     "output_type": "display_data"
    }
   ],
   "source": [
    "math.sin(1)"
   ]
  },
  {
   "cell_type": "code",
   "execution_count": null,
   "metadata": {},
   "outputs": [
    {
     "data": {
      "text/plain": [
       "1.5574077246549023"
      ]
     },
     "metadata": {},
     "output_type": "display_data"
    }
   ],
   "source": [
    "math.tan(1)"
   ]
  },
  {
   "cell_type": "code",
   "execution_count": null,
   "metadata": {},
   "outputs": [
    {
     "data": {
      "text/plain": [
       "2"
      ]
     },
     "metadata": {},
     "output_type": "display_data"
    }
   ],
   "source": [
    "# 내림\n",
    "math.floor(2.5) "
   ]
  },
  {
   "cell_type": "code",
   "execution_count": null,
   "metadata": {},
   "outputs": [
    {
     "data": {
      "text/plain": [
       "3"
      ]
     },
     "metadata": {},
     "output_type": "display_data"
    }
   ],
   "source": [
    "# 올림\n",
    "math.ceil(2.5)"
   ]
  },
  {
   "cell_type": "code",
   "execution_count": null,
   "metadata": {},
   "outputs": [
    {
     "name": "stdout",
     "output_type": "stream",
     "text": [
      "2\n",
      "4\n"
     ]
    }
   ],
   "source": [
    "# 반올림은 내장 함수 사용\n",
    "print(round(2.5))\n",
    "print(round(3.5))"
   ]
  },
  {
   "cell_type": "markdown",
   "metadata": {},
   "source": [
    "특이하게 정수부분이 짝수이면 .5는 내림, 정수부분이 올수이면 .5는 올림 (컴퓨터 내부적으로 사정이 있데요)"
   ]
  },
  {
   "cell_type": "markdown",
   "metadata": {},
   "source": [
    "더 많은 함수는 다음 페이지에서 확인하고 사용  \n",
    "https://docs.python.org/3/library/math.html"
   ]
  },
  {
   "cell_type": "markdown",
   "metadata": {},
   "source": [
    "#### from 구문"
   ]
  },
  {
   "cell_type": "markdown",
   "metadata": {},
   "source": [
    "- math.sin(), math.cos(), math.pi처럼 반복적으로 math를 입력하는 것은 꽤 수고스러운 일\n",
    "- 이런 경우 from 구문을 사용\n",
    "```\n",
    "from 모듈 이름 import 가져오고 싶은 변수 또는 함수\n",
    "```"
   ]
  },
  {
   "cell_type": "code",
   "execution_count": 11,
   "metadata": {},
   "outputs": [],
   "source": [
    "from math import sin, cos, tan, floor, ceil, pi"
   ]
  },
  {
   "cell_type": "code",
   "execution_count": 12,
   "metadata": {},
   "outputs": [
    {
     "data": {
      "text/plain": [
       "3.141592653589793"
      ]
     },
     "execution_count": 12,
     "metadata": {},
     "output_type": "execute_result"
    }
   ],
   "source": [
    "pi"
   ]
  },
  {
   "cell_type": "code",
   "execution_count": 13,
   "metadata": {},
   "outputs": [
    {
     "data": {
      "text/plain": [
       "(0.8414709848078965, 0.5403023058681398, 2)"
      ]
     },
     "execution_count": 13,
     "metadata": {},
     "output_type": "execute_result"
    }
   ],
   "source": [
    "sin(1), cos(1), floor(2.5)"
   ]
  },
  {
   "cell_type": "markdown",
   "metadata": {},
   "source": [
    "모듈 내에 모든 변수와 함수를 가져오는 방법 (비추천 : 다른 모듈이나 이름과 겹칠 확률이 발생)\n",
    "```\n",
    "from math import *\n",
    "```"
   ]
  },
  {
   "cell_type": "markdown",
   "metadata": {},
   "source": [
    "#### as 구문"
   ]
  },
  {
   "cell_type": "markdown",
   "metadata": {},
   "source": [
    "- 모듈을 가져올 때 이름 충돌이 발생하는 경우가 있음\n",
    "- 모듈 이름이 너무 길어 짧게 줄여 사용 하고 싶은 경우도 있음\n",
    "- 이런 경우 as 구문 사용\n",
    "```\n",
    "import 모듈 이름 as 사용하고 싶은 이름\n",
    "```"
   ]
  },
  {
   "cell_type": "code",
   "execution_count": 14,
   "metadata": {},
   "outputs": [],
   "source": [
    "import math as m"
   ]
  },
  {
   "cell_type": "code",
   "execution_count": 15,
   "metadata": {},
   "outputs": [
    {
     "data": {
      "text/plain": [
       "(0.8414709848078965, 1.5574077246549023, 2)"
      ]
     },
     "execution_count": 15,
     "metadata": {},
     "output_type": "execute_result"
    }
   ],
   "source": [
    "m.sin(1), m.tan(1), m.floor(2.5)"
   ]
  },
  {
   "cell_type": "markdown",
   "metadata": {},
   "source": [
    "### 12.1.2 random 모듈\n"
   ]
  },
  {
   "cell_type": "markdown",
   "metadata": {},
   "source": [
    "- 랜덤한 값을 생성할 때 사용하는 모듈"
   ]
  },
  {
   "cell_type": "code",
   "execution_count": 31,
   "metadata": {},
   "outputs": [],
   "source": [
    "import random"
   ]
  },
  {
   "cell_type": "markdown",
   "metadata": {},
   "source": [
    "```\n",
    "random.random()\n",
    "```\n",
    "0 이상 1 미만의 소수를 랜덤하게 생성"
   ]
  },
  {
   "cell_type": "code",
   "execution_count": 35,
   "metadata": {},
   "outputs": [
    {
     "name": "stdout",
     "output_type": "stream",
     "text": [
      "0.1761606153081361\n"
     ]
    }
   ],
   "source": [
    "print(random.random())"
   ]
  },
  {
   "cell_type": "markdown",
   "metadata": {},
   "source": [
    "```\n",
    "random.uniform(a, b)\n",
    "```\n",
    "min(a,b) 이상 max(a,b) 이하의 소수를 랜덤하게 생성"
   ]
  },
  {
   "cell_type": "code",
   "execution_count": 36,
   "metadata": {},
   "outputs": [
    {
     "name": "stdout",
     "output_type": "stream",
     "text": [
      "17.078141289567824\n"
     ]
    }
   ],
   "source": [
    "print(random.uniform(10,20))"
   ]
  },
  {
   "cell_type": "code",
   "execution_count": 39,
   "metadata": {},
   "outputs": [
    {
     "name": "stdout",
     "output_type": "stream",
     "text": [
      "18.935078443787518\n"
     ]
    }
   ],
   "source": [
    "print(random.uniform(20,10))"
   ]
  },
  {
   "cell_type": "markdown",
   "metadata": {},
   "source": [
    "```\n",
    "random.randrange(a, b, step)\n",
    "```\n",
    "list(range(a,b,step)) 에서 램덤하게 1개 추출"
   ]
  },
  {
   "cell_type": "code",
   "execution_count": 80,
   "metadata": {},
   "outputs": [
    {
     "name": "stdout",
     "output_type": "stream",
     "text": [
      "5\n"
     ]
    }
   ],
   "source": [
    "print(random.randrange(3,10))"
   ]
  },
  {
   "cell_type": "markdown",
   "metadata": {},
   "source": [
    "```\n",
    "random.choice(리스트)\n",
    "```\n",
    "주어진 리스트 내부의 요소를 랜덤하게 1개 선택"
   ]
  },
  {
   "cell_type": "code",
   "execution_count": 59,
   "metadata": {},
   "outputs": [
    {
     "data": {
      "text/plain": [
       "9"
      ]
     },
     "execution_count": 59,
     "metadata": {},
     "output_type": "execute_result"
    }
   ],
   "source": [
    "random.choice([1,3,5,7,9])"
   ]
  },
  {
   "cell_type": "markdown",
   "metadata": {},
   "source": [
    "```\n",
    "random.shuffle(리스트)\n",
    "```\n",
    "리스트의 요소를 랜덤하게 섞음 (리스트 자체를 변화시키고, 리턴값은 X)"
   ]
  },
  {
   "cell_type": "code",
   "execution_count": 51,
   "metadata": {},
   "outputs": [
    {
     "name": "stdout",
     "output_type": "stream",
     "text": [
      "Before: [1, 3, 5, 7, 9]\n",
      "After: [9, 3, 1, 7, 5]\n"
     ]
    }
   ],
   "source": [
    "sample_list = [1,3,5,7,9]\n",
    "print('Before: {}'.format(sample_list))\n",
    "random.shuffle(sample_list)\n",
    "print('After: {}'.format(sample_list))"
   ]
  },
  {
   "cell_type": "markdown",
   "metadata": {},
   "source": [
    "```\n",
    "random.sample(리스트, 추출 갯수)\n",
    "```\n",
    "리스트에서 추출 갯수만큼 요소를 추출 (추출 갯수는 리스트의 길이보다 크면 X)"
   ]
  },
  {
   "cell_type": "code",
   "execution_count": 58,
   "metadata": {},
   "outputs": [
    {
     "data": {
      "text/plain": [
       "[1, 7]"
      ]
     },
     "execution_count": 58,
     "metadata": {},
     "output_type": "execute_result"
    }
   ],
   "source": [
    "random.sample(sample_list, 2)"
   ]
  },
  {
   "cell_type": "markdown",
   "metadata": {},
   "source": [
    "### 12.1.3 sys 모듈\n"
   ]
  },
  {
   "cell_type": "markdown",
   "metadata": {},
   "source": [
    "- 시스템과 관련된 정보를 가지고 있는 모듈"
   ]
  },
  {
   "cell_type": "code",
   "execution_count": 81,
   "metadata": {},
   "outputs": [
    {
     "name": "stdout",
     "output_type": "stream",
     "text": [
      "['argv_test.py', 'you', 'need', 'python']\n"
     ]
    }
   ],
   "source": [
    "!python argv_test.py you need python"
   ]
  },
  {
   "cell_type": "markdown",
   "metadata": {},
   "source": [
    "### 12.1.4 os 모듈\n"
   ]
  },
  {
   "cell_type": "markdown",
   "metadata": {},
   "source": [
    "- 운영체제와 관련된 기능을 가진 모듈"
   ]
  },
  {
   "cell_type": "code",
   "execution_count": 82,
   "metadata": {},
   "outputs": [],
   "source": [
    "import os"
   ]
  },
  {
   "cell_type": "code",
   "execution_count": 88,
   "metadata": {},
   "outputs": [
    {
     "name": "stdout",
     "output_type": "stream",
     "text": [
      "nt\n"
     ]
    }
   ],
   "source": [
    "# 운영체제 확인\n",
    "print(os.name)"
   ]
  },
  {
   "cell_type": "code",
   "execution_count": 87,
   "metadata": {},
   "outputs": [
    {
     "name": "stdout",
     "output_type": "stream",
     "text": [
      "c:\\Users\\yangd\\Downloads\\source\n"
     ]
    }
   ],
   "source": [
    "# 현재경로 확인\n",
    "print(os.getcwd())"
   ]
  },
  {
   "cell_type": "code",
   "execution_count": 90,
   "metadata": {},
   "outputs": [
    {
     "data": {
      "text/plain": [
       "['01-2', '01-3', '02-1', '02-3', '02-4', '03-1', '03-2', '04-1', '04-2', '04-3', '04-4', '04_case_full_version.ipynb', '05-1', '05-2', '05-3', '05_list.ipynb', '05_loop.ipynb', '06-1', '06-2', '06_dict.ipynb', '07-1', '07-2', '07-3', '07_while.ipynb', '08-1', '08-2', '08_function.ipynb', '09_tuple_lambda_file.ipynb', '10_exception.ipynb', '11_class.ipynb', '12_conda.ipynb', '13_module.ipynb', 'appendix B', 'argv_test.py', 'ditto_lyrics.txt', 'sample.txt', 'sample_with.txt', 'sample_with_a.txt', 'solution']"
      ]
     },
     "execution_count": 90,
     "metadata": {},
     "output_type": "execute_result"
    }
   ],
   "source": [
    "# 현재 폴더의 내부를 확인\n",
    "os.listdir()"
   ]
  },
  {
   "cell_type": "markdown",
   "metadata": {},
   "source": [
    "- os.mkdir  # 폴더 생성\n",
    "- os.rmdir  # 폴더 제거 (폴더가 비었을때만)\n",
    "- os.rename # 파일명 변경\n",
    "- os.remove # 파일 제거\n",
    "- os.system # 시스템 명령어 실행"
   ]
  },
  {
   "cell_type": "markdown",
   "metadata": {},
   "source": [
    "### 12.1.5 datetime 모듈"
   ]
  },
  {
   "cell_type": "markdown",
   "metadata": {},
   "source": [
    "- 날짜와 시간을 다루는 모듈"
   ]
  },
  {
   "cell_type": "code",
   "execution_count": 92,
   "metadata": {},
   "outputs": [],
   "source": [
    "import datetime"
   ]
  },
  {
   "cell_type": "code",
   "execution_count": 98,
   "metadata": {},
   "outputs": [
    {
     "name": "stdout",
     "output_type": "stream",
     "text": [
      "2024-05-06 16:08:04.377226 <class 'datetime.datetime'>\n"
     ]
    }
   ],
   "source": [
    "# 현재 시각 출력\n",
    "now = datetime.datetime.now()\n",
    "print(now, type(now))"
   ]
  },
  {
   "cell_type": "code",
   "execution_count": 96,
   "metadata": {},
   "outputs": [
    {
     "name": "stdout",
     "output_type": "stream",
     "text": [
      "2024 년\n",
      "5 월\n",
      "6 일\n",
      "16 시\n",
      "6 분\n",
      "10 초\n"
     ]
    }
   ],
   "source": [
    "# 하나씩 접근\n",
    "print(now.year, '년')\n",
    "print(now.month, '월')\n",
    "print(now.day, '일')\n",
    "print(now.hour, '시')\n",
    "print(now.minute, '분')\n",
    "print(now.second, '초')"
   ]
  },
  {
   "cell_type": "code",
   "execution_count": 103,
   "metadata": {},
   "outputs": [
    {
     "name": "stdout",
     "output_type": "stream",
     "text": [
      "2024.05.06 16:08:04\n",
      "2024년 5월 6일 16시 8분 4초\n",
      "2024년 05월 06일 16시 08분 04초\n",
      "2024년 05월 06일\n",
      "24년 05월 06일\n",
      "16시 08분 04초\n"
     ]
    }
   ],
   "source": [
    "# 시간을 포멧에 맞춰 출력하기\n",
    "print(now.strftime('%Y.%m.%d %H:%M:%S'))\n",
    "print(f'{now.year}년 {now.month}월 {now.day}일 {now.hour}시 {now.minute}분 {now.second}초')\n",
    "print(now.strftime('%Y년 %m월 %d일 %H시 %M분 %S초'))\n",
    "print(now.strftime('%Y년 %m월 %d일'))\n",
    "print(now.strftime('%y년 %m월 %d일'))\n",
    "print(now.strftime('%H시 %M분 %S초'))"
   ]
  },
  {
   "cell_type": "code",
   "execution_count": 104,
   "metadata": {},
   "outputs": [],
   "source": [
    "# 특정 시간 이후의 시간 구하기\n",
    "now = datetime.datetime.now()\n",
    "print(now)"
   ]
  },
  {
   "cell_type": "code",
   "execution_count": 107,
   "metadata": {},
   "outputs": [],
   "source": [
    "time_interval = datetime.timedelta(\n",
    "    weeks=1,\n",
    "    days=1,\n",
    "    hours=1,\n",
    "    minutes=1,\n",
    "    seconds=1\n",
    ")"
   ]
  },
  {
   "cell_type": "code",
   "execution_count": 108,
   "metadata": {},
   "outputs": [
    {
     "name": "stdout",
     "output_type": "stream",
     "text": [
      "2024-05-14 17:14:37.514589\n"
     ]
    }
   ],
   "source": [
    "print(now + time_interval)"
   ]
  },
  {
   "cell_type": "code",
   "execution_count": 109,
   "metadata": {},
   "outputs": [
    {
     "name": "stdout",
     "output_type": "stream",
     "text": [
      "2025-05-06 16:13:36.514589\n"
     ]
    }
   ],
   "source": [
    "# 특정 시간 요소 교체 하기 (timedelta에는 연도가 없음)\n",
    "print(now.replace(year=now.year+1))"
   ]
  },
  {
   "cell_type": "code",
   "execution_count": 112,
   "metadata": {},
   "outputs": [
    {
     "name": "stdout",
     "output_type": "stream",
     "text": [
      "2025-08-06 16:13:36.514589\n"
     ]
    }
   ],
   "source": [
    "print(now.replace(year=now.year+1, month=now.month+3))"
   ]
  },
  {
   "cell_type": "code",
   "execution_count": 114,
   "metadata": {},
   "outputs": [
    {
     "ename": "ValueError",
     "evalue": "month must be in 1..12",
     "output_type": "error",
     "traceback": [
      "\u001b[1;31m---------------------------------------------------------------------------\u001b[0m",
      "\u001b[1;31mValueError\u001b[0m                                Traceback (most recent call last)",
      "Cell \u001b[1;32mIn[114], line 1\u001b[0m\n\u001b[1;32m----> 1\u001b[0m \u001b[38;5;28mprint\u001b[39m(now\u001b[38;5;241m.\u001b[39mreplace(year\u001b[38;5;241m=\u001b[39mnow\u001b[38;5;241m.\u001b[39myear\u001b[38;5;241m+\u001b[39m\u001b[38;5;241m1\u001b[39m, month\u001b[38;5;241m=\u001b[39mnow\u001b[38;5;241m.\u001b[39mmonth\u001b[38;5;241m+\u001b[39m\u001b[38;5;241m10\u001b[39m))\n",
      "\u001b[1;31mValueError\u001b[0m: month must be in 1..12"
     ]
    }
   ],
   "source": [
    "print(now.replace(year=now.year+1, month=now.month+10)) # 자동으로는 안넘어감"
   ]
  },
  {
   "cell_type": "markdown",
   "metadata": {},
   "source": [
    "### 12.1.6 time 모듈\n"
   ]
  },
  {
   "cell_type": "markdown",
   "metadata": {},
   "source": [
    "- 시간을 다루는 모듈"
   ]
  },
  {
   "cell_type": "code",
   "execution_count": 26,
   "metadata": {},
   "outputs": [],
   "source": [
    "import time"
   ]
  },
  {
   "cell_type": "code",
   "execution_count": 29,
   "metadata": {},
   "outputs": [
    {
     "name": "stdout",
     "output_type": "stream",
     "text": [
      "지금부터 5초 동안 정지합니다.\n",
      "프로그램을 종료합니다.\n"
     ]
    }
   ],
   "source": [
    "print('지금부터 5초 동안 정지합니다.')\n",
    "time.sleep(5)\n",
    "print('프로그램을 종료합니다.')"
   ]
  },
  {
   "cell_type": "code",
   "execution_count": 30,
   "metadata": {},
   "outputs": [
    {
     "name": "stdout",
     "output_type": "stream",
     "text": [
      "지금부터 5초 동안 정지합니다.\n",
      "5\n",
      "4\n",
      "3\n",
      "2\n",
      "1\n",
      "프로그램을 종료합니다.\n"
     ]
    }
   ],
   "source": [
    "print('지금부터 5초 동안 정지합니다.')\n",
    "print('5')\n",
    "print('4')\n",
    "print('3')\n",
    "print('2')\n",
    "print('1')\n",
    "print('프로그램을 종료합니다.')"
   ]
  },
  {
   "cell_type": "markdown",
   "metadata": {},
   "source": [
    "### 12.1.7 urllib 모듈\n"
   ]
  },
  {
   "cell_type": "markdown",
   "metadata": {},
   "source": [
    "- URL을 다루는 모듈"
   ]
  },
  {
   "cell_type": "code",
   "execution_count": 20,
   "metadata": {},
   "outputs": [],
   "source": [
    "from urllib import request"
   ]
  },
  {
   "cell_type": "code",
   "execution_count": 21,
   "metadata": {},
   "outputs": [],
   "source": [
    "target = request.urlopen('https://google.com')\n",
    "output = target.read()"
   ]
  },
  {
   "cell_type": "markdown",
   "metadata": {},
   "source": [
    "- request.urlopen() 함수는 URL 주소의 페이지를 열어주는 함수\n",
    "- read() 함수를 호출하면 웹 페이지에 있는 내용을 읽어서 가져옴"
   ]
  },
  {
   "cell_type": "code",
   "execution_count": 25,
   "metadata": {},
   "outputs": [
    {
     "name": "stdout",
     "output_type": "stream",
     "text": [
      "b'<!doctype html><html itemscope=\"\" itemtype=\"http://schema.org/WebPage\" lang=\"ko\"><head><meta content=\"text/html; charset=UTF-8\" http-equiv=\"Content-Type\"><meta content=\"/images/branding/googleg/1x/googleg_standard_color_128dp.png\" itemprop=\"image\"><title>Google</title><script nonce=\"23gB3Ye3DUUNsGCqFBdREg\">(function(){var _g={kEI:\\'6Xk4Zt3uGJqSvr0P1N6-8As\\',kEXPI:\\'0,1370478,1133896,1195932,643,361,483216,58391,2891,8348,3406,67694,9937,63352,43905,6624,49748,2,39761,6699,41946,24667,33070,2,2,1,10957,15675,8155,8860,14491,7450,1251,13734,9779,42459,20199,73178,2265,765,15816,1804,26408,8861,11813,1635,42265,8791,5214428,1313,1347,890,26,5992405,471,2839023,88,18,4,4,5,5,5,4,107,27982401,16672,43887,3,318,4,1281,3,2121778,2585,24110,23005241,12799,8408,16665,17451,1224,9352,22872,2045,11953,1922,8589,2370,6407,8049,5796,5521,4531,5113,7968,213,390,7527,2890,2438,4501,5,14045,10707,2815,2318,1794,1144,806,8135,10990,359,240,1260,3,611,419,709,2,3746,123,32,399,2085,1709,2691,4547,3483,1074,1412,998,4644,682,7,5155,29,1408,1426,60,1053,77,685,746,3092,23,183,122,414,957,68,1,6,1222,549,4,123,2542,339,273,432,411,2235,927,1,2867,2,4,448,5,573,2726,402,754,3532,1727,1091,1147,526,298,220,246,2,216,427,1221,667,1,6,207,303,468,334,309,1,3,789,724,926,12,347,1231,2,2,376,63,722,1005,1187,772,453,78,1220,318,134,9,12,6,12,9,9,6,9,9,14,9,9,9,6,9,12,6,12,6,12,6,12,9,9,6,12,9,9,6,12,6,9,9,12,9,9,9,6,9,9,12,6,12,9,6,9,12,6,12,9,9,6,12,9,9,6,9,12,6,9,9,12,9,9,9,6,12,9,9,9,9,6,12,9,6,9,9,12,6,9,12,6,9,12,6,12,9,6,9,9,9,9,12,9,9,6,12,6,9,12,6,12,9,9,6,9,12,6,9,9,9,12,6,12,6,9,9,9,9,9,12,6,12,6,12,9,6,9,9,12,6,9,9,12,6,12,6,12,9,6,9,12,9,9,6,12,9,9,6,523,818,1254,1505,168,148,509,465,3,16,401,1464,2399,807,467,854,1768,623,296,728,313,41,3,15,670,294,669,29,1044,163,1471,431,80,6,1736,336,574,493,123,423,342,77,519,817,339,17,491,194,13,3,506,803,120,5,40,450,25,128,1987,8,279,942,813,4,2709,21247191,365638,3,8274,20,5874,1567\\',kBL:\\'9n9e\\',kOPI:89978449};(function(){var a;(null==(a=window.google)?0:a.stvsc)?google.kEI=_g.kEI:window.google=_g;}).call(this);})();(function(){google.sn=\\'webhp\\';google.kHL=\\'ko\\';})();(function(){\\nvar h=this||self;function l(){return void 0!==window.google&&void 0!==window.google.kOPI&&0!==window.google.kOPI?window.google.kOPI:null};var m,n=[];function p(a){for(var b;a&&(!a.getAttribute||!(b=a.getAttribute(\"eid\")));)a=a.parentNode;return b||m}function q(a){for(var b=null;a&&(!a.getAttribute||!(b=a.getAttribute(\"leid\")));)a=a.parentNode;return b}function r(a){/^http:/i.test(a)&&\"https:\"===window.location.protocol&&(google.ml&&google.ml(Error(\"a\"),!1,{src:a,glmm:1}),a=\"\");return a}\\nfunction t(a,b,c,d,k){var e=\"\";-1===b.search(\"&ei=\")&&(e=\"&ei=\"+p(d),-1===b.search(\"&lei=\")&&(d=q(d))&&(e+=\"&lei=\"+d));d=\"\";var g=-1===b.search(\"&cshid=\")&&\"slh\"!==a,f=[];f.push([\"zx\",Date.now().toString()]);h._cshid&&g&&f.push([\"cshid\",h._cshid]);c=c();null!=c&&f.push([\"opi\",c.toString()]);for(c=0;c<f.length;c++){if(0===c||0<c)d+=\"&\";d+=f[c][0]+\"=\"+f[c][1]}return\"/\"+(k||\"gen_204\")+\"?atyp=i&ct=\"+String(a)+\"&cad=\"+(b+e+d)};m=google.kEI;google.getEI=p;google.getLEI=q;google.ml=function(){return null};google.log=function(a,b,c,d,k,e){e=void 0===e?l:e;c||(c=t(a,b,e,d,k));if(c=r(c)){a=new Image;var g=n.length;n[g]=a;a.onerror=a.onload=a.onabort=function(){delete n[g]};a.src=c}};google.logUrl=function(a,b){b=void 0===b?l:b;return t(\"\",a,b)};}).call(this);(function(){google.y={};google.sy=[];google.x=function(a,b){if(a)var c=a.id;else{do c=Math.random();while(google.y[c])}google.y[c]=[a,b];return!1};google.sx=function(a){google.sy.push(a)};google.lm=[];google.plm=function(a){google.lm.push.apply(google.lm,a)};google.lq=[];google.load=function(a,b,c){google.lq.push([[a],b,c])};google.loadAll=function(a,b){google.lq.push([a,b])};google.bx=!1;google.lx=function(){};var d=[];google.fce=function(a,b,c,e){d.push([a,b,c,e])};google.qce=d;}).call(this);google.f={};(function(){\\ndocument.documentElement.addEventListener(\"submit\",function(b){var a;if(a=b.target){var c=a.getAttribute(\"data-submitfalse\");a=\"1\"===c||\"q\"===c&&!a.elements.q.value?!0:!1}else a=!1;a&&(b.preventDefault(),b.stopPropagation())},!0);document.documentElement.addEventListener(\"click\",function(b){var a;a:{for(a=b.target;a&&a!==document.documentElement;a=a.parentElement)if(\"A\"===a.tagName){a=\"1\"===a.getAttribute(\"data-nohref\");break a}a=!1}a&&b.preventDefault()},!0);}).call(this);</script><style>#gbar,#guser{font-size:13px;padding-top:1px !important;}#gbar{height:22px}#guser{padding-bottom:7px !important;text-align:right}.gbh,.gbd{border-top:1px solid #c9d7f1;font-size:1px}.gbh{height:0;position:absolute;top:24px;width:100%}@media all{.gb1{height:22px;margin-right:.5em;vertical-align:top}#gbar{float:left}}a.gb1,a.gb4{text-decoration:underline !important}a.gb1,a.gb4{color:#00c !important}.gbi .gb4{color:#dd8e27 !important}.gbf .gb4{color:#900 !important}\\n</style><style>body,td,a,p,.h{font-family:&#44404;&#47548;,&#46027;&#50880;,arial,sans-serif}.ko{font-size:9pt}body{margin:0;overflow-y:scroll}#gog{padding:3px 8px 0}td{line-height:.8em}.gac_m td{line-height:17px}form{margin-bottom:20px}.h{color:#1967d2}em{font-weight:bold;font-style:normal}.lst{height:25px;width:496px}.gsfi,.lst{font:18px arial,sans-serif}.gsfs{font:17px arial,sans-serif}.ds{display:inline-box;display:inline-block;margin:3px 0 4px;margin-left:4px}input{font-family:inherit}body{background:#fff;color:#000}a{color:#681da8;text-decoration:none}a:hover,a:active{text-decoration:underline}.fl a{color:#1967d2}a:visited{color:#681da8}.sblc{padding-top:5px}.sblc a{display:block;margin:2px 0;margin-left:13px;font-size:11px}.lsbb{background:#f8f9fa;border:solid 1px;border-color:#dadce0 #70757a #70757a #dadce0;height:30px}.lsbb{display:block}#WqQANb a{display:inline-block;margin:0 12px}.lsb{background:url(/images/nav_logo229.png) 0 -261px repeat-x;color:#000;border:none;cursor:pointer;height:30px;margin:0;outline:0;font:15px arial,sans-serif;vertical-align:top}.lsb:active{background:#dadce0}.lst:focus{outline:none}.Ucigb{width:458px}</style><script nonce=\"23gB3Ye3DUUNsGCqFBdREg\">(function(){window.google.erd={jsr:1,bv:2003,de:true};\\nvar h=this||self;var k,l=null!=(k=h.mei)?k:1,n,p=null!=(n=h.sdo)?n:!0,q=0,r,t=google.erd,v=t.jsr;google.ml=function(a,b,d,m,e){e=void 0===e?2:e;b&&(r=a&&a.message);void 0===d&&(d={});d.cad=\"ple_\"+google.ple+\".aple_\"+google.aple;if(google.dl)return google.dl(a,e,d,!0),null;b=d;if(0>v){window.console&&console.error(a,b);if(-2===v)throw a;b=!1}else b=!a||!a.message||\"Error loading script\"===a.message||q>=l&&!m?!1:!0;if(!b)return null;q++;d=d||{};b=encodeURIComponent;var c=\"/gen_204?atyp=i&ei=\"+b(google.kEI);google.kEXPI&&(c+=\"&jexpid=\"+b(google.kEXPI));c+=\"&srcpg=\"+b(google.sn)+\"&jsr=\"+b(t.jsr)+\\n\"&bver=\"+b(t.bv);var f=a.lineNumber;void 0!==f&&(c+=\"&line=\"+f);var g=a.fileName;g&&(0<g.indexOf(\"-extension:/\")&&(e=3),c+=\"&script=\"+b(g),f&&g===window.location.href&&(f=document.documentElement.outerHTML.split(\"\\\\n\")[f],c+=\"&cad=\"+b(f?f.substring(0,300):\"No script found.\")));google.ple&&1===google.ple&&(e=2);c+=\"&jsel=\"+e;for(var u in d)c+=\"&\",c+=b(u),c+=\"=\",c+=b(d[u]);c=c+\"&emsg=\"+b(a.name+\": \"+a.message);c=c+\"&jsst=\"+b(a.stack||\"N/A\");12288<=c.length&&(c=c.substr(0,12288));a=c;m||google.log(0,\"\",a);return a};window.onerror=function(a,b,d,m,e){r!==a&&(a=e instanceof Error?e:Error(a),void 0===d||\"lineNumber\"in a||(a.lineNumber=d),void 0===b||\"fileName\"in a||(a.fileName=b),google.ml(a,!1,void 0,!1,\"SyntaxError\"===a.name||\"SyntaxError\"===a.message.substring(0,11)||-1!==a.message.indexOf(\"Script error\")?3:0));r=null;p&&q>=l&&(window.onerror=null)};})();</script></head><body bgcolor=\"#fff\"><script nonce=\"23gB3Ye3DUUNsGCqFBdREg\">(function(){var src=\\'/images/nav_logo229.png\\';var iesg=false;document.body.onload = function(){window.n && window.n();if (document.images){new Image().src=src;}\\nif (!iesg){document.f&&document.f.q.focus();document.gbqf&&document.gbqf.q.focus();}\\n}\\n})();</script><div id=\"mngb\"><div id=gbar><nobr><b class=gb1>&#44160;&#49353;</b> <a class=gb1 href=\"https://www.google.com/imghp?hl=ko&tab=wi\">&#51060;&#48120;&#51648;</a> <a class=gb1 href=\"https://maps.google.co.kr/maps?hl=ko&tab=wl\">&#51648;&#46020;</a> <a class=gb1 href=\"https://play.google.com/?hl=ko&tab=w8\">Play</a> <a class=gb1 href=\"https://www.youtube.com/?tab=w1\">YouTube</a> <a class=gb1 href=\"https://news.google.com/?tab=wn\">&#45684;&#49828;</a> <a class=gb1 href=\"https://mail.google.com/mail/?tab=wm\">Gmail</a> <a class=gb1 href=\"https://drive.google.com/?tab=wo\">&#46300;&#46972;&#51060;&#48652;</a> <a class=gb1 style=\"text-decoration:none\" href=\"https://www.google.co.kr/intl/ko/about/products?tab=wh\"><u>&#45908;&#48372;&#44592;</u> &raquo;</a></nobr></div><div id=guser width=100%><nobr><span id=gbn class=gbi></span><span id=gbf class=gbf></span><span id=gbe></span><a href=\"http://www.google.co.kr/history/optout?hl=ko\" class=gb4>&#50937; &#44592;&#47197;</a> | <a  href=\"/preferences?hl=ko\" class=gb4>&#49444;&#51221;</a> | <a target=_top id=gb_70 href=\"https://accounts.google.com/ServiceLogin?hl=ko&passive=true&continue=https://www.google.com/&ec=GAZAAQ\" class=gb4>&#47196;&#44536;&#51064;</a></nobr></div><div class=gbh style=left:0></div><div class=gbh style=right:0></div></div><center><br clear=\"all\" id=\"lgpd\"><div id=\"lga\"><img alt=\"Google\" height=\"92\" src=\"/images/branding/googlelogo/1x/googlelogo_white_background_color_272x92dp.png\" style=\"padding:28px 0 14px\" width=\"272\" id=\"hplogo\"><br><br></div><form action=\"/search\" name=\"f\"><table cellpadding=\"0\" cellspacing=\"0\"><tr valign=\"top\"><td width=\"25%\">&nbsp;</td><td align=\"center\" nowrap=\"\"><input name=\"ie\" value=\"ISO-8859-1\" type=\"hidden\"><input value=\"ko\" name=\"hl\" type=\"hidden\"><input name=\"source\" type=\"hidden\" value=\"hp\"><input name=\"biw\" type=\"hidden\"><input name=\"bih\" type=\"hidden\"><div class=\"ds\" style=\"height:32px;margin:4px 0\"><div style=\"position:relative;zoom:1\"><input class=\"lst Ucigb\" style=\"margin:0;padding:5px 8px 0 6px;vertical-align:top;color:#000;padding-right:38px\" autocomplete=\"off\" value=\"\" title=\"Google &#44160;&#49353;\" maxlength=\"2048\" name=\"q\" size=\"57\"><img src=\"/textinputassistant/tia.png\" style=\"position:absolute;cursor:pointer;right:5px;top:4px;z-index:300\" data-script-url=\"/textinputassistant/13/ko_tia.js\" id=\"tsuid_1\" alt=\"\" height=\"23\" width=\"27\"><script nonce=\"23gB3Ye3DUUNsGCqFBdREg\">(function(){var id=\\'tsuid_1\\';document.getElementById(id).onclick = function(){var s = document.createElement(\\'script\\');s.src = this.getAttribute(\\'data-script-url\\');document.body.appendChild(s);};})();</script></div></div><br style=\"line-height:0\"><span class=\"ds\"><span class=\"lsbb\"><input class=\"lsb\" value=\"Google &#44160;&#49353;\" name=\"btnG\" type=\"submit\"></span></span><span class=\"ds\"><span class=\"lsbb\"><input class=\"lsb\" id=\"tsuid_2\" value=\"I&#8217;m Feeling Lucky\" name=\"btnI\" type=\"submit\"><script nonce=\"23gB3Ye3DUUNsGCqFBdREg\">(function(){var id=\\'tsuid_2\\';document.getElementById(id).onclick = function(){if (this.form.q.value){this.checked = 1;if (this.form.iflsig)this.form.iflsig.disabled = false;}\\nelse top.location=\\'/doodles/\\';};})();</script><input value=\"AL9hbdgAAAAAZjiH-WD1pl76evZ7E7pCHThTCZ4h1LAJ\" name=\"iflsig\" type=\"hidden\"></span></span></td><td class=\"fl sblc\" align=\"left\" nowrap=\"\" width=\"25%\"><a href=\"/advanced_search?hl=ko&amp;authuser=0\">&#44256;&#44553;&#44160;&#49353;</a></td></tr></table><input id=\"gbv\" name=\"gbv\" type=\"hidden\" value=\"1\"><script nonce=\"23gB3Ye3DUUNsGCqFBdREg\">(function(){var a,b=\"1\";if(document&&document.getElementById)if(\"undefined\"!=typeof XMLHttpRequest)b=\"2\";else if(\"undefined\"!=typeof ActiveXObject){var c,d,e=[\"MSXML2.XMLHTTP.6.0\",\"MSXML2.XMLHTTP.3.0\",\"MSXML2.XMLHTTP\",\"Microsoft.XMLHTTP\"];for(c=0;d=e[c++];)try{new ActiveXObject(d),b=\"2\"}catch(h){}}a=b;if(\"2\"==a&&-1==location.search.indexOf(\"&gbv=2\")){var f=google.gbvu,g=document.getElementById(\"gbv\");g&&(g.value=a);f&&window.setTimeout(function(){location.href=f},0)};}).call(this);</script></form><div id=\"gac_scont\"></div><div style=\"font-size:83%;min-height:3.5em\"><br></div><span id=\"footer\"><div style=\"font-size:10pt\"><div style=\"margin:19px auto;text-align:center\" id=\"WqQANb\"><a href=\"/intl/ko/ads/\">&#44305;&#44256;</a><a href=\"http://www.google.co.kr/intl/ko/services/\">&#48708;&#51592;&#45768;&#49828; &#49556;&#47336;&#49496;</a><a href=\"/intl/ko/about.html\">Google &#51221;&#48372;</a><a href=\"https://www.google.com/setprefdomain?prefdom=KR&amp;prev=https://www.google.co.kr/&amp;sig=K_SsDRyQhIh5Dc-BDNvxRzTQDRurA%3D\">Google.co.kr</a></div></div><p style=\"font-size:8pt;color:#70757a\">&copy; 2024 - <a href=\"/intl/ko/policies/privacy/\">&#44060;&#51064;&#51221;&#48372;&#52376;&#47532;&#48169;&#52840;</a> - <a href=\"/intl/ko/policies/terms/\">&#50557;&#44288;</a></p></span></center><script nonce=\"23gB3Ye3DUUNsGCqFBdREg\">(function(){window.google.cdo={height:757,width:1440};(function(){var a=window.innerWidth,b=window.innerHeight;if(!a||!b){var c=window.document,d=\"CSS1Compat\"==c.compatMode?c.documentElement:c.body;a=d.clientWidth;b=d.clientHeight}\\nif(a&&b&&(a!=google.cdo.width||b!=google.cdo.height)){var e=google,f=e.log,g=\"/client_204?&atyp=i&biw=\"+a+\"&bih=\"+b+\"&ei=\"+google.kEI,h=\"\",k=[],l=void 0!==window.google&&void 0!==window.google.kOPI&&0!==window.google.kOPI?window.google.kOPI:null;null!=l&&k.push([\"opi\",l.toString()]);for(var m=0;m<k.length;m++){if(0===m||0<m)h+=\"&\";h+=k[m][0]+\"=\"+k[m][1]}f.call(e,\"\",\"\",g+h)};}).call(this);})();</script>  <script nonce=\"23gB3Ye3DUUNsGCqFBdREg\">(function(){google.xjs={basecomb:\\'/xjs/_/js/k\\\\x3dxjs.hp.en.yR4GP-3oS9k.O/ck\\\\x3dxjs.hp.m7sNK1imzgc.L.X.O/am\\\\x3dAQAAgAAAAAAAAAAAAAAAAAAAAABAAAAAAAAAACA4AAAAAgACAQAAgB8AAgAAABEAABIEAAfREQAMwBEAAHgB/d\\\\x3d1/ed\\\\x3d1/dg\\\\x3d0/ujg\\\\x3d1/rs\\\\x3dACT90oFeOUYdaP0pluJoFaRo-LnJkeWlfw\\',basecss:\\'/xjs/_/ss/k\\\\x3dxjs.hp.m7sNK1imzgc.L.X.O/am\\\\x3dAQAAgAAAAAAAAAAAAAAAAAAAAAAAAAAAAAAAAAAAAAAAAgACAQAAAAAAAgAAABEAABIE/rs\\\\x3dACT90oFNSVWu7U0BjODKkCCNMkaZmeIWQA\\',basejs:\\'/xjs/_/js/k\\\\x3dxjs.hp.en.yR4GP-3oS9k.O/am\\\\x3dAAAAAAAAAAAAAAAAAAAAAAAAAABAAAAAAAAAACA4AAAAAAAAAAAAgB8AAAAAAAAAAAAAAAfREQAMwBEAAHgB/dg\\\\x3d0/rs\\\\x3dACT90oFTPaIoN9Sydp-56klL0Y6U5WcDbQ\\',ck:\\'\\',combam:\\'\\',cs:\\'\\',cssam:\\'\\',csss:\\'\\',excm:[],jsam:\\'\\',jss:\\'\\'};})();</script> <link href=\"/xjs/_/ss/k=xjs.hp.m7sNK1imzgc.L.X.O/am=AQAAgAAAAAAAAAAAAAAAAAAAAAAAAAAAAAAAAAAAAAAAAgACAQAAAAAAAgAAABEAABIE/d=1/ed=1/rs=ACT90oFNSVWu7U0BjODKkCCNMkaZmeIWQA/m=sb_he,d\" rel=\"stylesheet\" nonce=\"23gB3Ye3DUUNsGCqFBdREg\">    <script nonce=\"23gB3Ye3DUUNsGCqFBdREg\">(function(){var u=\\'/xjs/_/js/k\\\\x3dxjs.hp.en.yR4GP-3oS9k.O/am\\\\x3dAAAAAAAAAAAAAAAAAAAAAAAAAABAAAAAAAAAACA4AAAAAAAAAAAAgB8AAAAAAAAAAAAAAAfREQAMwBEAAHgB/d\\\\x3d1/ed\\\\x3d1/rs\\\\x3dACT90oFTPaIoN9Sydp-56klL0Y6U5WcDbQ/m\\\\x3dsb_he,d\\';var st=0;var amd=0;var v=false;\\nvar e=this||self,f=function(a){return a};var g;var h=function(a){this.g=a};h.prototype.toString=function(){return this.g+\"\"};var k={};\\nfunction m(a,b){a.src=b instanceof h&&b.constructor===h?b.g:\"type_error:TrustedResourceUrl\";var c,d;(c=(b=null==(d=(c=(a.ownerDocument&&a.ownerDocument.defaultView||window).document).querySelector)?void 0:d.call(c,\"script[nonce]\"))?b.nonce||b.getAttribute(\"nonce\")||\"\":\"\")&&a.setAttribute(\"nonce\",c)};var n=function(){var a=document;var b=\"SCRIPT\";\"application/xhtml+xml\"===a.contentType&&(b=b.toLowerCase());return a.createElement(b)};function p(a){a=null===a?\"null\":void 0===a?\"undefined\":a;if(void 0===g){var b=null;var c=e.trustedTypes;if(c&&c.createPolicy){try{b=c.createPolicy(\"goog#html\",{createHTML:f,createScript:f,createScriptURL:f})}catch(d){e.console&&e.console.error(d.message)}g=b}else g=b}a=(b=g)?b.createScriptURL(a):a;return new h(a,k)};void 0===google.ps&&(google.ps=[]);function q(){var a=u,b=function(){};google.lx=google.stvsc?b:function(){r(a);google.lx=b};google.bx||google.lx()}function t(a,b){b&&m(a,p(b));var c=a.onload;a.onload=function(d){c&&c(d);google.ps=google.ps.filter(function(l){return a!==l})};google.ps.push(a);document.body.appendChild(a)}google.as=t;function r(a){google.timers&&google.timers.load&&google.tick&&google.tick(\"load\",\"xjsls\");var b=n();b.onerror=function(){google.ple=1};b.onload=function(){google.ple=0};google.xjsus=void 0;t(b,a);google.aple=-1;google.psa=!0};google.xjsu=u;e._F_jsUrl=u;var w=!1;function x(){w||(q(),w=!0)}\\nsetTimeout(function(){google&&google.tick&&google.timers&&google.timers.load&&google.tick(\"load\",\"xjspls\");var a;if(!(a=1!==st||!google.caft||v&&\"visible\"!==document.visibilityState))a:{a=document.getElementsByTagName(\"img\");for(var b=0,c=a.length;b<c;b++){var d=a[b],l=Number(d.getAttribute(\"data-atf\"))&1;d=d.hasAttribute(\"data-lzy_\");if(l&&d){a=!0;break a}}a=!1}a?2!==st||!google.rairicb||v&&\"visible\"!==document.visibilityState?q():(window.setTimeout(x,amd),google.rairicb(x)):(window.setTimeout(x,amd),google.caft(x))},0);})();window._ = window._ || {};window._DumpException = _._DumpException = function(e){throw e;};window._s = window._s || {};_s._DumpException = _._DumpException;window._qs = window._qs || {};_qs._DumpException = _._DumpException;(function(){var t=[9,2,0,0,0,81920,0,239632384,33554624,264192,33030400,128,4352,469766856,72976,291075,96256];window._F_toggles = window._xjs_toggles = t;})();function _F_installCss(c){}\\n(function(){google.jl={bfl:0,dw:false,ine:false,ubm:false,uwp:true,vs:false};})();(function(){var pmc=\\'{\\\\x22d\\\\x22:{},\\\\x22sb_he\\\\x22:{\\\\x22agen\\\\x22:false,\\\\x22cgen\\\\x22:false,\\\\x22client\\\\x22:\\\\x22heirloom-hp\\\\x22,\\\\x22dh\\\\x22:true,\\\\x22ds\\\\x22:\\\\x22\\\\x22,\\\\x22fl\\\\x22:true,\\\\x22host\\\\x22:\\\\x22google.com\\\\x22,\\\\x22jsonp\\\\x22:true,\\\\x22msgs\\\\x22:{\\\\x22cibl\\\\x22:\\\\x22\\\\\\\\uac80\\\\\\\\uc0c9\\\\\\\\uc5b4 \\\\\\\\uc9c0\\\\\\\\uc6b0\\\\\\\\uae30\\\\x22,\\\\x22dym\\\\x22:\\\\x22\\\\\\\\uc774\\\\\\\\uac83\\\\\\\\uc744 \\\\\\\\ucc3e\\\\\\\\uc73c\\\\\\\\uc168\\\\\\\\ub098\\\\\\\\uc694?\\\\x22,\\\\x22lcky\\\\x22:\\\\x22I\\\\\\\\u2019m Feeling Lucky\\\\x22,\\\\x22lml\\\\x22:\\\\x22\\\\\\\\uc790\\\\\\\\uc138\\\\\\\\ud788 \\\\\\\\uc54c\\\\\\\\uc544\\\\\\\\ubcf4\\\\\\\\uae30\\\\x22,\\\\x22psrc\\\\x22:\\\\x22\\\\\\\\uac80\\\\\\\\uc0c9\\\\\\\\uc5b4\\\\\\\\uac00 \\\\\\\\u003Ca href\\\\x3d\\\\\\\\\\\\x22/history\\\\\\\\\\\\x22\\\\\\\\u003E\\\\\\\\uc6f9 \\\\\\\\uae30\\\\\\\\ub85d\\\\\\\\u003C/a\\\\\\\\u003E\\\\\\\\uc5d0\\\\\\\\uc11c \\\\\\\\uc0ad\\\\\\\\uc81c\\\\\\\\ub418\\\\\\\\uc5c8\\\\\\\\uc2b5\\\\\\\\ub2c8\\\\\\\\ub2e4.\\\\x22,\\\\x22psrl\\\\x22:\\\\x22\\\\\\\\uc0ad\\\\\\\\uc81c\\\\x22,\\\\x22sbit\\\\x22:\\\\x22\\\\\\\\uc774\\\\\\\\ubbf8\\\\\\\\uc9c0\\\\\\\\ub85c \\\\\\\\uac80\\\\\\\\uc0c9\\\\x22,\\\\x22srch\\\\x22:\\\\x22Google \\\\\\\\uac80\\\\\\\\uc0c9\\\\x22},\\\\x22ovr\\\\x22:{},\\\\x22pq\\\\x22:\\\\x22\\\\x22,\\\\x22rfs\\\\x22:[],\\\\x22sbas\\\\x22:\\\\x220 3px 8px 0 rgba(0,0,0,0.2),0 0 0 1px rgba(0,0,0,0.08)\\\\x22,\\\\x22stok\\\\x22:\\\\x22oi6qiNhW7FKVWB8QxP78ap9FxpU\\\\x22}}\\';google.pmc=JSON.parse(pmc);})();(function(){var c=function(a){var b=0;return function(){return b<a.length?{done:!1,value:a[b++]}:{done:!0}}};\\nvar e=this||self;var g,h;a:{for(var k=[\"CLOSURE_FLAGS\"],l=e,n=0;n<k.length;n++)if(l=l[k[n]],null==l){h=null;break a}h=l}var p=h&&h[610401301];g=null!=p?p:!1;var q,r=e.navigator;q=r?r.userAgentData||null:null;function t(a){return g?q?q.brands.some(function(b){return(b=b.brand)&&-1!=b.indexOf(a)}):!1:!1}function u(a){var b;a:{if(b=e.navigator)if(b=b.userAgent)break a;b=\"\"}return-1!=b.indexOf(a)};function v(){return g?!!q&&0<q.brands.length:!1}function w(){return u(\"Safari\")&&!(x()||(v()?0:u(\"Coast\"))||(v()?0:u(\"Opera\"))||(v()?0:u(\"Edge\"))||(v()?t(\"Microsoft Edge\"):u(\"Edg/\"))||(v()?t(\"Opera\"):u(\"OPR\"))||u(\"Firefox\")||u(\"FxiOS\")||u(\"Silk\")||u(\"Android\"))}function x(){return v()?t(\"Chromium\"):(u(\"Chrome\")||u(\"CriOS\"))&&!(v()?0:u(\"Edge\"))||u(\"Silk\")}function y(){return u(\"Android\")&&!(x()||u(\"Firefox\")||u(\"FxiOS\")||(v()?0:u(\"Opera\"))||u(\"Silk\"))};var z=v()?!1:u(\"Trident\")||u(\"MSIE\");y();x();w();var A;A=\"function\"===typeof Symbol&&\"symbol\"===typeof Symbol()?Symbol():void 0;var B=[];(A?function(a,b){a[A]=b}:function(a,b){void 0!==a.g?a.g=b:Object.defineProperties(a,{g:{value:b,configurable:!0,writable:!0,enumerable:!1}})})(B,55);Object.freeze(B);Object.freeze(new function(){});Object.freeze(new function(){});var C=!z&&!w(),F=function(a){if(/-[a-z]/.test(\"ved\"))return null;if(C&&a.dataset){if(y()&&!(\"ved\"in a.dataset))return null;a=a.dataset.ved;return void 0===a?null:a}return a.getAttribute(\"data-\"+\"ved\".replace(/([A-Z])/g,\"-$1\").toLowerCase())};var G=[],H=null;function I(a){a=a.target;var b=performance.now(),f=[],J=f.concat,d=G;if(!(d instanceof Array)){var m=\"undefined\"!=typeof Symbol&&Symbol.iterator&&d[Symbol.iterator];if(m)d=m.call(d);else if(\"number\"==typeof d.length)d={next:c(d)};else throw Error(\"b`\"+String(d));for(var D=[];!(m=d.next()).done;)D.push(m.value);d=D}G=J.call(f,d,[b]);if(a&&a instanceof HTMLElement)if(a===H){if(b=4<=G.length)b=5>(G[G.length-1]-G[G.length-4])/1E3;if(b){b=google.getEI(a);a.hasAttribute(\"data-ved\")?f=a?F(a)||\"\":\"\":f=(f=\\na.closest(\"[data-ved]\"))?F(f)||\"\":\"\";f=f||\"\";if(a.hasAttribute(\"jsname\"))a=a.getAttribute(\"jsname\");else{var E;a=null==(E=a.closest(\"[jsname]\"))?void 0:E.getAttribute(\"jsname\")}google.log(\"rcm\",\"&ei=\"+b+\"&ved=\"+f+\"&jsname=\"+(a||\"\"))}}else H=a,G=[b]}window.document.addEventListener(\"DOMContentLoaded\",function(){document.body.addEventListener(\"click\",I)});}).call(this);</script></body></html>'\n"
     ]
    }
   ],
   "source": [
    "print(output)"
   ]
  },
  {
   "cell_type": "markdown",
   "metadata": {},
   "source": [
    "위의 b는 바이너리 데이터를 의미하는 것"
   ]
  },
  {
   "cell_type": "markdown",
   "metadata": {},
   "source": [
    "## 12.2 외부 모듈\n"
   ]
  },
  {
   "cell_type": "markdown",
   "metadata": {},
   "source": [
    "### 12.2.1 모듈 설치하기\n"
   ]
  },
  {
   "cell_type": "markdown",
   "metadata": {},
   "source": [
    "- conda install 모듈 이름 (**추천 방법**)\n",
    "- pip install 모듈 이름"
   ]
  },
  {
   "cell_type": "markdown",
   "metadata": {},
   "source": [
    "### 12.2.3 Beautiful Soup 모듈\n"
   ]
  },
  {
   "cell_type": "markdown",
   "metadata": {},
   "source": [
    "https://anaconda.org/anaconda/beautifulsoup4\n",
    "- conda install anaconda::beautifulsoup4"
   ]
  },
  {
   "cell_type": "markdown",
   "metadata": {},
   "source": [
    "기상청 전국 날씨 정보(RSS 서비스)\n",
    "URL : http://www.kma.go.kr/weather/forecast/mid-term-rss3.jsp?stnId=108"
   ]
  },
  {
   "cell_type": "code",
   "execution_count": 1,
   "metadata": {},
   "outputs": [],
   "source": [
    "from urllib import request\n",
    "from bs4 import BeautifulSoup\n",
    "\n",
    "url = 'http://www.kma.go.kr/weather/forecast/mid-term-rss3.jsp?stnId=108'"
   ]
  },
  {
   "cell_type": "code",
   "execution_count": 2,
   "metadata": {},
   "outputs": [],
   "source": [
    "# urlopen() 함수로 기상청의 전국 날씨를 읽습니다.\n",
    "target = request.urlopen(url)"
   ]
  },
  {
   "cell_type": "code",
   "execution_count": 3,
   "metadata": {},
   "outputs": [
    {
     "name": "stderr",
     "output_type": "stream",
     "text": [
      "c:\\Users\\yangd\\anaconda3\\envs\\anal_pdf\\lib\\site-packages\\bs4\\builder\\__init__.py:545: XMLParsedAsHTMLWarning: It looks like you're parsing an XML document using an HTML parser. If this really is an HTML document (maybe it's XHTML?), you can ignore or filter this warning. If it's XML, you should know that using an XML parser will be more reliable. To parse this document as XML, make sure you have the lxml package installed, and pass the keyword argument `features=\"xml\"` into the BeautifulSoup constructor.\n",
      "  warnings.warn(\n"
     ]
    }
   ],
   "source": [
    "# BeautifulSoup를 사용해 웹 페이지를 분석합니다.\n",
    "soup = BeautifulSoup(target, 'html.parser')"
   ]
  },
  {
   "cell_type": "code",
   "execution_count": 8,
   "metadata": {},
   "outputs": [
    {
     "name": "stdout",
     "output_type": "stream",
     "text": [
      "도시  : 서울\n",
      "날씨  : 맑음\n",
      "최저기온: 12\n",
      "최고기온: 22\n",
      "--------------------------------------------------------------------------------\n",
      "도시  : 인천\n",
      "날씨  : 맑음\n",
      "최저기온: 12\n",
      "최고기온: 19\n",
      "--------------------------------------------------------------------------------\n",
      "도시  : 수원\n",
      "날씨  : 맑음\n",
      "최저기온: 10\n",
      "최고기온: 22\n",
      "--------------------------------------------------------------------------------\n",
      "도시  : 파주\n",
      "날씨  : 맑음\n",
      "최저기온: 8\n",
      "최고기온: 22\n",
      "--------------------------------------------------------------------------------\n",
      "도시  : 이천\n",
      "날씨  : 맑음\n",
      "최저기온: 9\n",
      "최고기온: 24\n",
      "--------------------------------------------------------------------------------\n",
      "도시  : 평택\n",
      "날씨  : 맑음\n",
      "최저기온: 10\n",
      "최고기온: 23\n",
      "--------------------------------------------------------------------------------\n",
      "도시  : 춘천\n",
      "날씨  : 맑음\n",
      "최저기온: 9\n",
      "최고기온: 24\n",
      "--------------------------------------------------------------------------------\n",
      "도시  : 원주\n",
      "날씨  : 맑음\n",
      "최저기온: 10\n",
      "최고기온: 24\n",
      "--------------------------------------------------------------------------------\n",
      "도시  : 강릉\n",
      "날씨  : 맑음\n",
      "최저기온: 12\n",
      "최고기온: 25\n",
      "--------------------------------------------------------------------------------\n",
      "도시  : 대전\n",
      "날씨  : 맑음\n",
      "최저기온: 9\n",
      "최고기온: 23\n",
      "--------------------------------------------------------------------------------\n",
      "도시  : 세종\n",
      "날씨  : 맑음\n",
      "최저기온: 8\n",
      "최고기온: 22\n",
      "--------------------------------------------------------------------------------\n",
      "도시  : 홍성\n",
      "날씨  : 맑음\n",
      "최저기온: 8\n",
      "최고기온: 21\n",
      "--------------------------------------------------------------------------------\n",
      "도시  : 청주\n",
      "날씨  : 맑음\n",
      "최저기온: 11\n",
      "최고기온: 24\n",
      "--------------------------------------------------------------------------------\n",
      "도시  : 충주\n",
      "날씨  : 맑음\n",
      "최저기온: 9\n",
      "최고기온: 24\n",
      "--------------------------------------------------------------------------------\n",
      "도시  : 영동\n",
      "날씨  : 맑음\n",
      "최저기온: 6\n",
      "최고기온: 24\n",
      "--------------------------------------------------------------------------------\n",
      "도시  : 광주\n",
      "날씨  : 맑음\n",
      "최저기온: 11\n",
      "최고기온: 24\n",
      "--------------------------------------------------------------------------------\n",
      "도시  : 목포\n",
      "날씨  : 맑음\n",
      "최저기온: 11\n",
      "최고기온: 20\n",
      "--------------------------------------------------------------------------------\n",
      "도시  : 여수\n",
      "날씨  : 맑음\n",
      "최저기온: 13\n",
      "최고기온: 21\n",
      "--------------------------------------------------------------------------------\n",
      "도시  : 순천\n",
      "날씨  : 맑음\n",
      "최저기온: 10\n",
      "최고기온: 24\n",
      "--------------------------------------------------------------------------------\n",
      "도시  : 광양\n",
      "날씨  : 맑음\n",
      "최저기온: 11\n",
      "최고기온: 24\n",
      "--------------------------------------------------------------------------------\n",
      "도시  : 나주\n",
      "날씨  : 맑음\n",
      "최저기온: 8\n",
      "최고기온: 23\n",
      "--------------------------------------------------------------------------------\n",
      "도시  : 전주\n",
      "날씨  : 맑음\n",
      "최저기온: 10\n",
      "최고기온: 23\n",
      "--------------------------------------------------------------------------------\n",
      "도시  : 군산\n",
      "날씨  : 맑음\n",
      "최저기온: 10\n",
      "최고기온: 19\n",
      "--------------------------------------------------------------------------------\n",
      "도시  : 정읍\n",
      "날씨  : 맑음\n",
      "최저기온: 9\n",
      "최고기온: 23\n",
      "--------------------------------------------------------------------------------\n",
      "도시  : 남원\n",
      "날씨  : 맑음\n",
      "최저기온: 9\n",
      "최고기온: 24\n",
      "--------------------------------------------------------------------------------\n",
      "도시  : 고창\n",
      "날씨  : 맑음\n",
      "최저기온: 8\n",
      "최고기온: 21\n",
      "--------------------------------------------------------------------------------\n",
      "도시  : 무주\n",
      "날씨  : 맑음\n",
      "최저기온: 7\n",
      "최고기온: 23\n",
      "--------------------------------------------------------------------------------\n",
      "도시  : 부산\n",
      "날씨  : 맑음\n",
      "최저기온: 11\n",
      "최고기온: 21\n",
      "--------------------------------------------------------------------------------\n",
      "도시  : 울산\n",
      "날씨  : 맑음\n",
      "최저기온: 8\n",
      "최고기온: 23\n",
      "--------------------------------------------------------------------------------\n",
      "도시  : 창원\n",
      "날씨  : 맑음\n",
      "최저기온: 10\n",
      "최고기온: 23\n",
      "--------------------------------------------------------------------------------\n",
      "도시  : 진주\n",
      "날씨  : 맑음\n",
      "최저기온: 8\n",
      "최고기온: 23\n",
      "--------------------------------------------------------------------------------\n",
      "도시  : 거창\n",
      "날씨  : 맑음\n",
      "최저기온: 7\n",
      "최고기온: 24\n",
      "--------------------------------------------------------------------------------\n",
      "도시  : 통영\n",
      "날씨  : 맑음\n",
      "최저기온: 11\n",
      "최고기온: 21\n",
      "--------------------------------------------------------------------------------\n",
      "도시  : 대구\n",
      "날씨  : 맑음\n",
      "최저기온: 9\n",
      "최고기온: 24\n",
      "--------------------------------------------------------------------------------\n",
      "도시  : 안동\n",
      "날씨  : 맑음\n",
      "최저기온: 7\n",
      "최고기온: 24\n",
      "--------------------------------------------------------------------------------\n",
      "도시  : 포항\n",
      "날씨  : 맑음\n",
      "최저기온: 10\n",
      "최고기온: 24\n",
      "--------------------------------------------------------------------------------\n",
      "도시  : 경주\n",
      "날씨  : 맑음\n",
      "최저기온: 7\n",
      "최고기온: 24\n",
      "--------------------------------------------------------------------------------\n",
      "도시  : 울진\n",
      "날씨  : 맑음\n",
      "최저기온: 9\n",
      "최고기온: 21\n",
      "--------------------------------------------------------------------------------\n",
      "도시  : 울릉도\n",
      "날씨  : 맑음\n",
      "최저기온: 11\n",
      "최고기온: 18\n",
      "--------------------------------------------------------------------------------\n",
      "도시  : 제주\n",
      "날씨  : 맑음\n",
      "최저기온: 14\n",
      "최고기온: 20\n",
      "--------------------------------------------------------------------------------\n",
      "도시  : 서귀포\n",
      "날씨  : 맑음\n",
      "최저기온: 13\n",
      "최고기온: 21\n",
      "--------------------------------------------------------------------------------\n"
     ]
    }
   ],
   "source": [
    "for location in soup.select('location'):\n",
    "    print('도시  :', location.select_one('city').string)\n",
    "    print('날씨  :', location.select_one('wf').string)\n",
    "    print('최저기온:', location.select_one('tmn').string)\n",
    "    print('최고기온:', location.select_one('tmx').string)\n",
    "    print('-'*80)"
   ]
  },
  {
   "cell_type": "markdown",
   "metadata": {},
   "source": [
    "## 12.3 모듈 만들기\n"
   ]
  },
  {
   "cell_type": "markdown",
   "metadata": {},
   "source": [
    "### 12.3.1 모듈 만들기\n"
   ]
  },
  {
   "cell_type": "code",
   "execution_count": 9,
   "metadata": {},
   "outputs": [],
   "source": [
    "# 파일명 test_module.py\n",
    "PI = 3.141592\n",
    "\n",
    "def number_input():\n",
    "    output = float(input('숫자 입력>'))\n",
    "    return output\n",
    "\n",
    "def get_circumference(radius):\n",
    "    return 2 * PI * radius\n",
    "\n",
    "def get_circle_area(radius):\n",
    "    return PI * (radius ** 2)"
   ]
  },
  {
   "cell_type": "code",
   "execution_count": 10,
   "metadata": {},
   "outputs": [],
   "source": [
    "import test_module as tm"
   ]
  },
  {
   "cell_type": "code",
   "execution_count": 11,
   "metadata": {},
   "outputs": [],
   "source": [
    "radius = tm.number_input()"
   ]
  },
  {
   "cell_type": "code",
   "execution_count": 12,
   "metadata": {},
   "outputs": [
    {
     "name": "stdout",
     "output_type": "stream",
     "text": [
      "31.41592\n",
      "78.5398\n"
     ]
    }
   ],
   "source": [
    "print(tm.get_circumference(radius))\n",
    "print(tm.get_circle_area(radius))"
   ]
  },
  {
   "cell_type": "markdown",
   "metadata": {},
   "source": [
    "### 12.3.2 __name__ == \"__main__\"\n"
   ]
  },
  {
   "cell_type": "markdown",
   "metadata": {},
   "source": [
    "실제 해당 모듈을 실행시켰을때 해야하는 동작을 입력"
   ]
  },
  {
   "cell_type": "markdown",
   "metadata": {},
   "source": [
    "```\n",
    "if __name__ == \"__main__\":\n",
    "    radius = 10\n",
    "    print('반지름은 {} 입니다.'.format(radius))\n",
    "    print('원의 겉넓이는 {:.2f} 입니다.'.format(get_circumference(radius)))\n",
    "    print('원의 부피는 {:.2f} 입니다.'.format(get_circle_area(radius)))\n",
    "```\n"
   ]
  },
  {
   "cell_type": "code",
   "execution_count": 13,
   "metadata": {},
   "outputs": [
    {
     "name": "stdout",
     "output_type": "stream",
     "text": [
      "반지름은 10 입니다.\n",
      "원의 겉넓이는 62.83 입니다.\n",
      "원의 부피는 314.16 입니다.\n"
     ]
    }
   ],
   "source": [
    "!python test_module.py"
   ]
  },
  {
   "cell_type": "markdown",
   "metadata": {},
   "source": []
  }
 ],
 "metadata": {
  "kernelspec": {
   "display_name": "base",
   "language": "python",
   "name": "python3"
  },
  "language_info": {
   "codemirror_mode": {
    "name": "ipython",
    "version": 3
   },
   "file_extension": ".py",
   "mimetype": "text/x-python",
   "name": "python",
   "nbconvert_exporter": "python",
   "pygments_lexer": "ipython3",
   "version": "3.10.13"
  }
 },
 "nbformat": 4,
 "nbformat_minor": 2
}
