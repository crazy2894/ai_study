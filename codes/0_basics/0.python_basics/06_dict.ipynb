{
 "cells": [
  {
   "cell_type": "markdown",
   "metadata": {},
   "source": [
    "# 6. 딕셔너리와 반복문"
   ]
  },
  {
   "cell_type": "markdown",
   "metadata": {},
   "source": [
    "## 6.1 딕셔너리 선언하기"
   ]
  },
  {
   "cell_type": "markdown",
   "metadata": {},
   "source": [
    "- 딕셔너리는 중괄호 {}로 선언\n",
    "- **키**: **값** 형태를 쉼표(,)로 연결해서 만듬\n",
    "```\n",
    "변수 = {\n",
    "    키:값,\n",
    "    키:값,\n",
    "    ...\n",
    "    키:값,\n",
    "}\n",
    "```\n",
    "- 키는 문자열, 숫자, 불 등으로 선언 가능, 일반적으로는 문자열로 사용하는 경우가 대다수"
   ]
  },
  {
   "cell_type": "code",
   "execution_count": 19,
   "metadata": {},
   "outputs": [],
   "source": [
    "sample_dict = {\n",
    "    'name': '범죄도시 4',\n",
    "    'type': ['범죄', '액션', '스릴러', '느와르', '코미디', '형사'],\n",
    "    'show': True\n",
    "}"
   ]
  },
  {
   "cell_type": "markdown",
   "metadata": {},
   "source": [
    "## 6.2 딕셔너리의 요소에 접근하기\n"
   ]
  },
  {
   "cell_type": "code",
   "execution_count": 20,
   "metadata": {},
   "outputs": [
    {
     "data": {
      "text/plain": [
       "{'name': '범죄도시 4',\n",
       " 'type': ['범죄', '액션', '스릴러', '느와르', '코미디', '형사'],\n",
       " 'show': True}"
      ]
     },
     "execution_count": 20,
     "metadata": {},
     "output_type": "execute_result"
    }
   ],
   "source": [
    "sample_dict"
   ]
  },
  {
   "cell_type": "code",
   "execution_count": 21,
   "metadata": {},
   "outputs": [
    {
     "data": {
      "text/plain": [
       "'범죄도시 4'"
      ]
     },
     "execution_count": 21,
     "metadata": {},
     "output_type": "execute_result"
    }
   ],
   "source": [
    "sample_dict['name']"
   ]
  },
  {
   "cell_type": "code",
   "execution_count": 22,
   "metadata": {},
   "outputs": [
    {
     "data": {
      "text/plain": [
       "['범죄', '액션', '스릴러', '느와르', '코미디', '형사']"
      ]
     },
     "execution_count": 22,
     "metadata": {},
     "output_type": "execute_result"
    }
   ],
   "source": [
    "sample_dict['type']"
   ]
  },
  {
   "cell_type": "markdown",
   "metadata": {},
   "source": [
    "### KeyError 예외\n"
   ]
  },
  {
   "cell_type": "code",
   "execution_count": 23,
   "metadata": {},
   "outputs": [
    {
     "ename": "KeyError",
     "evalue": "'actor'",
     "output_type": "error",
     "traceback": [
      "\u001b[1;31m---------------------------------------------------------------------------\u001b[0m",
      "\u001b[1;31mKeyError\u001b[0m                                  Traceback (most recent call last)",
      "Cell \u001b[1;32mIn[23], line 1\u001b[0m\n\u001b[1;32m----> 1\u001b[0m sample_dict[\u001b[38;5;124m'\u001b[39m\u001b[38;5;124mactor\u001b[39m\u001b[38;5;124m'\u001b[39m]\n",
      "\u001b[1;31mKeyError\u001b[0m: 'actor'"
     ]
    }
   ],
   "source": [
    "sample_dict['actor']"
   ]
  },
  {
   "cell_type": "markdown",
   "metadata": {},
   "source": [
    "### 딕셔너리의 문자열 키와 관련된 실수\n"
   ]
  },
  {
   "cell_type": "code",
   "execution_count": 24,
   "metadata": {},
   "outputs": [
    {
     "ename": "NameError",
     "evalue": "name 'say' is not defined",
     "output_type": "error",
     "traceback": [
      "\u001b[1;31m---------------------------------------------------------------------------\u001b[0m",
      "\u001b[1;31mNameError\u001b[0m                                 Traceback (most recent call last)",
      "Cell \u001b[1;32mIn[24], line 3\u001b[0m\n\u001b[0;32m      1\u001b[0m dict_key \u001b[38;5;241m=\u001b[39m {\n\u001b[0;32m      2\u001b[0m     name: \u001b[38;5;124m'\u001b[39m\u001b[38;5;124m양승환\u001b[39m\u001b[38;5;124m'\u001b[39m,\n\u001b[1;32m----> 3\u001b[0m     say: \u001b[38;5;124m'\u001b[39m\u001b[38;5;124m안녕하세요.\u001b[39m\u001b[38;5;124m'\u001b[39m\n\u001b[0;32m      4\u001b[0m }\n",
      "\u001b[1;31mNameError\u001b[0m: name 'say' is not defined"
     ]
    }
   ],
   "source": [
    "dict_key = {\n",
    "    name: '양승환',\n",
    "    say: '안녕하세요.'\n",
    "}"
   ]
  },
  {
   "cell_type": "markdown",
   "metadata": {},
   "source": [
    "## 6.3 딕셔너리에 값 추가하기/제거하기\n"
   ]
  },
  {
   "cell_type": "markdown",
   "metadata": {},
   "source": [
    "딕셔너리에 값을 추가할 때는 키를 기반으로 값을 입력\n",
    "```\n",
    "딕셔너리[새로운 키] = 값\n",
    "```"
   ]
  },
  {
   "cell_type": "markdown",
   "metadata": {},
   "source": [
    "#### 딕셔너리에 값 추가하기"
   ]
  },
  {
   "cell_type": "code",
   "execution_count": 25,
   "metadata": {},
   "outputs": [
    {
     "data": {
      "text/plain": [
       "{'name': '범죄도시 4',\n",
       " 'type': ['범죄', '액션', '스릴러', '느와르', '코미디', '형사'],\n",
       " 'show': True}"
      ]
     },
     "execution_count": 25,
     "metadata": {},
     "output_type": "execute_result"
    }
   ],
   "source": [
    "sample_dict"
   ]
  },
  {
   "cell_type": "code",
   "execution_count": 31,
   "metadata": {},
   "outputs": [],
   "source": [
    "sample_dict['actor'] = ['마동석', '김무열', '박지환', '이동휘', '윤계상']"
   ]
  },
  {
   "cell_type": "code",
   "execution_count": 32,
   "metadata": {},
   "outputs": [
    {
     "data": {
      "text/plain": [
       "{'name': '범죄도시 4',\n",
       " 'type': ['범죄', '액션', '스릴러', '느와르', '코미디', '형사'],\n",
       " 'show': True,\n",
       " 'actor': ['마동석', '김무열', '박지환', '이동휘', '윤계상']}"
      ]
     },
     "execution_count": 32,
     "metadata": {},
     "output_type": "execute_result"
    }
   ],
   "source": [
    "sample_dict"
   ]
  },
  {
   "cell_type": "markdown",
   "metadata": {},
   "source": [
    "##### 딕셔너리에 값 바꾸기"
   ]
  },
  {
   "cell_type": "code",
   "execution_count": 33,
   "metadata": {},
   "outputs": [],
   "source": [
    "sample_dict['actor'] = ['마동석', '김무열', '박지환', '이동휘']"
   ]
  },
  {
   "cell_type": "code",
   "execution_count": 34,
   "metadata": {},
   "outputs": [
    {
     "data": {
      "text/plain": [
       "{'name': '범죄도시 4',\n",
       " 'type': ['범죄', '액션', '스릴러', '느와르', '코미디', '형사'],\n",
       " 'show': True,\n",
       " 'actor': ['마동석', '김무열', '박지환', '이동휘']}"
      ]
     },
     "execution_count": 34,
     "metadata": {},
     "output_type": "execute_result"
    }
   ],
   "source": [
    "sample_dict"
   ]
  },
  {
   "cell_type": "markdown",
   "metadata": {},
   "source": [
    "#### 딕셔너리 값 제거하기"
   ]
  },
  {
   "cell_type": "code",
   "execution_count": 35,
   "metadata": {},
   "outputs": [],
   "source": [
    "del sample_dict['show']"
   ]
  },
  {
   "cell_type": "code",
   "execution_count": 36,
   "metadata": {},
   "outputs": [
    {
     "data": {
      "text/plain": [
       "{'name': '범죄도시 4',\n",
       " 'type': ['범죄', '액션', '스릴러', '느와르', '코미디', '형사'],\n",
       " 'actor': ['마동석', '김무열', '박지환', '이동휘']}"
      ]
     },
     "execution_count": 36,
     "metadata": {},
     "output_type": "execute_result"
    }
   ],
   "source": [
    "sample_dict"
   ]
  },
  {
   "cell_type": "markdown",
   "metadata": {},
   "source": [
    "## 6.4 딕셔너리 내부에 키가 있는지 확인하기\n"
   ]
  },
  {
   "cell_type": "markdown",
   "metadata": {},
   "source": [
    "### in 키워드\n",
    "- 리스트 내부에 값이 있는지 없는지 확인할 때 사용한 것과 동일\n",
    "- 딕셔너리 키에 대해서만 존재여부 확인 가능 (값에 대해서는 불가)\n"
   ]
  },
  {
   "cell_type": "code",
   "execution_count": 39,
   "metadata": {},
   "outputs": [
    {
     "data": {
      "text/plain": [
       "True"
      ]
     },
     "execution_count": 39,
     "metadata": {},
     "output_type": "execute_result"
    }
   ],
   "source": [
    "'name' in sample_dict"
   ]
  },
  {
   "cell_type": "code",
   "execution_count": 40,
   "metadata": {},
   "outputs": [
    {
     "data": {
      "text/plain": [
       "False"
      ]
     },
     "execution_count": 40,
     "metadata": {},
     "output_type": "execute_result"
    }
   ],
   "source": [
    "'범죄도시 4' in sample_dict"
   ]
  },
  {
   "cell_type": "code",
   "execution_count": 41,
   "metadata": {},
   "outputs": [
    {
     "data": {
      "text/plain": [
       "False"
      ]
     },
     "execution_count": 41,
     "metadata": {},
     "output_type": "execute_result"
    }
   ],
   "source": [
    "'show' in sample_dict"
   ]
  },
  {
   "cell_type": "code",
   "execution_count": 42,
   "metadata": {},
   "outputs": [],
   "source": [
    "sample_dict['show'] = '개봉중'"
   ]
  },
  {
   "cell_type": "code",
   "execution_count": 43,
   "metadata": {},
   "outputs": [
    {
     "data": {
      "text/plain": [
       "{'name': '범죄도시 4',\n",
       " 'type': ['범죄', '액션', '스릴러', '느와르', '코미디', '형사'],\n",
       " 'actor': ['마동석', '김무열', '박지환', '이동휘'],\n",
       " 'show': '개봉중'}"
      ]
     },
     "execution_count": 43,
     "metadata": {},
     "output_type": "execute_result"
    }
   ],
   "source": [
    "sample_dict"
   ]
  },
  {
   "cell_type": "markdown",
   "metadata": {},
   "source": [
    "#### QUIZ. 딕셔너리 검색 프로그램\n",
    "\n",
    "- sample_dict가 위처럼 주어져있다고 가정\n",
    "\n",
    "- step1\n",
    "    - 사용자가 임의의 key를 입력\n",
    "\n",
    "- step2\n",
    "    - sample_dict가 해당 key를 가지고 있으면 값 (value)를 출력\n",
    "    - sample_dict가 해당 key를 가지고 있지 않다면 '존재하지 않는 키에 접근하고 있습니다.' 출력"
   ]
  },
  {
   "cell_type": "markdown",
   "metadata": {},
   "source": [
    "### dict.get() 함수\n"
   ]
  },
  {
   "cell_type": "markdown",
   "metadata": {},
   "source": [
    "- 존재하지 않는 키를 입력하면 (dict[존재하지 않는 키]), KeyError가 발생\n",
    "- KeyError를 피하기 위한 방법으로 dict.get() 함수를 사용\n",
    "```\n",
    "dict.get(키)\n",
    "```\n",
    "- 키가 존재하면 값을 리턴\n",
    "- 키가 존재하지 않을면 None을 리턴"
   ]
  },
  {
   "cell_type": "code",
   "execution_count": 45,
   "metadata": {},
   "outputs": [
    {
     "data": {
      "text/plain": [
       "{'name': '범죄도시 4',\n",
       " 'type': ['범죄', '액션', '스릴러', '느와르', '코미디', '형사'],\n",
       " 'actor': ['마동석', '김무열', '박지환', '이동휘'],\n",
       " 'show': '개봉중'}"
      ]
     },
     "execution_count": 45,
     "metadata": {},
     "output_type": "execute_result"
    }
   ],
   "source": [
    "sample_dict"
   ]
  },
  {
   "cell_type": "code",
   "execution_count": 46,
   "metadata": {},
   "outputs": [
    {
     "data": {
      "text/plain": [
       "['마동석', '김무열', '박지환', '이동휘']"
      ]
     },
     "execution_count": 46,
     "metadata": {},
     "output_type": "execute_result"
    }
   ],
   "source": [
    "sample_dict.get('actor')"
   ]
  },
  {
   "cell_type": "code",
   "execution_count": 51,
   "metadata": {},
   "outputs": [],
   "source": [
    "sample_dict.get('producer')"
   ]
  },
  {
   "cell_type": "markdown",
   "metadata": {},
   "source": [
    "## 6.5 for 반복문"
   ]
  },
  {
   "cell_type": "markdown",
   "metadata": {},
   "source": [
    "```\n",
    "for **key 값** in 딕셔너리:\n",
    "    코드\n",
    "```"
   ]
  },
  {
   "cell_type": "code",
   "execution_count": 52,
   "metadata": {},
   "outputs": [
    {
     "name": "stdout",
     "output_type": "stream",
     "text": [
      "name\n",
      "type\n",
      "actor\n",
      "show\n"
     ]
    }
   ],
   "source": [
    "for key in sample_dict:\n",
    "    print(key)"
   ]
  },
  {
   "cell_type": "code",
   "execution_count": 55,
   "metadata": {},
   "outputs": [
    {
     "name": "stdout",
     "output_type": "stream",
     "text": [
      "name : 범죄도시 4\n",
      "type : ['범죄', '액션', '스릴러', '느와르', '코미디', '형사']\n",
      "actor: ['마동석', '김무열', '박지환', '이동휘']\n",
      "show : 개봉중\n"
     ]
    }
   ],
   "source": [
    "for key in sample_dict:\n",
    "    print('{:5s}: {}'.format(key, sample_dict[key]))"
   ]
  },
  {
   "cell_type": "markdown",
   "metadata": {},
   "source": [
    "## 6.6 딕셔너리 관련 함수: dict.keys(), dict.values(), dict.items()"
   ]
  },
  {
   "cell_type": "markdown",
   "metadata": {},
   "source": [
    "### dict.keys(): 딕셔너리에서 key 만 가져오는 함수"
   ]
  },
  {
   "cell_type": "code",
   "execution_count": 66,
   "metadata": {},
   "outputs": [
    {
     "data": {
      "text/plain": [
       "dict_keys(['name', 'type', 'actor', 'show'])"
      ]
     },
     "execution_count": 66,
     "metadata": {},
     "output_type": "execute_result"
    }
   ],
   "source": [
    "sample_dict.keys()"
   ]
  },
  {
   "cell_type": "code",
   "execution_count": 65,
   "metadata": {},
   "outputs": [
    {
     "name": "stdout",
     "output_type": "stream",
     "text": [
      "name\n",
      "type\n",
      "actor\n",
      "show\n"
     ]
    }
   ],
   "source": [
    "for key in sample_dict.keys():\n",
    "    print(key)"
   ]
  },
  {
   "cell_type": "markdown",
   "metadata": {},
   "source": [
    "### dict.values(): 딕셔너리에서 값(value) 만 가져오는 함수"
   ]
  },
  {
   "cell_type": "code",
   "execution_count": 61,
   "metadata": {},
   "outputs": [
    {
     "data": {
      "text/plain": [
       "dict_values(['범죄도시 4', ['범죄', '액션', '스릴러', '느와르', '코미디', '형사'], ['마동석', '김무열', '박지환', '이동휘'], '개봉중'])"
      ]
     },
     "execution_count": 61,
     "metadata": {},
     "output_type": "execute_result"
    }
   ],
   "source": [
    "sample_dict.values()"
   ]
  },
  {
   "cell_type": "code",
   "execution_count": 69,
   "metadata": {},
   "outputs": [
    {
     "name": "stdout",
     "output_type": "stream",
     "text": [
      "범죄도시 4\n",
      "['범죄', '액션', '스릴러', '느와르', '코미디', '형사']\n",
      "['마동석', '김무열', '박지환', '이동휘']\n",
      "개봉중\n"
     ]
    }
   ],
   "source": [
    "for value in sample_dict.values():\n",
    "    print(value)"
   ]
  },
  {
   "cell_type": "markdown",
   "metadata": {},
   "source": [
    "### dict.items(): 딕셔너리에서 키(key):값(value)을 쌍으로 가져오는 함수"
   ]
  },
  {
   "cell_type": "code",
   "execution_count": 62,
   "metadata": {},
   "outputs": [
    {
     "data": {
      "text/plain": [
       "dict_items([('name', '범죄도시 4'), ('type', ['범죄', '액션', '스릴러', '느와르', '코미디', '형사']), ('actor', ['마동석', '김무열', '박지환', '이동휘']), ('show', '개봉중')])"
      ]
     },
     "execution_count": 62,
     "metadata": {},
     "output_type": "execute_result"
    }
   ],
   "source": [
    "sample_dict.items()"
   ]
  },
  {
   "cell_type": "code",
   "execution_count": 73,
   "metadata": {},
   "outputs": [
    {
     "name": "stdout",
     "output_type": "stream",
     "text": [
      "<class 'tuple'> ('name', '범죄도시 4')\n",
      "<class 'tuple'> ('type', ['범죄', '액션', '스릴러', '느와르', '코미디', '형사'])\n",
      "<class 'tuple'> ('actor', ['마동석', '김무열', '박지환', '이동휘'])\n",
      "<class 'tuple'> ('show', '개봉중')\n"
     ]
    }
   ],
   "source": [
    "for item in sample_dict.items():\n",
    "    print(type(item), item)"
   ]
  },
  {
   "cell_type": "code",
   "execution_count": 74,
   "metadata": {},
   "outputs": [
    {
     "name": "stdout",
     "output_type": "stream",
     "text": [
      "name 범죄도시 4\n",
      "type ['범죄', '액션', '스릴러', '느와르', '코미디', '형사']\n",
      "actor ['마동석', '김무열', '박지환', '이동휘']\n",
      "show 개봉중\n"
     ]
    }
   ],
   "source": [
    "for key, value in sample_dict.items():\n",
    "    print(key, value)"
   ]
  },
  {
   "cell_type": "code",
   "execution_count": null,
   "metadata": {},
   "outputs": [],
   "source": []
  }
 ],
 "metadata": {
  "kernelspec": {
   "display_name": "base",
   "language": "python",
   "name": "python3"
  },
  "language_info": {
   "codemirror_mode": {
    "name": "ipython",
    "version": 3
   },
   "file_extension": ".py",
   "mimetype": "text/x-python",
   "name": "python",
   "nbconvert_exporter": "python",
   "pygments_lexer": "ipython3",
   "version": "3.11.5"
  }
 },
 "nbformat": 4,
 "nbformat_minor": 2
}
