{
 "cells": [
  {
   "cell_type": "markdown",
   "metadata": {},
   "source": [
    "# 옵티마이저: 경사하강법\n",
    "\n",
    "최적화 문제(Optimization Problem)를 풀기 위한 알고리즘 : Optimizer\n",
    "\n",
    "- 프로 세스\n",
    "    \n",
    "    기울기 계산 → 이동 방향 결정 → 파라미터 업데이트 → 반복\n",
    "    \n",
    "- 문제\n",
    "    \n",
    "    발산의 문제 (학습률이 클 경우)\n",
    "    \n",
    "    안장점을 벗어날 수 없는 경우가 있다.\n",
    "    \n",
    "    극소 최소 점에 머물러있다. ( 원하는 최소 점은 전역 최소점 )\n",
    "    \n",
    "\n",
    "## 경사 하강법의 종류\n",
    "\n",
    "- Batch Gradient Descent\n",
    "    - 업데이트 시 전체 데이터 모두 사용 : 안정적, 메모리 리소스 다수 소요\n",
    "- Stochastic Gradient Descent\n",
    "    - 하나의 관측치 이용(랜덤) : 속도 빠름, 수렴 시간 오래걸림\n",
    "- Mini-batch Gradient Descent\n",
    "    - 업데이트시 미니 배치 사용 : BGD, SGD 의 단점 보완"
   ]
  }
 ],
 "metadata": {
  "language_info": {
   "name": "python"
  }
 },
 "nbformat": 4,
 "nbformat_minor": 2
}
