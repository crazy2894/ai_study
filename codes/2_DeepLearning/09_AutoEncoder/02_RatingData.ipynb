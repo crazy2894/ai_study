{
  "cells": [
    {
      "cell_type": "code",
      "execution_count": 72,
      "metadata": {
        "id": "4sbp7Gjtur_i"
      },
      "outputs": [],
      "source": [
        "import pandas as pd\n",
        "from sklearn.model_selection import train_test_split\n",
        "from tensorflow.keras.layers import Input, Dense\n",
        "from tensorflow.keras.models import Model\n",
        "from tensorflow.keras.optimizers import Adam"
      ]
    },
    {
      "cell_type": "code",
      "execution_count": 73,
      "metadata": {
        "id": "nJGINnLvuzF7"
      },
      "outputs": [],
      "source": [
        "ratings = pd.read_csv('09_AE_03_RatingData.csv')\n",
        "ratings = ratings[['userId', 'movieId', 'rating']]\n",
        "\n",
        "ratings_matrix = ratings.pivot(# 각 영화를 피쳐로, 점수를 값으로\n",
        "    index='userId',\n",
        "    columns='movieId',\n",
        "    values='rating')\n",
        "\n",
        "# 평가 되지 않은 항목은 0으로 weight 과 곱해질 때 이 피쳐와 weight 의 곱이 0으로 되기 때문\n",
        "ratings_matrix.fillna(0, inplace=True)\n",
        "\n",
        "# 정규화 ratings_matrix 는 약 10000개의 피쳐가 있다 (영화의 갯수 및 평)\n",
        "ratings_matrix = ratings_matrix.values / 5.0"
      ]
    },
    {
      "cell_type": "code",
      "execution_count": 81,
      "metadata": {
        "colab": {
          "base_uri": "https://localhost:8080/"
        },
        "id": "0GUinFEwvFPD",
        "outputId": "2dd6ce5f-fbee-4626-cbec-ce094f502da6"
      },
      "outputs": [],
      "source": [
        "# 오토인코더 모델 생성\n",
        "input_layer = Input(shape=(ratings_matrix.shape[1],))\n",
        "encoded = Dense(512, activation='relu')(input_layer)\n",
        "\n",
        "encoded = Dense(256, activation='relu')(encoded) # 잠재 공간\n",
        "\n",
        "decoded = Dense(512, activation='relu')(encoded) # 디코더\n",
        "output_layer = Dense(ratings_matrix.shape[1],\n",
        "                     activation='sigmoid')(decoded) # 평점이 0과 1 사이의 값이 되도록\n",
        "\n",
        "# 원본 평점과 예측 평점 간의 차이를 최소화하도록 학습 유도\n",
        "autoencoder = Model(input_layer, output_layer)\n",
        "autoencoder.compile(optimizer=Adam(learning_rate=0.001), loss='mse')"
      ]
    },
    {
      "cell_type": "code",
      "execution_count": 82,
      "metadata": {
        "id": "AhsiG_csvH63"
      },
      "outputs": [],
      "source": [
        "# 훈련 및 검증 데이터 분리\n",
        "x_train, x_val = train_test_split(ratings_matrix, test_size=0.2, random_state=42)"
      ]
    },
    {
      "cell_type": "code",
      "execution_count": 83,
      "metadata": {
        "id": "Ie7LCw3PvKfi"
      },
      "outputs": [
        {
          "name": "stdout",
          "output_type": "stream",
          "text": [
            "Epoch 1/50\n",
            "2/2 [==============================] - 1s 160ms/step - loss: 0.2471 - val_loss: 0.2430\n",
            "Epoch 2/50\n",
            "2/2 [==============================] - 0s 46ms/step - loss: 0.2429 - val_loss: 0.2246\n",
            "Epoch 3/50\n",
            "2/2 [==============================] - 0s 47ms/step - loss: 0.2215 - val_loss: 0.1660\n",
            "Epoch 4/50\n",
            "2/2 [==============================] - 0s 53ms/step - loss: 0.1641 - val_loss: 0.0913\n",
            "Epoch 5/50\n",
            "2/2 [==============================] - 0s 50ms/step - loss: 0.0849 - val_loss: 0.0372\n",
            "Epoch 6/50\n",
            "2/2 [==============================] - 0s 49ms/step - loss: 0.0300 - val_loss: 0.0162\n",
            "Epoch 7/50\n",
            "2/2 [==============================] - 0s 48ms/step - loss: 0.0113 - val_loss: 0.0126\n",
            "Epoch 8/50\n",
            "2/2 [==============================] - 0s 55ms/step - loss: 0.0084 - val_loss: 0.0121\n",
            "Epoch 9/50\n",
            "2/2 [==============================] - 0s 47ms/step - loss: 0.0083 - val_loss: 0.0119\n",
            "Epoch 10/50\n",
            "2/2 [==============================] - 0s 43ms/step - loss: 0.0083 - val_loss: 0.0119\n",
            "Epoch 11/50\n",
            "2/2 [==============================] - 0s 40ms/step - loss: 0.0083 - val_loss: 0.0119\n",
            "Epoch 12/50\n",
            "2/2 [==============================] - 0s 40ms/step - loss: 0.0083 - val_loss: 0.0120\n",
            "Epoch 13/50\n",
            "2/2 [==============================] - 0s 46ms/step - loss: 0.0083 - val_loss: 0.0120\n",
            "Epoch 14/50\n",
            "2/2 [==============================] - 0s 48ms/step - loss: 0.0083 - val_loss: 0.0120\n",
            "Epoch 15/50\n",
            "2/2 [==============================] - 0s 44ms/step - loss: 0.0083 - val_loss: 0.0120\n",
            "Epoch 16/50\n",
            "2/2 [==============================] - 0s 41ms/step - loss: 0.0083 - val_loss: 0.0120\n",
            "Epoch 17/50\n",
            "2/2 [==============================] - 0s 42ms/step - loss: 0.0083 - val_loss: 0.0120\n",
            "Epoch 18/50\n",
            "2/2 [==============================] - 0s 41ms/step - loss: 0.0083 - val_loss: 0.0120\n",
            "Epoch 19/50\n",
            "2/2 [==============================] - 0s 39ms/step - loss: 0.0083 - val_loss: 0.0120\n",
            "Epoch 20/50\n",
            "2/2 [==============================] - 0s 39ms/step - loss: 0.0083 - val_loss: 0.0120\n",
            "Epoch 21/50\n",
            "2/2 [==============================] - 0s 46ms/step - loss: 0.0083 - val_loss: 0.0120\n",
            "Epoch 22/50\n",
            "2/2 [==============================] - 0s 43ms/step - loss: 0.0083 - val_loss: 0.0120\n",
            "Epoch 23/50\n",
            "2/2 [==============================] - 0s 40ms/step - loss: 0.0083 - val_loss: 0.0120\n",
            "Epoch 24/50\n",
            "2/2 [==============================] - 0s 41ms/step - loss: 0.0083 - val_loss: 0.0120\n",
            "Epoch 25/50\n",
            "2/2 [==============================] - 0s 43ms/step - loss: 0.0083 - val_loss: 0.0120\n",
            "Epoch 26/50\n",
            "2/2 [==============================] - 0s 42ms/step - loss: 0.0083 - val_loss: 0.0120\n",
            "Epoch 27/50\n",
            "2/2 [==============================] - 0s 39ms/step - loss: 0.0083 - val_loss: 0.0120\n",
            "Epoch 28/50\n",
            "2/2 [==============================] - 0s 39ms/step - loss: 0.0083 - val_loss: 0.0120\n",
            "Epoch 29/50\n",
            "2/2 [==============================] - 0s 41ms/step - loss: 0.0083 - val_loss: 0.0120\n",
            "Epoch 30/50\n",
            "2/2 [==============================] - 0s 40ms/step - loss: 0.0083 - val_loss: 0.0120\n",
            "Epoch 31/50\n",
            "2/2 [==============================] - 0s 38ms/step - loss: 0.0083 - val_loss: 0.0120\n",
            "Epoch 32/50\n",
            "2/2 [==============================] - 0s 39ms/step - loss: 0.0083 - val_loss: 0.0120\n",
            "Epoch 33/50\n",
            "2/2 [==============================] - 0s 38ms/step - loss: 0.0083 - val_loss: 0.0120\n",
            "Epoch 34/50\n",
            "2/2 [==============================] - 0s 39ms/step - loss: 0.0083 - val_loss: 0.0120\n",
            "Epoch 35/50\n",
            "2/2 [==============================] - 0s 39ms/step - loss: 0.0083 - val_loss: 0.0120\n",
            "Epoch 36/50\n",
            "2/2 [==============================] - 0s 40ms/step - loss: 0.0083 - val_loss: 0.0120\n",
            "Epoch 37/50\n",
            "2/2 [==============================] - 0s 38ms/step - loss: 0.0083 - val_loss: 0.0120\n",
            "Epoch 38/50\n",
            "2/2 [==============================] - 0s 40ms/step - loss: 0.0083 - val_loss: 0.0120\n",
            "Epoch 39/50\n",
            "2/2 [==============================] - 0s 39ms/step - loss: 0.0083 - val_loss: 0.0120\n",
            "Epoch 40/50\n",
            "2/2 [==============================] - 0s 39ms/step - loss: 0.0083 - val_loss: 0.0120\n",
            "Epoch 41/50\n",
            "2/2 [==============================] - 0s 77ms/step - loss: 0.0083 - val_loss: 0.0120\n",
            "Epoch 42/50\n",
            "2/2 [==============================] - 0s 44ms/step - loss: 0.0083 - val_loss: 0.0120\n",
            "Epoch 43/50\n",
            "2/2 [==============================] - 0s 41ms/step - loss: 0.0084 - val_loss: 0.0120\n",
            "Epoch 44/50\n",
            "2/2 [==============================] - 0s 43ms/step - loss: 0.0083 - val_loss: 0.0120\n",
            "Epoch 45/50\n",
            "2/2 [==============================] - 0s 39ms/step - loss: 0.0083 - val_loss: 0.0120\n",
            "Epoch 46/50\n",
            "2/2 [==============================] - 0s 42ms/step - loss: 0.0083 - val_loss: 0.0120\n",
            "Epoch 47/50\n",
            "2/2 [==============================] - 0s 37ms/step - loss: 0.0083 - val_loss: 0.0120\n",
            "Epoch 48/50\n",
            "2/2 [==============================] - 0s 39ms/step - loss: 0.0083 - val_loss: 0.0120\n",
            "Epoch 49/50\n",
            "2/2 [==============================] - 0s 38ms/step - loss: 0.0083 - val_loss: 0.0120\n",
            "Epoch 50/50\n",
            "2/2 [==============================] - 0s 38ms/step - loss: 0.0083 - val_loss: 0.0120\n"
          ]
        },
        {
          "data": {
            "text/plain": [
              "<keras.callbacks.History at 0x281325ce8e0>"
            ]
          },
          "execution_count": 83,
          "metadata": {},
          "output_type": "execute_result"
        }
      ],
      "source": [
        "# 모델 학습\n",
        "# 입력 평점을 재구성하는 방법을 학습\n",
        "autoencoder.fit(x_train, x_train,epochs=50,batch_size=256,validation_data=(x_val, x_val))\n"
      ]
    },
    {
      "cell_type": "code",
      "execution_count": 84,
      "metadata": {
        "colab": {
          "base_uri": "https://localhost:8080/"
        },
        "id": "OSeR220bv18t",
        "outputId": "c20c4ac5-578c-45ab-8ddc-e8b9a30d4c18"
      },
      "outputs": [
        {
          "name": "stdout",
          "output_type": "stream",
          "text": [
            "4/4 [==============================] - 0s 3ms/step - loss: 0.0120\n",
            "Validation loss: 0.0120133887976408\n"
          ]
        }
      ],
      "source": [
        "# 모델 평가\n",
        "val_loss = autoencoder.evaluate(x_val, x_val)\n",
        "print(\"Validation loss:\", val_loss)"
      ]
    },
    {
      "cell_type": "code",
      "execution_count": 85,
      "metadata": {
        "colab": {
          "base_uri": "https://localhost:8080/"
        },
        "id": "V8Ul01ITvQ1e",
        "outputId": "2190ccf5-bfbe-4934-c13b-60f124402026"
      },
      "outputs": [
        {
          "name": "stdout",
          "output_type": "stream",
          "text": [
            "20/20 [==============================] - 0s 1ms/step\n"
          ]
        }
      ],
      "source": [
        "# 평점 예측\n",
        "# 학습된 모델을 사용하여 사용자 평점 예측\n",
        "predicted_ratings = autoencoder.predict(ratings_matrix) * 5.0  # 스케일을 원래대로 복구"
      ]
    },
    {
      "cell_type": "code",
      "execution_count": 88,
      "metadata": {
        "colab": {
          "base_uri": "https://localhost:8080/"
        },
        "id": "6DkFDflpyXZ5",
        "outputId": "92ec7932-272e-4d56-e63d-8ad786954192"
      },
      "outputs": [
        {
          "name": "stdout",
          "output_type": "stream",
          "text": [
            "Recommended movie IDs for user 1: [ 259  615 3402 3162 3168 3167 3166 3165 3164 3163]\n"
          ]
        }
      ],
      "source": [
        "# 사용자가 아직 평가하지 않은 영화에 대한 추천 생성\n",
        "def generate_recommendations(user_id, predicted_ratings, ratings_matrix):\n",
        "    user_ratings = ratings_matrix[user_id - 1]  # 사용자의 평점 데이터 가져오기 (인덱스는 0부터 시작하므로 -1)\n",
        "    unseen_movies_idx = user_ratings == 0  # 사용자가 아직 평가하지 않은 영화 찾기\n",
        "    predicted_ratings_for_user = predicted_ratings[user_id - 1]  # 사용자에 대한 예측 평점 가져오기\n",
        "    recommended_movies = predicted_ratings_for_user[unseen_movies_idx]  # 아직 보지 않은 영화에 대한 예측 평점 가져오기\n",
        "    top_recommended_movie_ids = recommended_movies.argsort()[::-1][:10]  # 상위 10개 추천 영화 선택\n",
        "                                      # argsort()[::-1]는 평점을 내림차순으로 정렬,\n",
        "                                      # 가장 높은 평점을 가진 10개의 영화 인덱스 반환\n",
        "\n",
        "    # print(unseen_movies_idx) # 평점 0 True, 0이 아닌(평점이 있는 영화) index는 False\n",
        "    return top_recommended_movie_ids\n",
        "\n",
        "# 예시: 사용자 1에 대한 영화 추천 생성\n",
        "user_id = 1\n",
        "recommendations = generate_recommendations(user_id, predicted_ratings, ratings_matrix)\n",
        "        # user_id: 사용자 ID\n",
        "        # predicted_ratings: 모델을 통해 생성된 예측 평점\n",
        "        # ratings_matrix: 사용자-영화 평점 matrix(원 데이터) -평가하지 않은 영화(0값) 정보 포함\n",
        "print(\"Recommended movie IDs for user {}: {}\".format(user_id, recommendations))"
      ]
    }
  ],
  "metadata": {
    "colab": {
      "provenance": []
    },
    "kernelspec": {
      "display_name": "Python 3",
      "name": "python3"
    },
    "language_info": {
      "codemirror_mode": {
        "name": "ipython",
        "version": 3
      },
      "file_extension": ".py",
      "mimetype": "text/x-python",
      "name": "python",
      "nbconvert_exporter": "python",
      "pygments_lexer": "ipython3",
      "version": "3.8.15"
    }
  },
  "nbformat": 4,
  "nbformat_minor": 0
}
