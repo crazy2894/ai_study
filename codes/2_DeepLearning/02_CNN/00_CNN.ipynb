{
 "cells": [
  {
   "cell_type": "markdown",
   "metadata": {},
   "source": [
    "# CNN (Convolutional Neural Networks)\n",
    "\n",
    "합성 곱 신경망으로 Spatial 정보를 추출한다.\n",
    "\n",
    "## 장점\n",
    "\n",
    "- Spatial 정보를 추출\n",
    "- 이미지 데이터에 유용\n",
    "- 파라미터 수의 감소\n",
    "- 필터를 동일하게 사용하여, 가중치를 공유하고, 과적합을 방지하며 계산 효율성이 증가\n",
    "- 기본적으로 3차원의 채널 수는 3개, 3차원 array로 저장\n",
    "\n",
    "## 공간 정보 추출\n",
    "\n",
    "### 원리\n",
    "\n",
    "이미지 정보를 추출하기 위해 (Kernel)을 적용하여 Stride(몇 칸 씩 이동하는가)를 설정한 후 옆으로 그리고 아래로 이동하면서 정보를 추출한다.  \n",
    "각 픽셀은 고유한 가중치를 지니며, 가중치 공유로 인해 파라미터 수가 감소하고 계산 효율이 증가한다.\n",
    "\n",
    "- **Activation Map (Feature Map = Response Map)**: 합성 곱을 한 이후 활성화 함수를 적용한 결과값들의 모음\n",
    "\n",
    "Activation Map의 사이즈는 다음과 같이 계산할 수 있다:\n",
    "\n",
    "$$\n",
    "\\text{Activation Map Size} = \\frac{N-F}{\\text{stride}} + 1\n",
    "$$\n",
    "\n",
    "여기서 \\(N\\)은 이미지 사이즈, \\(F\\)는 필터의 사이즈이다.\n",
    "\n",
    "```python\n",
    "def activation_map(n, f, s):\n",
    "    return ((n - f) / s) + 1\n",
    "```\n",
    "\n",
    "```python\n",
    "# 5 by 5, 3 by 3 and stride 1\n",
    "print((5 - 3) / 1 + 1)  # 결과: 3\n",
    "```\n",
    "\n",
    "### 예시\n",
    "\n",
    "각 필터별로 특징이 담겨있다.\n",
    "\n",
    "- **Stridesize에 대한 이슈**: 다운샘플링으로 인해 파라미터 수가 감소하고 학습 속도가 개선되지만, 정보의 손실이 커질 수 있다.\n",
    "\n",
    "## CNN의 간단한 요약\n",
    "\n",
    "**목적**\n",
    "- 다운샘플링\n",
    "- 특징 추출\n",
    "\n",
    "CNN층을 먼저 거친 후 Flatten하여 일반 FNN을 거친다. 필터의 수는 점점 두꺼워진다.\n",
    "\n",
    "- **Convolution 층의 계산**:\n",
    "    ```\n",
    "    이미지의 크기(32, 32, 3)\n",
    "    필터의 갯수와 크기 : 16개의 필터(5, 5) stride 1\n",
    "    \n",
    "    activation map의 크기: (((32 - 5) / 1) + 1) => (28, 28, 16(필터의 갯수))\n",
    "    \n",
    "    학습할 파라미터의 수는 ? (5 * 5 * 3 + 1) * 16 = 1216\n",
    "    ```\n",
    "\n",
    "## 패딩\n",
    "\n",
    "특정 값으로 이미지 주변을 채운다.\n",
    "\n",
    "- **Zero Padding**: 0으로 채운다.\n",
    "\n",
    "## 풀링\n",
    "\n",
    "피쳐 맵의 크기를 줄인다. (더 함축적)\n",
    "\n",
    "**필터와 Activation Map을 적용하지 않는다.**  \n",
    "시각적으로 확인 후 어떤 Pooling을 적용할지 결정한다.\n",
    "\n",
    "- **Max Pooling**: 풀링 사이즈 안의 가장 큰 값을 추출\n",
    "    - 밝은 부분을 추출\n",
    "    - 관심 있는 물체가 밝은 경우\n",
    "- **Average Pooling**: 평균을 계산하여 추출\n",
    "    - 스무딩 효과\n",
    "- **Global Pooling**: 뎁스(차원)을 유지하면서 각 차원에서 하나의 특정 value 만을 추출하여 임베딩 벡터를 얻을 수 있다.\n",
    "\n",
    "## CNN의 학습 과정\n",
    "\n",
    "1. 예측:\n",
    "    1. CNN 층: 이미지를 Input하여 합성 곱, 활성화 함수 등을 이용해 Feature Map 형성 (feature) 추출\n",
    "    2. FNN 층: Feature Map을 Flatten하여 Softmax로 라벨에 대한 확률 분포 output\n",
    "2. 정확도 평가 (손실 함수): 정답과 예측의 비교\n",
    "    1. **Cross Entropy Loss**: 정답(원 핫 인코딩된)과 예측의 확률 분포의 차이를 계산\n",
    "3. 가중치 업데이트: 역전파를 통해 가중치를 업데이트 (CNN의 필터와 FNN의 weight)\n",
    "\n",
    "## CNN의 키워드\n",
    "\n",
    "- Convolution\n",
    "    - Filter size 및 depth\n",
    "    - Activation map 및 size 및 depth\n",
    "- Stride 및 padding\n",
    "- Pooling\n",
    "    - Max pooling 및 Average pooling\n",
    "    - Global pooling\n",
    "- Flattening"
   ]
  },
  {
   "cell_type": "code",
   "execution_count": 7,
   "metadata": {},
   "outputs": [
    {
     "data": {
      "text/plain": [
       "28.0"
      ]
     },
     "execution_count": 7,
     "metadata": {},
     "output_type": "execute_result"
    }
   ],
   "source": [
    "def activation_map(n,f,s):\n",
    "    return ((n - f) / (s)) + 1\n",
    "\n",
    "activation_map(32, 5, 1)\n",
    "activation_map(28, 5, 1)\n",
    "activation_map(32, 5, 1)"
   ]
  },
  {
   "cell_type": "code",
   "execution_count": 8,
   "metadata": {},
   "outputs": [
    {
     "data": {
      "text/plain": [
       "37648"
      ]
     },
     "execution_count": 8,
     "metadata": {},
     "output_type": "execute_result"
    }
   ],
   "source": [
    "(28*28*3+1) *16"
   ]
  }
 ],
 "metadata": {
  "kernelspec": {
   "display_name": "kdt",
   "language": "python",
   "name": "python3"
  },
  "language_info": {
   "codemirror_mode": {
    "name": "ipython",
    "version": 3
   },
   "file_extension": ".py",
   "mimetype": "text/x-python",
   "name": "python",
   "nbconvert_exporter": "python",
   "pygments_lexer": "ipython3",
   "version": "3.8.15"
  }
 },
 "nbformat": 4,
 "nbformat_minor": 2
}
