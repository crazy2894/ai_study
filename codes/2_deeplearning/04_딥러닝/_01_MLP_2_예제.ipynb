{
  "cells": [
    {
      "cell_type": "code",
      "execution_count": 1,
      "metadata": {},
      "outputs": [],
      "source": [
        "# 필요한 라이브러리  import\n",
        "import numpy as np\n",
        "import torch\n",
        "import torch.nn as nn\n",
        "import torch.optim as optim\n",
        "from torch.autograd import Variable\n",
        "import pandas as pd"
      ]
    },
    {
      "cell_type": "code",
      "execution_count": 2,
      "metadata": {
        "id": "U2RlWsAOk3Zn"
      },
      "outputs": [],
      "source": [
        "# CSV 파일에서 데이터셋을 로드\n",
        "file_path = '../../data/csv/1.01.house.price.csv'\n",
        "data = pd.read_csv(file_path)"
      ]
    },
    {
      "cell_type": "code",
      "execution_count": 3,
      "metadata": {},
      "outputs": [],
      "source": [
        "###### 데이터 전처리\n",
        "# 데이터셋을 PyTorch 텐서로 변환\n",
        "X = torch.tensor(data[['평수', '연식']].values, dtype=torch.float32)\n",
        "y = torch.tensor(data['가격 '].values, dtype=torch.float32).view(-1, 1)\n",
        "\n",
        "# 스케일링\n",
        "X_norm = (X - X.mean(dim=0)) / X.std(dim=0)\n",
        "    # 표준화(Z-Score 정규화): 데이터를 평균이 0이고 표준편차가 1인 분포로 변환. (각 데이터에서 평균을 빼고, 그 결과를 표준편차로 나눔)\n",
        "    # 해석할때는 역변환 해야함\n",
        "\n",
        "    \n",
        "# scaler_X = StandardScaler()\n",
        "# scaler_y = StandardScaler()\n",
        "# X_scaled = scaler_X.fit_transform(X)\n",
        "# y_scaled = scaler_y.fit_transform(y)\n"
      ]
    },
    {
      "cell_type": "code",
      "execution_count": 4,
      "metadata": {
        "id": "UAUHNOoUEEJl"
      },
      "outputs": [],
      "source": [
        "\n",
        "# 선형 회귀 모델 정의\n",
        "class LinearRegressionModel(nn.Module):\n",
        "    def __init__(self):\n",
        "        super(LinearRegressionModel, self).__init__()\n",
        "        self.linear = nn.Linear(2, 1)  # 입력 차원은 2 ('평수'와 '연식'), 출력 차원은 1 ('가격')\n",
        "\n",
        "    def forward(self, x):\n",
        "        return self.linear(x)\n",
        "        # 입력 데이터 x에 대해 self.linear 선형 레이어를 적용하고, 결과를 반환\n",
        "        # 선형 레이어는 내부적으로 학습된 가중치와 편향을 사용하여 계산을 수행\n",
        "\n",
        "# 모델 인스턴스를 생성합니다.\n",
        "model = LinearRegressionModel()\n"
      ]
    },
    {
      "cell_type": "code",
      "execution_count": 5,
      "metadata": {
        "id": "yRz_vRYHEFLE"
      },
      "outputs": [],
      "source": [
        "\n",
        "# 손실 함수로 평균 제곱 오차(MSE)를 사용\n",
        "criterion = nn.MSELoss()\n",
        "\n",
        "# 최적화 알고리즘으로 SGD를 사용하며, 학습률은 0.001로 설정\n",
        "optimizer = optim.SGD(model.parameters(), lr=0.0001)\n"
      ]
    },
    {
      "cell_type": "code",
      "execution_count": 6,
      "metadata": {
        "id": "GaQsQGobEFNp"
      },
      "outputs": [
        {
          "name": "stdout",
          "output_type": "stream",
          "text": [
            "Epoch [100/1000], Loss: 3.5951\n",
            "Epoch [200/1000], Loss: 1.3367\n",
            "Epoch [300/1000], Loss: 0.6752\n",
            "Epoch [400/1000], Loss: 0.4813\n",
            "Epoch [500/1000], Loss: 0.4244\n",
            "Epoch [600/1000], Loss: 0.4075\n",
            "Epoch [700/1000], Loss: 0.4024\n",
            "Epoch [800/1000], Loss: 0.4008\n",
            "Epoch [900/1000], Loss: 0.4001\n",
            "Epoch [1000/1000], Loss: 0.3998\n"
          ]
        }
      ],
      "source": [
        "\n",
        "######### 모델 훈련\n",
        "num_epochs = 1000\n",
        "for epoch in range(num_epochs):\n",
        "    # Variable로 데이터를 감싸 계산 그래프\n",
        "    inputs = Variable(X)\n",
        "    targets = Variable(y)\n",
        "\n",
        "    # 순전파 단계: 예측값을 계산\n",
        "    outputs = model(inputs)\n",
        "    # 손실을 계산\n",
        "    loss = criterion(outputs, targets)\n",
        "\n",
        "    # 역전파 단계: 기울기를 초기화하고, 손실에 대한 기울기를 계산한 다음, 최적화 단계를 수행\n",
        "    optimizer.zero_grad()\n",
        "    loss.backward()\n",
        "    optimizer.step()\n",
        "\n",
        "    # 일정한 에포크마다 현재의 손실을 출력\n",
        "    if (epoch + 1) % 100 == 0:\n",
        "        print(f'Epoch [{epoch + 1}/{num_epochs}], Loss: {loss.item():.4f}')\n"
      ]
    },
    {
      "cell_type": "code",
      "execution_count": 7,
      "metadata": {
        "id": "LCpiNZm3EFQk"
      },
      "outputs": [
        {
          "name": "stdout",
          "output_type": "stream",
          "text": [
            "첫 번째 아파트의 예측 가격: 8.0791, 실제 가격: 5.0000\n",
            "모델의 가중치: Parameter containing:\n",
            "tensor([[ 0.1394, -0.0916]], requires_grad=True)\n",
            "모델의 편향: Parameter containing:\n",
            "tensor([-0.4782], requires_grad=True)\n"
          ]
        }
      ],
      "source": [
        "\n",
        "########### 모델 평가: 학습된 모델을 사용하여 첫 번째 데이터 포인트의 가격 예측\n",
        "model.eval()\n",
        "with torch.no_grad():\n",
        "    predicted = model(Variable(X[0]))\n",
        "    # 정규화된 예측값을 원래 스케일로 복원\n",
        "    predicted_price = predicted.item() * y.std() + y.mean()\n",
        "    print(f'첫 번째 아파트의 예측 가격: {predicted_price:.4f}, 실제 가격: {y[0].item():.4f}')\n",
        "\n",
        "# 훈련된 모델의 매개변수를 출력\n",
        "print(f'모델의 가중치: {model.linear.weight}')\n",
        "print(f'모델의 편향: {model.linear.bias}')\n"
      ]
    },
    {
      "cell_type": "code",
      "execution_count": 8,
      "metadata": {
        "id": "G3ocR_H2EY0o"
      },
      "outputs": [],
      "source": [
        "# 전체 테스트 데이터셋에 대한 예측 수행\n",
        "model.eval()  # 모델을 평가 모드로 설정\n",
        "with torch.no_grad():\n",
        "    predictions = model(X)\n",
        "\n",
        "# predictions"
      ]
    },
    {
      "cell_type": "code",
      "execution_count": 9,
      "metadata": {
        "colab": {
          "base_uri": "https://localhost:8080/"
        },
        "id": "oAqxeXQCEFTR",
        "outputId": "5ef58980-41b2-40d8-b3bf-fc0274ae341f"
      },
      "outputs": [
        {
          "name": "stdout",
          "output_type": "stream",
          "text": [
            "MSE: 0.3998, RMSE: 0.6323, MAE: 0.4701\n"
          ]
        }
      ],
      "source": [
        "# 성능 지표 계산\n",
        "\n",
        "# 스케일이 되어있기때문에 이를 풀어야한다.\n",
        "from sklearn.metrics import mean_squared_error, mean_absolute_error\n",
        "\n",
        "mse = mean_squared_error(y.numpy(), predictions.numpy())\n",
        "rmse = np.sqrt(mse)\n",
        "mae = mean_absolute_error(y.numpy(), predictions.numpy())\n",
        "\n",
        "print(f'MSE: {mse:.4f}, RMSE: {rmse:.4f}, MAE: {mae:.4f}')"
      ]
    }
  ],
  "metadata": {
    "colab": {
      "provenance": []
    },
    "kernelspec": {
      "display_name": "Python 3",
      "name": "python3"
    },
    "language_info": {
      "codemirror_mode": {
        "name": "ipython",
        "version": 3
      },
      "file_extension": ".py",
      "mimetype": "text/x-python",
      "name": "python",
      "nbconvert_exporter": "python",
      "pygments_lexer": "ipython3",
      "version": "3.8.15"
    }
  },
  "nbformat": 4,
  "nbformat_minor": 0
}
