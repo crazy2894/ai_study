{
  "cells": [
    {
      "cell_type": "markdown",
      "metadata": {
        "id": "fXiq6aP_v27l"
      },
      "source": [
        "wine 품질(quality) 예측"
      ]
    },
    {
      "cell_type": "code",
      "execution_count": 2,
      "metadata": {
        "id": "PMzX-4FEu6IT"
      },
      "outputs": [],
      "source": [
        "import numpy as np\n",
        "import pandas as pd\n",
        "import plotly.express as px\n",
        "\n",
        "df_white = pd.read_csv('https://archive.ics.uci.edu/ml/machine-learning-databases\\/wine-quality/winequality-white.csv', sep=';')\n",
        "df_red = pd.read_csv('https://archive.ics.uci.edu/ml/machine-learning-databases\\/wine-quality/winequality-red.csv', sep=';')\n",
        "df_wine_predic = pd.concat([df_white, df_red])\n",
        "\n",
        "# px.histogram(df_wine_predic.quality)\n",
        "# df_wine_predic.head()"
      ]
    },
    {
      "cell_type": "code",
      "execution_count": 2,
      "metadata": {
        "id": "IyqYVxrWvJM3"
      },
      "outputs": [],
      "source": [
        "import matplotlib.pyplot as plt\n",
        "import seaborn as sns\n",
        "\n",
        "# ax = sns.heatmap(df_wine_predic.corr(), annot=True, annot_kws={'size':6})\n",
        "# plt.show()"
      ]
    },
    {
      "cell_type": "code",
      "execution_count": 3,
      "metadata": {
        "id": "kW2PXIf4vPE0"
      },
      "outputs": [
        {
          "data": {
            "text/html": [
              "<div>\n",
              "<style scoped>\n",
              "    .dataframe tbody tr th:only-of-type {\n",
              "        vertical-align: middle;\n",
              "    }\n",
              "\n",
              "    .dataframe tbody tr th {\n",
              "        vertical-align: top;\n",
              "    }\n",
              "\n",
              "    .dataframe thead th {\n",
              "        text-align: right;\n",
              "    }\n",
              "</style>\n",
              "<table border=\"1\" class=\"dataframe\">\n",
              "  <thead>\n",
              "    <tr style=\"text-align: right;\">\n",
              "      <th></th>\n",
              "      <th>quality</th>\n",
              "    </tr>\n",
              "  </thead>\n",
              "  <tbody>\n",
              "    <tr>\n",
              "      <th>1685</th>\n",
              "      <td>7</td>\n",
              "    </tr>\n",
              "    <tr>\n",
              "      <th>366</th>\n",
              "      <td>6</td>\n",
              "    </tr>\n",
              "    <tr>\n",
              "      <th>3826</th>\n",
              "      <td>6</td>\n",
              "    </tr>\n",
              "    <tr>\n",
              "      <th>3441</th>\n",
              "      <td>5</td>\n",
              "    </tr>\n",
              "    <tr>\n",
              "      <th>1903</th>\n",
              "      <td>5</td>\n",
              "    </tr>\n",
              "    <tr>\n",
              "      <th>...</th>\n",
              "      <td>...</td>\n",
              "    </tr>\n",
              "    <tr>\n",
              "      <th>4308</th>\n",
              "      <td>6</td>\n",
              "    </tr>\n",
              "    <tr>\n",
              "      <th>2650</th>\n",
              "      <td>5</td>\n",
              "    </tr>\n",
              "    <tr>\n",
              "      <th>4512</th>\n",
              "      <td>6</td>\n",
              "    </tr>\n",
              "    <tr>\n",
              "      <th>4607</th>\n",
              "      <td>6</td>\n",
              "    </tr>\n",
              "    <tr>\n",
              "      <th>4577</th>\n",
              "      <td>6</td>\n",
              "    </tr>\n",
              "  </tbody>\n",
              "</table>\n",
              "<p>4547 rows × 1 columns</p>\n",
              "</div>"
            ],
            "text/plain": [
              "      quality\n",
              "1685        7\n",
              "366         6\n",
              "3826        6\n",
              "3441        5\n",
              "1903        5\n",
              "...       ...\n",
              "4308        6\n",
              "2650        5\n",
              "4512        6\n",
              "4607        6\n",
              "4577        6\n",
              "\n",
              "[4547 rows x 1 columns]"
            ]
          },
          "execution_count": 3,
          "metadata": {},
          "output_type": "execute_result"
        }
      ],
      "source": [
        "from sklearn.model_selection import train_test_split\n",
        "\n",
        "df_wine_predic.columns = df_wine_predic.columns.str.replace(' ', '_')\n",
        "train, test = train_test_split(df_wine_predic, test_size=0.3, random_state=0,stratify=df_wine_predic['quality'])\n",
        "\n",
        "train_X = train[train.columns[:11]]\n",
        "train_Y = train[train.columns[11:]]\n",
        "test_X = test[test.columns[:11]]\n",
        "test_Y = test[test.columns[11:]]\n",
        "\n",
        "train_Y"
      ]
    },
    {
      "cell_type": "code",
      "execution_count": 4,
      "metadata": {
        "id": "g8Z0xETxvFmo"
      },
      "outputs": [],
      "source": [
        "########### 인공 신경망 외에 다른 모델로 예측 모델링 진행해 보세요."
      ]
    },
    {
      "cell_type": "code",
      "execution_count": 5,
      "metadata": {
        "id": "9vSM5QHWwrXF"
      },
      "outputs": [
        {
          "name": "stdout",
          "output_type": "stream",
          "text": [
            "디시전 트리 예측 정확도: 0.56\n",
            "랜덤 포레스트 예측 정확도: 0.6641025641025641\n",
            "아다부스트 예측 정확도: 0.4666666666666667\n",
            "KNN 예측 정확도: 0.4723076923076923\n"
          ]
        }
      ],
      "source": [
        "from sklearn import metrics\n",
        "from sklearn.tree import DecisionTreeClassifier\n",
        "from sklearn.ensemble import RandomForestClassifier, AdaBoostClassifier\n",
        "from sklearn.neighbors import KNeighborsClassifier\n",
        "from xgboost import XGBClassifier\n",
        "\n",
        "def Mining_algo(model, name):\n",
        "    model.fit(train_X, np.ravel(train_Y))\n",
        "    pred = model.predict(test_X)\n",
        "    print(f'{name} 예측 정확도:', metrics.accuracy_score(pred, test_Y))\n",
        "\n",
        "\n",
        "Mining_algo(DecisionTreeClassifier(), \"디시전 트리\")\n",
        "Mining_algo(RandomForestClassifier(), \"랜덤 포레스트\")\n",
        "Mining_algo(AdaBoostClassifier(), \"아다부스트\")\n",
        "Mining_algo(KNeighborsClassifier(), \"KNN\")"
      ]
    },
    {
      "cell_type": "markdown",
      "metadata": {
        "id": "VZhQ7W-_w1M2"
      },
      "source": [
        "############ 인공 신경망<br><br>\n",
        "데이터 준비: 와인 데이터셋을 불러옴. 전처리 수행 <br>\n",
        "모델 정의: 다중 클래스 분류를 위한 인공 신경망 모델 정의<br>\n",
        "손실 함수와 최적화 알고리즘 선택: 다중 클래스 분류에 적합한 손실 함수와 최적화 알고리즘 선택 <br>\n",
        "모델 학습: 학습 데이터를 사용하여 모델 학습 <br>\n",
        "모델 평가: 테스트 데이터를 사용하여 모델 평가 <br>"
      ]
    },
    {
      "cell_type": "code",
      "execution_count": 6,
      "metadata": {
        "id": "CtwA8fpHw0aV"
      },
      "outputs": [],
      "source": [
        "import torch\n",
        "import torch.nn as nn\n",
        "import torch.optim as optim\n",
        "from sklearn.model_selection import train_test_split\n",
        "from sklearn.preprocessing import StandardScaler\n",
        "from torch.utils.data import DataLoader, TensorDataset\n",
        "\n",
        "# 데이터 준비\n",
        "X = df_wine_predic.drop('quality', axis=1).values\n",
        "y = df_wine_predic['quality'].values\n",
        "\n",
        "# 학습 데이터와 테스트 데이터 분리\n",
        "train_X, test_X, train_y, test_y = train_test_split(X,y,\n",
        "                                                    test_size=0.2,\n",
        "                                                    stratify=y)\n",
        "\n",
        "\n",
        "# 데이터 표준화\n",
        "scaler = StandardScaler()\n",
        "X_train_scaled = scaler.fit_transform(train_X)\n",
        "X_test_scaled = scaler.transform(test_X)"
      ]
    },
    {
      "cell_type": "code",
      "execution_count": 7,
      "metadata": {
        "id": "J1EVRjY4yZkA"
      },
      "outputs": [],
      "source": [
        "# PyTorch 텐서로 변환\n",
        "X_train_tensor = torch.tensor(X_train_scaled, dtype=torch.float32)\n",
        "X_test_tensor = torch.tensor(X_test_scaled, dtype=torch.float32)\n",
        "y_train_tensor = torch.tensor(train_y, dtype=torch.long)\n",
        "y_test_tensor = torch.tensor(test_y, dtype=torch.long)\n",
        "\n",
        "# DataLoader 생성\n",
        "train_dataset = TensorDataset(X_train_tensor, y_train_tensor)\n",
        "test_dataset = TensorDataset(X_test_tensor, y_test_tensor)\n",
        "\n",
        "# 배치 16 설정\n",
        "train_loader = DataLoader(dataset=train_dataset, batch_size=16, shuffle=True)\n",
        "test_loader = DataLoader(dataset=test_dataset, batch_size=16, shuffle=False)"
      ]
    },
    {
      "cell_type": "code",
      "execution_count": 8,
      "metadata": {},
      "outputs": [
        {
          "name": "stdout",
          "output_type": "stream",
          "text": [
            "(5197, 11)\n",
            "3 9\n"
          ]
        }
      ],
      "source": [
        "print(train_X.shape)\n",
        "print(train_y.min(),train_y.max())"
      ]
    },
    {
      "cell_type": "code",
      "execution_count": 84,
      "metadata": {
        "id": "-CVW5xOxyVn9"
      },
      "outputs": [
        {
          "name": "stdout",
          "output_type": "stream",
          "text": [
            "torch.Size([128]) torch.Size([64, 128])\n"
          ]
        }
      ],
      "source": [
        "# 모델 정의\n",
        "class WineQualityNet(nn.Module):\n",
        "    def __init__(self):\n",
        "        super(WineQualityNet,self).__init__()\n",
        "        self.fc1 = nn.Linear(11, 16)\n",
        "        self.hidden1 = nn.Linear(16,8)\n",
        "        self.fc2 = nn.Linear(8, 10)\n",
        "        self.dropout = nn.Dropout(p=0.2)\n",
        "        self.relu = nn.ReLU()\n",
        "        self.rrelu = nn.RReLU()\n",
        "        self.sigmoid = nn.Sigmoid()\n",
        "\n",
        "    def forward(self, x):\n",
        "        x = self.rrelu(self.fc1(x))\n",
        "        x = self.dropout(x)\n",
        "        x = self.rrelu(self.hidden1(x))\n",
        "        x = self.fc2(x)\n",
        "\n",
        "        return x\n",
        "    \n",
        "# 정답 코드\n",
        "# 모델 정의\n",
        "# class WineQualityNet(nn.Module):\n",
        "#     def __init__(self):\n",
        "#         super(WineQualityNet,self).__init__()\n",
        "#         self.fc1 = nn.Linear(11, 128)\n",
        "#         self.fc2 = nn.Linear(128, 64)\n",
        "#         self.fc3 = nn.Linear(64, 10)  # 0부터 9까지의 품질 값을 예측하기 위해 출력층의 크기는 10\n",
        "#         self.relu = nn.ReLU()\n",
        "\n",
        "#     def forward(self, x):\n",
        "#         x = self.relu(self.fc1(x))\n",
        "#         x = self.relu(self.fc2(x))\n",
        "#         x = self.fc3(x)\n",
        "#         return x\n",
        "\n",
        "#         return x\n",
        "# # 모델 인스턴스 생성\n",
        "# model_wind = WineQualityNet()\n",
        "\n",
        "# # 손실 함수와 최적화 알고리즘 선택\n",
        "# crit = nn.CrossEntropyLoss()\n",
        "# opti = optim.Adam(model_wind.parameters(), lr = 0.002)\n",
        "\n",
        "# #가중치 편향\n",
        "# print(model_wind.fc1.bias.data.shape, model_wind.fc2.weight.data.shape)\n",
        "# 모델 인스턴스 생성\n",
        "model_wind = WineQualityNet()\n",
        "\n",
        "# 손실 함수와 최적화 알고리즘 선택\n",
        "crit = nn.CrossEntropyLoss()\n",
        "opti = optim.Adam(model_wind.parameters(), lr = 0.002)\n",
        "\n",
        "#가중치 편향\n",
        "print(model_wind.fc1.bias.data.shape, model_wind.fc2.weight.data.shape)"
      ]
    },
    {
      "cell_type": "code",
      "execution_count": 87,
      "metadata": {
        "id": "IpgSNxniycdh"
      },
      "outputs": [
        {
          "name": "stdout",
          "output_type": "stream",
          "text": [
            "Epoch 10, Loss: 0.3027684921599351\n",
            "Epoch 20, Loss: 0.28877253437271483\n",
            "Epoch 30, Loss: 0.24254030723984424\n",
            "Epoch 40, Loss: 0.22268041046766135\n",
            "Epoch 50, Loss: 0.24103090085089207\n",
            "Epoch 60, Loss: 0.20628967928771788\n",
            "Epoch 70, Loss: 0.19634010408646785\n",
            "Epoch 80, Loss: 0.17203848123550414\n",
            "Epoch 90, Loss: 0.15489896183117077\n",
            "Epoch 100, Loss: 0.20443035438083684\n",
            "Epoch 110, Loss: 0.2041103749894179\n",
            "Epoch 120, Loss: 0.18415017328869837\n",
            "Epoch 130, Loss: 0.14604125622803202\n",
            "Epoch 140, Loss: 0.1266566950863657\n",
            "Epoch 150, Loss: 0.17325322977911967\n",
            "Epoch 160, Loss: 0.10864084921633968\n",
            "Epoch 170, Loss: 0.15564494088721964\n",
            "Epoch 180, Loss: 0.15039676671847702\n",
            "Epoch 190, Loss: 0.11960347819142043\n",
            "Epoch 200, Loss: 0.18356723084042853\n",
            "Epoch 210, Loss: 0.11915243885694789\n",
            "Epoch 220, Loss: 0.15019702999709317\n",
            "Epoch 230, Loss: 0.06202653533886545\n",
            "Epoch 240, Loss: 0.1734597732016566\n",
            "Epoch 250, Loss: 0.08713697933126241\n",
            "Epoch 260, Loss: 0.11702243205553924\n",
            "Epoch 270, Loss: 0.07407105584019938\n",
            "Epoch 280, Loss: 0.1191968723336378\n",
            "Epoch 290, Loss: 0.06163546586158471\n",
            "Epoch 300, Loss: 0.08339312782618576\n"
          ]
        }
      ],
      "source": [
        "# 모델 학습\n",
        "for epoch in range(300):\n",
        "    total_loss = 0.0\n",
        "    for inputs, labels in train_loader:\n",
        "        opti.zero_grad()  # 기울기 초기화 0으로\n",
        "        outputs = model_wind(inputs)  # x를 넣어 순전파 과정을 통해 최종 값 아웃풋\n",
        "        losses = crit(outputs, labels)  # CrossEntropy 손실 계산\n",
        "        losses.backward()  # 역전파\n",
        "        opti.step()  # 매개 변수를 갱신하며 업데이트\n",
        "        total_loss += losses.item()  # 현재 배치의 손실을 더함.\n",
        "\n",
        "    # 평균 손실 출력 (10번의 에포크마다 한 번씩)\n",
        "    if (epoch+1) % 10 == 0:\n",
        "        print(f'Epoch {epoch+1}, Loss: {total_loss/len(train_loader)}')"
      ]
    },
    {
      "cell_type": "code",
      "execution_count": 88,
      "metadata": {
        "id": "3yco8BcqyJqf"
      },
      "outputs": [
        {
          "name": "stdout",
          "output_type": "stream",
          "text": [
            "Accuracy of the network on the test set: 64 %\n"
          ]
        }
      ],
      "source": [
        "# 수정된 모델 평가 진행\n",
        "model_wind.eval() \n",
        "with torch.no_grad(): \n",
        "    total = 0 \n",
        "    correct = 0\n",
        "    for inputs, labels in test_loader:\n",
        "        outputs = model_wind(inputs) \n",
        "        _, predicted = torch.max(outputs.data, 1)\n",
        "        total += labels.size(0)\n",
        "        correct += (predicted == labels).sum().item()\n",
        "\n",
        "print('Accuracy of the network on the test set: %d %%' % (100 * correct / total))"
      ]
    }
  ],
  "metadata": {
    "colab": {
      "provenance": []
    },
    "kernelspec": {
      "display_name": "Python 3",
      "name": "python3"
    },
    "language_info": {
      "codemirror_mode": {
        "name": "ipython",
        "version": 3
      },
      "file_extension": ".py",
      "mimetype": "text/x-python",
      "name": "python",
      "nbconvert_exporter": "python",
      "pygments_lexer": "ipython3",
      "version": "3.8.15"
    }
  },
  "nbformat": 4,
  "nbformat_minor": 0
}
