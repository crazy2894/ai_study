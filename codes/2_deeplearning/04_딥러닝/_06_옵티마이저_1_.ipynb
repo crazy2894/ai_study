{
 "cells": [
  {
   "cell_type": "markdown",
   "metadata": {},
   "source": [
    "# Optimizer\n",
    "- SGD (Stochastic Gradient Descent)\n",
    "- Momentum\n",
    "- NAG(Nestrov Accelerated Gradient)\n",
    "- Adagrad\n",
    "- RMSProp\n",
    "- Adam (Adaptive Moment Estimation)"
   ]
  }
 ],
 "metadata": {
  "language_info": {
   "name": "python"
  }
 },
 "nbformat": 4,
 "nbformat_minor": 2
}
