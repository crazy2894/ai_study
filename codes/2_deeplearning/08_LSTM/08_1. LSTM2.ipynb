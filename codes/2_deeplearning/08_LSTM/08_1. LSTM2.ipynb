{
 "cells": [
  {
   "cell_type": "markdown",
   "metadata": {},
   "source": [
    "# 기억 셀(Memory Cell)\n",
    "\n",
    "- 오래된 내용을 보다 더 잘 기억한다\n",
    "- 3 개의 게이트( input, forget, output)\n",
    "\n",
    "# Gate\n",
    "\n",
    "<img src=\"../../img/_08_LSTM/LSTM02.png\">\n",
    "\n",
    "### **Forget Gate**\n",
    "\n",
    "**$f_{t} = \\sigma (W_{x_f} \\cdot x_t + W_{h_f} \\cdot h_{t-1} + b_f)$**\n",
    "\n",
    "1. Sigmoid : 0 에서 1 사이로 반환 (이전 내용을 얼마나 기억할 것인지)\n",
    "    \n",
    "    1에 가까울 수록 더 기억을 한다.\n",
    "    \n",
    "2. forget gate의 출력 값: ${c_{t-1}}' = f_t \\odot c_{t-1}$\n",
    "\n",
    "### **Input Gate**\n",
    "\n",
    "**$i_{t} = \\sigma (W_{x_i} \\cdot x_t + W_{h_i} \\cdot h_{t-1} + b_i)$**\n",
    "\n",
    "**$g_t = \\tanh (W_{x_g} \\cdot x_t + W_{h_g} \\cdot h_{t-1} + b_g)$**\n",
    "\n",
    "### **Cell State(Memory cell : 기억 셀) Update**\n",
    "\n",
    "**$c_t = f_t \\odot c_{t-1} + i_t \\odot g_t \\\\ \n",
    "\n",
    "c_t = {c_{t-1}}' + i_t \\odot g_t$**\n",
    "\n",
    "### **Output Gate**\n",
    "\n",
    "**$o_{t} = \\sigma (W_{x_o} \\cdot x_t + W_{h_o} \\cdot h_{t-1} + b_o)$\n",
    "$h_t = o_t \\odot \\tanh(c_t)$**"
   ]
  },
  {
   "cell_type": "markdown",
   "metadata": {},
   "source": [
    "# GRU(Gated Recurrent Unit)\n",
    "\n",
    "<img src=\"../../img/_08_LSTM/GRU.png\">\n",
    "\n",
    "- 게이트(reset, update), $h_t$ 업데이트\n",
    "- 기억셀이 없다.\n",
    "- LSTM 과 RNN 의 사이 (LSTM 보다 빠르고, 정확도는 안 좋다)"
   ]
  }
 ],
 "metadata": {
  "language_info": {
   "name": "python"
  }
 },
 "nbformat": 4,
 "nbformat_minor": 2
}
