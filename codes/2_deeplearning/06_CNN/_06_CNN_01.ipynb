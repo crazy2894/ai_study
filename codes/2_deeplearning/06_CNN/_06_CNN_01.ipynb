{
 "cells": [
  {
   "cell_type": "markdown",
   "metadata": {},
   "source": [
    "# CNN(Convolution Neural Networks)\n",
    "\n",
    "합성 곱 신경망으로 Spatial 정보를 추출한다.\n",
    "\n",
    "## 장점\n",
    "\n",
    "- Spatial 정보를 추출\n",
    "- 이미지 데이터에 유용\n",
    "- 파라미터 수의 감소\n",
    "- 필터를 동일하게 사용하여, 가중치를 공유하고, 과적합을 방지, 계산 효율성이 증가한다.\n",
    "- 기본 적으로 3차원의 채널 수는 3개, 3 차원 array 로 저장\n",
    "\n",
    "## 공간 정보 추출\n",
    "\n",
    "### 원리\n",
    "\n",
    "이미지 정보를 추출하기 위해 (Kernel) 적용 Stride(몇 칸 씩 이동하는가) 하면서 옆으로 그리고 아래로 이동하면서 정보를 추출한다.\n",
    "\n",
    "<img src=\"..\\..\\img\\06_CNN\\cnn1.png\" height=\"300\">\n",
    "\n",
    " F x F x D\n",
    "\n",
    "(D : 칼라 일 경우 3)\n",
    "\n",
    "(D : 흑백 일 경우 1)\n",
    "\n",
    "필터에서의 각 픽셀은 고유한 가중치를 지닌다.\n",
    "\n",
    "(가중치 공유 = 파라미터 수 감소 = 계산 효율 증가)\n",
    "\n",
    "- Activation Map (Feature map = response map)\n",
    "    \n",
    "    함성 곱을 한 이후 활성화 함수를 적용한 결과의 값들의 모음\n",
    "    \n",
    "\n",
    "Activation_map 의 사이즈\n",
    "\n",
    "$$\n",
    "\\frac{N-F}{\\text{stride}} + 1\n",
    "$$\n",
    "\n",
    "여기서 $N$ 은 이미지 사이즈, $F$는 필터의 사이즈\n",
    "\n",
    "```python\n",
    "def activation_map(n,f,s):\n",
    "    return ((n - f) / (s)) + 1\n",
    "```\n",
    "\n",
    "```python\n",
    "# 5 by 5, 3 by 3 and stride 1\n",
    "print((5 - 3)/(1) + 1) # 3\n",
    "```\n",
    "\n",
    "### 예시\n",
    "<img src=\"..\\..\\img\\06_CNN\\cnn2.png\" height=\"300\">\n",
    "\n",
    "각 필터별로 특징이 담겨있다.\n",
    "\n",
    "- Stridesize 에 대한 이슈\n",
    "    \n",
    "    down sampling : 파라미터수의 감소, 학습속도의 개선, 하지만 정보의 손실이 커진다."
   ]
  },
  {
   "cell_type": "code",
   "execution_count": 7,
   "metadata": {},
   "outputs": [
    {
     "data": {
      "text/plain": [
       "28.0"
      ]
     },
     "execution_count": 7,
     "metadata": {},
     "output_type": "execute_result"
    }
   ],
   "source": [
    "def activation_map(n,f,s):\n",
    "    return ((n - f) / (s)) + 1\n",
    "\n",
    "activation_map(32, 5, 1)\n",
    "activation_map(28, 5, 1)\n",
    "activation_map(32, 5, 1)"
   ]
  },
  {
   "cell_type": "code",
   "execution_count": 8,
   "metadata": {},
   "outputs": [
    {
     "data": {
      "text/plain": [
       "37648"
      ]
     },
     "execution_count": 8,
     "metadata": {},
     "output_type": "execute_result"
    }
   ],
   "source": [
    "(28*28*3+1) *16"
   ]
  }
 ],
 "metadata": {
  "kernelspec": {
   "display_name": "kdt",
   "language": "python",
   "name": "python3"
  },
  "language_info": {
   "codemirror_mode": {
    "name": "ipython",
    "version": 3
   },
   "file_extension": ".py",
   "mimetype": "text/x-python",
   "name": "python",
   "nbconvert_exporter": "python",
   "pygments_lexer": "ipython3",
   "version": "3.8.15"
  }
 },
 "nbformat": 4,
 "nbformat_minor": 2
}
