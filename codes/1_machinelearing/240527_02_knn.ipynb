{
 "cells": [
  {
   "cell_type": "markdown",
   "id": "945ce67e",
   "metadata": {},
   "source": [
    "# 0. 라이브러리 불러오기"
   ]
  },
  {
   "cell_type": "code",
   "execution_count": 1,
   "id": "d830c2a7",
   "metadata": {},
   "outputs": [],
   "source": [
    "import numpy as np\n",
    "import pandas as pd\n",
    "import seaborn as sns\n",
    "\n",
    "import matplotlib as mpl\n",
    "import matplotlib.pyplot as plt\n",
    "import matplotlib_inline.backend_inline\n",
    "\n",
    "import sklearn\n",
    "from sklearn.preprocessing import StandardScaler, MinMaxScaler, RobustScaler\n",
    "from sklearn.model_selection import train_test_split\n",
    "from sklearn.neighbors import KNeighborsClassifier\n",
    "from sklearn.tree import DecisionTreeClassifier\n",
    "from sklearn import metrics"
   ]
  },
  {
   "cell_type": "code",
   "execution_count": 2,
   "id": "3f84b416",
   "metadata": {},
   "outputs": [
    {
     "name": "stdout",
     "output_type": "stream",
     "text": [
      "library version check\n",
      "numpy:  1.23.5\n",
      "pandas:  1.5.1\n",
      "seaborn:  0.12.1\n",
      "matplotlib:  3.6.2\n",
      "sklearn:  1.1.3\n"
     ]
    }
   ],
   "source": [
    "print(\"library version check\")\n",
    "print(\"numpy: \", np.__version__)\n",
    "print(\"pandas: \", pd.__version__)\n",
    "print(\"seaborn: \", sns.__version__)\n",
    "print(\"matplotlib: \", mpl.__version__)\n",
    "print(\"sklearn: \", sklearn.__version__)"
   ]
  },
  {
   "cell_type": "code",
   "execution_count": 3,
   "id": "02fe40a8",
   "metadata": {},
   "outputs": [],
   "source": [
    "matplotlib_inline.backend_inline.set_matplotlib_formats(\"png2x\")\n",
    "mpl.style.use(\"default\")\n",
    "mpl.rcParams.update({\"figure.constrained_layout.use\": True})\n",
    "\n",
    "sns.set_context(\"paper\") \n",
    "sns.set_palette(\"Set2\") \n",
    "sns.set_style(\"whitegrid\") \n",
    "\n",
    "plt.rc(\"font\", family = \"Malgun Gothic\")\n",
    "plt.rcParams[\"axes.unicode_minus\"] = False"
   ]
  },
  {
   "cell_type": "markdown",
   "id": "b0671984",
   "metadata": {},
   "source": [
    "# 1. KNN으로 분류"
   ]
  },
  {
   "cell_type": "code",
   "execution_count": 4,
   "id": "99803e07",
   "metadata": {},
   "outputs": [
    {
     "data": {
      "text/html": [
       "<div>\n",
       "<style scoped>\n",
       "    .dataframe tbody tr th:only-of-type {\n",
       "        vertical-align: middle;\n",
       "    }\n",
       "\n",
       "    .dataframe tbody tr th {\n",
       "        vertical-align: top;\n",
       "    }\n",
       "\n",
       "    .dataframe thead th {\n",
       "        text-align: right;\n",
       "    }\n",
       "</style>\n",
       "<table border=\"1\" class=\"dataframe\">\n",
       "  <thead>\n",
       "    <tr style=\"text-align: right;\">\n",
       "      <th></th>\n",
       "      <th>SepalLengthCm</th>\n",
       "      <th>SepalWidthCm</th>\n",
       "      <th>PetalLengthCm</th>\n",
       "      <th>PetalWidthCm</th>\n",
       "      <th>Species</th>\n",
       "    </tr>\n",
       "    <tr>\n",
       "      <th>Id</th>\n",
       "      <th></th>\n",
       "      <th></th>\n",
       "      <th></th>\n",
       "      <th></th>\n",
       "      <th></th>\n",
       "    </tr>\n",
       "  </thead>\n",
       "  <tbody>\n",
       "    <tr>\n",
       "      <th>1</th>\n",
       "      <td>5.1</td>\n",
       "      <td>3.5</td>\n",
       "      <td>1.4</td>\n",
       "      <td>0.2</td>\n",
       "      <td>Iris-setosa</td>\n",
       "    </tr>\n",
       "    <tr>\n",
       "      <th>2</th>\n",
       "      <td>4.9</td>\n",
       "      <td>3.0</td>\n",
       "      <td>1.4</td>\n",
       "      <td>0.2</td>\n",
       "      <td>Iris-setosa</td>\n",
       "    </tr>\n",
       "    <tr>\n",
       "      <th>3</th>\n",
       "      <td>4.7</td>\n",
       "      <td>3.2</td>\n",
       "      <td>1.3</td>\n",
       "      <td>0.2</td>\n",
       "      <td>Iris-setosa</td>\n",
       "    </tr>\n",
       "    <tr>\n",
       "      <th>4</th>\n",
       "      <td>4.6</td>\n",
       "      <td>3.1</td>\n",
       "      <td>1.5</td>\n",
       "      <td>0.2</td>\n",
       "      <td>Iris-setosa</td>\n",
       "    </tr>\n",
       "    <tr>\n",
       "      <th>5</th>\n",
       "      <td>5.0</td>\n",
       "      <td>3.6</td>\n",
       "      <td>1.4</td>\n",
       "      <td>0.2</td>\n",
       "      <td>Iris-setosa</td>\n",
       "    </tr>\n",
       "    <tr>\n",
       "      <th>...</th>\n",
       "      <td>...</td>\n",
       "      <td>...</td>\n",
       "      <td>...</td>\n",
       "      <td>...</td>\n",
       "      <td>...</td>\n",
       "    </tr>\n",
       "    <tr>\n",
       "      <th>146</th>\n",
       "      <td>6.7</td>\n",
       "      <td>3.0</td>\n",
       "      <td>5.2</td>\n",
       "      <td>2.3</td>\n",
       "      <td>Iris-virginica</td>\n",
       "    </tr>\n",
       "    <tr>\n",
       "      <th>147</th>\n",
       "      <td>6.3</td>\n",
       "      <td>2.5</td>\n",
       "      <td>5.0</td>\n",
       "      <td>1.9</td>\n",
       "      <td>Iris-virginica</td>\n",
       "    </tr>\n",
       "    <tr>\n",
       "      <th>148</th>\n",
       "      <td>6.5</td>\n",
       "      <td>3.0</td>\n",
       "      <td>5.2</td>\n",
       "      <td>2.0</td>\n",
       "      <td>Iris-virginica</td>\n",
       "    </tr>\n",
       "    <tr>\n",
       "      <th>149</th>\n",
       "      <td>6.2</td>\n",
       "      <td>3.4</td>\n",
       "      <td>5.4</td>\n",
       "      <td>2.3</td>\n",
       "      <td>Iris-virginica</td>\n",
       "    </tr>\n",
       "    <tr>\n",
       "      <th>150</th>\n",
       "      <td>5.9</td>\n",
       "      <td>3.0</td>\n",
       "      <td>5.1</td>\n",
       "      <td>1.8</td>\n",
       "      <td>Iris-virginica</td>\n",
       "    </tr>\n",
       "  </tbody>\n",
       "</table>\n",
       "<p>150 rows × 5 columns</p>\n",
       "</div>"
      ],
      "text/plain": [
       "     SepalLengthCm  SepalWidthCm  PetalLengthCm  PetalWidthCm         Species\n",
       "Id                                                                           \n",
       "1              5.1           3.5            1.4           0.2     Iris-setosa\n",
       "2              4.9           3.0            1.4           0.2     Iris-setosa\n",
       "3              4.7           3.2            1.3           0.2     Iris-setosa\n",
       "4              4.6           3.1            1.5           0.2     Iris-setosa\n",
       "5              5.0           3.6            1.4           0.2     Iris-setosa\n",
       "..             ...           ...            ...           ...             ...\n",
       "146            6.7           3.0            5.2           2.3  Iris-virginica\n",
       "147            6.3           2.5            5.0           1.9  Iris-virginica\n",
       "148            6.5           3.0            5.2           2.0  Iris-virginica\n",
       "149            6.2           3.4            5.4           2.3  Iris-virginica\n",
       "150            5.9           3.0            5.1           1.8  Iris-virginica\n",
       "\n",
       "[150 rows x 5 columns]"
      ]
     },
     "execution_count": 4,
     "metadata": {},
     "output_type": "execute_result"
    }
   ],
   "source": [
    "iris = pd.read_csv(\"../data/Iris.csv\",\n",
    "                   index_col = 0)\n",
    "iris"
   ]
  },
  {
   "cell_type": "code",
   "execution_count": 5,
   "id": "81c0f609",
   "metadata": {},
   "outputs": [],
   "source": [
    "width_col = [\"SepalWidthCm\", \"PetalWidthCm\"]"
   ]
  },
  {
   "cell_type": "code",
   "execution_count": 6,
   "id": "6aedab06",
   "metadata": {},
   "outputs": [],
   "source": [
    "x_data = iris[width_col]\n",
    "y_data = iris[\"Species\"]"
   ]
  },
  {
   "cell_type": "code",
   "execution_count": 7,
   "id": "fc72976d",
   "metadata": {},
   "outputs": [],
   "source": [
    "x_train, x_test, y_train, y_test = train_test_split(x_data, \n",
    "                                                    y_data, \n",
    "                                                    test_size=0.30,\n",
    "                                                    random_state = 97,\n",
    "                                                   # stratify=y_data\n",
    "                                                   )"
   ]
  },
  {
   "cell_type": "code",
   "execution_count": 8,
   "id": "d48e647d",
   "metadata": {},
   "outputs": [
    {
     "data": {
      "text/plain": [
       "Iris-versicolor    16\n",
       "Iris-virginica     16\n",
       "Iris-setosa        13\n",
       "Name: Species, dtype: int64"
      ]
     },
     "execution_count": 8,
     "metadata": {},
     "output_type": "execute_result"
    }
   ],
   "source": [
    "y_test.value_counts()"
   ]
  },
  {
   "cell_type": "markdown",
   "id": "2f212d06",
   "metadata": {},
   "source": [
    "**모델 파라미터(일반적으로 말하는 파라미터를 의미): 모델이 학습 하면서 변화하게 되는 값. 딥러닝 모델의 경우 가중치가 파라미터**\n",
    "\n",
    "**하이퍼 파라미터(매개변수): 모델의 학습 전에 설정해 주는 값. 아무런 설정도 하지 않으면 기본값(`default`)로 학습하게 됨**\n",
    "\n",
    "* [k-NN 공식문서](https://scikit-learn.org/stable/modules/generated/sklearn.neighbors.KNeighborsClassifier.html)\n",
    "* n_neighbors: 몇 개점을 찾을 것인지,\n",
    "* weights\n",
    "    * uniform: 모든 점의 가중치가 같음 \n",
    "    * distance: 거리의 역수로 가중치 부여\n",
    "* 기본적인 distance는 유클리디안\n",
    "    * metric='minkowski',\n",
    "    * p=2\n",
    "* n_jobs: CPU 코어수\n",
    "    * None: 코어 1개 사용\n",
    "    * -1: 모든 코어 사용"
   ]
  },
  {
   "cell_type": "code",
   "execution_count": 9,
   "id": "4ae8f4f8",
   "metadata": {},
   "outputs": [
    {
     "name": "stdout",
     "output_type": "stream",
     "text": [
      "The accuracy of the KNN is 0.9555555555555556\n"
     ]
    }
   ],
   "source": [
    "model = KNeighborsClassifier(n_neighbors=4) \n",
    "model.fit(x_train.values, y_train.values)\n",
    "prediction = model.predict(x_test.values)\n",
    "print('The accuracy of the KNN is', \n",
    "      metrics.accuracy_score(prediction, y_test))"
   ]
  },
  {
   "cell_type": "markdown",
   "id": "17512585",
   "metadata": {},
   "source": [
    "# 2. Distance\n",
    "\n",
    "* [Euclidean distance](https://en.wikipedia.org/wiki/Euclidean_distance): 두 데이터의 직선 거리\n",
    "\n",
    "* [Manhattan distance](https://ko.wikipedia.org/wiki/%EB%A7%A8%ED%95%B4%ED%8A%BC_%EA%B1%B0%EB%A6%AC): 두 데이터의 절대값 거리\n",
    "\n",
    "* [Minkowski distance](https://en.wikipedia.org/wiki/Minkowski_distance): 유클리디안과 맨하탄의 일반화\n",
    "\n",
    "Let ${\\bf{A}} = (a_1, a_2,\\ldots, a_n)$ and ${\\bf{B}} = (b_1, b_2,\\ldots, b_n)$ for all $a_i$ and $b_i$ in $\\mathbb{R}$.\n",
    "\\begin{equation}\n",
    "d({\\bf{A}},{\\bf{B}}) = \\big(\n",
    "\\sum_{i = 1}^n|a_i-b_i|^p\n",
    "\\big)^{\\frac{1}{p}}\n",
    "\\end{equation}\n",
    "\n",
    "![distance](https://uploads-cdn.omnicalculator.com/images/manhattan_distance.png?width=425&enlarge=0&format=webp)\n",
    "\n",
    "* $p = 1$: Manhattan distance\n",
    "* $p = 2$: Euclidean distance"
   ]
  },
  {
   "cell_type": "markdown",
   "id": "2b0f80c3",
   "metadata": {},
   "source": [
    "# 3. KNN의 원리\n",
    "\n",
    "* 훈련 데이터를 공간에 뿌리고\n",
    "* 테스트 데이터가 입력되면 \n",
    "* 테스트 데이터를 중심으로 정의된 거리(`default = Euclidean`)에서 가까운 `n_neighbors`개의 점을 찾는다.\n",
    "*  `n_neighbors`개 점의 라벨을 조사하고 가장 많은 라벨로 테스트 데이터의 라벨을 결정한다.\n",
    "\n",
    "**딱히 학습이라는 것을 하지 않고 테스트 데이터가 들어오면 그때 계산을 하기 때문에 '게으른 학습(lazy learning)'이라고 표현하기도**"
   ]
  },
  {
   "cell_type": "code",
   "execution_count": 10,
   "id": "68797988",
   "metadata": {},
   "outputs": [
    {
     "data": {
      "image/png": "[encoded data removed]",
      "text/plain": [
       "<Figure size 400x400 with 1 Axes>"
      ]
     },
     "metadata": {
      "image/png": {
       "height": 411,
       "width": 411
      }
     },
     "output_type": "display_data"
    }
   ],
   "source": [
    "feature_x = width_col[0]\n",
    "feature_y = width_col[1]\n",
    "\n",
    "fig, ax = plt.subplots(figsize=(4, 4))\n",
    "\n",
    "iris_train = iris.loc[x_train.index]\n",
    "\n",
    "# train 데이터\n",
    "for s, c in zip(iris_train[\"Species\"].unique(), [\"tab:orange\", \"tab:blue\", \"tab:green\"]):\n",
    "    ax.scatter(iris_train[iris_train[\"Species\"] == s][feature_x],\n",
    "               iris_train[iris_train[\"Species\"] == s][feature_y],\n",
    "               color=c,\n",
    "               alpha=0.3,\n",
    "               label=s)\n",
    "    \n",
    "ax.set(xlabel=feature_x,\n",
    "       ylabel=feature_y,\n",
    "       title=\"K-NN 모델 원리 파악\")\n",
    "ax.grid()\n",
    "ax.legend()\n",
    "\n",
    "# 임의의 테스트 데이터    \n",
    "test_data_x = np.array([[3.0, 1.0],\n",
    "                     [2.5, 1.5],\n",
    "                     [3.1, 1.7]])\n",
    "\n",
    "ax.scatter(x = test_data_x[:, 0], \n",
    "           y = test_data_x[:, 1], \n",
    "           color = \"black\", \n",
    "           marker = \"x\")    \n",
    "\n",
    "test_data_s = np.array([[2.7, 0.6]])\n",
    "\n",
    "ax.scatter(x = test_data_s[:, 0], \n",
    "           y = test_data_s[:, 1], \n",
    "           color = \"red\", \n",
    "           marker = \"s\")    \n",
    "    \n",
    "pass"
   ]
  },
  {
   "cell_type": "code",
   "execution_count": 11,
   "id": "9507d2df",
   "metadata": {},
   "outputs": [
    {
     "data": {
      "text/plain": [
       "array(['Iris-versicolor', 'Iris-versicolor', 'Iris-virginica'],\n",
       "      dtype=object)"
      ]
     },
     "execution_count": 11,
     "metadata": {},
     "output_type": "execute_result"
    }
   ],
   "source": [
    "model.predict(test_data_x)"
   ]
  },
  {
   "cell_type": "code",
   "execution_count": 12,
   "id": "28f9d378",
   "metadata": {},
   "outputs": [
    {
     "data": {
      "text/plain": [
       "array([[0.  , 1.  , 0.  ],\n",
       "       [0.  , 0.5 , 0.5 ],\n",
       "       [0.  , 0.25, 0.75]])"
      ]
     },
     "execution_count": 12,
     "metadata": {},
     "output_type": "execute_result"
    }
   ],
   "source": [
    "model.predict_proba(test_data_x)"
   ]
  },
  {
   "cell_type": "code",
   "execution_count": 13,
   "id": "7c79eaeb",
   "metadata": {},
   "outputs": [
    {
     "data": {
      "text/plain": [
       "array([[0.5, 0.5, 0. ]])"
      ]
     },
     "execution_count": 13,
     "metadata": {},
     "output_type": "execute_result"
    }
   ],
   "source": [
    "model.predict_proba(test_data_s)"
   ]
  },
  {
   "cell_type": "code",
   "execution_count": 17,
   "id": "bc3be330",
   "metadata": {},
   "outputs": [
    {
     "data": {
      "text/plain": [
       "0"
      ]
     },
     "execution_count": 17,
     "metadata": {},
     "output_type": "execute_result"
    }
   ],
   "source": [
    "np.argmax(model.predict_proba(test_data_s))"
   ]
  },
  {
   "cell_type": "code",
   "execution_count": 18,
   "id": "339da11f",
   "metadata": {},
   "outputs": [
    {
     "data": {
      "text/plain": [
       "array(['Iris-setosa'], dtype=object)"
      ]
     },
     "execution_count": 18,
     "metadata": {},
     "output_type": "execute_result"
    }
   ],
   "source": [
    "model.predict(test_data_s)"
   ]
  },
  {
   "cell_type": "code",
   "execution_count": 19,
   "id": "e2d43277",
   "metadata": {},
   "outputs": [
    {
     "name": "stdout",
     "output_type": "stream",
     "text": [
      "['1.0' '0.0' '0.0' 'Iris-setosa']\n",
      "['1.0' '0.0' '0.0' 'Iris-setosa']\n",
      "['0.0' '1.0' '0.0' 'Iris-versicolor']\n",
      "['0.0' '1.0' '0.0' 'Iris-versicolor']\n",
      "['0.0' '0.0' '1.0' 'Iris-virginica']\n",
      "['0.0' '1.0' '0.0' 'Iris-versicolor']\n",
      "['1.0' '0.0' '0.0' 'Iris-setosa']\n",
      "['0.0' '0.5' '0.5' 'Iris-versicolor']\n",
      "['1.0' '0.0' '0.0' 'Iris-setosa']\n",
      "['0.0' '0.0' '1.0' 'Iris-virginica']\n",
      "['0.0' '1.0' '0.0' 'Iris-versicolor']\n",
      "['1.0' '0.0' '0.0' 'Iris-setosa']\n",
      "['0.0' '0.5' '0.5' 'Iris-versicolor']\n",
      "['0.0' '1.0' '0.0' 'Iris-versicolor']\n",
      "['0.0' '0.0' '1.0' 'Iris-virginica']\n",
      "['0.0' '0.0' '1.0' 'Iris-virginica']\n",
      "['0.0' '0.0' '1.0' 'Iris-virginica']\n",
      "['0.0' '0.0' '1.0' 'Iris-virginica']\n",
      "['0.0' '0.0' '1.0' 'Iris-virginica']\n",
      "['1.0' '0.0' '0.0' 'Iris-setosa']\n",
      "['1.0' '0.0' '0.0' 'Iris-setosa']\n",
      "['1.0' '0.0' '0.0' 'Iris-setosa']\n",
      "['0.0' '0.5' '0.5' 'Iris-versicolor']\n",
      "['0.0' '0.0' '1.0' 'Iris-virginica']\n",
      "['0.0' '0.75' '0.25' 'Iris-versicolor']\n",
      "['0.0' '1.0' '0.0' 'Iris-versicolor']\n",
      "['1.0' '0.0' '0.0' 'Iris-setosa']\n",
      "['0.0' '0.0' '1.0' 'Iris-virginica']\n",
      "['0.0' '1.0' '0.0' 'Iris-versicolor']\n",
      "['0.0' '0.0' '1.0' 'Iris-virginica']\n",
      "['0.0' '0.0' '1.0' 'Iris-virginica']\n",
      "['0.0' '1.0' '0.0' 'Iris-versicolor']\n",
      "['0.0' '0.75' '0.25' 'Iris-versicolor']\n",
      "['1.0' '0.0' '0.0' 'Iris-setosa']\n",
      "['0.0' '0.0' '1.0' 'Iris-virginica']\n",
      "['0.0' '0.0' '1.0' 'Iris-virginica']\n",
      "['1.0' '0.0' '0.0' 'Iris-setosa']\n",
      "['0.0' '0.0' '1.0' 'Iris-virginica']\n",
      "['1.0' '0.0' '0.0' 'Iris-setosa']\n",
      "['0.0' '0.0' '1.0' 'Iris-virginica']\n",
      "['0.0' '1.0' '0.0' 'Iris-versicolor']\n",
      "['1.0' '0.0' '0.0' 'Iris-setosa']\n",
      "['0.0' '1.0' '0.0' 'Iris-versicolor']\n",
      "['0.0' '0.0' '1.0' 'Iris-virginica']\n",
      "['0.0' '0.75' '0.25' 'Iris-versicolor']\n"
     ]
    }
   ],
   "source": [
    "for i, j in zip(model.predict_proba(x_test.values), model.predict(x_test.values)):\n",
    "    print(np.append(i, j))"
   ]
  },
  {
   "cell_type": "code",
   "execution_count": null,
   "id": "1d737aaf",
   "metadata": {},
   "outputs": [],
   "source": []
  }
 ],
 "metadata": {
  "kernelspec": {
   "display_name": "Python 3 (ipykernel)",
   "language": "python",
   "name": "python3"
  },
  "language_info": {
   "codemirror_mode": {
    "name": "ipython",
    "version": 3
   },
   "file_extension": ".py",
   "mimetype": "text/x-python",
   "name": "python",
   "nbconvert_exporter": "python",
   "pygments_lexer": "ipython3",
   "version": "3.8.15"
  }
 },
 "nbformat": 4,
 "nbformat_minor": 5
}
