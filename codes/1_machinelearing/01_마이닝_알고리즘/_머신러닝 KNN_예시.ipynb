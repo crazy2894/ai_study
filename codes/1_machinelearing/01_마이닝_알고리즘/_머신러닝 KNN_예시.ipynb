{
  "cells": [
    {
      "cell_type": "code",
      "execution_count": null,
      "metadata": {
        "id": "jt6bcur3KwuP"
      },
      "outputs": [],
      "source": [
        "# 패키지 임폴트\n",
        "from sklearn.datasets import load_iris\n",
        "from sklearn.model_selection import train_test_split\n",
        "from sklearn.neighbors import KNeighborsClassifier\n",
        "from sklearn.metrics import classification_report, accuracy_score"
      ]
    },
    {
      "cell_type": "code",
      "execution_count": null,
      "metadata": {
        "id": "ebiEpRYEK6o_"
      },
      "outputs": [],
      "source": [
        "# 데이터 로드\n",
        "iris = load_iris()\n",
        "X = iris.data  # 특성 데이터\n",
        "y = iris.target  # 타겟 레이블\n",
        "\n",
        "# 훈련 데이터와 테스트 데이터 분할\n",
        "X_train, X_test, y_train, y_test = train_test_split(X, y, test_size=0.2, random_state=42)"
      ]
    },
    {
      "cell_type": "code",
      "execution_count": null,
      "metadata": {
        "id": "GEwPT55_K9RZ"
      },
      "outputs": [],
      "source": [
        "# k-NN 분류기 생성 (k=3)\n",
        "knn = KNeighborsClassifier(n_neighbors=3)\n",
        "\n",
        "# 모델 훈련\n",
        "knn.fit(X_train, y_train)"
      ]
    },
    {
      "cell_type": "code",
      "execution_count": null,
      "metadata": {
        "id": "lGRPh-OaK_ha"
      },
      "outputs": [],
      "source": [
        "# 테스트 데이터에 대한 예측\n",
        "predictions = knn.predict(X_test)\n",
        "\n",
        "# 성능 평가\n",
        "print(\"Accuracy:\", accuracy_score(y_test, predictions))\n",
        "print(\"\\nClassification Report:\\n\", classification_report(y_test, predictions)"
      ]
    }
  ],
  "metadata": {
    "colab": {
      "provenance": []
    },
    "kernelspec": {
      "display_name": "Python 3",
      "name": "python3"
    },
    "language_info": {
      "name": "python"
    }
  },
  "nbformat": 4,
  "nbformat_minor": 0
}
