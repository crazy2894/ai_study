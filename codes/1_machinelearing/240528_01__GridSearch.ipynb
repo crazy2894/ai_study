{
 "cells": [
  {
   "cell_type": "markdown",
   "id": "366a7ead",
   "metadata": {},
   "source": [
    "# 0. DT복습"
   ]
  },
  {
   "cell_type": "code",
   "execution_count": 1,
   "id": "54feb2f8",
   "metadata": {},
   "outputs": [],
   "source": [
    "import numpy as np\n",
    "import pandas as pd\n",
    "import seaborn as sns\n",
    "\n",
    "import matplotlib as mpl\n",
    "import matplotlib.pyplot as plt\n",
    "import matplotlib_inline.backend_inline\n",
    "\n",
    "import sklearn\n",
    "from sklearn.preprocessing import StandardScaler, MinMaxScaler, RobustScaler\n",
    "from sklearn.model_selection import train_test_split\n",
    "from sklearn.tree import DecisionTreeClassifier\n",
    "from sklearn.ensemble import RandomForestClassifier\n",
    "from sklearn import metrics\n",
    "\n",
    "\n",
    "from sklearn.model_selection import GridSearchCV\n",
    "from sklearn.model_selection import cross_validate\n",
    "from sklearn.model_selection import cross_val_score\n",
    "from sklearn.model_selection import StratifiedKFold\n",
    "from sklearn.model_selection import RandomizedSearchCV\n",
    "# from sklearn.model_selection import GridSearchCV, cross_validate, StratifiedKFold, RandomizedSearchCV\n",
    "\n",
    "import graphviz\n",
    "from sklearn.tree import export_graphviz"
   ]
  },
  {
   "cell_type": "code",
   "execution_count": 3,
   "id": "1ab388bc",
   "metadata": {},
   "outputs": [],
   "source": [
    "matplotlib_inline.backend_inline.set_matplotlib_formats(\"png2x\")\n",
    "mpl.style.use(\"default\")\n",
    "mpl.rcParams.update({\"figure.constrained_layout.use\": True})\n",
    "\n",
    "sns.set_context(\"paper\") \n",
    "sns.set_palette(\"Set2\") \n",
    "sns.set_style(\"whitegrid\") \n",
    "\n",
    "plt.rc(\"font\", family = \"Malgun Gothic\")\n",
    "plt.rcParams[\"axes.unicode_minus\"] = False"
   ]
  },
  {
   "cell_type": "code",
   "execution_count": 4,
   "id": "768d4be1",
   "metadata": {},
   "outputs": [],
   "source": [
    "iris = pd.read_csv(\"../data/Iris.csv\",\n",
    "                   index_col = 0)"
   ]
  },
  {
   "cell_type": "markdown",
   "id": "4f4b51db",
   "metadata": {},
   "source": [
    "1. iris 데이터 중 'SepalWidthCm', 'PetalLengthCm', 'PetalWidthCm' feature로 하는 x_train, x_test, y_train, y_test를 만드시오. (이때, test_size=0.20, random_state = 209로 한다.)"
   ]
  },
  {
   "cell_type": "code",
   "execution_count": 6,
   "id": "4e051c2a",
   "metadata": {},
   "outputs": [],
   "source": [
    "x_data = iris[iris.columns[1:-1]]\n",
    "y_data = iris[\"Species\"]"
   ]
  },
  {
   "cell_type": "code",
   "execution_count": 7,
   "id": "fd94a082",
   "metadata": {},
   "outputs": [],
   "source": [
    "x_train, x_test, y_train, y_test = train_test_split(x_data, \n",
    "                                                    y_data, \n",
    "                                                    test_size=0.2,\n",
    "                                                    random_state = 209)"
   ]
  },
  {
   "cell_type": "markdown",
   "id": "91eda202",
   "metadata": {},
   "source": [
    "2. y_test를 분류하는 Decision Tree 모델을 만드시오.(이때, max_depth = 2, random_state=209로 한다.)"
   ]
  },
  {
   "cell_type": "markdown",
   "id": "2d8aba2e",
   "metadata": {},
   "source": [
    "* [Decision Tree 공식문서](https://scikit-learn.org/stable/modules/generated/sklearn.tree.DecisionTreeClassifier.html)\n",
    "\n",
    "* criterion: 불순도를 계산할 함수\n",
    "    * gini, entropy\n",
    "    * 두 함수가 비슷한 결과를 냄\n",
    "* splitter: 노드를 분할하는 방법\n",
    "    * best: 정보의 이득이 최대가 될 때\n",
    "    * random: 랜덤하게. best 보다 random이 더 효과적일 때도 있음\n",
    "* max_depth: 몇 층까지 가지를 칠 것인지\n",
    "    * 설정하지 않으면 불순도가 0이되거나 min_samples_split보다 샘플수가 적을 때까지 가지를 침  \n",
    "    * max_depth = 1로 준 DT를 스텀프라고 부름. 부스터로 사용하면 강력해 질 수 있음\n",
    "* min_samples_split: 노드를 나누기 위한 최소 샘플 수\n",
    "    * 최소 2개는 샘플이 있어야 가지를 치기 때문에 default는 2이다.\n",
    "* min_samples_leaf: leaf의 최소 샘플 수\n",
    "    * leaf노드는 최소 1개의 샘플을 가지고 있어야 함. \n",
    "    * 만약  min_samples_leaf를 4로 준다면 모든 리프 노드가 최소 4개의 샘플을 가지고 있게 된다.\n",
    "* max_features: 특성의 개수\n",
    "    * input의 특성에서 max_features만큼 랜덤하게 추출\n",
    "* random_state: max_features만큼 특성을 랜덤하게 선택하기 때문에 필요\n",
    "* max_leaf_nodes: 리프 노드의 전체 샘플 개수\n",
    "* min_impurity_decrease: 가지를 치기 위한 최소 불순도 감소\n",
    "\n",
    "**일반적으로 max 이름을 가진 하이퍼파라미터는 감소하고, min 이름을 가진 하이퍼파라미터는 증가 시키면 모델의 성능이 향상됨**"
   ]
  },
  {
   "cell_type": "code",
   "execution_count": 8,
   "id": "e853fd51",
   "metadata": {},
   "outputs": [
    {
     "data": {
      "text/html": [
       "<style>#sk-container-id-1 {color: black;background-color: white;}#sk-container-id-1 pre{padding: 0;}#sk-container-id-1 div.sk-toggleable {background-color: white;}#sk-container-id-1 label.sk-toggleable__label {cursor: pointer;display: block;width: 100%;margin-bottom: 0;padding: 0.3em;box-sizing: border-box;text-align: center;}#sk-container-id-1 label.sk-toggleable__label-arrow:before {content: \"▸\";float: left;margin-right: 0.25em;color: #696969;}#sk-container-id-1 label.sk-toggleable__label-arrow:hover:before {color: black;}#sk-container-id-1 div.sk-estimator:hover label.sk-toggleable__label-arrow:before {color: black;}#sk-container-id-1 div.sk-toggleable__content {max-height: 0;max-width: 0;overflow: hidden;text-align: left;background-color: #f0f8ff;}#sk-container-id-1 div.sk-toggleable__content pre {margin: 0.2em;color: black;border-radius: 0.25em;background-color: #f0f8ff;}#sk-container-id-1 input.sk-toggleable__control:checked~div.sk-toggleable__content {max-height: 200px;max-width: 100%;overflow: auto;}#sk-container-id-1 input.sk-toggleable__control:checked~label.sk-toggleable__label-arrow:before {content: \"▾\";}#sk-container-id-1 div.sk-estimator input.sk-toggleable__control:checked~label.sk-toggleable__label {background-color: #d4ebff;}#sk-container-id-1 div.sk-label input.sk-toggleable__control:checked~label.sk-toggleable__label {background-color: #d4ebff;}#sk-container-id-1 input.sk-hidden--visually {border: 0;clip: rect(1px 1px 1px 1px);clip: rect(1px, 1px, 1px, 1px);height: 1px;margin: -1px;overflow: hidden;padding: 0;position: absolute;width: 1px;}#sk-container-id-1 div.sk-estimator {font-family: monospace;background-color: #f0f8ff;border: 1px dotted black;border-radius: 0.25em;box-sizing: border-box;margin-bottom: 0.5em;}#sk-container-id-1 div.sk-estimator:hover {background-color: #d4ebff;}#sk-container-id-1 div.sk-parallel-item::after {content: \"\";width: 100%;border-bottom: 1px solid gray;flex-grow: 1;}#sk-container-id-1 div.sk-label:hover label.sk-toggleable__label {background-color: #d4ebff;}#sk-container-id-1 div.sk-serial::before {content: \"\";position: absolute;border-left: 1px solid gray;box-sizing: border-box;top: 0;bottom: 0;left: 50%;z-index: 0;}#sk-container-id-1 div.sk-serial {display: flex;flex-direction: column;align-items: center;background-color: white;padding-right: 0.2em;padding-left: 0.2em;position: relative;}#sk-container-id-1 div.sk-item {position: relative;z-index: 1;}#sk-container-id-1 div.sk-parallel {display: flex;align-items: stretch;justify-content: center;background-color: white;position: relative;}#sk-container-id-1 div.sk-item::before, #sk-container-id-1 div.sk-parallel-item::before {content: \"\";position: absolute;border-left: 1px solid gray;box-sizing: border-box;top: 0;bottom: 0;left: 50%;z-index: -1;}#sk-container-id-1 div.sk-parallel-item {display: flex;flex-direction: column;z-index: 1;position: relative;background-color: white;}#sk-container-id-1 div.sk-parallel-item:first-child::after {align-self: flex-end;width: 50%;}#sk-container-id-1 div.sk-parallel-item:last-child::after {align-self: flex-start;width: 50%;}#sk-container-id-1 div.sk-parallel-item:only-child::after {width: 0;}#sk-container-id-1 div.sk-dashed-wrapped {border: 1px dashed gray;margin: 0 0.4em 0.5em 0.4em;box-sizing: border-box;padding-bottom: 0.4em;background-color: white;}#sk-container-id-1 div.sk-label label {font-family: monospace;font-weight: bold;display: inline-block;line-height: 1.2em;}#sk-container-id-1 div.sk-label-container {text-align: center;}#sk-container-id-1 div.sk-container {/* jupyter's `normalize.less` sets `[hidden] { display: none; }` but bootstrap.min.css set `[hidden] { display: none !important; }` so we also need the `!important` here to be able to override the default hidden behavior on the sphinx rendered scikit-learn.org. See: https://github.com/scikit-learn/scikit-learn/issues/21755 */display: inline-block !important;position: relative;}#sk-container-id-1 div.sk-text-repr-fallback {display: none;}</style><div id=\"sk-container-id-1\" class=\"sk-top-container\"><div class=\"sk-text-repr-fallback\"><pre>DecisionTreeClassifier(max_depth=2, random_state=209)</pre><b>In a Jupyter environment, please rerun this cell to show the HTML representation or trust the notebook. <br />On GitHub, the HTML representation is unable to render, please try loading this page with nbviewer.org.</b></div><div class=\"sk-container\" hidden><div class=\"sk-item\"><div class=\"sk-estimator sk-toggleable\"><input class=\"sk-toggleable__control sk-hidden--visually\" id=\"sk-estimator-id-1\" type=\"checkbox\" checked><label for=\"sk-estimator-id-1\" class=\"sk-toggleable__label sk-toggleable__label-arrow\">DecisionTreeClassifier</label><div class=\"sk-toggleable__content\"><pre>DecisionTreeClassifier(max_depth=2, random_state=209)</pre></div></div></div></div></div>"
      ],
      "text/plain": [
       "DecisionTreeClassifier(max_depth=2, random_state=209)"
      ]
     },
     "execution_count": 8,
     "metadata": {},
     "output_type": "execute_result"
    }
   ],
   "source": [
    "model = DecisionTreeClassifier(max_depth = 2, random_state=209) \n",
    "model.fit(x_train, y_train)"
   ]
  },
  {
   "cell_type": "code",
   "execution_count": 9,
   "id": "71737891",
   "metadata": {},
   "outputs": [
    {
     "name": "stdout",
     "output_type": "stream",
     "text": [
      "The accuracy of the DT is 0.9666666666666667\n"
     ]
    }
   ],
   "source": [
    "prediction = model.predict(x_test)\n",
    "print('The accuracy of the DT is', \n",
    "      metrics.accuracy_score(prediction, y_test))"
   ]
  },
  {
   "cell_type": "markdown",
   "id": "1430a5a6",
   "metadata": {},
   "source": [
    "3. 모델의 feature importance를 직접 계산하시오"
   ]
  },
  {
   "cell_type": "code",
   "execution_count": 10,
   "id": "4dac6629",
   "metadata": {},
   "outputs": [
    {
     "data": {
      "image/png": "[encoded data removed]",
      "text/plain": [
       "<Figure size 400x300 with 1 Axes>"
      ]
     },
     "metadata": {
      "image/png": {
       "height": 311,
       "width": 411
      }
     },
     "output_type": "display_data"
    }
   ],
   "source": [
    "fig, ax = plt.subplots(figsize=(4,3))\n",
    "\n",
    "ax.bar(iris.columns[1:-1], model.feature_importances_)\n",
    "ax.spines[[\"top\", \"right\"]].set_visible(False)\n",
    "ax.set(ylabel = \"feature importance\")\n",
    "\n",
    "plt.setp(ax.get_xticklabels(), ha=\"right\", rotation=45);"
   ]
  },
  {
   "cell_type": "code",
   "execution_count": 11,
   "id": "a24d0d68",
   "metadata": {},
   "outputs": [
    {
     "data": {
      "text/plain": [
       "array([0.        , 0.56535966, 0.43464034])"
      ]
     },
     "execution_count": 11,
     "metadata": {},
     "output_type": "execute_result"
    }
   ],
   "source": [
    "model.feature_importances_"
   ]
  },
  {
   "cell_type": "code",
   "execution_count": null,
   "id": "6b753b47",
   "metadata": {},
   "outputs": [],
   "source": [
    "img = export_graphviz(model, out_file='../data/decision_tree_hw.dot')\n",
    "with open(\"../data/decision_tree_hw.dot\") as f:\n",
    "    dot_graph = f.read()\n",
    "    \n",
    "graphviz.Source(dot_graph)"
   ]
  },
  {
   "cell_type": "markdown",
   "id": "9bfaaac2",
   "metadata": {},
   "source": [
    "어떤 특성 $f_i$에 대한 중요도 $I(f_i)$는 다음과 같이 얻을 수 있다:\n",
    "\\begin{equation}\n",
    "I(f_i) = \\sum_{\\substack{p\\in f_i\\text{에 의해} \\\\ \\text{가지치기한 부모 노드}}}\\frac{N_p}{N}\\left(G(D_p) - \\frac{N_{l}}{N_p}G(D_l) - \\frac{N_{r}}{N_p}G(D_r)\\right)\n",
    "\\end{equation}\n",
    "\n",
    "이것을 정규화하게 되면 \n",
    "\\begin{equation}\n",
    "I(f_i)_{\\text{normalize}} = \\frac{I(f_i)}{\\sum_{j\\in\\text{all features}}I(f_j)}\n",
    "\\end{equation}\n",
    "이 된다. "
   ]
  },
  {
   "cell_type": "markdown",
   "id": "29a5d764",
   "metadata": {},
   "source": [
    "따라서, \n",
    "\n",
    "\\begin{align}\n",
    "I(f_{1}) = \\frac{120}{120}\\left(0.667 - \\frac{40}{120}\\cdot 0 - \\frac{80}{120}\\cdot 0.5\\right)\n",
    "\\doteqdot 0.333\n",
    "\\end{align}"
   ]
  },
  {
   "cell_type": "markdown",
   "id": "68d959f2",
   "metadata": {},
   "source": [
    "\\begin{align}\n",
    "I(f_2) &= \\frac{80}{120}\\left(0.5 - \\frac{44}{80}\\cdot 0.165 - \\frac{36}{80}\\cdot 0.054\\right)\n",
    "\\doteqdot 0.256,\n",
    "\\end{align}"
   ]
  },
  {
   "cell_type": "markdown",
   "id": "414f351a",
   "metadata": {},
   "source": [
    "이고, 이것을 정규화하면\n",
    "\\begin{align}\n",
    "I(f_{1})_{\\text{normalize}} &= \\frac{I(f_{2})}{I(f_2)+I(f_{3})} \\doteqdot 0.565\\\\\n",
    "I(f_{2})_{\\text{normalize}} &= \\frac{I(f_3)}{I(f_2)+I(f_{3})} \\doteqdot 0.434.\n",
    "\\end{align}"
   ]
  },
  {
   "cell_type": "markdown",
   "id": "edeb4332",
   "metadata": {},
   "source": [
    "# 1. 교차검증(cross validation)\n",
    "\n",
    "* 검증 데이터: 훈련데이터에서 모델을 검증하기 위해 떼어 놓는 데이터\n",
    "    * 실전에서 테스트는 모델을 성능 평가에 사용할 수 없기 때문에\n",
    "* 교차 검증: 데이터가 적을 때 모델을 그나마(?) 안정적으로 평가할 수 있는 방법\n",
    "    * 훈련 데이터로 모델을 학습 시키고\n",
    "    * 검증 데이터로 모델을 평가\n",
    "    * 모델의 최종 평가는 검증 데이터의 평균으로!\n",
    "\n",
    "| | | |\n",
    "|---|---|---|\n",
    "|훈련 데이터|훈련 데이터|**검증 데이터**|\n",
    "|훈련 데이터|**검증 데이터**|훈련 데이터|\n",
    "|**검증 데이터**|훈련 데이터|훈련 데이터|\n",
    "\n",
    "* $k$-fold cross validation: 훈련 데이터를 $k$등분 하여 교차 검증하는 방법\n",
    "    * $k$가 5(20%) 혹은 10(10%)일때를 많이 사용\n",
    "    \n",
    "**주의! `cross_validate()`는 훈련 데이터를 섞어주지는 않는다!**\n",
    "\n",
    "**따라서 분류 모델을 만들 때는 `cv=StratifiedKFold()`를 지정해 주는 것이 좋다.**"
   ]
  },
  {
   "cell_type": "code",
   "execution_count": 21,
   "id": "5bb08adb",
   "metadata": {},
   "outputs": [],
   "source": [
    "x_data = iris[iris.columns[1:-1]]\n",
    "y_data = iris[\"Species\"]"
   ]
  },
  {
   "cell_type": "code",
   "execution_count": 22,
   "id": "837dc584",
   "metadata": {},
   "outputs": [],
   "source": [
    "x_train, x_test, y_train, y_test = train_test_split(x_data, \n",
    "                                                    y_data, \n",
    "                                                    test_size=0.20,\n",
    "                                                    random_state = 209)"
   ]
  },
  {
   "cell_type": "code",
   "execution_count": 24,
   "id": "64ab7639",
   "metadata": {},
   "outputs": [
    {
     "data": {
      "text/html": [
       "<div>\n",
       "<style scoped>\n",
       "    .dataframe tbody tr th:only-of-type {\n",
       "        vertical-align: middle;\n",
       "    }\n",
       "\n",
       "    .dataframe tbody tr th {\n",
       "        vertical-align: top;\n",
       "    }\n",
       "\n",
       "    .dataframe thead th {\n",
       "        text-align: right;\n",
       "    }\n",
       "</style>\n",
       "<table border=\"1\" class=\"dataframe\">\n",
       "  <thead>\n",
       "    <tr style=\"text-align: right;\">\n",
       "      <th></th>\n",
       "      <th>SepalWidthCm</th>\n",
       "      <th>PetalLengthCm</th>\n",
       "      <th>PetalWidthCm</th>\n",
       "    </tr>\n",
       "    <tr>\n",
       "      <th>Id</th>\n",
       "      <th></th>\n",
       "      <th></th>\n",
       "      <th></th>\n",
       "    </tr>\n",
       "  </thead>\n",
       "  <tbody>\n",
       "    <tr>\n",
       "      <th>49</th>\n",
       "      <td>3.7</td>\n",
       "      <td>1.5</td>\n",
       "      <td>0.2</td>\n",
       "    </tr>\n",
       "    <tr>\n",
       "      <th>53</th>\n",
       "      <td>3.1</td>\n",
       "      <td>4.9</td>\n",
       "      <td>1.5</td>\n",
       "    </tr>\n",
       "    <tr>\n",
       "      <th>83</th>\n",
       "      <td>2.7</td>\n",
       "      <td>3.9</td>\n",
       "      <td>1.2</td>\n",
       "    </tr>\n",
       "    <tr>\n",
       "      <th>141</th>\n",
       "      <td>3.1</td>\n",
       "      <td>5.6</td>\n",
       "      <td>2.4</td>\n",
       "    </tr>\n",
       "    <tr>\n",
       "      <th>27</th>\n",
       "      <td>3.4</td>\n",
       "      <td>1.6</td>\n",
       "      <td>0.4</td>\n",
       "    </tr>\n",
       "    <tr>\n",
       "      <th>...</th>\n",
       "      <td>...</td>\n",
       "      <td>...</td>\n",
       "      <td>...</td>\n",
       "    </tr>\n",
       "    <tr>\n",
       "      <th>32</th>\n",
       "      <td>3.4</td>\n",
       "      <td>1.5</td>\n",
       "      <td>0.4</td>\n",
       "    </tr>\n",
       "    <tr>\n",
       "      <th>40</th>\n",
       "      <td>3.4</td>\n",
       "      <td>1.5</td>\n",
       "      <td>0.2</td>\n",
       "    </tr>\n",
       "    <tr>\n",
       "      <th>59</th>\n",
       "      <td>2.9</td>\n",
       "      <td>4.6</td>\n",
       "      <td>1.3</td>\n",
       "    </tr>\n",
       "    <tr>\n",
       "      <th>72</th>\n",
       "      <td>2.8</td>\n",
       "      <td>4.0</td>\n",
       "      <td>1.3</td>\n",
       "    </tr>\n",
       "    <tr>\n",
       "      <th>126</th>\n",
       "      <td>3.2</td>\n",
       "      <td>6.0</td>\n",
       "      <td>1.8</td>\n",
       "    </tr>\n",
       "  </tbody>\n",
       "</table>\n",
       "<p>120 rows × 3 columns</p>\n",
       "</div>"
      ],
      "text/plain": [
       "     SepalWidthCm  PetalLengthCm  PetalWidthCm\n",
       "Id                                            \n",
       "49            3.7            1.5           0.2\n",
       "53            3.1            4.9           1.5\n",
       "83            2.7            3.9           1.2\n",
       "141           3.1            5.6           2.4\n",
       "27            3.4            1.6           0.4\n",
       "..            ...            ...           ...\n",
       "32            3.4            1.5           0.4\n",
       "40            3.4            1.5           0.2\n",
       "59            2.9            4.6           1.3\n",
       "72            2.8            4.0           1.3\n",
       "126           3.2            6.0           1.8\n",
       "\n",
       "[120 rows x 3 columns]"
      ]
     },
     "execution_count": 24,
     "metadata": {},
     "output_type": "execute_result"
    }
   ],
   "source": [
    "x_train"
   ]
  },
  {
   "cell_type": "code",
   "execution_count": 26,
   "id": "1a89ef0a",
   "metadata": {},
   "outputs": [],
   "source": [
    "model = DecisionTreeClassifier(max_depth = 2, random_state=209) "
   ]
  },
  {
   "cell_type": "code",
   "execution_count": 28,
   "id": "32ab5fa1",
   "metadata": {
    "scrolled": true
   },
   "outputs": [
    {
     "data": {
      "text/plain": [
       "{'fit_time': array([0.00426054, 0.00436234, 0.00597978, 0.00398016, 0.00357103]),\n",
       " 'score_time': array([0.00202394, 0.00301814, 0.00452685, 0.00149965, 0.00199413]),\n",
       " 'test_score': array([0.95833333, 0.91666667, 1.        , 0.91666667, 0.91666667])}"
      ]
     },
     "execution_count": 28,
     "metadata": {},
     "output_type": "execute_result"
    }
   ],
   "source": [
    "# test_score를 혼동하지 마세요!\n",
    "score = cross_validate(estimator = model, \n",
    "                       X = x_train, \n",
    "                       y = y_train, \n",
    "                       cv = 5)\n",
    "score"
   ]
  },
  {
   "cell_type": "code",
   "execution_count": 17,
   "id": "40a5b349",
   "metadata": {},
   "outputs": [
    {
     "data": {
      "text/plain": [
       "0.9416666666666667"
      ]
     },
     "execution_count": 17,
     "metadata": {},
     "output_type": "execute_result"
    }
   ],
   "source": [
    "# 5-fold cross validation의 결과\n",
    "np.mean(score[\"test_score\"])\n",
    "#cross_val_score(model, x_train, y_train, cv = 5)"
   ]
  },
  {
   "cell_type": "code",
   "execution_count": 19,
   "id": "1c493524",
   "metadata": {},
   "outputs": [
    {
     "data": {
      "text/plain": [
       "{'fit_time': array([0.00349832, 0.00306678, 0.00415587, 0.00399399, 0.00293064]),\n",
       " 'score_time': array([0.00299144, 0.00365996, 0.00349855, 0.00199342, 0.00299406]),\n",
       " 'test_score': array([0.95833333, 0.91666667, 1.        , 0.91666667, 0.91666667])}"
      ]
     },
     "execution_count": 19,
     "metadata": {},
     "output_type": "execute_result"
    }
   ],
   "source": [
    "# 주의! `cross_validate()`는 훈련 데이터를 섞어주지는 않는다!\n",
    "# 따라서 분류 모델을 만들 때는 `cv=StratifiedKFold()`를 지정해 주는 것이 좋다.\n",
    "\n",
    "score_strat = cross_validate(estimator = model, \n",
    "                             X = x_train, \n",
    "                             y = y_train, \n",
    "                             cv = StratifiedKFold())\n",
    "np.mean(score_strat[\"test_score\"])\n",
    "score_strat"
   ]
  },
  {
   "cell_type": "code",
   "execution_count": 30,
   "id": "b574296b",
   "metadata": {},
   "outputs": [
    {
     "data": {
      "text/plain": [
       "{'fit_time': array([0.00559974, 0.00594163, 0.00199294, 0.00299788, 0.00366926,\n",
       "        0.00298667, 0.00399113, 0.00702333, 0.00203061, 0.00542068]),\n",
       " 'score_time': array([0.00253391, 0.00206637, 0.0024972 , 0.00199676, 0.00206041,\n",
       "        0.00375628, 0.0023284 , 0.00205469, 0.00234199, 0.00099635]),\n",
       " 'test_score': array([1.        , 0.91666667, 0.66666667, 0.83333333, 1.        ,\n",
       "        1.        , 0.91666667, 0.83333333, 1.        , 1.        ])}"
      ]
     },
     "execution_count": 30,
     "metadata": {},
     "output_type": "execute_result"
    }
   ],
   "source": [
    "splitter = StratifiedKFold(n_splits = 10, shuffle=True, random_state = 42)\n",
    "\n",
    "score_strat_split = cross_validate(estimator = model, \n",
    "                             X = x_train, \n",
    "                             y = y_train, \n",
    "                             cv = splitter)\n",
    "\n",
    "score_strat_split"
   ]
  },
  {
   "cell_type": "markdown",
   "id": "4bbf5773",
   "metadata": {},
   "source": [
    "# 2. 그리드 서치(Grid Search)"
   ]
  },
  {
   "cell_type": "markdown",
   "id": "f00aa531",
   "metadata": {},
   "source": [
    "* 모델 파라미터(일반적으로 말하는 파라미터를 의미): 모델이 학습 하면서 변화하게 되는 값. 딥러닝 모델의 경우 가중치가 파라미터\n",
    "\n",
    "* 하이퍼 파라미터(매개변수): 모델의 학습 전에 설정해 주는 값. 아무런 설정도 하지 않으면 기본값(`default`)로 학습하게 됨"
   ]
  },
  {
   "cell_type": "code",
   "execution_count": 31,
   "id": "6eba0274",
   "metadata": {},
   "outputs": [
    {
     "name": "stdout",
     "output_type": "stream",
     "text": [
      "The accuracy of the DT is 0.9333333333333333\n"
     ]
    }
   ],
   "source": [
    "# max_depth = 3\n",
    "model = DecisionTreeClassifier(max_depth = 3, random_state=209) \n",
    "model.fit(x_train.values, y_train.values)\n",
    "prediction = model.predict(x_test.values)\n",
    "print('The accuracy of the DT is', \n",
    "      metrics.accuracy_score(prediction, y_test))"
   ]
  },
  {
   "cell_type": "markdown",
   "id": "794b782a",
   "metadata": {},
   "source": [
    "* GridSearchCV는 k-fold cross validation도 해준다!\n",
    "* 아래의 코드의 경우 params의 변수가 4개이고, cv가 3이므로 params의 변수 하나 마다 3번의 결과를 내놓는다. 즉, 12번의 학습을 하게 된다. \n",
    "* 따라서 그리드서치를 할 때에는 `n_jobs = -1`(모든 코어 사용)로 하는 것이 좋다."
   ]
  },
  {
   "cell_type": "code",
   "execution_count": 33,
   "id": "0656e4c2",
   "metadata": {},
   "outputs": [
    {
     "data": {
      "text/html": [
       "<style>#sk-container-id-2 {color: black;background-color: white;}#sk-container-id-2 pre{padding: 0;}#sk-container-id-2 div.sk-toggleable {background-color: white;}#sk-container-id-2 label.sk-toggleable__label {cursor: pointer;display: block;width: 100%;margin-bottom: 0;padding: 0.3em;box-sizing: border-box;text-align: center;}#sk-container-id-2 label.sk-toggleable__label-arrow:before {content: \"▸\";float: left;margin-right: 0.25em;color: #696969;}#sk-container-id-2 label.sk-toggleable__label-arrow:hover:before {color: black;}#sk-container-id-2 div.sk-estimator:hover label.sk-toggleable__label-arrow:before {color: black;}#sk-container-id-2 div.sk-toggleable__content {max-height: 0;max-width: 0;overflow: hidden;text-align: left;background-color: #f0f8ff;}#sk-container-id-2 div.sk-toggleable__content pre {margin: 0.2em;color: black;border-radius: 0.25em;background-color: #f0f8ff;}#sk-container-id-2 input.sk-toggleable__control:checked~div.sk-toggleable__content {max-height: 200px;max-width: 100%;overflow: auto;}#sk-container-id-2 input.sk-toggleable__control:checked~label.sk-toggleable__label-arrow:before {content: \"▾\";}#sk-container-id-2 div.sk-estimator input.sk-toggleable__control:checked~label.sk-toggleable__label {background-color: #d4ebff;}#sk-container-id-2 div.sk-label input.sk-toggleable__control:checked~label.sk-toggleable__label {background-color: #d4ebff;}#sk-container-id-2 input.sk-hidden--visually {border: 0;clip: rect(1px 1px 1px 1px);clip: rect(1px, 1px, 1px, 1px);height: 1px;margin: -1px;overflow: hidden;padding: 0;position: absolute;width: 1px;}#sk-container-id-2 div.sk-estimator {font-family: monospace;background-color: #f0f8ff;border: 1px dotted black;border-radius: 0.25em;box-sizing: border-box;margin-bottom: 0.5em;}#sk-container-id-2 div.sk-estimator:hover {background-color: #d4ebff;}#sk-container-id-2 div.sk-parallel-item::after {content: \"\";width: 100%;border-bottom: 1px solid gray;flex-grow: 1;}#sk-container-id-2 div.sk-label:hover label.sk-toggleable__label {background-color: #d4ebff;}#sk-container-id-2 div.sk-serial::before {content: \"\";position: absolute;border-left: 1px solid gray;box-sizing: border-box;top: 0;bottom: 0;left: 50%;z-index: 0;}#sk-container-id-2 div.sk-serial {display: flex;flex-direction: column;align-items: center;background-color: white;padding-right: 0.2em;padding-left: 0.2em;position: relative;}#sk-container-id-2 div.sk-item {position: relative;z-index: 1;}#sk-container-id-2 div.sk-parallel {display: flex;align-items: stretch;justify-content: center;background-color: white;position: relative;}#sk-container-id-2 div.sk-item::before, #sk-container-id-2 div.sk-parallel-item::before {content: \"\";position: absolute;border-left: 1px solid gray;box-sizing: border-box;top: 0;bottom: 0;left: 50%;z-index: -1;}#sk-container-id-2 div.sk-parallel-item {display: flex;flex-direction: column;z-index: 1;position: relative;background-color: white;}#sk-container-id-2 div.sk-parallel-item:first-child::after {align-self: flex-end;width: 50%;}#sk-container-id-2 div.sk-parallel-item:last-child::after {align-self: flex-start;width: 50%;}#sk-container-id-2 div.sk-parallel-item:only-child::after {width: 0;}#sk-container-id-2 div.sk-dashed-wrapped {border: 1px dashed gray;margin: 0 0.4em 0.5em 0.4em;box-sizing: border-box;padding-bottom: 0.4em;background-color: white;}#sk-container-id-2 div.sk-label label {font-family: monospace;font-weight: bold;display: inline-block;line-height: 1.2em;}#sk-container-id-2 div.sk-label-container {text-align: center;}#sk-container-id-2 div.sk-container {/* jupyter's `normalize.less` sets `[hidden] { display: none; }` but bootstrap.min.css set `[hidden] { display: none !important; }` so we also need the `!important` here to be able to override the default hidden behavior on the sphinx rendered scikit-learn.org. See: https://github.com/scikit-learn/scikit-learn/issues/21755 */display: inline-block !important;position: relative;}#sk-container-id-2 div.sk-text-repr-fallback {display: none;}</style><div id=\"sk-container-id-2\" class=\"sk-top-container\"><div class=\"sk-text-repr-fallback\"><pre>GridSearchCV(cv=3, estimator=DecisionTreeClassifier(random_state=209),\n",
       "             param_grid={&#x27;max_depth&#x27;: [3, 4, 5, 10]}, return_train_score=True)</pre><b>In a Jupyter environment, please rerun this cell to show the HTML representation or trust the notebook. <br />On GitHub, the HTML representation is unable to render, please try loading this page with nbviewer.org.</b></div><div class=\"sk-container\" hidden><div class=\"sk-item sk-dashed-wrapped\"><div class=\"sk-label-container\"><div class=\"sk-label sk-toggleable\"><input class=\"sk-toggleable__control sk-hidden--visually\" id=\"sk-estimator-id-2\" type=\"checkbox\" ><label for=\"sk-estimator-id-2\" class=\"sk-toggleable__label sk-toggleable__label-arrow\">GridSearchCV</label><div class=\"sk-toggleable__content\"><pre>GridSearchCV(cv=3, estimator=DecisionTreeClassifier(random_state=209),\n",
       "             param_grid={&#x27;max_depth&#x27;: [3, 4, 5, 10]}, return_train_score=True)</pre></div></div></div><div class=\"sk-parallel\"><div class=\"sk-parallel-item\"><div class=\"sk-item\"><div class=\"sk-label-container\"><div class=\"sk-label sk-toggleable\"><input class=\"sk-toggleable__control sk-hidden--visually\" id=\"sk-estimator-id-3\" type=\"checkbox\" ><label for=\"sk-estimator-id-3\" class=\"sk-toggleable__label sk-toggleable__label-arrow\">estimator: DecisionTreeClassifier</label><div class=\"sk-toggleable__content\"><pre>DecisionTreeClassifier(random_state=209)</pre></div></div></div><div class=\"sk-serial\"><div class=\"sk-item\"><div class=\"sk-estimator sk-toggleable\"><input class=\"sk-toggleable__control sk-hidden--visually\" id=\"sk-estimator-id-4\" type=\"checkbox\" ><label for=\"sk-estimator-id-4\" class=\"sk-toggleable__label sk-toggleable__label-arrow\">DecisionTreeClassifier</label><div class=\"sk-toggleable__content\"><pre>DecisionTreeClassifier(random_state=209)</pre></div></div></div></div></div></div></div></div></div></div>"
      ],
      "text/plain": [
       "GridSearchCV(cv=3, estimator=DecisionTreeClassifier(random_state=209),\n",
       "             param_grid={'max_depth': [3, 4, 5, 10]}, return_train_score=True)"
      ]
     },
     "execution_count": 33,
     "metadata": {},
     "output_type": "execute_result"
    }
   ],
   "source": [
    "params = {\"max_depth\" : [3, 4, 5, 10]}\n",
    "\n",
    "model_base = DecisionTreeClassifier(random_state=209) \n",
    "model_grid = GridSearchCV(model_base, \n",
    "                          params, \n",
    "                          cv=3, \n",
    "                          return_train_score=True,\n",
    "                          #n_jobs = -1\n",
    "                         )\n",
    "model_grid.fit(x_train, y_train)"
   ]
  },
  {
   "cell_type": "code",
   "execution_count": 36,
   "id": "e67182eb",
   "metadata": {},
   "outputs": [
    {
     "data": {
      "text/plain": [
       "{'max_depth': 4}"
      ]
     },
     "execution_count": 36,
     "metadata": {},
     "output_type": "execute_result"
    }
   ],
   "source": [
    "# 가장 결과가 좋은 매개변수(하이퍼 파라미터)\n",
    "model_grid.best_params_"
   ]
  },
  {
   "cell_type": "code",
   "execution_count": 37,
   "id": "91f44146",
   "metadata": {},
   "outputs": [
    {
     "data": {
      "text/plain": [
       "0.9666666666666667"
      ]
     },
     "execution_count": 37,
     "metadata": {},
     "output_type": "execute_result"
    }
   ],
   "source": [
    "# 훈련데이터 중 가장 좋은 정확도\n",
    "model_grid.best_score_"
   ]
  },
  {
   "cell_type": "code",
   "execution_count": 38,
   "id": "07eff179",
   "metadata": {},
   "outputs": [
    {
     "data": {
      "text/plain": [
       "array(['Iris-versicolor', 'Iris-virginica', 'Iris-setosa',\n",
       "       'Iris-virginica', 'Iris-setosa', 'Iris-setosa', 'Iris-versicolor',\n",
       "       'Iris-versicolor', 'Iris-virginica', 'Iris-virginica',\n",
       "       'Iris-setosa', 'Iris-virginica', 'Iris-versicolor',\n",
       "       'Iris-versicolor', 'Iris-virginica', 'Iris-versicolor',\n",
       "       'Iris-versicolor', 'Iris-setosa', 'Iris-virginica',\n",
       "       'Iris-virginica', 'Iris-setosa', 'Iris-virginica',\n",
       "       'Iris-versicolor', 'Iris-virginica', 'Iris-setosa', 'Iris-setosa',\n",
       "       'Iris-virginica', 'Iris-setosa', 'Iris-setosa', 'Iris-versicolor'],\n",
       "      dtype=object)"
      ]
     },
     "execution_count": 38,
     "metadata": {},
     "output_type": "execute_result"
    }
   ],
   "source": [
    "# 가장 결과가 좋은 매개변수로 테스트 데이터를 예측해 보자\n",
    "model_best = model_grid.best_estimator_\n",
    "model_best.predict(x_test)"
   ]
  },
  {
   "cell_type": "code",
   "execution_count": 40,
   "id": "ece9472e",
   "metadata": {},
   "outputs": [
    {
     "data": {
      "text/plain": [
       "0.9333333333333333"
      ]
     },
     "execution_count": 40,
     "metadata": {},
     "output_type": "execute_result"
    }
   ],
   "source": [
    "## model_best의 테스트 데이터에 대한 정확도를 계산하시오.\n",
    "pred_best = model_best.predict(x_test)\n",
    "metrics.accuracy_score(pred_best, y_test)"
   ]
  },
  {
   "cell_type": "code",
   "execution_count": 41,
   "id": "c591d922",
   "metadata": {},
   "outputs": [],
   "source": [
    "def grid_search(params, model_base=DecisionTreeClassifier(random_state=209)):\n",
    "    model_grid = GridSearchCV(model_base, \n",
    "                              params, \n",
    "                              cv=3, \n",
    "                              return_train_score=True,\n",
    "                              #n_jobs = -1\n",
    "                             )\n",
    "    model_grid.fit(x_train, y_train)\n",
    "    \n",
    "    print('최상의 매개변수: ', model_grid.best_params_)\n",
    "    print('훈련 데이터의 최고 정확도: ', model_grid.best_score_)\n",
    "    \n",
    "    model_best = model_grid.best_estimator_\n",
    "    pred_best = model_best.predict(x_test)\n",
    "    print('테스트 데이터의 최고 정확도: ', metrics.accuracy_score(pred_best, y_test))"
   ]
  },
  {
   "cell_type": "code",
   "execution_count": 42,
   "id": "7d6b0453",
   "metadata": {},
   "outputs": [
    {
     "name": "stdout",
     "output_type": "stream",
     "text": [
      "최상의 매개변수:  {'criterion': 'gini', 'max_depth': 4, 'min_samples_leaf': 1}\n",
      "훈련 데이터의 최고 정확도:  0.9666666666666667\n",
      "테스트 데이터의 최고 정확도:  0.9333333333333333\n"
     ]
    }
   ],
   "source": [
    "grid_search(params = {\"min_samples_leaf\": [1,2,4,8],\n",
    "                     \"max_depth\" : [3, 4, 5, 10],\n",
    "                      \"criterion\": [\"gini\", \"entropy\"]})"
   ]
  },
  {
   "cell_type": "markdown",
   "id": "cf1cc655",
   "metadata": {},
   "source": [
    "**Quiz.** 지금 조건에서 GridSearchCV는 몇 번 실험을 할까?"
   ]
  },
  {
   "cell_type": "markdown",
   "id": "8025a25b",
   "metadata": {},
   "source": [
    "**주의! min_samples_leaf에서 제일 좋은 결과를 내는 하이퍼 파라미터를 찾고, 그 다음으로 max_depth에서 제일 좋은 결과를 내는 하이퍼 파라미터를 찾는 것이 아니다!**"
   ]
  },
  {
   "cell_type": "markdown",
   "id": "7cbf84bb",
   "metadata": {},
   "source": [
    "# 3. RandomizedSearchCV\n",
    "\n",
    "* GridSearchCV로 하이퍼 파라미터를 튜닝하면 모든 조합에 대해서 테스트 하기 때문에 시간이 너무 오래걸린다는 단점이 있다. \n",
    "* 이를 보완하기 위해 RandomizedSearchCV를 사용할 수 있다. \n",
    "* RandomizedSearchCV의 작동방식은 GridSearchCV와 같지만 하이퍼 파라미터를 랜덤하게 조합하여 테스트 한다. 따라서 지정한 조합의 횟수 안에서 최상이 조합을 찾는다"
   ]
  },
  {
   "cell_type": "markdown",
   "id": "624dc457",
   "metadata": {},
   "source": [
    "* 실수 난수 생성: [np.random.uniform](https://numpy.org/doc/stable/reference/random/generated/numpy.random.uniform.html)\n",
    "\n",
    "* 정수 난수 생성: [np.ramdom.randint](https://numpy.org/doc/stable/reference/random/generated/numpy.random.randint.html)"
   ]
  },
  {
   "cell_type": "code",
   "execution_count": 44,
   "id": "9f467217",
   "metadata": {},
   "outputs": [
    {
     "data": {
      "image/png": "[encoded data removed]",
      "text/plain": [
       "<Figure size 800x400 with 2 Axes>"
      ]
     },
     "metadata": {
      "image/png": {
       "height": 411,
       "width": 811
      }
     },
     "output_type": "display_data"
    }
   ],
   "source": [
    "fig, (ax_uni, ax_int) = plt.subplots(1, 2, figsize = (8,4))\n",
    "\n",
    "size = 10_000\n",
    "bins = 10\n",
    "\n",
    "ax_uni.hist(np.random.uniform(0, 1, size), bins = bins)\n",
    "ax_int.hist(np.random.randint(0, 10, size), bins = bins)\n",
    "fig.supylabel(\"count\");"
   ]
  },
  {
   "cell_type": "code",
   "execution_count": 45,
   "id": "3c435969",
   "metadata": {},
   "outputs": [],
   "source": [
    "def random_grid_search(params, iters, model_base=DecisionTreeClassifier(random_state=209)):\n",
    "    model_grid = RandomizedSearchCV(model_base, \n",
    "                                    params,\n",
    "                                    n_iter = iters,\n",
    "                                    cv=3, \n",
    "                                    return_train_score=True,\n",
    "                                    #n_jobs = -1,\n",
    "                                    random_state = 97\n",
    "                                    )\n",
    "    model_grid.fit(x_train, y_train)\n",
    "    \n",
    "    print('최상의 매개변수: ', model_grid.best_params_)\n",
    "    print('훈련 데이터의 최고 정확도: ', model_grid.best_score_)\n",
    "    \n",
    "    model_best = model_grid.best_estimator_\n",
    "    pred_best = model_best.predict(x_test)\n",
    "    print('테스트 데이터의 최고 정확도: ', metrics.accuracy_score(pred_best, y_test))"
   ]
  },
  {
   "cell_type": "code",
   "execution_count": 47,
   "id": "73c90c7f",
   "metadata": {},
   "outputs": [],
   "source": [
    "params = {\"criterion\": [\"entropy\", \"gini\"],\n",
    "          \"min_samples_leaf\": np.random.randint(1, 10, 10),\n",
    "          \"max_depth\" : np.random.randint(3, 8, 20),\n",
    "          \"min_impurity_decrease\": np.random.uniform(0.001, 0.01, 30)}"
   ]
  },
  {
   "cell_type": "code",
   "execution_count": 48,
   "id": "5316759a",
   "metadata": {},
   "outputs": [
    {
     "name": "stdout",
     "output_type": "stream",
     "text": [
      "최상의 매개변수:  {'min_samples_leaf': 5, 'min_impurity_decrease': 0.0029100571261848895, 'max_depth': 7, 'criterion': 'gini'}\n",
      "훈련 데이터의 최고 정확도:  0.9500000000000001\n",
      "테스트 데이터의 최고 정확도:  0.9666666666666667\n"
     ]
    }
   ],
   "source": [
    "random_grid_search(params, 50, model_base)"
   ]
  },
  {
   "cell_type": "code",
   "execution_count": null,
   "id": "bb9ef753",
   "metadata": {},
   "outputs": [],
   "source": []
  },
  {
   "cell_type": "code",
   "execution_count": null,
   "id": "beda7768",
   "metadata": {},
   "outputs": [],
   "source": []
  },
  {
   "cell_type": "code",
   "execution_count": null,
   "id": "7bb27381",
   "metadata": {},
   "outputs": [],
   "source": []
  },
  {
   "cell_type": "code",
   "execution_count": null,
   "id": "2cf951b4",
   "metadata": {},
   "outputs": [],
   "source": []
  },
  {
   "cell_type": "code",
   "execution_count": null,
   "id": "a914f68e",
   "metadata": {},
   "outputs": [],
   "source": []
  }
 ],
 "metadata": {
  "kernelspec": {
   "display_name": "Python 3 (ipykernel)",
   "language": "python",
   "name": "python3"
  },
  "language_info": {
   "codemirror_mode": {
    "name": "ipython",
    "version": 3
   },
   "file_extension": ".py",
   "mimetype": "text/x-python",
   "name": "python",
   "nbconvert_exporter": "python",
   "pygments_lexer": "ipython3",
   "version": "3.8.15"
  }
 },
 "nbformat": 4,
 "nbformat_minor": 5
}
