{
  "nbformat": 4,
  "nbformat_minor": 0,
  "metadata": {
    "colab": {
      "provenance": []
    },
    "kernelspec": {
      "name": "python3",
      "display_name": "Python 3"
    },
    "language_info": {
      "name": "python"
    }
  },
  "cells": [
    {
      "cell_type": "markdown",
      "source": [
        "단순 무작위 샘플링"
      ],
      "metadata": {
        "id": "FUaMO5dUt-db"
      }
    },
    {
      "cell_type": "code",
      "execution_count": null,
      "metadata": {
        "id": "pIeP59QYt7_R"
      },
      "outputs": [],
      "source": [
        "import numpy as np\n",
        "import pandas as pd\n",
        "\n",
        "# 임의의 데이터 생성\n",
        "data = pd.DataFrame({\n",
        "    'id': range(1, 101),  # 1부터 100까지의 id\n",
        "    'value': np.random.rand(100)  # 임의의 값\n",
        "})\n",
        "\n",
        "# 단순 무작위 샘플링으로 10개의 샘플 선택\n",
        "sample_random = data.sample(n=10)\n",
        "print(sample_random)\n"
      ]
    },
    {
      "cell_type": "markdown",
      "source": [
        "계통 샘플링"
      ],
      "metadata": {
        "id": "v7iqp1xEuFHb"
      }
    },
    {
      "cell_type": "code",
      "source": [
        "# 계통 샘플링을 위한 간격(k) 계산\n",
        "k = len(data) // 10  # 예를 들어, 전체 데이터에서 10개의 샘플을 선택하고자 할 때의 간격\n",
        "\n",
        "# 시작점을 무작위로 선택\n",
        "start = np.random.randint(0, k)\n",
        "\n",
        "# 계통 샘플링 실행\n",
        "sample_systematic = data.iloc[start::k]\n",
        "print(sample_systematic)\n"
      ],
      "metadata": {
        "id": "7721JJ6fuF5a"
      },
      "execution_count": null,
      "outputs": []
    },
    {
      "cell_type": "markdown",
      "source": [
        "층화 샘플링"
      ],
      "metadata": {
        "id": "lh9XVayxuSfC"
      }
    },
    {
      "cell_type": "code",
      "source": [
        "from sklearn.model_selection import StratifiedShuffleSplit\n",
        "\n",
        "# 'value' 컬럼의 값에 따라 데이터를 두 개의 층으로 나누는 것으로 가정\n",
        "# 수행의 단순화를 위해 'value'가 중앙값 이상이면 1, 미만이면 0으로 층을 나눔\n",
        "data['strata'] = np.where(data['value'] >= data['value'].median(), 1, 0)\n",
        "\n",
        "# 층화 샘플링\n",
        "sss = StratifiedShuffleSplit(n_splits=1, test_size=10, random_state=0)\n",
        "\n",
        "for train_index, test_index in sss.split(data, data['strata']):\n",
        "    sample_stratified = data.iloc[test_index]\n",
        "\n",
        "print(sample_stratified)\n"
      ],
      "metadata": {
        "id": "Eh7WxYTWuSt6"
      },
      "execution_count": null,
      "outputs": []
    },
    {
      "cell_type": "markdown",
      "source": [
        "군집 샘플링"
      ],
      "metadata": {
        "id": "uxpd7GOzu2Sa"
      }
    },
    {
      "cell_type": "code",
      "source": [
        "import pandas as pd\n",
        "import numpy as np\n",
        "\n",
        "# 가상의 데이터 생성\n",
        "np.random.seed(0)  # 재현 가능한 결과를 위한 시드 설정\n",
        "data = pd.DataFrame({\n",
        "    'id': range(1, 101),\n",
        "    'value': np.random.rand(100),\n",
        "    'cluster': np.random.choice(['A', 'B', 'C', 'D', 'E'], 100)  # 군집 A, B, C, D, E 중 하나를 무작위로 할당\n",
        "})\n",
        "\n",
        "# 군집별로 데이터 확인\n",
        "print(data['cluster'].value_counts())\n",
        "\n",
        "# 군집 선택: ex 무작위로 2개의 군집을 선택\n",
        "selected_clusters = np.random.choice(['A', 'B', 'C', 'D', 'E'], 2, replace=False)\n",
        "print(\"Selected Clusters:\", selected_clusters)\n",
        "\n",
        "# 선택된 군집의 데이터만 추출\n",
        "sampled_data = data[data['cluster'].isin(selected_clusters)]\n",
        "print(sampled_data)\n"
      ],
      "metadata": {
        "colab": {
          "base_uri": "https://localhost:8080/"
        },
        "id": "JpdPNGkDu2FS",
        "outputId": "6d6af16d-cef1-4dec-d0f3-8e0ec19ee518"
      },
      "execution_count": 4,
      "outputs": [
        {
          "output_type": "stream",
          "name": "stdout",
          "text": [
            "D    27\n",
            "A    27\n",
            "B    17\n",
            "C    15\n",
            "E    14\n",
            "Name: cluster, dtype: int64\n",
            "Selected Clusters: ['B' 'C']\n",
            "    id     value cluster\n",
            "0    1  0.548814       C\n",
            "2    3  0.602763       C\n",
            "9   10  0.383442       C\n",
            "10  11  0.791725       C\n",
            "20  21  0.978618       B\n",
            "25  26  0.639921       B\n",
            "28  29  0.521848       B\n",
            "30  31  0.264556       B\n",
            "36  37  0.612096       B\n",
            "39  40  0.681820       B\n",
            "40  41  0.359508       C\n",
            "43  44  0.060225       B\n",
            "44  45  0.666767       B\n",
            "49  50  0.363711       C\n",
            "51  52  0.438602       C\n",
            "59  60  0.244426       C\n",
            "63  64  0.138183       C\n",
            "66  67  0.820993       B\n",
            "71  72  0.468651       B\n",
            "72  73  0.976761       B\n",
            "73  74  0.604846       B\n",
            "75  76  0.039188       C\n",
            "76  77  0.282807       C\n",
            "79  80  0.118728       B\n",
            "80  81  0.317983       C\n",
            "82  83  0.064147       B\n",
            "84  85  0.566601       C\n",
            "85  86  0.265389       C\n",
            "87  88  0.093941       B\n",
            "92  93  0.131798       C\n",
            "95  96  0.183191       B\n",
            "96  97  0.586513       B\n"
          ]
        }
      ]
    }
  ]
}