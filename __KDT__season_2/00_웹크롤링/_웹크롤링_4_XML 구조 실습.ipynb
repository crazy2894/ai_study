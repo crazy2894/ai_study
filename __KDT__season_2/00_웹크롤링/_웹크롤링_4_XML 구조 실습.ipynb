{
  "cells": [
    {
      "cell_type": "markdown",
      "metadata": {},
      "source": [
        "- 메타 데이터 : 데이터에 대한 데이타\n",
        "- xml 스키마 : 규칙 및 제한"
      ]
    },
    {
      "cell_type": "code",
      "execution_count": 1,
      "metadata": {
        "colab": {
          "base_uri": "https://localhost:8080/"
        },
        "id": "RFnKoSKd1xcK",
        "outputId": "d74a90d9-4f56-44f8-a3d6-efa31840d66d"
      },
      "outputs": [
        {
          "name": "stdout",
          "output_type": "stream",
          "text": [
            "지역명: 계룡가온어린이집\n"
          ]
        }
      ],
      "source": [
        "import xml.etree.ElementTree as ET\n",
        "\n",
        "# XML 파일 load\n",
        "file_path = 'DaycareCenter.xml'\n",
        "tree = ET.parse(file_path)\n",
        "root = tree.getroot()\n",
        "\n",
        "\n",
        "# 'sidoname' 태그를 찾아 텍스트 값을 출력\n",
        "facility = root.find('.//crname').text if root.find('.//crname') is not None else '기관 이름 없음'\n",
        "\n",
        "\n",
        "print(f'지역명: {facility}')"
      ]
    },
    {
      "cell_type": "code",
      "execution_count": 2,
      "metadata": {
        "id": "m6beqFdOBjKh"
      },
      "outputs": [
        {
          "name": "stdout",
          "output_type": "stream",
          "text": [
            "기관명: 계룡가온어린이집, 기관코드: 44515000067\n",
            "기관명: 계룡꿈쟁이어린이집, 기관코드: 44515000069\n",
            "기관명: 계룡도담어린이집, 기관코드: 44515000066\n",
            "기관명: 계룡상록어린이집, 기관코드: 44515000036\n",
            "기관명: 계룡새싹어린이집, 기관코드: 44515000065\n",
            "기관명: 계룡어린이집, 기관코드: 44515000061\n",
            "기관명: 계룡자이어린이집, 기관코드: 44515000070\n",
            "기관명: 계룡한라비발디어린이집, 기관코드: 44515000068\n",
            "기관명: 근로복지공단 계룡어린이집, 기관코드: 44515000064\n",
            "기관명: 금암어린이집, 기관코드: 44515000003\n",
            "기관명: 꿈꾸는예지어린이집, 기관코드: 44515000050\n",
            "기관명: 꿈쟁이어린이집, 기관코드: 44515000019\n",
            "기관명: 나라어린이집, 기관코드: 44515000026\n",
            "기관명: 노벨어린이집, 기관코드: 44515000005\n",
            "기관명: 늘사랑어린이집, 기관코드: 44515000038\n",
            "기관명: 단비어린이집, 기관코드: 44515000047\n",
            "기관명: 더샵어린이집, 기관코드: 44515000046\n",
            "기관명: 도곡원광어린이집, 기관코드: 44515000021\n",
            "기관명: 레인보우어린이집, 기관코드: 44515000010\n",
            "기관명: 루미어린이집, 기관코드: 44515000002\n",
            "기관명: 머릿돌어린이집, 기관코드: 44515000037\n",
            "기관명: 반올림어린이집, 기관코드: 44515000007\n",
            "기관명: 베베코코어린이집, 기관코드: 44515000060\n",
            "기관명: 빛나는어린이집, 기관코드: 44515000049\n",
            "기관명: 사과나무어린이집, 기관코드: 44515000012\n",
            "기관명: 샘물어린이집, 기관코드: 44515000008\n",
            "기관명: 샘빛어린이집, 기관코드: 44515000044\n",
            "기관명: 성원에코비어린이집, 기관코드: 44515000022\n",
            "기관명: 소율어린이집, 기관코드: 44515000048\n",
            "기관명: 숲 어린이집, 기관코드: 44515000017\n",
            "기관명: 숲속반디어린이집, 기관코드: 44515000006\n",
            "기관명: 아이 eye 꿈나무어린이집, 기관코드: 44515000043\n",
            "기관명: 아이꿈어린이집, 기관코드: 44515000034\n",
            "기관명: 아이다운어린이집, 기관코드: 44515000030\n",
            "기관명: 아이사랑어린이집, 기관코드: 44515000004\n",
            "기관명: 아이조아어린이집, 기관코드: 44515000045\n",
            "기관명: 엄지어린이집, 기관코드: 44515000028\n",
            "기관명: 연정어린이집, 기관코드: 44515000015\n",
            "기관명: 예닮어린이집, 기관코드: 44515000024\n",
            "기관명: 예뜰어린이집, 기관코드: 44515000031\n",
            "기관명: 예지어린이집, 기관코드: 44515000035\n",
            "기관명: 유리어린이집, 기관코드: 44515000032\n",
            "기관명: 으뜸어린이집, 기관코드: 44515000027\n",
            "기관명: 이편한어린이집, 기관코드: 44515000041\n",
            "기관명: 자연 어린이집, 기관코드: 44515000020\n",
            "기관명: 정다운어린이집, 기관코드: 44515000025\n",
            "기관명: 쥬디예능어린이집, 기관코드: 44515000013\n",
            "기관명: 큰별어린이집, 기관코드: 44515000063\n",
            "기관명: 토토빌어린이집, 기관코드: 44515000042\n",
            "기관명: 파라디아어린이집, 기관코드: 44515000001\n",
            "기관명: 하나어린이집, 기관코드: 44515000014\n",
            "기관명: 하늘어린이집, 기관코드: 44515000009\n",
            "기관명: 하람어린이집, 기관코드: 44515000016\n",
            "기관명: 해미르어린이집, 기관코드: 44515000062\n",
            "기관명: 해솔어린이집, 기관코드: 44515000023\n",
            "기관명: 햇살어린이집, 기관코드: 44515000018\n"
          ]
        }
      ],
      "source": [
        "# 'item' 태그 반복 처리.\n",
        "for item in root.findall('.//item'):\n",
        "    # 각 'item' 태그 내에서 'crname' 'stcode' 태그의 텍스트 값을 추출합니다.\n",
        "    crname = item.find('crname').text if item.find('crname') is not None else '기관이름 없음'\n",
        "    stcode = item.find('stcode').text if item.find('stcode') is not None else '기관코드 없음'\n",
        "    # 추출된 정보 출력\n",
        "    print(f'기관명: {crname}, 기관코드: {stcode}')"
      ]
    },
    {
      "cell_type": "code",
      "execution_count": 3,
      "metadata": {
        "colab": {
          "base_uri": "https://localhost:8080/"
        },
        "id": "-_QF3b9KCRf4",
        "outputId": "adcf281a-bdda-45dc-d939-8821f5b2908c"
      },
      "outputs": [
        {
          "data": {
            "text/html": [
              "<div>\n",
              "<style scoped>\n",
              "    .dataframe tbody tr th:only-of-type {\n",
              "        vertical-align: middle;\n",
              "    }\n",
              "\n",
              "    .dataframe tbody tr th {\n",
              "        vertical-align: top;\n",
              "    }\n",
              "\n",
              "    .dataframe thead th {\n",
              "        text-align: right;\n",
              "    }\n",
              "</style>\n",
              "<table border=\"1\" class=\"dataframe\">\n",
              "  <thead>\n",
              "    <tr style=\"text-align: right;\">\n",
              "      <th></th>\n",
              "      <th>기관명</th>\n",
              "      <th>기관코드</th>\n",
              "    </tr>\n",
              "  </thead>\n",
              "  <tbody>\n",
              "    <tr>\n",
              "      <th>0</th>\n",
              "      <td>계룡가온어린이집</td>\n",
              "      <td>44515000067</td>\n",
              "    </tr>\n",
              "    <tr>\n",
              "      <th>1</th>\n",
              "      <td>계룡꿈쟁이어린이집</td>\n",
              "      <td>44515000069</td>\n",
              "    </tr>\n",
              "    <tr>\n",
              "      <th>2</th>\n",
              "      <td>계룡도담어린이집</td>\n",
              "      <td>44515000066</td>\n",
              "    </tr>\n",
              "    <tr>\n",
              "      <th>3</th>\n",
              "      <td>계룡상록어린이집</td>\n",
              "      <td>44515000036</td>\n",
              "    </tr>\n",
              "    <tr>\n",
              "      <th>4</th>\n",
              "      <td>계룡새싹어린이집</td>\n",
              "      <td>44515000065</td>\n",
              "    </tr>\n",
              "  </tbody>\n",
              "</table>\n",
              "</div>"
            ],
            "text/plain": [
              "         기관명         기관코드\n",
              "0   계룡가온어린이집  44515000067\n",
              "1  계룡꿈쟁이어린이집  44515000069\n",
              "2   계룡도담어린이집  44515000066\n",
              "3   계룡상록어린이집  44515000036\n",
              "4   계룡새싹어린이집  44515000065"
            ]
          },
          "metadata": {},
          "output_type": "display_data"
        }
      ],
      "source": [
        "import pandas as pd\n",
        "\n",
        "# 데이터 저장\n",
        "data = [] # 리스트\n",
        "\n",
        "# 'item' 태그 반복 처리.\n",
        "for item in root.findall('.//item'):\n",
        "    # 각 'item' 태그 내에서 필요한 데이터 추출\n",
        "    crname = item.find('crname').text if item.find('crname') is not None else '지역명 없음'\n",
        "    stcode = item.find('stcode').text if item.find('stcode') is not None else '기관코드 없음'\n",
        "\n",
        "    # 추출된 데이터를 리스트에 추가\n",
        "    data.append({\n",
        "        '기관명': crname,\n",
        "        '기관코드': stcode\n",
        "    })\n",
        "\n",
        "# 데이터 프레임 생성\n",
        "df = pd.DataFrame(data)\n",
        "\n",
        "# 데이터 프레임의 첫 5행을 출력하여 확인합니다.\n",
        "display(df.head())\n"
      ]
    }
  ],
  "metadata": {
    "colab": {
      "provenance": []
    },
    "kernelspec": {
      "display_name": "Python 3",
      "name": "python3"
    },
    "language_info": {
      "codemirror_mode": {
        "name": "ipython",
        "version": 3
      },
      "file_extension": ".py",
      "mimetype": "text/x-python",
      "name": "python",
      "nbconvert_exporter": "python",
      "pygments_lexer": "ipython3",
      "version": "3.8.15"
    }
  },
  "nbformat": 4,
  "nbformat_minor": 0
}
