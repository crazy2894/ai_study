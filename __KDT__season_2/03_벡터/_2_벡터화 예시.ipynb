{
  "cells": [
    {
      "cell_type": "code",
      "execution_count": 27,
      "metadata": {
        "id": "aoPyEwz2aRvJ"
      },
      "outputs": [],
      "source": [
        "import numpy as np\n",
        "import pandas as pd\n",
        "from sklearn.feature_extraction.text import CountVectorizer # frequency based DTM\n",
        "from sklearn.feature_extraction.text import TfidfVectorizer # tf-idf based DTM"
      ]
    },
    {
      "cell_type": "code",
      "execution_count": 28,
      "metadata": {
        "id": "GGBwuqH6aRvK"
      },
      "outputs": [],
      "source": [
        "TEXT = ['banana apple apple eggplant',\n",
        "        'orange carrot banana eggplant',\n",
        "        'apple carrot banana banana',\n",
        "        'orange banana grape'\n",
        "]\n",
        "\n",
        "TXT = \"banana apple apple eggplant orange carrot banana eggplant apple carrot banana banana orange banana grape\"\n"
      ]
    },
    {
      "cell_type": "markdown",
      "metadata": {
        "id": "ZZY6OWyKaRvK"
      },
      "source": [
        "# CountVectorizer 이용하기"
      ]
    },
    {
      "cell_type": "code",
      "execution_count": 29,
      "metadata": {
        "id": "olr48ANAaRvL"
      },
      "outputs": [],
      "source": [
        "# tf_vectorizer = CountVectorizer(min_df=1, ngram_range=(1,1))\n",
        "tf_vectorizer = CountVectorizer(min_df=1, ngram_range=(1,2))  # 최수 빈도수 정의 # 그램 정의(유니그램(단일 단어)만 고려)\n",
        "tf_features = tf_vectorizer.fit_transform(TEXT)"
      ]
    },
    {
      "cell_type": "code",
      "execution_count": 30,
      "metadata": {
        "colab": {
          "base_uri": "https://localhost:8080/"
        },
        "id": "fbkhz9fT4h_K",
        "outputId": "25523447-75d8-444a-fb3e-1ba106792799"
      },
      "outputs": [
        {
          "name": "stdout",
          "output_type": "stream",
          "text": [
            "1-gram : [['banana'], ['apple'], ['apple'], ['eggplant'], ['orange'], ['carrot'], ['banana'], ['eggplant'], ['apple'], ['carrot'], ['banana'], ['banana'], ['orange'], ['banana'], ['grape']]\n",
            "2-gram : [['banana', 'apple'], ['apple', 'apple'], ['apple', 'eggplant'], ['eggplant', 'orange'], ['orange', 'carrot'], ['carrot', 'banana'], ['banana', 'eggplant'], ['eggplant', 'apple'], ['apple', 'carrot'], ['carrot', 'banana'], ['banana', 'banana'], ['banana', 'orange'], ['orange', 'banana'], ['banana', 'grape']]\n",
            "3-gram : [['banana', 'apple', 'apple'], ['apple', 'apple', 'eggplant'], ['apple', 'eggplant', 'orange'], ['eggplant', 'orange', 'carrot'], ['orange', 'carrot', 'banana'], ['carrot', 'banana', 'eggplant'], ['banana', 'eggplant', 'apple'], ['eggplant', 'apple', 'carrot'], ['apple', 'carrot', 'banana'], ['carrot', 'banana', 'banana'], ['banana', 'banana', 'orange'], ['banana', 'orange', 'banana'], ['orange', 'banana', 'grape']]\n"
          ]
        }
      ],
      "source": [
        "# n 그램 이해\n",
        "import nltk\n",
        "from nltk import ngrams\n",
        "\n",
        "def getNgramWord(N,txt):\n",
        "    txt = txt.split()\n",
        "    ngrams = [txt[i:i+N] for i in range(len(txt)-N+1)]\n",
        "    return ngrams\n",
        "\n",
        "print(\"1-gram : \" + str(getNgramWord(1, TXT))) # unigram\n",
        "print(\"2-gram : \" + str(getNgramWord(2, TXT))) # bigram\n",
        "print(\"3-gram : \" + str(getNgramWord(3, TXT))) # trigram"
      ]
    },
    {
      "cell_type": "code",
      "execution_count": 31,
      "metadata": {
        "colab": {
          "base_uri": "https://localhost:8080/"
        },
        "id": "qtOKbfjtaRvL",
        "outputId": "7e22d438-bb20-439c-a3cd-56e0fbed2648"
      },
      "outputs": [
        {
          "name": "stdout",
          "output_type": "stream",
          "text": [
            "2.8284271247461903\n",
            "3.4641016151377544\n"
          ]
        }
      ],
      "source": [
        "features = np.array(tf_features.todense())\n",
        "print(np.linalg.norm(features[1]-features[2]))\n",
        "print(np.linalg.norm(features[1]-features[0]))"
      ]
    },
    {
      "cell_type": "code",
      "execution_count": 32,
      "metadata": {
        "colab": {
          "base_uri": "https://localhost:8080/"
        },
        "id": "lURA8F-MaRvM",
        "outputId": "730382e1-d80e-4f8f-b47d-f669c44ac3ef"
      },
      "outputs": [
        {
          "data": {
            "text/plain": [
              "array(['apple', 'apple apple', 'apple carrot', 'apple eggplant', 'banana',\n",
              "       'banana apple', 'banana banana', 'banana eggplant', 'banana grape',\n",
              "       'carrot', 'carrot banana', 'eggplant', 'grape', 'orange',\n",
              "       'orange banana', 'orange carrot'], dtype=object)"
            ]
          },
          "execution_count": 32,
          "metadata": {},
          "output_type": "execute_result"
        }
      ],
      "source": [
        "# from sklearn.feature_extraction.text import CountVectorizer\n",
        "feature_names = tf_vectorizer.get_feature_names_out()\n",
        "feature_names"
      ]
    },
    {
      "cell_type": "code",
      "execution_count": 33,
      "metadata": {
        "colab": {
          "base_uri": "https://localhost:8080/"
        },
        "id": "mUXpR2MAaRvM",
        "outputId": "3622c21c-94e8-44c7-c25c-b34746d15ad3"
      },
      "outputs": [
        {
          "data": {
            "text/html": [
              "<div>\n",
              "<style scoped>\n",
              "    .dataframe tbody tr th:only-of-type {\n",
              "        vertical-align: middle;\n",
              "    }\n",
              "\n",
              "    .dataframe tbody tr th {\n",
              "        vertical-align: top;\n",
              "    }\n",
              "\n",
              "    .dataframe thead th {\n",
              "        text-align: right;\n",
              "    }\n",
              "</style>\n",
              "<table border=\"1\" class=\"dataframe\">\n",
              "  <thead>\n",
              "    <tr style=\"text-align: right;\">\n",
              "      <th></th>\n",
              "      <th>apple</th>\n",
              "      <th>apple apple</th>\n",
              "      <th>apple carrot</th>\n",
              "      <th>apple eggplant</th>\n",
              "      <th>banana</th>\n",
              "      <th>banana apple</th>\n",
              "      <th>banana banana</th>\n",
              "      <th>banana eggplant</th>\n",
              "      <th>banana grape</th>\n",
              "      <th>carrot</th>\n",
              "      <th>carrot banana</th>\n",
              "      <th>eggplant</th>\n",
              "      <th>grape</th>\n",
              "      <th>orange</th>\n",
              "      <th>orange banana</th>\n",
              "      <th>orange carrot</th>\n",
              "    </tr>\n",
              "  </thead>\n",
              "  <tbody>\n",
              "    <tr>\n",
              "      <th>0</th>\n",
              "      <td>2</td>\n",
              "      <td>1</td>\n",
              "      <td>0</td>\n",
              "      <td>1</td>\n",
              "      <td>1</td>\n",
              "      <td>1</td>\n",
              "      <td>0</td>\n",
              "      <td>0</td>\n",
              "      <td>0</td>\n",
              "      <td>0</td>\n",
              "      <td>0</td>\n",
              "      <td>1</td>\n",
              "      <td>0</td>\n",
              "      <td>0</td>\n",
              "      <td>0</td>\n",
              "      <td>0</td>\n",
              "    </tr>\n",
              "    <tr>\n",
              "      <th>1</th>\n",
              "      <td>0</td>\n",
              "      <td>0</td>\n",
              "      <td>0</td>\n",
              "      <td>0</td>\n",
              "      <td>1</td>\n",
              "      <td>0</td>\n",
              "      <td>0</td>\n",
              "      <td>1</td>\n",
              "      <td>0</td>\n",
              "      <td>1</td>\n",
              "      <td>1</td>\n",
              "      <td>1</td>\n",
              "      <td>0</td>\n",
              "      <td>1</td>\n",
              "      <td>0</td>\n",
              "      <td>1</td>\n",
              "    </tr>\n",
              "    <tr>\n",
              "      <th>2</th>\n",
              "      <td>1</td>\n",
              "      <td>0</td>\n",
              "      <td>1</td>\n",
              "      <td>0</td>\n",
              "      <td>2</td>\n",
              "      <td>0</td>\n",
              "      <td>1</td>\n",
              "      <td>0</td>\n",
              "      <td>0</td>\n",
              "      <td>1</td>\n",
              "      <td>1</td>\n",
              "      <td>0</td>\n",
              "      <td>0</td>\n",
              "      <td>0</td>\n",
              "      <td>0</td>\n",
              "      <td>0</td>\n",
              "    </tr>\n",
              "    <tr>\n",
              "      <th>3</th>\n",
              "      <td>0</td>\n",
              "      <td>0</td>\n",
              "      <td>0</td>\n",
              "      <td>0</td>\n",
              "      <td>1</td>\n",
              "      <td>0</td>\n",
              "      <td>0</td>\n",
              "      <td>0</td>\n",
              "      <td>1</td>\n",
              "      <td>0</td>\n",
              "      <td>0</td>\n",
              "      <td>0</td>\n",
              "      <td>1</td>\n",
              "      <td>1</td>\n",
              "      <td>1</td>\n",
              "      <td>0</td>\n",
              "    </tr>\n",
              "  </tbody>\n",
              "</table>\n",
              "</div>"
            ],
            "text/plain": [
              "   apple  apple apple  apple carrot  apple eggplant  banana  banana apple  \\\n",
              "0      2            1             0               1       1             1   \n",
              "1      0            0             0               0       1             0   \n",
              "2      1            0             1               0       2             0   \n",
              "3      0            0             0               0       1             0   \n",
              "\n",
              "   banana banana  banana eggplant  banana grape  carrot  carrot banana  \\\n",
              "0              0                0             0       0              0   \n",
              "1              0                1             0       1              1   \n",
              "2              1                0             0       1              1   \n",
              "3              0                0             1       0              0   \n",
              "\n",
              "   eggplant  grape  orange  orange banana  orange carrot  \n",
              "0         1      0       0              0              0  \n",
              "1         1      0       1              0              1  \n",
              "2         0      0       0              0              0  \n",
              "3         0      1       1              1              0  "
            ]
          },
          "metadata": {},
          "output_type": "display_data"
        }
      ],
      "source": [
        "df = pd.DataFrame(data=features, columns=feature_names)\n",
        "display(df)"
      ]
    },
    {
      "cell_type": "markdown",
      "metadata": {
        "id": "EVLG2-o3aRvM"
      },
      "source": [
        "# TfidfVectorizer 이용하기"
      ]
    },
    {
      "cell_type": "code",
      "execution_count": 34,
      "metadata": {
        "id": "PE2pk5odaRvM"
      },
      "outputs": [],
      "source": [
        "tfidf_vectorizer = TfidfVectorizer(min_df=1, ngram_range=(1,1))\n",
        "tfidf_features = tfidf_vectorizer.fit_transform(TEXT)"
      ]
    },
    {
      "cell_type": "code",
      "execution_count": 35,
      "metadata": {
        "id": "qQBba-p5aRvM",
        "outputId": "2473b7fb-73e8-41ca-98f7-4fa6263ef846"
      },
      "outputs": [],
      "source": [
        "tfidf_features = np.array(tfidf_features.todense())"
      ]
    },
    {
      "cell_type": "code",
      "execution_count": 36,
      "metadata": {
        "id": "Evqh7hW6aRvN"
      },
      "outputs": [
        {
          "data": {
            "text/html": [
              "<div>\n",
              "<style scoped>\n",
              "    .dataframe tbody tr th:only-of-type {\n",
              "        vertical-align: middle;\n",
              "    }\n",
              "\n",
              "    .dataframe tbody tr th {\n",
              "        vertical-align: top;\n",
              "    }\n",
              "\n",
              "    .dataframe thead th {\n",
              "        text-align: right;\n",
              "    }\n",
              "</style>\n",
              "<table border=\"1\" class=\"dataframe\">\n",
              "  <thead>\n",
              "    <tr style=\"text-align: right;\">\n",
              "      <th></th>\n",
              "      <th>apple</th>\n",
              "      <th>banana</th>\n",
              "      <th>carrot</th>\n",
              "      <th>eggplant</th>\n",
              "      <th>grape</th>\n",
              "      <th>orange</th>\n",
              "    </tr>\n",
              "  </thead>\n",
              "  <tbody>\n",
              "    <tr>\n",
              "      <th>0</th>\n",
              "      <td>0.857643</td>\n",
              "      <td>0.283833</td>\n",
              "      <td>0.000000</td>\n",
              "      <td>0.428821</td>\n",
              "      <td>0.000000</td>\n",
              "      <td>0.000000</td>\n",
              "    </tr>\n",
              "    <tr>\n",
              "      <th>1</th>\n",
              "      <td>0.000000</td>\n",
              "      <td>0.356966</td>\n",
              "      <td>0.539313</td>\n",
              "      <td>0.539313</td>\n",
              "      <td>0.000000</td>\n",
              "      <td>0.539313</td>\n",
              "    </tr>\n",
              "    <tr>\n",
              "      <th>2</th>\n",
              "      <td>0.516233</td>\n",
              "      <td>0.683379</td>\n",
              "      <td>0.516233</td>\n",
              "      <td>0.000000</td>\n",
              "      <td>0.000000</td>\n",
              "      <td>0.000000</td>\n",
              "    </tr>\n",
              "    <tr>\n",
              "      <th>3</th>\n",
              "      <td>0.000000</td>\n",
              "      <td>0.379192</td>\n",
              "      <td>0.000000</td>\n",
              "      <td>0.000000</td>\n",
              "      <td>0.726641</td>\n",
              "      <td>0.572892</td>\n",
              "    </tr>\n",
              "  </tbody>\n",
              "</table>\n",
              "</div>"
            ],
            "text/plain": [
              "      apple    banana    carrot  eggplant     grape    orange\n",
              "0  0.857643  0.283833  0.000000  0.428821  0.000000  0.000000\n",
              "1  0.000000  0.356966  0.539313  0.539313  0.000000  0.539313\n",
              "2  0.516233  0.683379  0.516233  0.000000  0.000000  0.000000\n",
              "3  0.000000  0.379192  0.000000  0.000000  0.726641  0.572892"
            ]
          },
          "metadata": {},
          "output_type": "display_data"
        }
      ],
      "source": [
        "df = pd.DataFrame(data=tfidf_features,\n",
        "                  columns=tfidf_vectorizer.get_feature_names_out())\n",
        "display(df)"
      ]
    }
  ],
  "metadata": {
    "colab": {
      "provenance": []
    },
    "kernelspec": {
      "display_name": "Python 3",
      "language": "python",
      "name": "python3"
    },
    "language_info": {
      "codemirror_mode": {
        "name": "ipython",
        "version": 3
      },
      "file_extension": ".py",
      "mimetype": "text/x-python",
      "name": "python",
      "nbconvert_exporter": "python",
      "pygments_lexer": "ipython3",
      "version": "3.8.15"
    }
  },
  "nbformat": 4,
  "nbformat_minor": 0
}
