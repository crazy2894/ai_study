{
 "cells": [
  {
   "cell_type": "markdown",
   "metadata": {},
   "source": [
    "### 폴더 안의 공백 제거\n",
    "```py\n",
    "import os\n",
    "\n",
    "def replace_spaces_in_filenames(directory):\n",
    "    for root, dirs, files in os.walk(directory):\n",
    "        for file in files:\n",
    "            if ' ' in file:  # 파일명에 공백이 있는 경우\n",
    "                new_file = file.replace(' ', '_')  # 공백을 _로 변경\n",
    "                current_file_path = os.path.join(root, file)\n",
    "                new_file_path = os.path.join(root, new_file)\n",
    "                \n",
    "                # 파일명을 그 자리에 그대로 바꿈\n",
    "                os.rename(current_file_path, new_file_path)\n",
    "                print(f'Renamed: {file} -> {new_file}')\n",
    "\n",
    "# 사용할 디렉터리 경로 지정\n",
    "directory = 'code'  # 변경하려는 디렉터리 경로로 수정\n",
    "\n",
    "replace_spaces_in_filenames(directory)\n",
    "```"
   ]
  },
  {
   "cell_type": "markdown",
   "metadata": {},
   "source": [
    "### 파일 하이라키 구조"
   ]
  },
  {
   "cell_type": "code",
   "execution_count": 10,
   "metadata": {},
   "outputs": [],
   "source": [
    "import os\n",
    "\n",
    "def list_files(curr_dir):\n",
    "    list_of_file_dir = []\n",
    "    for root, dirs, files in os.walk(curr_dir):\n",
    "        for file in files:\n",
    "            nof = os.path.join(root, file)\n",
    "            if ('code/' in nof) and ('ipynb' in nof):\n",
    "                # code 폴더 이후의 경로만 가져옴\n",
    "                relative_path = nof.split('code/')[1]\n",
    "                list_of_file_dir.append((relative_path, nof))  # (상대 경로, 전체 경로)\n",
    "    return list_of_file_dir\n",
    "\n",
    "def generate_hierarchy(files):\n",
    "    hierarchy = {}\n",
    "    for relative_path, full_path in files:\n",
    "        parts = relative_path.split('/')  # 경로를 폴더별로 분리\n",
    "        current_level = hierarchy\n",
    "        for part in parts[:-1]:  # 마지막 요소(파일명)는 제외하고 폴더만 처리\n",
    "            if part not in current_level:\n",
    "                current_level[part] = {}\n",
    "            current_level = current_level[part]\n",
    "        current_level[parts[-1]] = full_path  # 파일은 전체 경로와 함께 저장\n",
    "    return hierarchy\n",
    "\n",
    "def write_hierarchy_to_markdown(hierarchy, f, indent=0):\n",
    "    for key, value in hierarchy.items():\n",
    "        if isinstance(value, str):  # 파일 (전체 경로를 가진 경우)\n",
    "            # 파일명을 링크 형식으로 작성\n",
    "            f.write(f\"{'    ' * indent}- [{key}]({value.split('ai_study')[-1]})\\n\")\n",
    "        else:  # 폴더\n",
    "            f.write(f\"{'    ' * indent}- {key}\\n\")\n",
    "            write_hierarchy_to_markdown(value, f, indent + 1)\n",
    "\n",
    "# 현재 폴더에서 시작\n",
    "current_directory = os.getcwd()\n",
    "lof_ = list_files(current_directory)\n",
    "\n",
    "# 계층 구조 생성\n",
    "hierarchy_files = generate_hierarchy(lof_)\n",
    "\n",
    "# 결과를 Markdown 파일로 저장\n",
    "with open('markdown/00_files.md', 'w') as f:\n",
    "    f.write('### 전체 코드 파일\\n\\n')\n",
    "    write_hierarchy_to_markdown(hierarchy_files, f)\n"
   ]
  }
 ],
 "metadata": {
  "kernelspec": {
   "display_name": "p311",
   "language": "python",
   "name": "python3"
  },
  "language_info": {
   "codemirror_mode": {
    "name": "ipython",
    "version": 3
   },
   "file_extension": ".py",
   "mimetype": "text/x-python",
   "name": "python",
   "nbconvert_exporter": "python",
   "pygments_lexer": "ipython3",
   "version": "3.11.9"
  }
 },
 "nbformat": 4,
 "nbformat_minor": 2
}
