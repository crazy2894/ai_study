{
 "cells": [
  {
   "cell_type": "code",
   "execution_count": 14,
   "metadata": {},
   "outputs": [],
   "source": [
    "import os\n",
    "\n",
    "def list_files(curr_dir):\n",
    "    list_of_file_dir =[]\n",
    "    for root, dirs, files in os.walk(curr_dir):\n",
    "        for file in files:\n",
    "            nof = os.path.join(root, file)\n",
    "            if ('codes/' in nof) and ('ipynb' in nof):\n",
    "                list_of_file_dir.append(nof.split('codes/')[1])\n",
    "    return list_of_file_dir\n",
    "\n",
    "# 현재 폴더에서 시작\n",
    "current_directory = os.getcwd()\n",
    "lof_ = list_files(current_directory)\n",
    "\n",
    "with open('mds/00_files.md', 'w') as f:\n",
    "    f.write('### 전체 코드 파일 구조'+'\\n')\n",
    "    f.write('```'+'\\n')\n",
    "    for i in lof_:\n",
    "        f.write(i+'\\n')\n",
    "    f.write('```')"
   ]
  }
 ],
 "metadata": {
  "kernelspec": {
   "display_name": "p311",
   "language": "python",
   "name": "python3"
  },
  "language_info": {
   "codemirror_mode": {
    "name": "ipython",
    "version": 3
   },
   "file_extension": ".py",
   "mimetype": "text/x-python",
   "name": "python",
   "nbconvert_exporter": "python",
   "pygments_lexer": "ipython3",
   "version": "3.11.9"
  }
 },
 "nbformat": 4,
 "nbformat_minor": 2
}
