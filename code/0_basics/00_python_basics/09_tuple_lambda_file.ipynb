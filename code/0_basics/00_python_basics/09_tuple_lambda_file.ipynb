{
 "cells": [
  {
   "cell_type": "markdown",
   "metadata": {},
   "source": [
    "# 9. 튜플, 람다 그리고 파일처리\n"
   ]
  },
  {
   "cell_type": "markdown",
   "metadata": {},
   "source": [
    "## 9.1 튜플\n"
   ]
  },
  {
   "cell_type": "markdown",
   "metadata": {},
   "source": [
    "- 튜플 : 리스트와 유사한 자료형, 한번 결정된 요소를 바꿀수 없음\n",
    "```\n",
    "(요소, 요소, 요소, ...)\n",
    "```"
   ]
  },
  {
   "cell_type": "code",
   "execution_count": 1,
   "metadata": {},
   "outputs": [],
   "source": [
    "sample_tuple = (10, 20, 30)"
   ]
  },
  {
   "cell_type": "code",
   "execution_count": 2,
   "metadata": {},
   "outputs": [
    {
     "data": {
      "text/plain": [
       "10"
      ]
     },
     "execution_count": 2,
     "metadata": {},
     "output_type": "execute_result"
    }
   ],
   "source": [
    "sample_tuple[0]"
   ]
  },
  {
   "cell_type": "code",
   "execution_count": 3,
   "metadata": {},
   "outputs": [
    {
     "data": {
      "text/plain": [
       "20"
      ]
     },
     "execution_count": 3,
     "metadata": {},
     "output_type": "execute_result"
    }
   ],
   "source": [
    "sample_tuple[1]"
   ]
  },
  {
   "cell_type": "code",
   "execution_count": 4,
   "metadata": {},
   "outputs": [
    {
     "data": {
      "text/plain": [
       "30"
      ]
     },
     "execution_count": 4,
     "metadata": {},
     "output_type": "execute_result"
    }
   ],
   "source": [
    "sample_tuple[2]"
   ]
  },
  {
   "cell_type": "code",
   "execution_count": 5,
   "metadata": {},
   "outputs": [
    {
     "ename": "TypeError",
     "evalue": "'tuple' object does not support item assignment",
     "output_type": "error",
     "traceback": [
      "\u001b[1;31m---------------------------------------------------------------------------\u001b[0m",
      "\u001b[1;31mTypeError\u001b[0m                                 Traceback (most recent call last)",
      "Cell \u001b[1;32mIn[5], line 1\u001b[0m\n\u001b[1;32m----> 1\u001b[0m sample_tuple[\u001b[38;5;241m0\u001b[39m] \u001b[38;5;241m=\u001b[39m \u001b[38;5;241m40\u001b[39m\n",
      "\u001b[1;31mTypeError\u001b[0m: 'tuple' object does not support item assignment"
     ]
    }
   ],
   "source": [
    "sample_tuple[0] = 40"
   ]
  },
  {
   "cell_type": "code",
   "execution_count": 6,
   "metadata": {},
   "outputs": [],
   "source": [
    "sample_list = [10, 20, 30]"
   ]
  },
  {
   "cell_type": "code",
   "execution_count": 7,
   "metadata": {},
   "outputs": [
    {
     "name": "stdout",
     "output_type": "stream",
     "text": [
      "10\n",
      "20\n",
      "30\n"
     ]
    }
   ],
   "source": [
    "print(sample_list[0])\n",
    "print(sample_list[1])\n",
    "print(sample_list[2])"
   ]
  },
  {
   "cell_type": "code",
   "execution_count": 8,
   "metadata": {},
   "outputs": [
    {
     "name": "stdout",
     "output_type": "stream",
     "text": [
      "Before: [10, 20, 30]\n",
      "After: [40, 20, 30]\n"
     ]
    }
   ],
   "source": [
    "print('Before:', sample_list)\n",
    "sample_list[0] = 40\n",
    "print('After:', sample_list)"
   ]
  },
  {
   "cell_type": "markdown",
   "metadata": {},
   "source": [
    "- 요소가 1개인 튜플 만들기"
   ]
  },
  {
   "cell_type": "code",
   "execution_count": 9,
   "metadata": {},
   "outputs": [],
   "source": [
    "single_tuple = (100)"
   ]
  },
  {
   "cell_type": "code",
   "execution_count": 10,
   "metadata": {},
   "outputs": [
    {
     "data": {
      "text/plain": [
       "int"
      ]
     },
     "execution_count": 10,
     "metadata": {},
     "output_type": "execute_result"
    }
   ],
   "source": [
    "type(single_tuple)"
   ]
  },
  {
   "cell_type": "code",
   "execution_count": 11,
   "metadata": {},
   "outputs": [],
   "source": [
    "single_tuple = (100,)"
   ]
  },
  {
   "cell_type": "code",
   "execution_count": 12,
   "metadata": {},
   "outputs": [
    {
     "data": {
      "text/plain": [
       "tuple"
      ]
     },
     "execution_count": 12,
     "metadata": {},
     "output_type": "execute_result"
    }
   ],
   "source": [
    "type(single_tuple)"
   ]
  },
  {
   "cell_type": "markdown",
   "metadata": {},
   "source": [
    "### 괄호 없는 튜플\n"
   ]
  },
  {
   "cell_type": "markdown",
   "metadata": {},
   "source": [
    "- 변수 할당 방법"
   ]
  },
  {
   "cell_type": "code",
   "execution_count": 13,
   "metadata": {},
   "outputs": [],
   "source": [
    "x, y = 10, 20"
   ]
  },
  {
   "cell_type": "code",
   "execution_count": 15,
   "metadata": {},
   "outputs": [
    {
     "name": "stdout",
     "output_type": "stream",
     "text": [
      "x = 10, y = 20\n"
     ]
    }
   ],
   "source": [
    "print('x = {}, y = {}'.format(x, y))"
   ]
  },
  {
   "cell_type": "code",
   "execution_count": 16,
   "metadata": {},
   "outputs": [],
   "source": [
    "x = 10, 20"
   ]
  },
  {
   "cell_type": "code",
   "execution_count": 17,
   "metadata": {},
   "outputs": [
    {
     "data": {
      "text/plain": [
       "(10, 20)"
      ]
     },
     "execution_count": 17,
     "metadata": {},
     "output_type": "execute_result"
    }
   ],
   "source": [
    "x"
   ]
  },
  {
   "cell_type": "code",
   "execution_count": 18,
   "metadata": {},
   "outputs": [
    {
     "data": {
      "text/plain": [
       "tuple"
      ]
     },
     "execution_count": 18,
     "metadata": {},
     "output_type": "execute_result"
    }
   ],
   "source": [
    "type(x)"
   ]
  },
  {
   "cell_type": "markdown",
   "metadata": {},
   "source": [
    "- TMI"
   ]
  },
  {
   "cell_type": "code",
   "execution_count": 25,
   "metadata": {},
   "outputs": [
    {
     "name": "stdout",
     "output_type": "stream",
     "text": [
      "x = 10, y = 20\n"
     ]
    }
   ],
   "source": [
    "x, y = 10, 20\n",
    "print('x = {}, y = {}'.format(x, y))"
   ]
  },
  {
   "cell_type": "markdown",
   "metadata": {},
   "source": [
    "- x와 y값을 맞바꾸려면?"
   ]
  },
  {
   "cell_type": "code",
   "execution_count": 22,
   "metadata": {},
   "outputs": [],
   "source": [
    "tmp_x = x\n",
    "x = y\n",
    "y = tmp_x"
   ]
  },
  {
   "cell_type": "code",
   "execution_count": 23,
   "metadata": {},
   "outputs": [
    {
     "name": "stdout",
     "output_type": "stream",
     "text": [
      "x = 20, y = 10\n"
     ]
    }
   ],
   "source": [
    "print('x = {}, y = {}'.format(x, y))"
   ]
  },
  {
   "cell_type": "code",
   "execution_count": 24,
   "metadata": {},
   "outputs": [
    {
     "name": "stdout",
     "output_type": "stream",
     "text": [
      "x = 10, y = 20\n"
     ]
    }
   ],
   "source": [
    "x, y = y, x\n",
    "print('x = {}, y = {}'.format(x, y))"
   ]
  },
  {
   "cell_type": "markdown",
   "metadata": {},
   "source": [
    "### 튜플과 함수\n"
   ]
  },
  {
   "cell_type": "markdown",
   "metadata": {},
   "source": [
    "- 튜플은 함수의 리턴에 많이 사용 됨.\n",
    "- 함수의 리턴에 튜플을 사용하면 여러 개의 값을 리턴할 수 있기 때문"
   ]
  },
  {
   "cell_type": "code",
   "execution_count": 26,
   "metadata": {},
   "outputs": [],
   "source": [
    "def test():\n",
    "    return (10, 20)"
   ]
  },
  {
   "cell_type": "code",
   "execution_count": 28,
   "metadata": {},
   "outputs": [
    {
     "data": {
      "text/plain": [
       "((10, 20), tuple)"
      ]
     },
     "execution_count": 28,
     "metadata": {},
     "output_type": "execute_result"
    }
   ],
   "source": [
    "test(), type(test())"
   ]
  },
  {
   "cell_type": "code",
   "execution_count": 29,
   "metadata": {},
   "outputs": [
    {
     "name": "stdout",
     "output_type": "stream",
     "text": [
      "a = 10, b = 20\n"
     ]
    }
   ],
   "source": [
    "a, b = test()\n",
    "print('a = {}, b = {}'.format(a, b))"
   ]
  },
  {
   "cell_type": "code",
   "execution_count": 33,
   "metadata": {},
   "outputs": [
    {
     "name": "stdout",
     "output_type": "stream",
     "text": [
      "(0, 1) <class 'tuple'>\n",
      "(1, 2) <class 'tuple'>\n",
      "(2, 3) <class 'tuple'>\n",
      "(3, 4) <class 'tuple'>\n",
      "(4, 5) <class 'tuple'>\n",
      "(5, 6) <class 'tuple'>\n"
     ]
    }
   ],
   "source": [
    "sample_list = [1,2,3,4,5,6]\n",
    "for something in enumerate(sample_list):\n",
    "    print(something, type(something))"
   ]
  },
  {
   "cell_type": "code",
   "execution_count": 32,
   "metadata": {},
   "outputs": [
    {
     "name": "stdout",
     "output_type": "stream",
     "text": [
      "('이미', '튜플') <class 'tuple'>\n",
      "('알고', '있었어') <class 'tuple'>\n"
     ]
    }
   ],
   "source": [
    "sample_dict = {'이미':'튜플', '알고':'있었어'}\n",
    "for something in sample_dict.items():\n",
    "    print(something, type(something))"
   ]
  },
  {
   "cell_type": "markdown",
   "metadata": {},
   "source": [
    "## 9.2 람다 (알면 좋고 정도)\n"
   ]
  },
  {
   "cell_type": "markdown",
   "metadata": {},
   "source": [
    "- 함수를 매개변수로 전달하는 코드를 구현할 때 사용하는 기능?"
   ]
  },
  {
   "cell_type": "markdown",
   "metadata": {},
   "source": [
    "### 함수의 매개변수로 함수 전달하기\n"
   ]
  },
  {
   "cell_type": "code",
   "execution_count": 34,
   "metadata": {},
   "outputs": [],
   "source": [
    "def call_10_times(func):\n",
    "    # 10회 반복\n",
    "    for i in range(10):\n",
    "        # 매개변수로 받은 func 함수 실행\n",
    "        func()"
   ]
  },
  {
   "cell_type": "code",
   "execution_count": 35,
   "metadata": {},
   "outputs": [],
   "source": [
    "def print_hello():\n",
    "    print('안녕하세요')"
   ]
  },
  {
   "cell_type": "code",
   "execution_count": 36,
   "metadata": {},
   "outputs": [
    {
     "name": "stdout",
     "output_type": "stream",
     "text": [
      "안녕하세요\n",
      "안녕하세요\n",
      "안녕하세요\n",
      "안녕하세요\n",
      "안녕하세요\n",
      "안녕하세요\n",
      "안녕하세요\n",
      "안녕하세요\n",
      "안녕하세요\n",
      "안녕하세요\n"
     ]
    }
   ],
   "source": [
    "call_10_times(print_hello)"
   ]
  },
  {
   "cell_type": "markdown",
   "metadata": {},
   "source": [
    "### filter() 함수와 map() 함수\n"
   ]
  },
  {
   "cell_type": "markdown",
   "metadata": {},
   "source": [
    "- 함수를 매개변수로 사용하는 대표적인 표준 함수(내장 함수)로 map()과 filter() 함수가 있음"
   ]
  },
  {
   "cell_type": "markdown",
   "metadata": {},
   "source": [
    "- map() 함수: 리스트의 요소를 함수에 넣고 리턴된 값으로 새로운 리스트를 구성해 주는 함수\n",
    "```\n",
    "map(함수, 리스트)\n",
    "```"
   ]
  },
  {
   "cell_type": "code",
   "execution_count": 44,
   "metadata": {},
   "outputs": [
    {
     "name": "stdout",
     "output_type": "stream",
     "text": [
      "[1, 2, 3, 4, 5]\n"
     ]
    }
   ],
   "source": [
    "sample_list = [1,2,3,4,5]\n",
    "# sample_list = list(range(1,1+5))\n",
    "print(sample_list)"
   ]
  },
  {
   "cell_type": "markdown",
   "metadata": {},
   "source": [
    "- sample_list의 각 요소를 제곱한 리스트를 만들어보자"
   ]
  },
  {
   "cell_type": "code",
   "execution_count": 45,
   "metadata": {},
   "outputs": [],
   "source": [
    "def power(x):\n",
    "    return x ** 2"
   ]
  },
  {
   "cell_type": "code",
   "execution_count": 46,
   "metadata": {},
   "outputs": [
    {
     "name": "stdout",
     "output_type": "stream",
     "text": [
      "[1, 4, 9, 16, 25]\n"
     ]
    }
   ],
   "source": [
    "# 빈 리스트 정의\n",
    "new_sample_list = []\n",
    "# sample_list의 원소 순회 (반복)\n",
    "for element in sample_list:\n",
    "    # 제곱한 값 계산\n",
    "    power_of_element = power(element)\n",
    "    # new_sample_list에 추가\n",
    "    new_sample_list.append(power_of_element)\n",
    "# 결과 출력\n",
    "print(new_sample_list)"
   ]
  },
  {
   "cell_type": "code",
   "execution_count": 47,
   "metadata": {},
   "outputs": [
    {
     "data": {
      "text/plain": [
       "<map at 0x24a472a5cf0>"
      ]
     },
     "execution_count": 47,
     "metadata": {},
     "output_type": "execute_result"
    }
   ],
   "source": [
    "map(power, sample_list)"
   ]
  },
  {
   "cell_type": "code",
   "execution_count": 48,
   "metadata": {},
   "outputs": [
    {
     "data": {
      "text/plain": [
       "[1, 4, 9, 16, 25]"
      ]
     },
     "execution_count": 48,
     "metadata": {},
     "output_type": "execute_result"
    }
   ],
   "source": [
    "list(map(power, sample_list))"
   ]
  },
  {
   "cell_type": "code",
   "execution_count": 5,
   "metadata": {},
   "outputs": [],
   "source": [
    "def power_xy(x,y):\n",
    "    # if len(values) != 2:\n",
    "    #     raise TypeError\n",
    "    \n",
    "    return x**y"
   ]
  },
  {
   "cell_type": "code",
   "execution_count": 6,
   "metadata": {},
   "outputs": [
    {
     "data": {
      "text/plain": [
       "[1, 16]"
      ]
     },
     "execution_count": 6,
     "metadata": {},
     "output_type": "execute_result"
    }
   ],
   "source": [
    "list(map(power_xy, [1,2], [3,4]))"
   ]
  },
  {
   "cell_type": "markdown",
   "metadata": {},
   "source": [
    "- filter() 함수는 리스트의 요소를 함수에 넣고 리턴된 값이 True인 것으로, 새로운 리스트를 구성해주는 함수"
   ]
  },
  {
   "cell_type": "markdown",
   "metadata": {},
   "source": [
    "- sample_list에서 3보다 작은 원소만 추출한 리스트를 만들어보자"
   ]
  },
  {
   "cell_type": "code",
   "execution_count": 50,
   "metadata": {},
   "outputs": [
    {
     "name": "stdout",
     "output_type": "stream",
     "text": [
      "[1, 2, 3, 4, 5]\n",
      "[1, 2]\n"
     ]
    }
   ],
   "source": [
    "print(sample_list)\n",
    "# 빈 리스트 정의\n",
    "new_sample_list = []\n",
    "# sample_list의 원소 순회 (반복)\n",
    "for element in sample_list:\n",
    "    # element가 3보다 작은지 확인\n",
    "    if element < 3:\n",
    "        # new_sample_list에 추가\n",
    "        new_sample_list.append(element)\n",
    "# 결과 출력\n",
    "print(new_sample_list)"
   ]
  },
  {
   "cell_type": "code",
   "execution_count": 51,
   "metadata": {},
   "outputs": [
    {
     "name": "stdout",
     "output_type": "stream",
     "text": [
      "[1, 2, 3, 4, 5]\n",
      "[1, 2]\n"
     ]
    }
   ],
   "source": [
    "print(sample_list)\n",
    "# 빈 리스트 정의\n",
    "new_sample_list = []\n",
    "# sample_list의 원소 순회 (반복)\n",
    "for element in sample_list:\n",
    "    # element가 3 이상인지 확인\n",
    "    if element >= 3:\n",
    "        continue\n",
    "    # new_sample_list에 추가\n",
    "    new_sample_list.append(element)\n",
    "# 결과 출력\n",
    "print(new_sample_list)"
   ]
  },
  {
   "cell_type": "markdown",
   "metadata": {},
   "source": [
    "- filter 함수 이용"
   ]
  },
  {
   "cell_type": "code",
   "execution_count": null,
   "metadata": {},
   "outputs": [],
   "source": [
    "def under_3(x):\n",
    "    return x < 3"
   ]
  },
  {
   "cell_type": "code",
   "execution_count": 52,
   "metadata": {},
   "outputs": [
    {
     "data": {
      "text/plain": [
       "<filter at 0x24a4728f580>"
      ]
     },
     "execution_count": 52,
     "metadata": {},
     "output_type": "execute_result"
    }
   ],
   "source": [
    "filter(under_3, sample_list)"
   ]
  },
  {
   "cell_type": "code",
   "execution_count": 53,
   "metadata": {},
   "outputs": [
    {
     "data": {
      "text/plain": [
       "[1, 2]"
      ]
     },
     "execution_count": 53,
     "metadata": {},
     "output_type": "execute_result"
    }
   ],
   "source": [
    "list(filter(under_3, sample_list))"
   ]
  },
  {
   "cell_type": "markdown",
   "metadata": {},
   "source": [
    "### 람다의 개념\n"
   ]
  },
  {
   "cell_type": "code",
   "execution_count": 54,
   "metadata": {},
   "outputs": [],
   "source": [
    "def power(x):\n",
    "    return x ** 2\n",
    "\n",
    "def under_3(x):\n",
    "    return x < 3"
   ]
  },
  {
   "cell_type": "markdown",
   "metadata": {},
   "source": [
    "- 매개변수로 함수를 전달하기 위해 위처럼 함수 구문을 작성하는게 번거로울 수도\n",
    "- 매개변수로 사용된 함수를 찾으러 코드 내에서 왔다갔다하는 것도 비효율 적이다 생각할 수도\n",
    "- 람다 : '간단한 함수를 쉽게 선언하는 방법'\n",
    "```\n",
    "lambda 매개변수: 리턴값\n",
    "```"
   ]
  },
  {
   "cell_type": "code",
   "execution_count": 56,
   "metadata": {},
   "outputs": [],
   "source": [
    "power = lambda x: x**2\n",
    "under_3 = lambda x: x<3"
   ]
  },
  {
   "cell_type": "code",
   "execution_count": 58,
   "metadata": {},
   "outputs": [
    {
     "name": "stdout",
     "output_type": "stream",
     "text": [
      "[1, 4, 9, 16, 25]\n",
      "[1, 2]\n"
     ]
    }
   ],
   "source": [
    "sample_list = [1,2,3,4,5]\n",
    "print(list(map(power, sample_list)))\n",
    "print(list(filter(under_3, sample_list)))"
   ]
  },
  {
   "cell_type": "code",
   "execution_count": 59,
   "metadata": {},
   "outputs": [
    {
     "name": "stdout",
     "output_type": "stream",
     "text": [
      "[1, 4, 9, 16, 25]\n",
      "[1, 2]\n"
     ]
    }
   ],
   "source": [
    "sample_list = [1,2,3,4,5]\n",
    "print(list(map(lambda x: x**2, sample_list)))\n",
    "print(list(filter(lambda x: x<3, sample_list)))"
   ]
  },
  {
   "cell_type": "code",
   "execution_count": null,
   "metadata": {},
   "outputs": [],
   "source": []
  },
  {
   "cell_type": "code",
   "execution_count": 64,
   "metadata": {},
   "outputs": [
    {
     "name": "stdout",
     "output_type": "stream",
     "text": [
      "안녕하세요\n",
      "안녕하세요\n",
      "안녕하세요\n",
      "안녕하세요\n",
      "안녕하세요\n",
      "안녕하세요\n",
      "안녕하세요\n",
      "안녕하세요\n",
      "안녕하세요\n",
      "안녕하세요\n"
     ]
    }
   ],
   "source": [
    "def call_10_times(func):\n",
    "    # 10회 반복\n",
    "    for i in range(10):\n",
    "        # 매개변수로 받은 func 함수 실행\n",
    "        func()\n",
    "\n",
    "def print_hello():\n",
    "    print('안녕하세요')\n",
    "    \n",
    "call_10_times(print_hello)"
   ]
  },
  {
   "cell_type": "markdown",
   "metadata": {},
   "source": [
    "- 위 코드에서 print_hello를 람다 함수로 바꾸어 보세요."
   ]
  },
  {
   "cell_type": "code",
   "execution_count": 63,
   "metadata": {},
   "outputs": [
    {
     "name": "stdout",
     "output_type": "stream",
     "text": [
      "안녕하세요\n",
      "안녕하세요\n",
      "안녕하세요\n",
      "안녕하세요\n",
      "안녕하세요\n",
      "안녕하세요\n",
      "안녕하세요\n",
      "안녕하세요\n",
      "안녕하세요\n",
      "안녕하세요\n"
     ]
    }
   ],
   "source": [
    "call_10_times(lambda : print('안녕하세요'))"
   ]
  },
  {
   "cell_type": "markdown",
   "metadata": {},
   "source": [
    "## 9.3 파일처리"
   ]
  },
  {
   "cell_type": "markdown",
   "metadata": {},
   "source": [
    "- 파이썬 표준 함수에는 파일과 관련된 처리를 하는 함수가 기본적으로 제공\n",
    "- 텍스트 파일을 처리하는 방법에 대해 알아보자"
   ]
  },
  {
   "cell_type": "markdown",
   "metadata": {},
   "source": [
    "### 파일 열고 닫기\n"
   ]
  },
  {
   "cell_type": "markdown",
   "metadata": {},
   "source": [
    "파일을 열 때는 open() 함수를 사용\n",
    "```\n",
    "파일 객체(변수명) = open(파일경로 (문자열), 읽기모드 (문자열))\n",
    "```\n",
    "|모드|설명|\n",
    "|-|-|\n",
    "|w|write 모드(새로 쓰기 모드)|\n",
    "|a|append 모드(이어서 쓰기 모드)|\n",
    "|r|read 모드(읽기 모드)|\n",
    "\n",
    "(**주의**) ***write*** 모드로 잘못열면 파일 날아감 "
   ]
  },
  {
   "cell_type": "markdown",
   "metadata": {},
   "source": [
    "파일을 닫을 때는 close() 함수를 사용\n",
    "```\n",
    "파일 객체(변수명).close()\n",
    "```\n",
    "(**주의**) 열면 꼭 닫아야 함!!"
   ]
  },
  {
   "cell_type": "code",
   "execution_count": 65,
   "metadata": {},
   "outputs": [],
   "source": [
    "# 새로 쓰기 모드로 파일 열기\n",
    "file = open('sample.txt', 'w')"
   ]
  },
  {
   "cell_type": "code",
   "execution_count": 66,
   "metadata": {},
   "outputs": [
    {
     "data": {
      "text/plain": [
       "13"
      ]
     },
     "execution_count": 66,
     "metadata": {},
     "output_type": "execute_result"
    }
   ],
   "source": [
    "# 파일에 텍스트 쓰기\n",
    "file.write('안녕하세요 양승환입니다.')"
   ]
  },
  {
   "cell_type": "code",
   "execution_count": 67,
   "metadata": {},
   "outputs": [],
   "source": [
    "file.close()"
   ]
  },
  {
   "cell_type": "markdown",
   "metadata": {},
   "source": [
    "### with 키워드\n"
   ]
  },
  {
   "cell_type": "markdown",
   "metadata": {},
   "source": [
    "- 열고 닫는게 좀 번거로움\n",
    "- 코드가 길어지면 닫는걸 잊는 경우가 발생\n",
    "- 한 단락에서 자동으로 열고 닫는 기능이 있음\n",
    "```\n",
    "with open(파일경로, 모드) as 파일 객체:\n",
    "    코드\n",
    "```"
   ]
  },
  {
   "cell_type": "code",
   "execution_count": 69,
   "metadata": {},
   "outputs": [],
   "source": [
    "with open('sample_with.txt', 'w') as file:\n",
    "    file.write('안녕하세요. 양승환입니다.')"
   ]
  },
  {
   "cell_type": "markdown",
   "metadata": {},
   "source": [
    "#### 텍스트 추가하기 (append)"
   ]
  },
  {
   "cell_type": "code",
   "execution_count": 71,
   "metadata": {},
   "outputs": [],
   "source": [
    "with open('sample_with.txt', 'a') as file:\n",
    "    file.write('텍스트를 조심스레 추가해봅니다.')"
   ]
  },
  {
   "cell_type": "markdown",
   "metadata": {},
   "source": [
    "- 텍스트가 옆으로 이어 붙는다!!"
   ]
  },
  {
   "cell_type": "code",
   "execution_count": 72,
   "metadata": {},
   "outputs": [],
   "source": [
    "with open('sample_with.txt', 'a') as file:\n",
    "    file.write('\\n개행하고 텍스트를 추가해봅니다.')"
   ]
  },
  {
   "cell_type": "markdown",
   "metadata": {},
   "source": [
    "- 기존 파일이 없는 상태에서 append 모드로 파일을 열면 어떻게 될까?"
   ]
  },
  {
   "cell_type": "code",
   "execution_count": 70,
   "metadata": {},
   "outputs": [],
   "source": [
    "with open('sample_with_a.txt', 'a') as file:\n",
    "    file.write('안녕하세요. 양승환입니다.')"
   ]
  },
  {
   "cell_type": "markdown",
   "metadata": {},
   "source": [
    "- write 모드랑 동일한 결과"
   ]
  },
  {
   "cell_type": "markdown",
   "metadata": {},
   "source": [
    "### 텍스트 읽기\n"
   ]
  },
  {
   "cell_type": "code",
   "execution_count": 73,
   "metadata": {},
   "outputs": [
    {
     "name": "stdout",
     "output_type": "stream",
     "text": [
      "안녕하세요. 양승환입니다.텍스트를 조심스레 추가해봅니다.\n",
      "개행하고 텍스트를 추가해봅니다.\n"
     ]
    }
   ],
   "source": [
    "with open('sample_with.txt', 'r') as file:\n",
    "    contents = file.read()\n",
    "print(contents)"
   ]
  },
  {
   "cell_type": "markdown",
   "metadata": {},
   "source": [
    "### 텍스트 한 줄씩 읽기"
   ]
  },
  {
   "cell_type": "code",
   "execution_count": 74,
   "metadata": {},
   "outputs": [
    {
     "name": "stdout",
     "output_type": "stream",
     "text": [
      "Hoo-ooh-ooh-ooh\n",
      "\n",
      "Hoo-ooh-ooh-ooh\n",
      "\n",
      "Stay in the middle\n",
      "\n",
      "Like you a little\n",
      "\n",
      "Don't want no riddle\n",
      "\n",
      "말해줘 say it back, oh, say it ditto\n",
      "\n",
      "아침은 너무 멀어 so say it ditto\n",
      "\n",
      "훌쩍 커버렸어\n",
      "\n",
      "함께한 기억처럼\n",
      "\n",
      "널 보는 내 마음은\n",
      "\n",
      "어느새 여름 지나 가을\n",
      "\n",
      "기다렸지 all this time\n",
      "\n",
      "Do you want somebody\n",
      "\n",
      "Like I want somebody?\n",
      "\n",
      "날 보고 웃었지만\n",
      "\n",
      "Do you think about me now? Yeah\n",
      "\n",
      "All the time, yeah, all the time\n",
      "\n",
      "I got no time to lose\n",
      "\n",
      "내 길었던 하루, 난 보고 싶어\n",
      "\n",
      "Ra-ta-ta-ta 울린 심장 (ra-ta-ta-ta)\n",
      "\n",
      "I got nothing to lose\n",
      "\n",
      "널 좋아한다고 ooh-whoa, ooh-whoa, ooh-whoa\n",
      "\n",
      "Ra-ta-ta-ta 울린 심장 (ra-ta-ta-ta)\n",
      "\n",
      "But I don't want to\n",
      "\n",
      "Stay in the middle\n",
      "\n",
      "Like you a little\n",
      "\n",
      "Don't want no riddle\n",
      "\n",
      "말해줘 say it back, oh, say it ditto\n",
      "\n",
      "아침은 너무 멀어 so say it ditto\n",
      "\n",
      "I don't want to walk in this 미로\n",
      "\n",
      "다 아는 건 아니어도\n",
      "\n",
      "바라던 대로 말해줘 say it back\n",
      "\n",
      "Oh, say it ditto\n",
      "\n",
      "I want you so, want you, so say it ditto\n",
      "\n",
      "Not just anybody\n",
      "\n",
      "너를 상상했지\n",
      "\n",
      "항상 닿아있던\n",
      "\n",
      "처음 느낌 그대로 난\n",
      "\n",
      "기다렸지 all this time\n",
      "\n",
      "I got nothing to lose\n",
      "\n",
      "널 좋아한다고 ooh-whoa, ooh-whoa, ooh-whoa\n",
      "\n",
      "Ra-ta-ta-ta 울린 심장 (ra-ta-ta-ta)\n",
      "\n",
      "But I don't want to\n",
      "\n",
      "Stay in the middle\n",
      "\n",
      "Like you a little\n",
      "\n",
      "Don't want no riddle\n",
      "\n",
      "말해줘 say it back, oh, say it ditto\n",
      "\n",
      "아침은 너무 멀어 so say it ditto\n",
      "\n",
      "I don't want to walk in this 미로\n",
      "\n",
      "다 아는 건 아니어도\n",
      "\n",
      "바라던 대로 말해줘 say it back\n",
      "\n",
      "Oh, say it ditto\n",
      "\n",
      "I want you so, want you, so say it ditto\n",
      "\n",
      "Hoo-ooh-ooh-ooh\n",
      "\n",
      "Hoo-ooh-ooh-ooh\n"
     ]
    }
   ],
   "source": [
    "with open('ditto_lyrics.txt', 'r') as file:\n",
    "    for one_line in file:\n",
    "        print(one_line)"
   ]
  },
  {
   "cell_type": "code",
   "execution_count": 76,
   "metadata": {},
   "outputs": [
    {
     "name": "stdout",
     "output_type": "stream",
     "text": [
      "line 01: Hoo-ooh-ooh-ooh\n",
      "\n",
      "line 02: Hoo-ooh-ooh-ooh\n",
      "\n",
      "line 03: Stay in the middle\n",
      "\n",
      "line 04: Like you a little\n",
      "\n",
      "line 05: Don't want no riddle\n",
      "\n",
      "line 06: 말해줘 say it back, oh, say it ditto\n",
      "\n",
      "line 07: 아침은 너무 멀어 so say it ditto\n",
      "\n",
      "line 08: 훌쩍 커버렸어\n",
      "\n",
      "line 09: 함께한 기억처럼\n",
      "\n",
      "line 10: 널 보는 내 마음은\n",
      "\n",
      "line 11: 어느새 여름 지나 가을\n",
      "\n",
      "line 12: 기다렸지 all this time\n",
      "\n",
      "line 13: Do you want somebody\n",
      "\n",
      "line 14: Like I want somebody?\n",
      "\n",
      "line 15: 날 보고 웃었지만\n",
      "\n",
      "line 16: Do you think about me now? Yeah\n",
      "\n",
      "line 17: All the time, yeah, all the time\n",
      "\n",
      "line 18: I got no time to lose\n",
      "\n",
      "line 19: 내 길었던 하루, 난 보고 싶어\n",
      "\n",
      "line 20: Ra-ta-ta-ta 울린 심장 (ra-ta-ta-ta)\n",
      "\n",
      "line 21: I got nothing to lose\n",
      "\n",
      "line 22: 널 좋아한다고 ooh-whoa, ooh-whoa, ooh-whoa\n",
      "\n",
      "line 23: Ra-ta-ta-ta 울린 심장 (ra-ta-ta-ta)\n",
      "\n",
      "line 24: But I don't want to\n",
      "\n",
      "line 25: Stay in the middle\n",
      "\n",
      "line 26: Like you a little\n",
      "\n",
      "line 27: Don't want no riddle\n",
      "\n",
      "line 28: 말해줘 say it back, oh, say it ditto\n",
      "\n",
      "line 29: 아침은 너무 멀어 so say it ditto\n",
      "\n",
      "line 30: I don't want to walk in this 미로\n",
      "\n",
      "line 31: 다 아는 건 아니어도\n",
      "\n",
      "line 32: 바라던 대로 말해줘 say it back\n",
      "\n",
      "line 33: Oh, say it ditto\n",
      "\n",
      "line 34: I want you so, want you, so say it ditto\n",
      "\n",
      "line 35: Not just anybody\n",
      "\n",
      "line 36: 너를 상상했지\n",
      "\n",
      "line 37: 항상 닿아있던\n",
      "\n",
      "line 38: 처음 느낌 그대로 난\n",
      "\n",
      "line 39: 기다렸지 all this time\n",
      "\n",
      "line 40: I got nothing to lose\n",
      "\n",
      "line 41: 널 좋아한다고 ooh-whoa, ooh-whoa, ooh-whoa\n",
      "\n",
      "line 42: Ra-ta-ta-ta 울린 심장 (ra-ta-ta-ta)\n",
      "\n",
      "line 43: But I don't want to\n",
      "\n",
      "line 44: Stay in the middle\n",
      "\n",
      "line 45: Like you a little\n",
      "\n",
      "line 46: Don't want no riddle\n",
      "\n",
      "line 47: 말해줘 say it back, oh, say it ditto\n",
      "\n",
      "line 48: 아침은 너무 멀어 so say it ditto\n",
      "\n",
      "line 49: I don't want to walk in this 미로\n",
      "\n",
      "line 50: 다 아는 건 아니어도\n",
      "\n",
      "line 51: 바라던 대로 말해줘 say it back\n",
      "\n",
      "line 52: Oh, say it ditto\n",
      "\n",
      "line 53: I want you so, want you, so say it ditto\n",
      "\n",
      "line 54: Hoo-ooh-ooh-ooh\n",
      "\n",
      "line 55: Hoo-ooh-ooh-ooh\n"
     ]
    }
   ],
   "source": [
    "with open('ditto_lyrics.txt', 'r') as file:\n",
    "    for i, one_line in enumerate(file):\n",
    "        print('line {:02d}: {}'.format(i+1, one_line))"
   ]
  },
  {
   "cell_type": "code",
   "execution_count": 77,
   "metadata": {},
   "outputs": [],
   "source": [
    "with open('ditto_lyrics.txt', 'r') as file:\n",
    "    lines = file.readlines()"
   ]
  },
  {
   "cell_type": "code",
   "execution_count": 78,
   "metadata": {},
   "outputs": [
    {
     "data": {
      "text/plain": [
       "55"
      ]
     },
     "execution_count": 78,
     "metadata": {},
     "output_type": "execute_result"
    }
   ],
   "source": [
    "len(lines)"
   ]
  },
  {
   "cell_type": "code",
   "execution_count": 80,
   "metadata": {},
   "outputs": [
    {
     "data": {
      "text/plain": [
       "list"
      ]
     },
     "execution_count": 80,
     "metadata": {},
     "output_type": "execute_result"
    }
   ],
   "source": [
    "type(lines)"
   ]
  },
  {
   "cell_type": "code",
   "execution_count": 79,
   "metadata": {},
   "outputs": [
    {
     "data": {
      "text/plain": [
       "'Hoo-ooh-ooh-ooh'"
      ]
     },
     "execution_count": 79,
     "metadata": {},
     "output_type": "execute_result"
    }
   ],
   "source": [
    "lines[-1]"
   ]
  },
  {
   "cell_type": "code",
   "execution_count": null,
   "metadata": {},
   "outputs": [],
   "source": []
  }
 ],
 "metadata": {
  "kernelspec": {
   "display_name": "base",
   "language": "python",
   "name": "python3"
  },
  "language_info": {
   "codemirror_mode": {
    "name": "ipython",
    "version": 3
   },
   "file_extension": ".py",
   "mimetype": "text/x-python",
   "name": "python",
   "nbconvert_exporter": "python",
   "pygments_lexer": "ipython3",
   "version": "3.11.5"
  }
 },
 "nbformat": 4,
 "nbformat_minor": 2
}
