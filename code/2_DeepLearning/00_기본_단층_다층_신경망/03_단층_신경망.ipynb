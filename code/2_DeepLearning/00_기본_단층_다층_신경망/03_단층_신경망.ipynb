{
  "cells": [
    {
      "cell_type": "code",
      "execution_count": 9,
      "metadata": {
        "id": "4pbuhgGBlYA2"
      },
      "outputs": [],
      "source": [
        "# 필요 라이브러리 불러오기\n",
        "import torch\n",
        "import torch.nn as nn\n",
        "import torch.optim as optim"
      ]
    },
    {
      "cell_type": "code",
      "execution_count": 2,
      "metadata": {
        "id": "nVe5VWwbtZvT"
      },
      "outputs": [],
      "source": [
        "# 단일 계층 신경망 정의\n",
        "class SingleLayerNN(nn.Module):\n",
        "    # nn.Module의 메서드 상속\n",
        "    # 상속 될 때 초기화 되지 않아서 super 함수를 이용하여 초기화 하는 과정이 필요함\n",
        "    def __init__(self, input_size, output_size):\n",
        "        '''super() 함수는 현재의 부모클래스인 nn.Module에 접근하여,\n",
        "        __init__() 메서드를 호출하여 nn.Module의 기본 변수들을 초기화.\n",
        "        '''\n",
        "        super(SingleLayerNN, self).__init__()\n",
        "        # 인스턴스의 새로운 변수 생성 : 선형 함수\n",
        "        self.linear = nn.Linear(input_size, output_size)\n",
        "    # 순전파를 정의. 입력 x를 선형 층에 통과시켜 출력을 계산.\n",
        "    def forward(self, x):\n",
        "        out = self.linear(x)\n",
        "        return out"
      ]
    },
    {
      "cell_type": "code",
      "execution_count": 3,
      "metadata": {
        "id": "SrI4NWJatb1I"
      },
      "outputs": [],
      "source": [
        "# 하이퍼파라미터 설정\n",
        "input_size = 10  # 입력층 노드 수\n",
        "output_size = 1  # 출력층 노드 수\n",
        "learning_rate = 0.01\n",
        "epochs = 1000"
      ]
    },
    {
      "cell_type": "code",
      "execution_count": 4,
      "metadata": {
        "id": "qH9RgewztgqC"
      },
      "outputs": [],
      "source": [
        "# 모델, 손실 함수, 최적화 알고리즘 초기화\n",
        "model = SingleLayerNN(input_size, output_size)\n",
        "criterion = nn.MSELoss()  # 평균 제곱 오차 손실 함수\n",
        "optimizer = optim.SGD(model.parameters(), lr=learning_rate)  # 확률적 경사 하강법\n"
      ]
    },
    {
      "cell_type": "code",
      "execution_count": 5,
      "metadata": {
        "id": "heLUzpd3tn73"
      },
      "outputs": [],
      "source": [
        "# 임의의 데이터셋 생성\n",
        "x_train = torch.randn(100, input_size)  # 100개의 샘플, 각 샘플은 input_size 차원\n",
        "y_train = torch.randn(100, output_size)  # 각 샘플에 대한 타겟 값\n"
      ]
    },
    {
      "cell_type": "code",
      "execution_count": 6,
      "metadata": {
        "id": "u4Eg-YUdtxSV"
      },
      "outputs": [
        {
          "name": "stdout",
          "output_type": "stream",
          "text": [
            "Epoch [100/1000], Loss: 1.2375328540802002\n",
            "Epoch [200/1000], Loss: 1.222174882888794\n",
            "Epoch [300/1000], Loss: 1.221213936805725\n",
            "Epoch [400/1000], Loss: 1.2211095094680786\n",
            "Epoch [500/1000], Loss: 1.2210959196090698\n",
            "Epoch [600/1000], Loss: 1.221094012260437\n",
            "Epoch [700/1000], Loss: 1.2210936546325684\n",
            "Epoch [800/1000], Loss: 1.2210935354232788\n",
            "Epoch [900/1000], Loss: 1.2210935354232788\n",
            "Epoch [1000/1000], Loss: 1.2210936546325684\n"
          ]
        }
      ],
      "source": [
        "losses = []  # 손실 기록을 위한 리스트\n",
        "\n",
        "# 학습 과정\n",
        "for epoch in range(epochs):\n",
        "    # 순전파: 모델에 x_train을 전달하여 예측값 계산\n",
        "    predictions = model(x_train)\n",
        "\n",
        "    # 손실 계산\n",
        "    loss = criterion(predictions, y_train)\n",
        "\n",
        "    losses.append(loss.item())\n",
        "\n",
        "    # 역전파: 모델의 매개변수에 대한 손실의 기울기를 계산\n",
        "    optimizer.zero_grad()  \n",
        "    loss.backward()\n",
        "\n",
        "    # 매개변수 업데이트\n",
        "    optimizer.step()\n",
        "\n",
        "\n",
        "    if (epoch+1) % 100 == 0:\n",
        "        print(f'Epoch [{epoch+1}/{epochs}], Loss: {loss.item()}')"
      ]
    },
    {
      "cell_type": "code",
      "execution_count": 7,
      "metadata": {
        "id": "HYVvMUral5c0"
      },
      "outputs": [
        {
          "data": {
            "image/png": "[encoded data removed]",
            "text/plain": [
              "<Figure size 640x480 with 1 Axes>"
            ]
          },
          "metadata": {},
          "output_type": "display_data"
        }
      ],
      "source": [
        "# 훈련 과정 시각화\n",
        "import matplotlib.pyplot as plt\n",
        "\n",
        "plt.plot(losses)\n",
        "plt.xlabel('Epoch')\n",
        "plt.ylabel('Loss')\n",
        "plt.title('Training Loss')\n",
        "plt.show()\n",
        "\n"
      ]
    },
    {
      "cell_type": "code",
      "execution_count": 8,
      "metadata": {
        "colab": {
          "base_uri": "https://localhost:8080/"
        },
        "id": "l0AP5kOEl7hX",
        "outputId": "cd922da6-3c5f-471c-d8d9-74cdddcb7768"
      },
      "outputs": [
        {
          "name": "stdout",
          "output_type": "stream",
          "text": [
            "Test Loss: 1.2211\n"
          ]
        }
      ],
      "source": [
        "# 모델 평가\n",
        "model.eval() # 모델을 평가 모드로 설정\n",
        "with torch.no_grad():  # 기울기 계산을 수행하지 않음\n",
        "    predictions = model(x_train)\n",
        "    # 평가를 위한 손실 계산\n",
        "    test_loss = criterion(predictions, y_train)\n",
        "    print(f'Test Loss: {test_loss.item():.4f}')\n"
      ]
    }
  ],
  "metadata": {
    "colab": {
      "provenance": []
    },
    "kernelspec": {
      "display_name": "Python 3",
      "name": "python3"
    },
    "language_info": {
      "codemirror_mode": {
        "name": "ipython",
        "version": 3
      },
      "file_extension": ".py",
      "mimetype": "text/x-python",
      "name": "python",
      "nbconvert_exporter": "python",
      "pygments_lexer": "ipython3",
      "version": "3.8.15"
    }
  },
  "nbformat": 4,
  "nbformat_minor": 0
}
