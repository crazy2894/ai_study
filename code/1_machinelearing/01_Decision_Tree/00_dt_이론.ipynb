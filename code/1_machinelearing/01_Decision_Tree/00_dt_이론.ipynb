{
 "cells": [
  {
   "cell_type": "markdown",
   "id": "45b746cd",
   "metadata": {},
   "source": [
    "# 0. 라이브러리 및 데이터 불러오기"
   ]
  },
  {
   "cell_type": "code",
   "execution_count": 1,
   "id": "e0614129",
   "metadata": {},
   "outputs": [],
   "source": [
    "import numpy as np\n",
    "import pandas as pd\n",
    "import seaborn as sns\n",
    "\n",
    "import matplotlib as mpl\n",
    "import matplotlib.pyplot as plt\n",
    "import matplotlib_inline.backend_inline\n",
    "\n",
    "import sklearn\n",
    "from sklearn.preprocessing import StandardScaler, MinMaxScaler, RobustScaler\n",
    "from sklearn.model_selection import train_test_split\n",
    "from sklearn.neighbors import KNeighborsClassifier\n",
    "from sklearn.tree import DecisionTreeClassifier\n",
    "from sklearn import metrics\n",
    "\n",
    "matplotlib_inline.backend_inline.set_matplotlib_formats(\"png2x\") # svg, retina, png2x ...\n",
    "mpl.style.use(\"seaborn-v0_8\")\n",
    "mpl.rcParams.update({\"figure.constrained_layout.use\": True})\n",
    "sns.set_context(\"paper\") \n",
    "sns.set_palette(\"Set2\") \n",
    "sns.set_style(\"whitegrid\") \n",
    "\n",
    "# 시스템 폰트패밀리에 따라 변경\n",
    "plt.rc(\"font\", family = \"NanumSquareRound\")\n",
    "plt.rcParams[\"axes.unicode_minus\"] = False"
   ]
  },
  {
   "cell_type": "code",
   "execution_count": 2,
   "id": "56e1d2fc",
   "metadata": {},
   "outputs": [
    {
     "name": "stdout",
     "output_type": "stream",
     "text": [
      "library version check\n",
      "numpy:  2.1.1\n",
      "pandas:  2.2.3\n",
      "seaborn:  0.13.2\n",
      "matplotlib:  3.9.2\n",
      "sklearn:  1.5.2\n"
     ]
    }
   ],
   "source": [
    "print(\"library version check\")\n",
    "print(\"numpy: \", np.__version__)\n",
    "print(\"pandas: \", pd.__version__)\n",
    "print(\"seaborn: \", sns.__version__)\n",
    "print(\"matplotlib: \", mpl.__version__)\n",
    "print(\"sklearn: \", sklearn.__version__)"
   ]
  },
  {
   "cell_type": "markdown",
   "id": "ac0aaf3a",
   "metadata": {},
   "source": [
    "# 2. DT로 분류"
   ]
  },
  {
   "cell_type": "code",
   "execution_count": 3,
   "id": "768d4be1",
   "metadata": {},
   "outputs": [],
   "source": [
    "iris = pd.read_csv(\"../../../data/csv/Iris.csv\",\n",
    "                   index_col = 0)"
   ]
  },
  {
   "cell_type": "code",
   "execution_count": 4,
   "id": "9a73f470",
   "metadata": {},
   "outputs": [
    {
     "data": {
      "text/html": [
       "<div>\n",
       "<style scoped>\n",
       "    .dataframe tbody tr th:only-of-type {\n",
       "        vertical-align: middle;\n",
       "    }\n",
       "\n",
       "    .dataframe tbody tr th {\n",
       "        vertical-align: top;\n",
       "    }\n",
       "\n",
       "    .dataframe thead th {\n",
       "        text-align: right;\n",
       "    }\n",
       "</style>\n",
       "<table border=\"1\" class=\"dataframe\">\n",
       "  <thead>\n",
       "    <tr style=\"text-align: right;\">\n",
       "      <th></th>\n",
       "      <th>SepalLengthCm</th>\n",
       "      <th>SepalWidthCm</th>\n",
       "      <th>PetalLengthCm</th>\n",
       "      <th>PetalWidthCm</th>\n",
       "      <th>Species</th>\n",
       "    </tr>\n",
       "    <tr>\n",
       "      <th>Id</th>\n",
       "      <th></th>\n",
       "      <th></th>\n",
       "      <th></th>\n",
       "      <th></th>\n",
       "      <th></th>\n",
       "    </tr>\n",
       "  </thead>\n",
       "  <tbody>\n",
       "    <tr>\n",
       "      <th>1</th>\n",
       "      <td>5.1</td>\n",
       "      <td>3.5</td>\n",
       "      <td>1.4</td>\n",
       "      <td>0.2</td>\n",
       "      <td>Iris-setosa</td>\n",
       "    </tr>\n",
       "    <tr>\n",
       "      <th>2</th>\n",
       "      <td>4.9</td>\n",
       "      <td>3.0</td>\n",
       "      <td>1.4</td>\n",
       "      <td>0.2</td>\n",
       "      <td>Iris-setosa</td>\n",
       "    </tr>\n",
       "    <tr>\n",
       "      <th>3</th>\n",
       "      <td>4.7</td>\n",
       "      <td>3.2</td>\n",
       "      <td>1.3</td>\n",
       "      <td>0.2</td>\n",
       "      <td>Iris-setosa</td>\n",
       "    </tr>\n",
       "    <tr>\n",
       "      <th>4</th>\n",
       "      <td>4.6</td>\n",
       "      <td>3.1</td>\n",
       "      <td>1.5</td>\n",
       "      <td>0.2</td>\n",
       "      <td>Iris-setosa</td>\n",
       "    </tr>\n",
       "    <tr>\n",
       "      <th>5</th>\n",
       "      <td>5.0</td>\n",
       "      <td>3.6</td>\n",
       "      <td>1.4</td>\n",
       "      <td>0.2</td>\n",
       "      <td>Iris-setosa</td>\n",
       "    </tr>\n",
       "    <tr>\n",
       "      <th>...</th>\n",
       "      <td>...</td>\n",
       "      <td>...</td>\n",
       "      <td>...</td>\n",
       "      <td>...</td>\n",
       "      <td>...</td>\n",
       "    </tr>\n",
       "    <tr>\n",
       "      <th>146</th>\n",
       "      <td>6.7</td>\n",
       "      <td>3.0</td>\n",
       "      <td>5.2</td>\n",
       "      <td>2.3</td>\n",
       "      <td>Iris-virginica</td>\n",
       "    </tr>\n",
       "    <tr>\n",
       "      <th>147</th>\n",
       "      <td>6.3</td>\n",
       "      <td>2.5</td>\n",
       "      <td>5.0</td>\n",
       "      <td>1.9</td>\n",
       "      <td>Iris-virginica</td>\n",
       "    </tr>\n",
       "    <tr>\n",
       "      <th>148</th>\n",
       "      <td>6.5</td>\n",
       "      <td>3.0</td>\n",
       "      <td>5.2</td>\n",
       "      <td>2.0</td>\n",
       "      <td>Iris-virginica</td>\n",
       "    </tr>\n",
       "    <tr>\n",
       "      <th>149</th>\n",
       "      <td>6.2</td>\n",
       "      <td>3.4</td>\n",
       "      <td>5.4</td>\n",
       "      <td>2.3</td>\n",
       "      <td>Iris-virginica</td>\n",
       "    </tr>\n",
       "    <tr>\n",
       "      <th>150</th>\n",
       "      <td>5.9</td>\n",
       "      <td>3.0</td>\n",
       "      <td>5.1</td>\n",
       "      <td>1.8</td>\n",
       "      <td>Iris-virginica</td>\n",
       "    </tr>\n",
       "  </tbody>\n",
       "</table>\n",
       "<p>150 rows × 5 columns</p>\n",
       "</div>"
      ],
      "text/plain": [
       "     SepalLengthCm  SepalWidthCm  PetalLengthCm  PetalWidthCm         Species\n",
       "Id                                                                           \n",
       "1              5.1           3.5            1.4           0.2     Iris-setosa\n",
       "2              4.9           3.0            1.4           0.2     Iris-setosa\n",
       "3              4.7           3.2            1.3           0.2     Iris-setosa\n",
       "4              4.6           3.1            1.5           0.2     Iris-setosa\n",
       "5              5.0           3.6            1.4           0.2     Iris-setosa\n",
       "..             ...           ...            ...           ...             ...\n",
       "146            6.7           3.0            5.2           2.3  Iris-virginica\n",
       "147            6.3           2.5            5.0           1.9  Iris-virginica\n",
       "148            6.5           3.0            5.2           2.0  Iris-virginica\n",
       "149            6.2           3.4            5.4           2.3  Iris-virginica\n",
       "150            5.9           3.0            5.1           1.8  Iris-virginica\n",
       "\n",
       "[150 rows x 5 columns]"
      ]
     },
     "execution_count": 4,
     "metadata": {},
     "output_type": "execute_result"
    }
   ],
   "source": [
    "iris"
   ]
  },
  {
   "cell_type": "code",
   "execution_count": 5,
   "id": "4bc190ae",
   "metadata": {},
   "outputs": [],
   "source": [
    "# 네 개의 feature를 모두 넣고 분류\n",
    "x_data = iris[iris.columns[:-1]]\n",
    "y_data = iris[\"Species\"]"
   ]
  },
  {
   "cell_type": "code",
   "execution_count": 6,
   "id": "3461ac5c",
   "metadata": {},
   "outputs": [],
   "source": [
    "x_train, x_test, y_train, y_test = train_test_split(x_data, \n",
    "                                                    y_data, \n",
    "                                                    test_size=0.30,\n",
    "                                                    random_state = 97)"
   ]
  },
  {
   "cell_type": "code",
   "execution_count": 7,
   "id": "4e9ce89e",
   "metadata": {},
   "outputs": [
    {
     "data": {
      "text/plain": [
       "Species\n",
       "Iris-versicolor    16\n",
       "Iris-virginica     16\n",
       "Iris-setosa        13\n",
       "Name: count, dtype: int64"
      ]
     },
     "execution_count": 7,
     "metadata": {},
     "output_type": "execute_result"
    }
   ],
   "source": [
    "y_test.value_counts()"
   ]
  },
  {
   "cell_type": "code",
   "execution_count": 8,
   "id": "5c150483",
   "metadata": {},
   "outputs": [
    {
     "data": {
      "text/html": [
       "<div>\n",
       "<style scoped>\n",
       "    .dataframe tbody tr th:only-of-type {\n",
       "        vertical-align: middle;\n",
       "    }\n",
       "\n",
       "    .dataframe tbody tr th {\n",
       "        vertical-align: top;\n",
       "    }\n",
       "\n",
       "    .dataframe thead th {\n",
       "        text-align: right;\n",
       "    }\n",
       "</style>\n",
       "<table border=\"1\" class=\"dataframe\">\n",
       "  <thead>\n",
       "    <tr style=\"text-align: right;\">\n",
       "      <th></th>\n",
       "      <th>SepalLengthCm</th>\n",
       "      <th>SepalWidthCm</th>\n",
       "      <th>PetalLengthCm</th>\n",
       "      <th>PetalWidthCm</th>\n",
       "    </tr>\n",
       "    <tr>\n",
       "      <th>Id</th>\n",
       "      <th></th>\n",
       "      <th></th>\n",
       "      <th></th>\n",
       "      <th></th>\n",
       "    </tr>\n",
       "  </thead>\n",
       "  <tbody>\n",
       "    <tr>\n",
       "      <th>33</th>\n",
       "      <td>5.2</td>\n",
       "      <td>4.1</td>\n",
       "      <td>1.5</td>\n",
       "      <td>0.1</td>\n",
       "    </tr>\n",
       "    <tr>\n",
       "      <th>63</th>\n",
       "      <td>6.0</td>\n",
       "      <td>2.2</td>\n",
       "      <td>4.0</td>\n",
       "      <td>1.0</td>\n",
       "    </tr>\n",
       "    <tr>\n",
       "      <th>134</th>\n",
       "      <td>6.3</td>\n",
       "      <td>2.8</td>\n",
       "      <td>5.1</td>\n",
       "      <td>1.5</td>\n",
       "    </tr>\n",
       "    <tr>\n",
       "      <th>120</th>\n",
       "      <td>6.0</td>\n",
       "      <td>2.2</td>\n",
       "      <td>5.0</td>\n",
       "      <td>1.5</td>\n",
       "    </tr>\n",
       "    <tr>\n",
       "      <th>119</th>\n",
       "      <td>7.7</td>\n",
       "      <td>2.6</td>\n",
       "      <td>6.9</td>\n",
       "      <td>2.3</td>\n",
       "    </tr>\n",
       "    <tr>\n",
       "      <th>...</th>\n",
       "      <td>...</td>\n",
       "      <td>...</td>\n",
       "      <td>...</td>\n",
       "      <td>...</td>\n",
       "    </tr>\n",
       "    <tr>\n",
       "      <th>5</th>\n",
       "      <td>5.0</td>\n",
       "      <td>3.6</td>\n",
       "      <td>1.4</td>\n",
       "      <td>0.2</td>\n",
       "    </tr>\n",
       "    <tr>\n",
       "      <th>70</th>\n",
       "      <td>5.6</td>\n",
       "      <td>2.5</td>\n",
       "      <td>3.9</td>\n",
       "      <td>1.1</td>\n",
       "    </tr>\n",
       "    <tr>\n",
       "      <th>29</th>\n",
       "      <td>5.2</td>\n",
       "      <td>3.4</td>\n",
       "      <td>1.4</td>\n",
       "      <td>0.2</td>\n",
       "    </tr>\n",
       "    <tr>\n",
       "      <th>106</th>\n",
       "      <td>7.6</td>\n",
       "      <td>3.0</td>\n",
       "      <td>6.6</td>\n",
       "      <td>2.1</td>\n",
       "    </tr>\n",
       "    <tr>\n",
       "      <th>91</th>\n",
       "      <td>5.5</td>\n",
       "      <td>2.6</td>\n",
       "      <td>4.4</td>\n",
       "      <td>1.2</td>\n",
       "    </tr>\n",
       "  </tbody>\n",
       "</table>\n",
       "<p>105 rows × 4 columns</p>\n",
       "</div>"
      ],
      "text/plain": [
       "     SepalLengthCm  SepalWidthCm  PetalLengthCm  PetalWidthCm\n",
       "Id                                                           \n",
       "33             5.2           4.1            1.5           0.1\n",
       "63             6.0           2.2            4.0           1.0\n",
       "134            6.3           2.8            5.1           1.5\n",
       "120            6.0           2.2            5.0           1.5\n",
       "119            7.7           2.6            6.9           2.3\n",
       "..             ...           ...            ...           ...\n",
       "5              5.0           3.6            1.4           0.2\n",
       "70             5.6           2.5            3.9           1.1\n",
       "29             5.2           3.4            1.4           0.2\n",
       "106            7.6           3.0            6.6           2.1\n",
       "91             5.5           2.6            4.4           1.2\n",
       "\n",
       "[105 rows x 4 columns]"
      ]
     },
     "execution_count": 8,
     "metadata": {},
     "output_type": "execute_result"
    }
   ],
   "source": [
    "x_train"
   ]
  },
  {
   "cell_type": "markdown",
   "id": "206f9d55",
   "metadata": {},
   "source": [
    "* [Decision Tree 공식문서](https://scikit-learn.org/stable/modules/generated/sklearn.tree.DecisionTreeClassifier.html)\n",
    "\n",
    "* criterion: 불순도를 계산할 함수\n",
    "    * gini, entropy\n",
    "    * 두 함수가 비슷한 결과를 냄\n",
    "* splitter: 노드를 분할하는 방법\n",
    "    * best: 정보의 이득이 최대가 될 때\n",
    "    * random: 랜덤하게. best 보다 random이 더 효과적일 때도 있음\n",
    "* max_depth: 몇 층까지 가지를 칠 것인지\n",
    "    * 설정하지 않으면 불순도가 0이되거나 min_samples_split보다 샘플수가 적을 때까지 가지를 침  \n",
    "    * max_depth = 1로 준 DT를 스텀프라고 부름. 부스터로 사용하면 강력해 질 수 있음\n",
    "* min_samples_split: 노드를 나누기 위한 최소 샘플 수\n",
    "    * 최소 2개는 샘플이 있어야 가지를 치기 때문에 default는 2이다.\n",
    "* min_samples_leaf: leaf의 최소 샘플 수\n",
    "    * leaf노드는 최소 1개의 샘플을 가지고 있어야 함. \n",
    "    * 만약  min_samples_leaf를 4로 준다면 모든 리프 노드가 최소 4개의 샘플을 가지고 있게 된다.\n",
    "* max_features: 특성의 개수\n",
    "    * input의 특성에서 max_features만큼 랜덤하게 추출\n",
    "* random_state: max_features만큼 특성을 랜덤하게 선택하기 때문에 필요\n",
    "* max_leaf_nodes: 리프 노드의 전체 샘플 개수\n",
    "* min_impurity_decrease: 가지를 치기 위한 최소 불순도 감소\n",
    "\n",
    "**일반적으로 max 이름을 가진 하이퍼파라미터는 감소하고, min 이름을 가진 하이퍼파라미터는 증가 시키면 모델의 성능이 향상됨**"
   ]
  },
  {
   "cell_type": "code",
   "execution_count": 9,
   "id": "71737891",
   "metadata": {},
   "outputs": [
    {
     "name": "stdout",
     "output_type": "stream",
     "text": [
      "The accuracy of DT is 0.8888888888888888\n"
     ]
    }
   ],
   "source": [
    "model = DecisionTreeClassifier(max_depth = 3, random_state=97) \n",
    "model.fit(x_train.values, y_train.values)\n",
    "prediction = model.predict(x_test.values)\n",
    "print('The accuracy of DT is', \n",
    "      metrics.accuracy_score(prediction, y_test))"
   ]
  },
  {
   "cell_type": "markdown",
   "id": "9995ff7f",
   "metadata": {},
   "source": [
    "* model.tree_에 학습에 대한 정보를 가지고 있음"
   ]
  },
  {
   "cell_type": "code",
   "execution_count": 10,
   "id": "d3d9c0a3",
   "metadata": {},
   "outputs": [
    {
     "name": "stdout",
     "output_type": "stream",
     "text": [
      "DT모델의 노드 수:  9\n",
      "DT모델의 각 노드별 샘플 수:  [105  37  68  34  33   1  34   4  30]\n"
     ]
    }
   ],
   "source": [
    "print(\"DT모델의 노드 수: \", model.tree_.node_count)\n",
    "print(\"DT모델의 각 노드별 샘플 수: \", model.tree_.n_node_samples)"
   ]
  },
  {
   "cell_type": "markdown",
   "id": "1430a5a6",
   "metadata": {},
   "source": [
    "# 3. DT의 원리"
   ]
  },
  {
   "cell_type": "code",
   "execution_count": 11,
   "id": "19c9b4fb",
   "metadata": {},
   "outputs": [],
   "source": [
    "# from io import StringIO\n",
    "import graphviz\n",
    "from sklearn.tree import export_graphviz\n",
    "# from sklearn.feature_selection import mutual_info_classif"
   ]
  },
  {
   "cell_type": "code",
   "execution_count": 12,
   "id": "fc019cdf",
   "metadata": {},
   "outputs": [
    {
     "data": {
      "text/plain": [
       "array([0.        , 0.        , 0.44004076, 0.55995924])"
      ]
     },
     "execution_count": 12,
     "metadata": {},
     "output_type": "execute_result"
    }
   ],
   "source": [
    "# DT나 RF는 분류 결과에 영향을 미친 요소를 수치화하여 볼 수 있음\n",
    "model.feature_importances_"
   ]
  },
  {
   "cell_type": "code",
   "execution_count": 13,
   "id": "077d0124",
   "metadata": {},
   "outputs": [
    {
     "data": {
      "text/plain": [
       "Index(['SepalLengthCm', 'SepalWidthCm', 'PetalLengthCm', 'PetalWidthCm',\n",
       "       'Species'],\n",
       "      dtype='object')"
      ]
     },
     "execution_count": 13,
     "metadata": {},
     "output_type": "execute_result"
    }
   ],
   "source": [
    "iris.columns"
   ]
  },
  {
   "cell_type": "code",
   "execution_count": 14,
   "id": "4dac6629",
   "metadata": {},
   "outputs": [
    {
     "data": {
      "image/png": "[encoded data removed]",
      "text/plain": [
       "<Figure size 400x300 with 1 Axes>"
      ]
     },
     "metadata": {
      "image/png": {
       "height": 311,
       "width": 411
      }
     },
     "output_type": "display_data"
    }
   ],
   "source": [
    "fig, ax = plt.subplots(figsize=(4,3))\n",
    "\n",
    "ax.bar(iris.columns[:-1], model.feature_importances_)\n",
    "ax.spines[[\"top\", \"right\"]].set_visible(False)\n",
    "ax.set(ylabel = \"feature importance\")\n",
    "\n",
    "plt.setp(ax.get_xticklabels(), ha=\"right\", rotation=45);"
   ]
  },
  {
   "cell_type": "code",
   "execution_count": 15,
   "id": "d60e150a",
   "metadata": {},
   "outputs": [],
   "source": [
    "img = export_graphviz(model, out_file='00_dt_graphviz.dot')"
   ]
  },
  {
   "cell_type": "code",
   "execution_count": 16,
   "id": "6b753b47",
   "metadata": {},
   "outputs": [
    {
     "data": {
      "image/svg+xml": [
       "<?xml version=\"1.0\" encoding=\"UTF-8\" standalone=\"no\"?>\n",
       "<!DOCTYPE svg PUBLIC \"-//W3C//DTD SVG 1.1//EN\"\n",
       " \"http://www.w3.org/Graphics/SVG/1.1/DTD/svg11.dtd\">\n",
       "<!-- Generated by graphviz version 2.43.0 (0)\n",
       " -->\n",
       "<!-- Title: Tree Pages: 1 -->\n",
       "<svg width=\"609pt\" height=\"373pt\"\n",
       " viewBox=\"0.00 0.00 609.00 373.00\" xmlns=\"http://www.w3.org/2000/svg\" xmlns:xlink=\"http://www.w3.org/1999/xlink\">\n",
       "<g id=\"graph0\" class=\"graph\" transform=\"scale(1 1) rotate(0) translate(4 369)\">\n",
       "<title>Tree</title>\n",
       "<polygon fill=\"white\" stroke=\"transparent\" points=\"-4,4 -4,-369 605,-369 605,4 -4,4\"/>\n",
       "<!-- 0 -->\n",
       "<g id=\"node1\" class=\"node\">\n",
       "<title>0</title>\n",
       "<polygon fill=\"none\" stroke=\"black\" points=\"297,-365 139,-365 139,-297 297,-297 297,-365\"/>\n",
       "<text text-anchor=\"middle\" x=\"218\" y=\"-349.8\" font-family=\"Helvetica,sans-Serif\" font-size=\"14.00\">x[3] &lt;= 0.8</text>\n",
       "<text text-anchor=\"middle\" x=\"218\" y=\"-334.8\" font-family=\"Helvetica,sans-Serif\" font-size=\"14.00\">gini = 0.666</text>\n",
       "<text text-anchor=\"middle\" x=\"218\" y=\"-319.8\" font-family=\"Helvetica,sans-Serif\" font-size=\"14.00\">samples = 105</text>\n",
       "<text text-anchor=\"middle\" x=\"218\" y=\"-304.8\" font-family=\"Helvetica,sans-Serif\" font-size=\"14.00\">value = [37, 34, 34]</text>\n",
       "</g>\n",
       "<!-- 1 -->\n",
       "<g id=\"node2\" class=\"node\">\n",
       "<title>1</title>\n",
       "<polygon fill=\"none\" stroke=\"black\" points=\"207,-253.5 67,-253.5 67,-200.5 207,-200.5 207,-253.5\"/>\n",
       "<text text-anchor=\"middle\" x=\"137\" y=\"-238.3\" font-family=\"Helvetica,sans-Serif\" font-size=\"14.00\">gini = 0.0</text>\n",
       "<text text-anchor=\"middle\" x=\"137\" y=\"-223.3\" font-family=\"Helvetica,sans-Serif\" font-size=\"14.00\">samples = 37</text>\n",
       "<text text-anchor=\"middle\" x=\"137\" y=\"-208.3\" font-family=\"Helvetica,sans-Serif\" font-size=\"14.00\">value = [37, 0, 0]</text>\n",
       "</g>\n",
       "<!-- 0&#45;&gt;1 -->\n",
       "<g id=\"edge1\" class=\"edge\">\n",
       "<title>0&#45;&gt;1</title>\n",
       "<path fill=\"none\" stroke=\"black\" d=\"M191.7,-296.88C182.71,-285.56 172.64,-272.88 163.62,-261.52\"/>\n",
       "<polygon fill=\"black\" stroke=\"black\" points=\"166.23,-259.17 157.27,-253.52 160.74,-263.53 166.23,-259.17\"/>\n",
       "<text text-anchor=\"middle\" x=\"154.42\" y=\"-274.66\" font-family=\"Helvetica,sans-Serif\" font-size=\"14.00\">True</text>\n",
       "</g>\n",
       "<!-- 2 -->\n",
       "<g id=\"node3\" class=\"node\">\n",
       "<title>2</title>\n",
       "<polygon fill=\"none\" stroke=\"black\" points=\"374.5,-261 225.5,-261 225.5,-193 374.5,-193 374.5,-261\"/>\n",
       "<text text-anchor=\"middle\" x=\"300\" y=\"-245.8\" font-family=\"Helvetica,sans-Serif\" font-size=\"14.00\">x[2] &lt;= 4.75</text>\n",
       "<text text-anchor=\"middle\" x=\"300\" y=\"-230.8\" font-family=\"Helvetica,sans-Serif\" font-size=\"14.00\">gini = 0.5</text>\n",
       "<text text-anchor=\"middle\" x=\"300\" y=\"-215.8\" font-family=\"Helvetica,sans-Serif\" font-size=\"14.00\">samples = 68</text>\n",
       "<text text-anchor=\"middle\" x=\"300\" y=\"-200.8\" font-family=\"Helvetica,sans-Serif\" font-size=\"14.00\">value = [0, 34, 34]</text>\n",
       "</g>\n",
       "<!-- 0&#45;&gt;2 -->\n",
       "<g id=\"edge2\" class=\"edge\">\n",
       "<title>0&#45;&gt;2</title>\n",
       "<path fill=\"none\" stroke=\"black\" d=\"M244.62,-296.88C251.71,-288.07 259.46,-278.43 266.85,-269.24\"/>\n",
       "<polygon fill=\"black\" stroke=\"black\" points=\"269.69,-271.29 273.23,-261.3 264.24,-266.9 269.69,-271.29\"/>\n",
       "<text text-anchor=\"middle\" x=\"275.93\" y=\"-282.45\" font-family=\"Helvetica,sans-Serif\" font-size=\"14.00\">False</text>\n",
       "</g>\n",
       "<!-- 3 -->\n",
       "<g id=\"node4\" class=\"node\">\n",
       "<title>3</title>\n",
       "<polygon fill=\"none\" stroke=\"black\" points=\"291,-157 151,-157 151,-89 291,-89 291,-157\"/>\n",
       "<text text-anchor=\"middle\" x=\"221\" y=\"-141.8\" font-family=\"Helvetica,sans-Serif\" font-size=\"14.00\">x[3] &lt;= 1.65</text>\n",
       "<text text-anchor=\"middle\" x=\"221\" y=\"-126.8\" font-family=\"Helvetica,sans-Serif\" font-size=\"14.00\">gini = 0.057</text>\n",
       "<text text-anchor=\"middle\" x=\"221\" y=\"-111.8\" font-family=\"Helvetica,sans-Serif\" font-size=\"14.00\">samples = 34</text>\n",
       "<text text-anchor=\"middle\" x=\"221\" y=\"-96.8\" font-family=\"Helvetica,sans-Serif\" font-size=\"14.00\">value = [0, 33, 1]</text>\n",
       "</g>\n",
       "<!-- 2&#45;&gt;3 -->\n",
       "<g id=\"edge3\" class=\"edge\">\n",
       "<title>2&#45;&gt;3</title>\n",
       "<path fill=\"none\" stroke=\"black\" d=\"M274.35,-192.88C267.52,-184.07 260.06,-174.43 252.94,-165.24\"/>\n",
       "<polygon fill=\"black\" stroke=\"black\" points=\"255.68,-163.06 246.79,-157.3 250.15,-167.35 255.68,-163.06\"/>\n",
       "</g>\n",
       "<!-- 6 -->\n",
       "<g id=\"node7\" class=\"node\">\n",
       "<title>6</title>\n",
       "<polygon fill=\"none\" stroke=\"black\" points=\"449,-157 309,-157 309,-89 449,-89 449,-157\"/>\n",
       "<text text-anchor=\"middle\" x=\"379\" y=\"-141.8\" font-family=\"Helvetica,sans-Serif\" font-size=\"14.00\">x[3] &lt;= 1.75</text>\n",
       "<text text-anchor=\"middle\" x=\"379\" y=\"-126.8\" font-family=\"Helvetica,sans-Serif\" font-size=\"14.00\">gini = 0.057</text>\n",
       "<text text-anchor=\"middle\" x=\"379\" y=\"-111.8\" font-family=\"Helvetica,sans-Serif\" font-size=\"14.00\">samples = 34</text>\n",
       "<text text-anchor=\"middle\" x=\"379\" y=\"-96.8\" font-family=\"Helvetica,sans-Serif\" font-size=\"14.00\">value = [0, 1, 33]</text>\n",
       "</g>\n",
       "<!-- 2&#45;&gt;6 -->\n",
       "<g id=\"edge6\" class=\"edge\">\n",
       "<title>2&#45;&gt;6</title>\n",
       "<path fill=\"none\" stroke=\"black\" d=\"M325.65,-192.88C332.48,-184.07 339.94,-174.43 347.06,-165.24\"/>\n",
       "<polygon fill=\"black\" stroke=\"black\" points=\"349.85,-167.35 353.21,-157.3 344.32,-163.06 349.85,-167.35\"/>\n",
       "</g>\n",
       "<!-- 4 -->\n",
       "<g id=\"node5\" class=\"node\">\n",
       "<title>4</title>\n",
       "<polygon fill=\"none\" stroke=\"black\" points=\"140,-53 0,-53 0,0 140,0 140,-53\"/>\n",
       "<text text-anchor=\"middle\" x=\"70\" y=\"-37.8\" font-family=\"Helvetica,sans-Serif\" font-size=\"14.00\">gini = 0.0</text>\n",
       "<text text-anchor=\"middle\" x=\"70\" y=\"-22.8\" font-family=\"Helvetica,sans-Serif\" font-size=\"14.00\">samples = 33</text>\n",
       "<text text-anchor=\"middle\" x=\"70\" y=\"-7.8\" font-family=\"Helvetica,sans-Serif\" font-size=\"14.00\">value = [0, 33, 0]</text>\n",
       "</g>\n",
       "<!-- 3&#45;&gt;4 -->\n",
       "<g id=\"edge4\" class=\"edge\">\n",
       "<title>3&#45;&gt;4</title>\n",
       "<path fill=\"none\" stroke=\"black\" d=\"M168.19,-88.95C152.55,-79.16 135.47,-68.48 120.02,-58.8\"/>\n",
       "<polygon fill=\"black\" stroke=\"black\" points=\"121.46,-55.57 111.12,-53.24 117.74,-61.51 121.46,-55.57\"/>\n",
       "</g>\n",
       "<!-- 5 -->\n",
       "<g id=\"node6\" class=\"node\">\n",
       "<title>5</title>\n",
       "<polygon fill=\"none\" stroke=\"black\" points=\"289.5,-53 158.5,-53 158.5,0 289.5,0 289.5,-53\"/>\n",
       "<text text-anchor=\"middle\" x=\"224\" y=\"-37.8\" font-family=\"Helvetica,sans-Serif\" font-size=\"14.00\">gini = 0.0</text>\n",
       "<text text-anchor=\"middle\" x=\"224\" y=\"-22.8\" font-family=\"Helvetica,sans-Serif\" font-size=\"14.00\">samples = 1</text>\n",
       "<text text-anchor=\"middle\" x=\"224\" y=\"-7.8\" font-family=\"Helvetica,sans-Serif\" font-size=\"14.00\">value = [0, 0, 1]</text>\n",
       "</g>\n",
       "<!-- 3&#45;&gt;5 -->\n",
       "<g id=\"edge5\" class=\"edge\">\n",
       "<title>3&#45;&gt;5</title>\n",
       "<path fill=\"none\" stroke=\"black\" d=\"M222.05,-88.95C222.31,-80.72 222.59,-71.85 222.86,-63.48\"/>\n",
       "<polygon fill=\"black\" stroke=\"black\" points=\"226.36,-63.34 223.18,-53.24 219.37,-63.12 226.36,-63.34\"/>\n",
       "</g>\n",
       "<!-- 7 -->\n",
       "<g id=\"node8\" class=\"node\">\n",
       "<title>7</title>\n",
       "<polygon fill=\"none\" stroke=\"black\" points=\"442.5,-53 311.5,-53 311.5,0 442.5,0 442.5,-53\"/>\n",
       "<text text-anchor=\"middle\" x=\"377\" y=\"-37.8\" font-family=\"Helvetica,sans-Serif\" font-size=\"14.00\">gini = 0.375</text>\n",
       "<text text-anchor=\"middle\" x=\"377\" y=\"-22.8\" font-family=\"Helvetica,sans-Serif\" font-size=\"14.00\">samples = 4</text>\n",
       "<text text-anchor=\"middle\" x=\"377\" y=\"-7.8\" font-family=\"Helvetica,sans-Serif\" font-size=\"14.00\">value = [0, 1, 3]</text>\n",
       "</g>\n",
       "<!-- 6&#45;&gt;7 -->\n",
       "<g id=\"edge7\" class=\"edge\">\n",
       "<title>6&#45;&gt;7</title>\n",
       "<path fill=\"none\" stroke=\"black\" d=\"M378.3,-88.95C378.13,-80.72 377.94,-71.85 377.76,-63.48\"/>\n",
       "<polygon fill=\"black\" stroke=\"black\" points=\"381.26,-63.16 377.54,-53.24 374.26,-63.31 381.26,-63.16\"/>\n",
       "</g>\n",
       "<!-- 8 -->\n",
       "<g id=\"node9\" class=\"node\">\n",
       "<title>8</title>\n",
       "<polygon fill=\"none\" stroke=\"black\" points=\"601,-53 461,-53 461,0 601,0 601,-53\"/>\n",
       "<text text-anchor=\"middle\" x=\"531\" y=\"-37.8\" font-family=\"Helvetica,sans-Serif\" font-size=\"14.00\">gini = 0.0</text>\n",
       "<text text-anchor=\"middle\" x=\"531\" y=\"-22.8\" font-family=\"Helvetica,sans-Serif\" font-size=\"14.00\">samples = 30</text>\n",
       "<text text-anchor=\"middle\" x=\"531\" y=\"-7.8\" font-family=\"Helvetica,sans-Serif\" font-size=\"14.00\">value = [0, 0, 30]</text>\n",
       "</g>\n",
       "<!-- 6&#45;&gt;8 -->\n",
       "<g id=\"edge8\" class=\"edge\">\n",
       "<title>6&#45;&gt;8</title>\n",
       "<path fill=\"none\" stroke=\"black\" d=\"M432.16,-88.95C448.05,-79.07 465.41,-68.28 481.09,-58.53\"/>\n",
       "<polygon fill=\"black\" stroke=\"black\" points=\"482.96,-61.49 489.6,-53.24 479.26,-55.54 482.96,-61.49\"/>\n",
       "</g>\n",
       "</g>\n",
       "</svg>\n"
      ],
      "text/plain": [
       "<graphviz.sources.Source at 0x7ae237238b10>"
      ]
     },
     "execution_count": 16,
     "metadata": {},
     "output_type": "execute_result"
    }
   ],
   "source": [
    "with open(\"00_dt_graphviz.dot\") as f:\n",
    "    dot_graph = f.read()\n",
    "    \n",
    "graphviz.Source(dot_graph)"
   ]
  },
  {
   "cell_type": "markdown",
   "id": "2786c7f0",
   "metadata": {},
   "source": [
    "**용어**\n",
    "* 노드\n",
    "    * 부모노드\n",
    "    * 자식노드\n",
    "* depth\n",
    "* leaf"
   ]
  },
  {
   "cell_type": "markdown",
   "id": "235786c5",
   "metadata": {},
   "source": [
    "## 3.1 부모노드에서 가지를 치는 특성과 기준은 어떻게 정해지는가?\n",
    "\n",
    "**splitter = 'best'라면**\n",
    "\n",
    "$\\rightarrow$ 정보의 이득 즉, information gain(IG)이 최대가 되는 특성과 조건으로 정해진다!"
   ]
  },
  {
   "cell_type": "markdown",
   "id": "f78cfe8f",
   "metadata": {},
   "source": [
    "**Information Gain에 대해서 알아보자**\n",
    "\n",
    "어떤 특성 $f_i$에 대한 부모 노드 $D_p$의 Information Gain은 다음과 같이 얻을 수 있다:\n",
    "\\begin{equation}\n",
    "IG(D_p, f_i)=G(D_p)-\\frac{N_{l}}{N_p}G(D_{l})-\\frac{N_{r}}{N_p}G(D_{r}),\n",
    "\\end{equation}\n",
    "여기서\n",
    "\n",
    "* $f_i$: $i$-번째 특성,\n",
    "* $D_p$: 부모 노드,\n",
    "* $D_{l}$: 부모 노드 $D_p$에서 가기치기한 왼쪽 자식 노드,\n",
    "* $D_{r}$: 부모 노드 $D_p$에서 가기치기한 오른쪽 자식 노드\n",
    "    \n",
    "이다. $j\\in\\{p, l, r\\}$에 대해서\n",
    "    \n",
    "* $N_j$: $D_j$ 노드의 총 샘플 수, \n",
    "* $G(D_j)$: $D_j$에서 Gini impurity(불순도)\n",
    "\n",
    "를 의미한다. 클래스가 $0, 1, 2, \\ldots, K$일 때 $j\\in\\{p, l, r\\}$에 대해서 Gini impurity $G(D_j)$는 다음과 같이 정의한다:\n",
    "\\begin{equation}\n",
    "G(D_j)=1-\\sum_{i=0}^K\\left(\\frac{N_{j,i}}{N_j}\\right)^2,\n",
    "\\end{equation}\n",
    "여기서 $N_{j,i}$는 $D_j$ 노드의 총 샘플 수 중 클래스 $i$에 속하는 샘플의 수이다."
   ]
  },
  {
   "cell_type": "markdown",
   "id": "fe9a3c53",
   "metadata": {},
   "source": [
    "**Gini 불순도를 이해하자**\n",
    "\n",
    "* 불순도: 어떤 노드에서 서로 다른 클래스가 얼마나 섞여있는가\n",
    "* 한 클래스에 몰려 있을수록 불순도가 낮고\n",
    "* 다양한 클래스가 섞여 있을 수록 불순도가 높다\n",
    "* sklearn에는 `criterion` 옵션으로 불순도 함수를 정할 수 있고 `default=\"gini\"`이다."
   ]
  },
  {
   "cell_type": "code",
   "execution_count": 17,
   "id": "74bfc5ba",
   "metadata": {},
   "outputs": [
    {
     "data": {
      "image/png": "[encoded data removed]",
      "text/plain": [
       "<Figure size 400x300 with 1 Axes>"
      ]
     },
     "metadata": {
      "image/png": {
       "height": 311,
       "width": 411
      }
     },
     "output_type": "display_data"
    }
   ],
   "source": [
    "# 클래스가 2개일 때 gini impurity를 계산해 보자\n",
    "n = 7\n",
    "i = np.arange(8)\n",
    "gini = 1 - (i/n)**2 - ((n-i)/n)**2\n",
    "\n",
    "fig, ax = plt.subplots(figsize=(4,3))\n",
    "ax.plot(i, gini, marker =\"o\");\n",
    "ax.set(xlabel = \"class 0의 샘플 수\",\n",
    "       ylabel = \"Gini 불순도\");"
   ]
  },
  {
   "cell_type": "code",
   "execution_count": 18,
   "id": "a8984f7e",
   "metadata": {
    "scrolled": true
   },
   "outputs": [
    {
     "data": {
      "text/plain": [
       "array([0.24489796, 0.44897959, 0.57142857, 0.57142857, 0.6122449 ,\n",
       "       0.65306122, 0.65306122])"
      ]
     },
     "execution_count": 18,
     "metadata": {},
     "output_type": "execute_result"
    }
   ],
   "source": [
    "# 클래스가 3개라면?\n",
    "\n",
    "class_list = np.array([[6,0], [5,1], [4,2], [4,1], \n",
    "                       [3,3], [3,2], [2,2]])\n",
    "i = class_list[:, 0]\n",
    "j = class_list[:, 1]\n",
    "\n",
    "gini = 1 - (i/n)**2 - (j/n)**2 - ((n-i-j)/n)**2\n",
    "\n",
    "gini"
   ]
  },
  {
   "cell_type": "markdown",
   "id": "bbbaba60",
   "metadata": {},
   "source": [
    "**Information Gain을 계산해 보자.**\n"
   ]
  },
  {
   "cell_type": "code",
   "execution_count": 19,
   "id": "9a76fafa",
   "metadata": {},
   "outputs": [
    {
     "data": {
      "image/svg+xml": [
       "<?xml version=\"1.0\" encoding=\"UTF-8\" standalone=\"no\"?>\n",
       "<!DOCTYPE svg PUBLIC \"-//W3C//DTD SVG 1.1//EN\"\n",
       " \"http://www.w3.org/Graphics/SVG/1.1/DTD/svg11.dtd\">\n",
       "<!-- Generated by graphviz version 2.43.0 (0)\n",
       " -->\n",
       "<!-- Title: Tree Pages: 1 -->\n",
       "<svg width=\"609pt\" height=\"373pt\"\n",
       " viewBox=\"0.00 0.00 609.00 373.00\" xmlns=\"http://www.w3.org/2000/svg\" xmlns:xlink=\"http://www.w3.org/1999/xlink\">\n",
       "<g id=\"graph0\" class=\"graph\" transform=\"scale(1 1) rotate(0) translate(4 369)\">\n",
       "<title>Tree</title>\n",
       "<polygon fill=\"white\" stroke=\"transparent\" points=\"-4,4 -4,-369 605,-369 605,4 -4,4\"/>\n",
       "<!-- 0 -->\n",
       "<g id=\"node1\" class=\"node\">\n",
       "<title>0</title>\n",
       "<polygon fill=\"none\" stroke=\"black\" points=\"297,-365 139,-365 139,-297 297,-297 297,-365\"/>\n",
       "<text text-anchor=\"middle\" x=\"218\" y=\"-349.8\" font-family=\"Helvetica,sans-Serif\" font-size=\"14.00\">x[3] &lt;= 0.8</text>\n",
       "<text text-anchor=\"middle\" x=\"218\" y=\"-334.8\" font-family=\"Helvetica,sans-Serif\" font-size=\"14.00\">gini = 0.666</text>\n",
       "<text text-anchor=\"middle\" x=\"218\" y=\"-319.8\" font-family=\"Helvetica,sans-Serif\" font-size=\"14.00\">samples = 105</text>\n",
       "<text text-anchor=\"middle\" x=\"218\" y=\"-304.8\" font-family=\"Helvetica,sans-Serif\" font-size=\"14.00\">value = [37, 34, 34]</text>\n",
       "</g>\n",
       "<!-- 1 -->\n",
       "<g id=\"node2\" class=\"node\">\n",
       "<title>1</title>\n",
       "<polygon fill=\"none\" stroke=\"black\" points=\"207,-253.5 67,-253.5 67,-200.5 207,-200.5 207,-253.5\"/>\n",
       "<text text-anchor=\"middle\" x=\"137\" y=\"-238.3\" font-family=\"Helvetica,sans-Serif\" font-size=\"14.00\">gini = 0.0</text>\n",
       "<text text-anchor=\"middle\" x=\"137\" y=\"-223.3\" font-family=\"Helvetica,sans-Serif\" font-size=\"14.00\">samples = 37</text>\n",
       "<text text-anchor=\"middle\" x=\"137\" y=\"-208.3\" font-family=\"Helvetica,sans-Serif\" font-size=\"14.00\">value = [37, 0, 0]</text>\n",
       "</g>\n",
       "<!-- 0&#45;&gt;1 -->\n",
       "<g id=\"edge1\" class=\"edge\">\n",
       "<title>0&#45;&gt;1</title>\n",
       "<path fill=\"none\" stroke=\"black\" d=\"M191.7,-296.88C182.71,-285.56 172.64,-272.88 163.62,-261.52\"/>\n",
       "<polygon fill=\"black\" stroke=\"black\" points=\"166.23,-259.17 157.27,-253.52 160.74,-263.53 166.23,-259.17\"/>\n",
       "<text text-anchor=\"middle\" x=\"154.42\" y=\"-274.66\" font-family=\"Helvetica,sans-Serif\" font-size=\"14.00\">True</text>\n",
       "</g>\n",
       "<!-- 2 -->\n",
       "<g id=\"node3\" class=\"node\">\n",
       "<title>2</title>\n",
       "<polygon fill=\"none\" stroke=\"black\" points=\"374.5,-261 225.5,-261 225.5,-193 374.5,-193 374.5,-261\"/>\n",
       "<text text-anchor=\"middle\" x=\"300\" y=\"-245.8\" font-family=\"Helvetica,sans-Serif\" font-size=\"14.00\">x[2] &lt;= 4.75</text>\n",
       "<text text-anchor=\"middle\" x=\"300\" y=\"-230.8\" font-family=\"Helvetica,sans-Serif\" font-size=\"14.00\">gini = 0.5</text>\n",
       "<text text-anchor=\"middle\" x=\"300\" y=\"-215.8\" font-family=\"Helvetica,sans-Serif\" font-size=\"14.00\">samples = 68</text>\n",
       "<text text-anchor=\"middle\" x=\"300\" y=\"-200.8\" font-family=\"Helvetica,sans-Serif\" font-size=\"14.00\">value = [0, 34, 34]</text>\n",
       "</g>\n",
       "<!-- 0&#45;&gt;2 -->\n",
       "<g id=\"edge2\" class=\"edge\">\n",
       "<title>0&#45;&gt;2</title>\n",
       "<path fill=\"none\" stroke=\"black\" d=\"M244.62,-296.88C251.71,-288.07 259.46,-278.43 266.85,-269.24\"/>\n",
       "<polygon fill=\"black\" stroke=\"black\" points=\"269.69,-271.29 273.23,-261.3 264.24,-266.9 269.69,-271.29\"/>\n",
       "<text text-anchor=\"middle\" x=\"275.93\" y=\"-282.45\" font-family=\"Helvetica,sans-Serif\" font-size=\"14.00\">False</text>\n",
       "</g>\n",
       "<!-- 3 -->\n",
       "<g id=\"node4\" class=\"node\">\n",
       "<title>3</title>\n",
       "<polygon fill=\"none\" stroke=\"black\" points=\"291,-157 151,-157 151,-89 291,-89 291,-157\"/>\n",
       "<text text-anchor=\"middle\" x=\"221\" y=\"-141.8\" font-family=\"Helvetica,sans-Serif\" font-size=\"14.00\">x[3] &lt;= 1.65</text>\n",
       "<text text-anchor=\"middle\" x=\"221\" y=\"-126.8\" font-family=\"Helvetica,sans-Serif\" font-size=\"14.00\">gini = 0.057</text>\n",
       "<text text-anchor=\"middle\" x=\"221\" y=\"-111.8\" font-family=\"Helvetica,sans-Serif\" font-size=\"14.00\">samples = 34</text>\n",
       "<text text-anchor=\"middle\" x=\"221\" y=\"-96.8\" font-family=\"Helvetica,sans-Serif\" font-size=\"14.00\">value = [0, 33, 1]</text>\n",
       "</g>\n",
       "<!-- 2&#45;&gt;3 -->\n",
       "<g id=\"edge3\" class=\"edge\">\n",
       "<title>2&#45;&gt;3</title>\n",
       "<path fill=\"none\" stroke=\"black\" d=\"M274.35,-192.88C267.52,-184.07 260.06,-174.43 252.94,-165.24\"/>\n",
       "<polygon fill=\"black\" stroke=\"black\" points=\"255.68,-163.06 246.79,-157.3 250.15,-167.35 255.68,-163.06\"/>\n",
       "</g>\n",
       "<!-- 6 -->\n",
       "<g id=\"node7\" class=\"node\">\n",
       "<title>6</title>\n",
       "<polygon fill=\"none\" stroke=\"black\" points=\"449,-157 309,-157 309,-89 449,-89 449,-157\"/>\n",
       "<text text-anchor=\"middle\" x=\"379\" y=\"-141.8\" font-family=\"Helvetica,sans-Serif\" font-size=\"14.00\">x[3] &lt;= 1.75</text>\n",
       "<text text-anchor=\"middle\" x=\"379\" y=\"-126.8\" font-family=\"Helvetica,sans-Serif\" font-size=\"14.00\">gini = 0.057</text>\n",
       "<text text-anchor=\"middle\" x=\"379\" y=\"-111.8\" font-family=\"Helvetica,sans-Serif\" font-size=\"14.00\">samples = 34</text>\n",
       "<text text-anchor=\"middle\" x=\"379\" y=\"-96.8\" font-family=\"Helvetica,sans-Serif\" font-size=\"14.00\">value = [0, 1, 33]</text>\n",
       "</g>\n",
       "<!-- 2&#45;&gt;6 -->\n",
       "<g id=\"edge6\" class=\"edge\">\n",
       "<title>2&#45;&gt;6</title>\n",
       "<path fill=\"none\" stroke=\"black\" d=\"M325.65,-192.88C332.48,-184.07 339.94,-174.43 347.06,-165.24\"/>\n",
       "<polygon fill=\"black\" stroke=\"black\" points=\"349.85,-167.35 353.21,-157.3 344.32,-163.06 349.85,-167.35\"/>\n",
       "</g>\n",
       "<!-- 4 -->\n",
       "<g id=\"node5\" class=\"node\">\n",
       "<title>4</title>\n",
       "<polygon fill=\"none\" stroke=\"black\" points=\"140,-53 0,-53 0,0 140,0 140,-53\"/>\n",
       "<text text-anchor=\"middle\" x=\"70\" y=\"-37.8\" font-family=\"Helvetica,sans-Serif\" font-size=\"14.00\">gini = 0.0</text>\n",
       "<text text-anchor=\"middle\" x=\"70\" y=\"-22.8\" font-family=\"Helvetica,sans-Serif\" font-size=\"14.00\">samples = 33</text>\n",
       "<text text-anchor=\"middle\" x=\"70\" y=\"-7.8\" font-family=\"Helvetica,sans-Serif\" font-size=\"14.00\">value = [0, 33, 0]</text>\n",
       "</g>\n",
       "<!-- 3&#45;&gt;4 -->\n",
       "<g id=\"edge4\" class=\"edge\">\n",
       "<title>3&#45;&gt;4</title>\n",
       "<path fill=\"none\" stroke=\"black\" d=\"M168.19,-88.95C152.55,-79.16 135.47,-68.48 120.02,-58.8\"/>\n",
       "<polygon fill=\"black\" stroke=\"black\" points=\"121.46,-55.57 111.12,-53.24 117.74,-61.51 121.46,-55.57\"/>\n",
       "</g>\n",
       "<!-- 5 -->\n",
       "<g id=\"node6\" class=\"node\">\n",
       "<title>5</title>\n",
       "<polygon fill=\"none\" stroke=\"black\" points=\"289.5,-53 158.5,-53 158.5,0 289.5,0 289.5,-53\"/>\n",
       "<text text-anchor=\"middle\" x=\"224\" y=\"-37.8\" font-family=\"Helvetica,sans-Serif\" font-size=\"14.00\">gini = 0.0</text>\n",
       "<text text-anchor=\"middle\" x=\"224\" y=\"-22.8\" font-family=\"Helvetica,sans-Serif\" font-size=\"14.00\">samples = 1</text>\n",
       "<text text-anchor=\"middle\" x=\"224\" y=\"-7.8\" font-family=\"Helvetica,sans-Serif\" font-size=\"14.00\">value = [0, 0, 1]</text>\n",
       "</g>\n",
       "<!-- 3&#45;&gt;5 -->\n",
       "<g id=\"edge5\" class=\"edge\">\n",
       "<title>3&#45;&gt;5</title>\n",
       "<path fill=\"none\" stroke=\"black\" d=\"M222.05,-88.95C222.31,-80.72 222.59,-71.85 222.86,-63.48\"/>\n",
       "<polygon fill=\"black\" stroke=\"black\" points=\"226.36,-63.34 223.18,-53.24 219.37,-63.12 226.36,-63.34\"/>\n",
       "</g>\n",
       "<!-- 7 -->\n",
       "<g id=\"node8\" class=\"node\">\n",
       "<title>7</title>\n",
       "<polygon fill=\"none\" stroke=\"black\" points=\"442.5,-53 311.5,-53 311.5,0 442.5,0 442.5,-53\"/>\n",
       "<text text-anchor=\"middle\" x=\"377\" y=\"-37.8\" font-family=\"Helvetica,sans-Serif\" font-size=\"14.00\">gini = 0.375</text>\n",
       "<text text-anchor=\"middle\" x=\"377\" y=\"-22.8\" font-family=\"Helvetica,sans-Serif\" font-size=\"14.00\">samples = 4</text>\n",
       "<text text-anchor=\"middle\" x=\"377\" y=\"-7.8\" font-family=\"Helvetica,sans-Serif\" font-size=\"14.00\">value = [0, 1, 3]</text>\n",
       "</g>\n",
       "<!-- 6&#45;&gt;7 -->\n",
       "<g id=\"edge7\" class=\"edge\">\n",
       "<title>6&#45;&gt;7</title>\n",
       "<path fill=\"none\" stroke=\"black\" d=\"M378.3,-88.95C378.13,-80.72 377.94,-71.85 377.76,-63.48\"/>\n",
       "<polygon fill=\"black\" stroke=\"black\" points=\"381.26,-63.16 377.54,-53.24 374.26,-63.31 381.26,-63.16\"/>\n",
       "</g>\n",
       "<!-- 8 -->\n",
       "<g id=\"node9\" class=\"node\">\n",
       "<title>8</title>\n",
       "<polygon fill=\"none\" stroke=\"black\" points=\"601,-53 461,-53 461,0 601,0 601,-53\"/>\n",
       "<text text-anchor=\"middle\" x=\"531\" y=\"-37.8\" font-family=\"Helvetica,sans-Serif\" font-size=\"14.00\">gini = 0.0</text>\n",
       "<text text-anchor=\"middle\" x=\"531\" y=\"-22.8\" font-family=\"Helvetica,sans-Serif\" font-size=\"14.00\">samples = 30</text>\n",
       "<text text-anchor=\"middle\" x=\"531\" y=\"-7.8\" font-family=\"Helvetica,sans-Serif\" font-size=\"14.00\">value = [0, 0, 30]</text>\n",
       "</g>\n",
       "<!-- 6&#45;&gt;8 -->\n",
       "<g id=\"edge8\" class=\"edge\">\n",
       "<title>6&#45;&gt;8</title>\n",
       "<path fill=\"none\" stroke=\"black\" d=\"M432.16,-88.95C448.05,-79.07 465.41,-68.28 481.09,-58.53\"/>\n",
       "<polygon fill=\"black\" stroke=\"black\" points=\"482.96,-61.49 489.6,-53.24 479.26,-55.54 482.96,-61.49\"/>\n",
       "</g>\n",
       "</g>\n",
       "</svg>\n"
      ],
      "text/plain": [
       "<graphviz.sources.Source at 0x7ae237c6c490>"
      ]
     },
     "execution_count": 19,
     "metadata": {},
     "output_type": "execute_result"
    }
   ],
   "source": [
    "graphviz.Source(dot_graph)"
   ]
  },
  {
   "cell_type": "markdown",
   "id": "52d85d31",
   "metadata": {},
   "source": [
    "* depth 0의 부모 노드의 정보의 이득을 계산해 보자\n",
    "\n",
    "\\begin{align}\n",
    "G(D_p)&=1-\\left(\\frac{37}{105}\\right)^2-\\left(\\frac{34}{105}\\right)^2-\\left(\\frac{34}{105}\\right)^2\\doteqdot 0.666\\\\\n",
    "G(D_{l})& = 1- \\left(\\frac{37}{37}\\right)^2 - \\left(\\frac{0}{37}\\right)^2 - \\left(\\frac{0}{37}\\right)^2= 0\\\\\n",
    "G(D_{r})& = 1- \\left(\\frac{0}{68}\\right)^2 - \\left(\\frac{34}{68}\\right)^2-\\left(\\frac{34}{68}\\right)^2 = 0.5\n",
    "\\end{align}\n",
    "\n",
    "\\begin{align}\n",
    "IG(D_p, f_i)&=G(D_p)-\\frac{N_{l}}{N_p}G(D_{l})-\\frac{N_{r}}{N_p}G(D_{r})\\\\\n",
    "&=0.666-\\frac{37}{105}\\cdot 0-\\frac{68}{105}\\cdot0.5\\\\\n",
    "&\\doteqdot 0.342\n",
    "\\end{align}"
   ]
  },
  {
   "cell_type": "markdown",
   "id": "7b67aaa5",
   "metadata": {},
   "source": [
    "* depth 1의 오른쪽 부모 노드의 정보의 이득을 계산해 보자\n",
    "\\begin{align}\n",
    "G(D_p)&=1-\\left(\\frac{0}{68}\\right)^2 - \\left(\\frac{34}{68}\\right)^2-\\left(\\frac{34}{68}\\right)^2 = 0.5\\\\\n",
    "G(D_{l})& = 1- \\left(\\frac{0}{34}\\right)^2-\\left(\\frac{33}{34}\\right)^2 - \\left(\\frac{1}{34}\\right)^2 \\doteqdot 0.057\\\\\n",
    "G(D_{r})& = 1- \\left(\\frac{0}{34}\\right)^2- \\left(\\frac{1}{34}\\right)^2-\\left(\\frac{33}{34}\\right)^2 \\doteqdot 0.057\n",
    "\\end{align}\n",
    "\n",
    "\\begin{align}\n",
    "IG(D_p, f_i)&=G(D_p)-\\frac{N_{l}}{N_p}G(D_{l})-\\frac{N_{r}}{N_p}G(D_{r})\\\\\n",
    "&=0.5-\\frac{34}{68}\\cdot 0.057-\\frac{34}{68}\\cdot 0.057\\\\\n",
    "&\\doteqdot 0.442\n",
    "\\end{align}"
   ]
  },
  {
   "cell_type": "markdown",
   "id": "62848341",
   "metadata": {},
   "source": [
    "**Decision Tree는 Information Gain이 최대가 되는 feature와 value에서 가지를 친다!**"
   ]
  },
  {
   "cell_type": "markdown",
   "id": "2a2e9bbd",
   "metadata": {},
   "source": [
    "**테스트 데이터는 어떻게 분류하지?**"
   ]
  },
  {
   "cell_type": "code",
   "execution_count": 20,
   "id": "dfdc4b35",
   "metadata": {},
   "outputs": [
    {
     "data": {
      "text/plain": [
       "SepalLengthCm    6.3\n",
       "SepalWidthCm     2.5\n",
       "PetalLengthCm    4.9\n",
       "PetalWidthCm     1.5\n",
       "Name: 73, dtype: float64"
      ]
     },
     "execution_count": 20,
     "metadata": {},
     "output_type": "execute_result"
    }
   ],
   "source": [
    "x_test.iloc[12]"
   ]
  },
  {
   "cell_type": "code",
   "execution_count": 21,
   "id": "0709bcf2",
   "metadata": {},
   "outputs": [
    {
     "data": {
      "text/plain": [
       "SepalLengthCm    5.3\n",
       "SepalWidthCm     3.7\n",
       "PetalLengthCm    1.5\n",
       "PetalWidthCm     0.2\n",
       "Name: 49, dtype: float64"
      ]
     },
     "execution_count": 21,
     "metadata": {},
     "output_type": "execute_result"
    }
   ],
   "source": [
    "x_test.iloc[0]"
   ]
  },
  {
   "cell_type": "code",
   "execution_count": 22,
   "id": "2d004e28",
   "metadata": {},
   "outputs": [
    {
     "data": {
      "text/plain": [
       "'Iris-setosa'"
      ]
     },
     "execution_count": 22,
     "metadata": {},
     "output_type": "execute_result"
    }
   ],
   "source": [
    "model.predict(x_test.values)[0]"
   ]
  },
  {
   "cell_type": "code",
   "execution_count": 23,
   "id": "3941c4b9",
   "metadata": {},
   "outputs": [
    {
     "data": {
      "text/plain": [
       "array([0.  , 0.25, 0.75])"
      ]
     },
     "execution_count": 23,
     "metadata": {},
     "output_type": "execute_result"
    }
   ],
   "source": [
    "model.predict_proba(x_test.values)[12]"
   ]
  },
  {
   "cell_type": "code",
   "execution_count": 24,
   "id": "f2a2f9e5",
   "metadata": {},
   "outputs": [
    {
     "data": {
      "text/plain": [
       "'Iris-virginica'"
      ]
     },
     "execution_count": 24,
     "metadata": {},
     "output_type": "execute_result"
    }
   ],
   "source": [
    "model.predict(x_test.values)[12]"
   ]
  },
  {
   "cell_type": "markdown",
   "id": "a66ba7ec",
   "metadata": {},
   "source": [
    "## 3.2 Feature Importance"
   ]
  },
  {
   "cell_type": "code",
   "execution_count": 25,
   "id": "f72ec7c3",
   "metadata": {},
   "outputs": [
    {
     "data": {
      "text/plain": [
       "array([0.        , 0.        , 0.44004076, 0.55995924])"
      ]
     },
     "execution_count": 25,
     "metadata": {},
     "output_type": "execute_result"
    }
   ],
   "source": [
    "model.feature_importances_"
   ]
  },
  {
   "cell_type": "code",
   "execution_count": 26,
   "id": "c48ab633",
   "metadata": {},
   "outputs": [
    {
     "data": {
      "image/png": "[encoded data removed]",
      "text/plain": [
       "<Figure size 400x300 with 1 Axes>"
      ]
     },
     "metadata": {
      "image/png": {
       "height": 311,
       "width": 411
      }
     },
     "output_type": "display_data"
    }
   ],
   "source": [
    "fig, ax = plt.subplots(figsize=(4,3))\n",
    "\n",
    "ax.bar(iris.columns[:-1], model.feature_importances_)\n",
    "ax.spines[[\"top\", \"right\"]].set_visible(False)\n",
    "ax.set(ylabel = \"importance\")\n",
    "\n",
    "plt.setp(ax.get_xticklabels(), ha=\"right\", rotation=45);"
   ]
  },
  {
   "cell_type": "markdown",
   "id": "478b9bfa",
   "metadata": {},
   "source": [
    "어떤 특성 $f_i$에 대한 중요도 $I(f_i)$는 다음과 같이 얻을 수 있다:\n",
    "\\begin{equation}\n",
    "I(f_i) = \\sum_{\\substack{p\\in f_i\\text{에 의해} \\\\ \\text{가지치기한 부모 노드}}}\\frac{N_p}{N}\\left(G(D_p) - \\frac{N_{l}}{N_p}G(D_l) - \\frac{N_{r}}{N_p}G(D_r)\\right)\n",
    "\\end{equation}\n",
    "\n",
    "이것을 정규화하게 되면 \n",
    "\\begin{equation}\n",
    "I(f_i)_{\\text{normalize}} = \\frac{I(f_i)}{\\sum_{j\\in\\text{all features}}I(f_j)}\n",
    "\\end{equation}\n",
    "이 된다. "
   ]
  },
  {
   "cell_type": "markdown",
   "id": "678f5958",
   "metadata": {},
   "source": [
    "따라서, \n",
    "\n",
    "\\begin{align}\n",
    "I(f_{2}) = \\frac{68}{105}\\left(0.5 - \\frac{34}{68}\\cdot 0.057 - \\frac{34}{68}\\cdot 0.057\\right)\n",
    "\\doteqdot 0.286\n",
    "\\end{align}"
   ]
  },
  {
   "cell_type": "markdown",
   "id": "8ced7e24",
   "metadata": {},
   "source": [
    "\\begin{align}\n",
    "I(f_3) &= \\frac{105}{105}\\left(0.666 - \\frac{37}{105}\\cdot 0 - \\frac{68}{105}\\cdot 0.5\\right)\n",
    "+\\frac{34}{105}\\left(0.057- \\frac{33}{34}\\cdot 0 - \\frac{1}{34}\\cdot 0\\right)\n",
    "+\\frac{34}{105}\\left(0.057- \\frac{4}{34}\\cdot 0.375 - \\frac{30}{34}\\cdot 0\\right)\\doteqdot 0.364,\n",
    "\\end{align}"
   ]
  },
  {
   "cell_type": "markdown",
   "id": "ce60d9cd",
   "metadata": {},
   "source": [
    "이고, 이것을 정규화하면\n",
    "\\begin{align}\n",
    "I(f_{2})_{\\text{normalize}} &= \\frac{I(f_{2})}{I(f_2)+I(f_{3})} \\doteqdot 0.439\\\\\n",
    "I(f_3)_{\\text{normalize}} &= \\frac{I(f_3)}{I(f_2)+I(f_{3})} \\doteqdot 0.560.\n",
    "\\end{align}"
   ]
  },
  {
   "cell_type": "markdown",
   "id": "ebb01743",
   "metadata": {},
   "source": [
    "# 240527 과제"
   ]
  },
  {
   "cell_type": "markdown",
   "id": "5c2dbea8",
   "metadata": {},
   "source": [
    "* depth 0에서 $X[3]<=0.8$일 때 Information Gain이 최대인지 확인하시오"
   ]
  }
 ],
 "metadata": {
  "kernelspec": {
   "display_name": "p311",
   "language": "python",
   "name": "python3"
  },
  "language_info": {
   "codemirror_mode": {
    "name": "ipython",
    "version": 3
   },
   "file_extension": ".py",
   "mimetype": "text/x-python",
   "name": "python",
   "nbconvert_exporter": "python",
   "pygments_lexer": "ipython3",
   "version": "3.11.9"
  }
 },
 "nbformat": 4,
 "nbformat_minor": 5
}
