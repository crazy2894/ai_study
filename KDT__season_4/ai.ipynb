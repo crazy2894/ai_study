{
 "cells": [
  {
   "cell_type": "markdown",
   "metadata": {},
   "source": [
    "[roboflow](https://roboflow.com/)\n",
    "[ultraytics](https://docs.ultralytics.com/integrations/roboflow/)\n",
    "learn open cv .com\n",
    "supervisely\n",
    "superb ai\n",
    "labelstudio.com -> 오디오에서 감성 분석 가능\n",
    "\n",
    "[Label Studio](https://labelstud.io/guide/)\n",
    "[Label Me](https://github.com/labelmeai/labelme)\n",
    "[Anylabeling](https://github.com/vietanhdev/anylabeling)\n",
    "[X-Anylabeling](https://github.com/CVHub520/X-AnyLabeling)\n",
    " \n",
    "2 일차 교안"
   ]
  }
 ],
 "metadata": {
  "language_info": {
   "name": "python"
  }
 },
 "nbformat": 4,
 "nbformat_minor": 2
}
