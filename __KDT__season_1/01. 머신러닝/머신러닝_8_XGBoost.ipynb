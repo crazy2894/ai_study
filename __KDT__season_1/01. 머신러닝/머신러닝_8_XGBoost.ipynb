{
 "cells": [
  {
   "cell_type": "markdown",
   "metadata": {},
   "source": [
    "목차\n",
    "\n",
    "# 1. XGBoost(**gradient boosting)**\n",
    "\n",
    "- 앙상블 기법의 일종: 여러 모델을 합성한다.\n",
    "- 하나의 엉성한 모델로부터 시작하고, 수차례 사이클을 돌면서 고쳐 나간다.\n",
    "\n",
    "## 1-1. 순서\n",
    "\n",
    "- 우선 시작을 단일 모델로 초기화를 시작한다. 이 모델은 매우 부정확 할 수 있다. (점점 고쳐 간다.)\n",
    "- 반복\n",
    "    1. 우선, 앙상블 안의 모델들에 대한 예측을 시행한다.\n",
    "    2. 각 예측에 대하여 Error 값을 계산한다. (ex. Mean Absolute Error)\n",
    "    3. 그 이후 계산된 Error을 새로운 모델에 적용시켜 앙상블 안에 추가한다.\n",
    "        - 특히, Loss 값이 줄어드는 방향으로 파라미터를 결정\n",
    "        - gradient boosting은 손실함수의 [**경사 하강**](https://www.notion.so/Intro-to-Deep-Learning_2-43c90aa9cc804a698b131dc45f83431d?pvs=21)을 이야기한다.\n",
    "    4. 반복한다.\n",
    "        \n",
    "        ![xgboost.webp](https://www.notion.so/oreumi/Intermediate-Machine-Learning_5-10672ea5a9524d3eae7dc656fb9cc33d?pvs=4#9e413c87a60b4cb787b88c4b9c71fda7)"
   ]
  },
  {
   "cell_type": "code",
   "execution_count": 95,
   "metadata": {},
   "outputs": [],
   "source": [
    "import pandas as pd\n",
    "from sklearn.model_selection import train_test_split\n",
    "\n",
    "mel_data = pd.read_csv('mel_train.csv')\n",
    "mel_data.set_index('Id',inplace=True)\n",
    "\n",
    "obj_cols = mel_data.select_dtypes('object').columns\n",
    "obj_cols_under10 = [col for col in mel_data[obj_cols] if len(mel_data[obj_cols][col].unique()) <= 5]\n",
    "num_cols = mel_data.drop(columns=obj_cols).columns[:-1]\n",
    "\n",
    "my_cols = []\n",
    "my_cols.extend(obj_cols_under10)\n",
    "my_cols.extend(num_cols)\n",
    "\n",
    "# 자동 으로 원핫 인코딩이 pandas 되는 함수\n",
    "one_hot_datas = pd.get_dummies(mel_data[my_cols])\n",
    "y = mel_data.SalePrice\n",
    "\n",
    "X_train, X_valid, y_train, y_valid = train_test_split(one_hot_datas,y,train_size=0.8,random_state=0)"
   ]
  },
  {
   "cell_type": "code",
   "execution_count": 145,
   "metadata": {},
   "outputs": [],
   "source": [
    "from xgboost import XGBRegressor\n",
    "\n",
    "def boooost(n_estimators = 10):\n",
    "    model = XGBRegressor(n_estimators=n_estimators,\n",
    "                           learning_rate=0.01,\n",
    "                           random_state = 0)\n",
    "\n",
    "    model.fit(X_train, y_train)\n",
    "    from sklearn.metrics import mean_absolute_error\n",
    "    y_pred = model.predict(X_valid)\n",
    "\n",
    "    return mean_absolute_error(y_pred, y_valid)\n",
    "\n",
    "final_dict = {}\n",
    "for i in range(50, 1000, 50):\n",
    "    final_dict[i] = boooost(i)"
   ]
  },
  {
   "cell_type": "code",
   "execution_count": 150,
   "metadata": {},
   "outputs": [
    {
     "data": {
      "text/plain": [
       "[<matplotlib.lines.Line2D at 0x1c7dfb3eed0>]"
      ]
     },
     "execution_count": 150,
     "metadata": {},
     "output_type": "execute_result"
    },
    {
     "data": {
      "image/png": "[encoded data removed]",
      "text/plain": [
       "<Figure size 640x480 with 1 Axes>"
      ]
     },
     "metadata": {},
     "output_type": "display_data"
    }
   ],
   "source": [
    "import matplotlib.pyplot as plt\n",
    "\n",
    "plt.plot(final_dict.keys(),final_dict.values())"
   ]
  },
  {
   "cell_type": "code",
   "execution_count": 151,
   "metadata": {},
   "outputs": [
    {
     "data": {
      "text/plain": [
       "{50: 38791.431132277394,\n",
       " 100: 28303.13273223459,\n",
       " 150: 22734.35209760274,\n",
       " 200: 19640.80514233733,\n",
       " 250: 18429.57015196918,\n",
       " 300: 17883.695981378423,\n",
       " 350: 17731.412831763697,\n",
       " 400: 17581.32482074058,\n",
       " 450: 17479.897327161816,\n",
       " 500: 17422.445807470034,\n",
       " 550: 17359.891628317637,\n",
       " 600: 17339.160102739726,\n",
       " 650: 17323.421741224316,\n",
       " 700: 17318.79077482877,\n",
       " 750: 17317.497297731163,\n",
       " 800: 17317.91628317637,\n",
       " 850: 17295.854425299658,\n",
       " 900: 17272.19725224743,\n",
       " 950: 17259.308794413526}"
      ]
     },
     "execution_count": 151,
     "metadata": {},
     "output_type": "execute_result"
    }
   ],
   "source": [
    "final_dict"
   ]
  },
  {
   "cell_type": "code",
   "execution_count": 168,
   "metadata": {},
   "outputs": [
    {
     "data": {
      "text/plain": [
       "Id\n",
       "1145     80000\n",
       "1100    157000\n",
       "953     133900\n",
       "578     164500\n",
       "753     217000\n",
       "         ...  \n",
       "781     176000\n",
       "922     145900\n",
       "223     179900\n",
       "17      149000\n",
       "993     187000\n",
       "Name: SalePrice, Length: 1095, dtype: int64"
      ]
     },
     "execution_count": 168,
     "metadata": {},
     "output_type": "execute_result"
    }
   ],
   "source": [
    "import pandas as pd\n",
    "from sklearn.model_selection import train_test_split\n",
    "\n",
    "mel_data = pd.read_csv('mel_train.csv')\n",
    "mel_data.set_index('Id',inplace=True)\n",
    "\n",
    "num_data = mel_data.select_dtypes('int' or 'float')\n",
    "\n",
    "X_train, X_valid, y_train, y_valid = train_test_split(num_data.drop(columns='SalePrice'),\n",
    "                                                      num_data.SalePrice,\n",
    "                                                      random_state=0)\n",
    "\n",
    "X_train.fillna(value=num_data.mean(),inplace=True)\n",
    "X_valid.fillna(value=num_data.mean(),inplace=True)"
   ]
  }
 ],
 "metadata": {
  "kernelspec": {
   "display_name": "Python 3",
   "language": "python",
   "name": "python3"
  },
  "language_info": {
   "codemirror_mode": {
    "name": "ipython",
    "version": 3
   },
   "file_extension": ".py",
   "mimetype": "text/x-python",
   "name": "python",
   "nbconvert_exporter": "python",
   "pygments_lexer": "ipython3",
   "version": "3.11.9"
  }
 },
 "nbformat": 4,
 "nbformat_minor": 2
}
