{
 "cells": [
  {
   "cell_type": "markdown",
   "metadata": {},
   "source": [
    "## API 란?"
   ]
  },
  {
   "cell_type": "markdown",
   "metadata": {},
   "source": [
    "API는 \"Application Programming Interface\"의 준말. 풀이를 하자면, 여러 프로그램들과 데이터베이스, 그리고 기능들의 상호 통신 방법을 규정하고 도와주는 매개체이다. API는 데이터베이스가 아니지만, **액세스 권한**이 있는 앱의 권한 규정과 \"**서비스 요청**\"에 따라 **데이터**나 서비스 기능을 제공하는 메신저 역할을 한다.\n"
   ]
  },
  {
   "cell_type": "markdown",
   "metadata": {},
   "source": [
    "하나의 **꽃집(데이터베이스)**이 있다.\n",
    "\n",
    "**꽃들과 다양한 꽃에 대한 정보** (꽃 공급 농장주, 꽃 이름, 색깔, 가격, 요번 달 매출 물량과 내역서,.. 등)를 데이터베이스에 들어있는 **데이터**라고 보자.\n",
    "\n",
    "**이곳에 일하시는 분 (꽃집 관리자) = API**\n",
    "\n",
    "**꽃집 방문 손님이나 꽃집 회계사, 주인, 파트너 등 (요청자/애플리케이션)**"
   ]
  },
  {
   "cell_type": "markdown",
   "metadata": {},
   "source": [
    "<img src=\"https://res.cloudinary.com/openhubimg/images/v1663721296/api-flowershop_950ea310/api-flowershop_950ea310.jpg?_i=AA\">"
   ]
  },
  {
   "cell_type": "markdown",
   "metadata": {},
   "source": [
    "\"**request-to-serve**\", 한마디로 \"각자 권한 분야에서 각자 필요한 것만 연계하기(철저한 개인주의 따로국밥?)\"를 가능하게 해주는 서비스."
   ]
  },
  {
   "cell_type": "markdown",
   "metadata": {},
   "source": [
    "## API 신청방법"
   ]
  },
  {
   "cell_type": "markdown",
   "metadata": {},
   "source": [
    "- 회원가입\n",
    "- 데이터 제공 > 인기대출도서 > 활용방법 > API 활용방법 > 이용신청"
   ]
  },
  {
   "cell_type": "code",
   "execution_count": 1,
   "metadata": {},
   "outputs": [],
   "source": [
    "import json"
   ]
  },
  {
   "cell_type": "code",
   "execution_count": 3,
   "metadata": {},
   "outputs": [],
   "source": [
    "with open('api_key/api_key.json', 'r') as f:\n",
    "    api_key = json.load(f)['api_key']"
   ]
  },
  {
   "cell_type": "code",
   "execution_count": 4,
   "metadata": {},
   "outputs": [
    {
     "data": {
      "text/plain": [
       "(str, 64)"
      ]
     },
     "execution_count": 4,
     "metadata": {},
     "output_type": "execute_result"
    }
   ],
   "source": [
    "type(api_key), len(api_key)"
   ]
  },
  {
   "cell_type": "code",
   "execution_count": 9,
   "metadata": {},
   "outputs": [],
   "source": [
    "url = \"http://data4library.kr/api/loanItemSrch?authKey={}&\\\n",
    "startDt=2024-04-01&\\\n",
    "endDt=2024-04-31&\\\n",
    "age=20&\\\n",
    "addCode=0&\\\n",
    "kdc=6&\\\n",
    "pageNo=1&\\\n",
    "pageSize=300&\\\n",
    "format=xml\".format(api_key)"
   ]
  },
  {
   "cell_type": "code",
   "execution_count": 10,
   "metadata": {},
   "outputs": [],
   "source": [
    "import requests"
   ]
  },
  {
   "cell_type": "code",
   "execution_count": 11,
   "metadata": {},
   "outputs": [],
   "source": [
    "r = requests.get(url)"
   ]
  },
  {
   "cell_type": "code",
   "execution_count": 12,
   "metadata": {},
   "outputs": [
    {
     "name": "stdout",
     "output_type": "stream",
     "text": [
      "<?xml version=\"1.0\" encoding=\"UTF-8\" standalone=\"no\"?><response><request><startDt>2024-04-01</startDt><endDt>2024-04-31</endDt><age>20</age><addCode>0</addCode><kdc>6</kdc><pageNo>1</pageNo><pageSize>300</pageSize></request><resultNum>300</resultNum><numFound>5000</numFound><docs><doc><no>1</no><ranking>62</ranking><bookname><![CDATA[당신은 사건 현장에 있습니다 :일러스트 한 장으로 즐기는 추리 게임]]></bookname><authors><![CDATA[글: 모데스토 가르시아 ;번역: 엄지영]]></authors><publisher><![CDATA[중앙일보에스]]></publisher><publication_year><!\n"
     ]
    }
   ],
   "source": [
    "print(r.text[:500])"
   ]
  },
  {
   "cell_type": "code",
   "execution_count": 13,
   "metadata": {},
   "outputs": [],
   "source": [
    "with open('data/sample.xml', 'w') as f:\n",
    "    f.write(r.text)"
   ]
  },
  {
   "cell_type": "markdown",
   "metadata": {},
   "source": [
    "## XML이란?\n",
    "\n",
    "- XML은 eXtensible Markup Language의 약자이며, 1998년에 W3C 표준 권고안에 포함\n",
    "\n",
    "\n",
    "- XML은 HTML과 매우 비슷한 문자 기반의 마크업 언어(text-based markup language)\n",
    "\n",
    "- 사람과 기계가 동시에 읽기 편한 구조\n",
    "\n",
    "\n",
    "\n",
    "- HTML처럼 데이터를 보여주는 목적이 아닌, 데이터를 저장하고 전달할 목적으로만 만들어 짐\n",
    "\n",
    "- XML 태그는 HTML 태그처럼 미리 정의되어 있지 않고, 사용자가 직접 정의할 수 있음"
   ]
  },
  {
   "cell_type": "markdown",
   "metadata": {},
   "source": [
    "- XML 주석\n",
    "\n",
    "    - \\<!-- 으로 시작하여 --> 으로 끝난다.\n",
    "    - 시작태그에는 느낌표가 있지만 종료 태그에는 느낌표가 없다.\n",
    "\n",
    "- CDATA\n",
    "\n",
    "    - Character DATA의 약자이다. 문자 데이터를 XML 데이터로 해석하지 않고 그대로 표현하는 것을 의미한다.\n",
    "    - \\<![CDATA[ 특수문자 혹은 노출하고 싶은 문자열을 적어준다 ]]>\n",
    "\n",
    "- XML 요소\n",
    "\n",
    "    - 아래처럼 시작과 종료 태그로 한 쌍이 되어야 한다.\n",
    "    - <시작태그명> 요소내용 </종료태그명>"
   ]
  },
  {
   "cell_type": "markdown",
   "metadata": {},
   "source": [
    "## xml 내장 모듈을 사용하는 방법"
   ]
  },
  {
   "cell_type": "markdown",
   "metadata": {},
   "source": [
    "[xml.etree.ElementTree](https://docs.python.org/ko/3/library/xml.etree.elementtree.html#module-xml.etree.ElementTree)"
   ]
  },
  {
   "cell_type": "code",
   "execution_count": 14,
   "metadata": {},
   "outputs": [],
   "source": [
    "import xml.etree.ElementTree as ET"
   ]
  },
  {
   "cell_type": "code",
   "execution_count": 15,
   "metadata": {},
   "outputs": [],
   "source": [
    "root = ET.fromstring(r.text)"
   ]
  },
  {
   "cell_type": "code",
   "execution_count": 16,
   "metadata": {},
   "outputs": [
    {
     "name": "stdout",
     "output_type": "stream",
     "text": [
      "doc                  | None\n",
      "no                   | 300\n",
      "ranking              | 259\n",
      "bookname             | 내 사진에 힘을 주는 101가지\n",
      "authors              | 곽윤섭 지음 ;김경신 그림\n",
      "publisher            | 동녘\n",
      "publication_year     | 2009\n",
      "isbn13               | 9788972975953\n",
      "addition_symbol      | 03660\n",
      "vol                  | None\n",
      "class_no             | 662\n",
      "class_nm             | 예술 > 사진술 > 촬영기술\n",
      "loan_count           | 5\n",
      "bookImageURL         | http://image.aladin.co.kr/product/361/44/cover/8972975958_1.jpg\n",
      "bookDtlUrl           |  https://data4library.kr/bookV?seq=2288010\n",
      "----------------------------------------------------------------------------------------------------\n",
      "doc                  | None\n",
      "no                   | 299\n",
      "ranking              | 259\n",
      "bookname             | 건축학교에서 배운 101가지\n",
      "authors              | 매튜 프레더릭 지음 ;장택수 옮김\n",
      "publisher            | 동녘\n",
      "publication_year     | 2008\n",
      "isbn13               | 9788972975625\n",
      "addition_symbol      | 03600\n",
      "vol                  | None\n",
      "class_no             | 610\n",
      "class_nm             | 예술 > 건축술 > 건축술\n",
      "loan_count           | 5\n",
      "bookImageURL         | https://bookthumb-phinf.pstatic.net/cover/044/734/04473456.jpg?type=m1&udate=20141122\n",
      "bookDtlUrl           |  https://data4library.kr/bookV?seq=2189039\n",
      "----------------------------------------------------------------------------------------------------\n",
      "doc                  | None\n",
      "no                   | 298\n",
      "ranking              | 259\n",
      "bookname             | 사상으로 읽는 동아시아의 미술\n",
      "authors              | 지은이: 한정희,최경현\n",
      "publisher            | 돌베개\n",
      "publication_year     | 2018\n",
      "isbn13               | 9788971998397\n",
      "addition_symbol      | 03600\n",
      "vol                  | None\n",
      "class_no             | 609.1\n",
      "class_nm             | 예술 > 예술 > 미술사\n",
      "loan_count           | 5\n",
      "bookImageURL         | http://image.aladin.co.kr/product/12857/40/cover/8971998393_1.jpg\n",
      "bookDtlUrl           |  https://data4library.kr/bookV?seq=3686998\n",
      "----------------------------------------------------------------------------------------------------\n"
     ]
    }
   ],
   "source": [
    "for i, ele in enumerate(root.findall('./docs/doc')[::-1]):\n",
    "    for ele1 in ele.iter():\n",
    "        print(f'{ele1.tag:20s} | {ele1.text}')\n",
    "\n",
    "    print('-' * 100)\n",
    "\n",
    "    if i > 1:\n",
    "        break"
   ]
  },
  {
   "cell_type": "markdown",
   "metadata": {},
   "source": [
    "## BeautifulSoup를 이용한 방법"
   ]
  },
  {
   "cell_type": "code",
   "execution_count": 17,
   "metadata": {},
   "outputs": [],
   "source": [
    "# conda install anaconda::beautifulsoup4\n",
    "# conda install lxml"
   ]
  },
  {
   "cell_type": "code",
   "execution_count": 18,
   "metadata": {},
   "outputs": [],
   "source": [
    "from bs4 import BeautifulSoup"
   ]
  },
  {
   "cell_type": "code",
   "execution_count": 19,
   "metadata": {},
   "outputs": [],
   "source": [
    "soup = BeautifulSoup(r.text, \"xml\")"
   ]
  },
  {
   "cell_type": "code",
   "execution_count": 20,
   "metadata": {},
   "outputs": [
    {
     "name": "stdout",
     "output_type": "stream",
     "text": [
      "no                   | 1\n",
      "ranking              | 62\n",
      "bookname             | 당신은 사건 현장에 있습니다 :일러스트 한 장으로 즐기는 추리 게임\n",
      "authors              | 글: 모데스토 가르시아 ;번역: 엄지영\n",
      "publisher            | 중앙일보에스\n",
      "publication_year     | 2022\n",
      "isbn13               | 9788927812975\n",
      "addition_symbol      | 03030\n",
      "vol                  | 1\n",
      "class_no             | 691.9\n",
      "class_nm             | 예술 > 오락, 운동 > 오락\n",
      "loan_count           | 12\n",
      "bookImageURL         | https://image.aladin.co.kr/product/29623/60/cover/8927812972_2.jpg\n",
      "bookDtlUrl           | https://data4library.kr/bookV?seq=6479562\n"
     ]
    }
   ],
   "source": [
    "for ele in soup.select('docs > doc'):\n",
    "    for ele1 in ele.children:\n",
    "        # print(ele1.name)\n",
    "        if ele1.string is not None:\n",
    "            print(f'{ele1.name:20s} | {ele1.string.strip()}')\n",
    "        else:\n",
    "            print(f'{ele1.name:20s} | {None}')\n",
    "    break"
   ]
  },
  {
   "cell_type": "markdown",
   "metadata": {},
   "source": [
    "## JSON 구조\n",
    "\n",
    "- 자바스크립트의 객체 표기법으로부터 파생된 부분 집합\n",
    "\n",
    "- 따라서 JSON 데이터는 다음과 같은 자바스크립트 객체 표기법에 따른 구조로 구성\n",
    " \n",
    "    - JSON 데이터는 이름과 값의 쌍으로 이루어 짐\n",
    "\n",
    "    - JSON 데이터는 쉼표(,)로 나열\n",
    "\n",
    "    - 객체(object)는 중괄호({})로 둘러쌓아 표현\n",
    "\n",
    "    - 배열(array)은 대괄호([])로 둘러쌓아 표현"
   ]
  },
  {
   "cell_type": "code",
   "execution_count": 23,
   "metadata": {},
   "outputs": [],
   "source": [
    "json_url = \"http://data4library.kr/api/loanItemSrch?authKey={}&\\\n",
    "startDt=2024-04-01&\\\n",
    "endDt=2024-04-31&\\\n",
    "age=20&\\\n",
    "addCode=0&\\\n",
    "kdc=6&\\\n",
    "pageNo=1&\\\n",
    "pageSize=300&\\\n",
    "format=json\".format(api_key)"
   ]
  },
  {
   "cell_type": "code",
   "execution_count": 24,
   "metadata": {},
   "outputs": [],
   "source": [
    "r = requests.get(json_url)"
   ]
  },
  {
   "cell_type": "code",
   "execution_count": 25,
   "metadata": {},
   "outputs": [
    {
     "name": "stdout",
     "output_type": "stream",
     "text": [
      "{\"response\":{\"request\":{\"startDt\":\"2024-04-01\",\"endDt\":\"2024-04-31\",\"age\":\"20\",\"addCode\":\"0\",\"kdc\":\"6\",\"pageNo\":1,\"pageSize\":300},\"resultNum\":300,\"numFound\":5000,\"docs\":[{\"doc\":{\"no\":1,\"ranking\":\"62\",\"bookname\":\"당신은 사건 현장에 있습니다 :일러스트 한 장으로 즐기는 추리 게임 \",\"authors\":\"글: 모데스토 가르시아 ;번역: 엄지영\",\"publisher\":\"중앙일보에스\",\"publication_year\":\"2022\",\"isbn13\":\"9788927812975\",\"addition_symbol\":\"03030\",\"vol\":\"1\",\"class_no\":\"691.9\",\"class_nm\":\"예술 > 오락, 운동 > 오락\",\"loan_count\":\"12\",\"bookImageURL\":\"https://image.aladin.co\n"
     ]
    }
   ],
   "source": [
    "print(r.text[:500])"
   ]
  },
  {
   "cell_type": "code",
   "execution_count": 26,
   "metadata": {},
   "outputs": [],
   "source": [
    "# 딕셔너리로 변환\n",
    "data = json.loads(r.text)"
   ]
  },
  {
   "cell_type": "code",
   "execution_count": 27,
   "metadata": {},
   "outputs": [
    {
     "data": {
      "text/plain": [
       "dict"
      ]
     },
     "execution_count": 27,
     "metadata": {},
     "output_type": "execute_result"
    }
   ],
   "source": [
    "type(data)"
   ]
  },
  {
   "cell_type": "code",
   "execution_count": 28,
   "metadata": {},
   "outputs": [
    {
     "data": {
      "text/plain": [
       "dict_keys(['response'])"
      ]
     },
     "execution_count": 28,
     "metadata": {},
     "output_type": "execute_result"
    }
   ],
   "source": [
    "data.keys()"
   ]
  },
  {
   "cell_type": "code",
   "execution_count": 36,
   "metadata": {},
   "outputs": [
    {
     "name": "stdout",
     "output_type": "stream",
     "text": [
      "no                 | 1\n",
      "ranking            | 62\n",
      "bookname           | 당신은 사건 현장에 있습니다 :일러스트 한 장으로 즐기는 추리 게임 \n",
      "authors            | 글: 모데스토 가르시아 ;번역: 엄지영\n",
      "publisher          | 중앙일보에스\n",
      "publication_year   | 2022\n",
      "isbn13             | 9788927812975\n",
      "addition_symbol    | 03030\n",
      "vol                | 1\n",
      "class_no           | 691.9\n",
      "class_nm           | 예술 > 오락, 운동 > 오락\n",
      "loan_count         | 12\n",
      "bookImageURL       | https://image.aladin.co.kr/product/29623/60/cover/8927812972_2.jpg\n",
      "bookDtlUrl         | https://data4library.kr/bookV?seq=6479562\n"
     ]
    }
   ],
   "source": [
    "for ele in data['response']['docs']:\n",
    "    for key, value in ele['doc'].items():\n",
    "        print(f'{key:18s}', '|', value)\n",
    "    break"
   ]
  },
  {
   "cell_type": "code",
   "execution_count": null,
   "metadata": {},
   "outputs": [],
   "source": []
  }
 ],
 "metadata": {
  "kernelspec": {
   "display_name": "anal_pdf",
   "language": "python",
   "name": "python3"
  },
  "language_info": {
   "codemirror_mode": {
    "name": "ipython",
    "version": 3
   },
   "file_extension": ".py",
   "mimetype": "text/x-python",
   "name": "python",
   "nbconvert_exporter": "python",
   "pygments_lexer": "ipython3",
   "version": "3.10.13"
  }
 },
 "nbformat": 4,
 "nbformat_minor": 2
}
