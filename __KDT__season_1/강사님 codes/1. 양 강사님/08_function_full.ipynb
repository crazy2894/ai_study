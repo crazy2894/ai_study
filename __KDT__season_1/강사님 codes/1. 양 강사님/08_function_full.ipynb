{
 "cells": [
  {
   "cell_type": "markdown",
   "metadata": {},
   "source": [
    "# 8. 함수만들기\n"
   ]
  },
  {
   "cell_type": "markdown",
   "metadata": {},
   "source": [
    "간단한 용어 정리\n",
    "- 함수를 호출 : 함수를 사용하는 것\n",
    "- 매개변수 : 함수를 호출할 때 괄호 안에 넣는 여러가지 자료형들\n",
    "- 리턴값 : 함수를 호출해서 최종적으로 나오는 결과"
   ]
  },
  {
   "cell_type": "markdown",
   "metadata": {},
   "source": [
    "```\n",
    "len('안녕하세요' <---- 매개변수)    <---- 함수 호출\n",
    "```\n",
    "5    <---- 리턴값"
   ]
  },
  {
   "cell_type": "markdown",
   "metadata": {},
   "source": [
    "## 8.1 함수의 기본\n"
   ]
  },
  {
   "cell_type": "markdown",
   "metadata": {},
   "source": [
    "```\n",
    "def 함수 이름():\n",
    "    코드\n",
    "```"
   ]
  },
  {
   "cell_type": "code",
   "execution_count": 17,
   "metadata": {},
   "outputs": [],
   "source": [
    "def print_3_times():\n",
    "    print('안녕하세요')\n",
    "    print('안녕하세요')\n",
    "    print('안녕하세요')"
   ]
  },
  {
   "cell_type": "code",
   "execution_count": 18,
   "metadata": {},
   "outputs": [
    {
     "name": "stdout",
     "output_type": "stream",
     "text": [
      "안녕하세요\n",
      "안녕하세요\n",
      "안녕하세요\n"
     ]
    }
   ],
   "source": [
    "print_3_times()"
   ]
  },
  {
   "cell_type": "code",
   "execution_count": 19,
   "metadata": {},
   "outputs": [
    {
     "data": {
      "text/plain": [
       "<function __main__.print_3_times()>"
      ]
     },
     "execution_count": 19,
     "metadata": {},
     "output_type": "execute_result"
    }
   ],
   "source": [
    "print_3_times"
   ]
  },
  {
   "cell_type": "code",
   "execution_count": 20,
   "metadata": {},
   "outputs": [],
   "source": [
    "def print_3_times():\n",
    "    for i in range(3):\n",
    "        print('안녕하세요')"
   ]
  },
  {
   "cell_type": "code",
   "execution_count": 22,
   "metadata": {},
   "outputs": [
    {
     "name": "stdout",
     "output_type": "stream",
     "text": [
      "안녕하세요\n",
      "안녕하세요\n",
      "안녕하세요\n"
     ]
    }
   ],
   "source": [
    "print_3_times()"
   ]
  },
  {
   "cell_type": "markdown",
   "metadata": {},
   "source": [
    "## 8.2 함수에 매개변수 만들기\n"
   ]
  },
  {
   "cell_type": "markdown",
   "metadata": {},
   "source": [
    "```\n",
    "def 함수 이름(매개변수, 매개변수, ...):\n",
    "    코드\n",
    "```"
   ]
  },
  {
   "cell_type": "markdown",
   "metadata": {},
   "source": [
    "#### '안녕하세요'를 n 번 출력하는 함수를 만들어보자."
   ]
  },
  {
   "cell_type": "code",
   "execution_count": 32,
   "metadata": {},
   "outputs": [],
   "source": [
    "def print_n_times(n):\n",
    "    for i in range(n):\n",
    "        print('안녕하세요')"
   ]
  },
  {
   "cell_type": "code",
   "execution_count": 33,
   "metadata": {},
   "outputs": [
    {
     "name": "stdout",
     "output_type": "stream",
     "text": [
      "안녕하세요\n",
      "안녕하세요\n",
      "안녕하세요\n",
      "안녕하세요\n",
      "안녕하세요\n"
     ]
    }
   ],
   "source": [
    "print_n_times(5)"
   ]
  },
  {
   "cell_type": "code",
   "execution_count": 34,
   "metadata": {},
   "outputs": [
    {
     "name": "stdout",
     "output_type": "stream",
     "text": [
      "안녕하세요\n",
      "안녕하세요\n",
      "안녕하세요\n"
     ]
    }
   ],
   "source": [
    "print_n_times(3)"
   ]
  },
  {
   "cell_type": "markdown",
   "metadata": {},
   "source": [
    "#### '안녕하세요'가 아닌 임의의 문장을 n 번 출력하는 함수를 만들어보자"
   ]
  },
  {
   "cell_type": "code",
   "execution_count": 36,
   "metadata": {},
   "outputs": [],
   "source": [
    "def print_n_times(value, n):\n",
    "    for i in range(n):\n",
    "        print(value)"
   ]
  },
  {
   "cell_type": "code",
   "execution_count": 38,
   "metadata": {},
   "outputs": [
    {
     "name": "stdout",
     "output_type": "stream",
     "text": [
      "안녕하세요\n",
      "안녕하세요\n",
      "안녕하세요\n"
     ]
    }
   ],
   "source": [
    "print_n_times('안녕하세요', 3)"
   ]
  },
  {
   "cell_type": "code",
   "execution_count": 37,
   "metadata": {},
   "outputs": [
    {
     "name": "stdout",
     "output_type": "stream",
     "text": [
      "화이팅!!!!\n",
      "화이팅!!!!\n",
      "화이팅!!!!\n",
      "화이팅!!!!\n",
      "화이팅!!!!\n",
      "화이팅!!!!\n",
      "화이팅!!!!\n"
     ]
    }
   ],
   "source": [
    "print_n_times('화이팅!!!!', 7)"
   ]
  },
  {
   "cell_type": "markdown",
   "metadata": {},
   "source": [
    "### 8.2.1 매개변수와 관련된 TypeError\n"
   ]
  },
  {
   "cell_type": "markdown",
   "metadata": {},
   "source": [
    "#### print_n_times 라는 함수에 매개변수를 1개만 넣으면 어떤 일이 벌어질까?"
   ]
  },
  {
   "cell_type": "code",
   "execution_count": 40,
   "metadata": {},
   "outputs": [
    {
     "ename": "TypeError",
     "evalue": "print_n_times() missing 1 required positional argument: 'n'",
     "output_type": "error",
     "traceback": [
      "\u001b[1;31m---------------------------------------------------------------------------\u001b[0m",
      "\u001b[1;31mTypeError\u001b[0m                                 Traceback (most recent call last)",
      "Cell \u001b[1;32mIn[40], line 1\u001b[0m\n\u001b[1;32m----> 1\u001b[0m print_n_times(\u001b[38;5;124m'\u001b[39m\u001b[38;5;124m안녕하세요\u001b[39m\u001b[38;5;124m'\u001b[39m)\n",
      "\u001b[1;31mTypeError\u001b[0m: print_n_times() missing 1 required positional argument: 'n'"
     ]
    }
   ],
   "source": [
    "print_n_times('안녕하세요')"
   ]
  },
  {
   "cell_type": "markdown",
   "metadata": {},
   "source": [
    "#### print_n_times 라는 함수에 매개변수를 2개 이상을 넣으면 어떤 일이 벌어질까?"
   ]
  },
  {
   "cell_type": "code",
   "execution_count": 41,
   "metadata": {},
   "outputs": [
    {
     "ename": "TypeError",
     "evalue": "print_n_times() takes 2 positional arguments but 3 were given",
     "output_type": "error",
     "traceback": [
      "\u001b[1;31m---------------------------------------------------------------------------\u001b[0m",
      "\u001b[1;31mTypeError\u001b[0m                                 Traceback (most recent call last)",
      "Cell \u001b[1;32mIn[41], line 1\u001b[0m\n\u001b[1;32m----> 1\u001b[0m print_n_times(\u001b[38;5;124m'\u001b[39m\u001b[38;5;124m안녕하세요\u001b[39m\u001b[38;5;124m'\u001b[39m, \u001b[38;5;241m3\u001b[39m, \u001b[38;5;124m'\u001b[39m\u001b[38;5;124m아무거나\u001b[39m\u001b[38;5;124m'\u001b[39m)\n",
      "\u001b[1;31mTypeError\u001b[0m: print_n_times() takes 2 positional arguments but 3 were given"
     ]
    }
   ],
   "source": [
    "print_n_times('안녕하세요', 3, '아무거나')"
   ]
  },
  {
   "cell_type": "markdown",
   "metadata": {},
   "source": [
    "## 8.3 가변 매개변수\n"
   ]
  },
  {
   "cell_type": "code",
   "execution_count": 42,
   "metadata": {},
   "outputs": [
    {
     "name": "stdout",
     "output_type": "stream",
     "text": [
      "안녕하세요\n"
     ]
    }
   ],
   "source": [
    "print('안녕하세요')"
   ]
  },
  {
   "cell_type": "code",
   "execution_count": 43,
   "metadata": {},
   "outputs": [
    {
     "name": "stdout",
     "output_type": "stream",
     "text": [
      "안녕하세요 1 2 3 4 5 True\n"
     ]
    }
   ],
   "source": [
    "print('안녕하세요', 1, 2, 3, 4, 5, True)"
   ]
  },
  {
   "cell_type": "markdown",
   "metadata": {},
   "source": [
    "**가변 매개변수** 함수 : 매개변수를 원하는 만큼 받을 수 있는 함수\n",
    "```\n",
    "def 함수 이름(매개변수, 매개변수, ..., *가변 매개변수):\n",
    "    코드\n",
    "```\n",
    "- 제약조건\n",
    "    - 가변 매개변수 뒤에는 일반 매개변수가 올 수 없음\n",
    "    - 가변 매개변수는 하나만 사용 가능\n",
    "- 이러한 제약 조건이 없다면, 가변 매개변수가 어디부터 어디까지인지 알 수 없음"
   ]
  },
  {
   "cell_type": "code",
   "execution_count": 44,
   "metadata": {},
   "outputs": [],
   "source": [
    "def print_n_times(n, *values):\n",
    "    # n번 반복\n",
    "    for i in range(n):\n",
    "        # values를 리스트처럼 활용\n",
    "        for value in values:\n",
    "            print(value)\n",
    "        # 매 반복을 구분하기 위함\n",
    "        print('-'*50)"
   ]
  },
  {
   "cell_type": "code",
   "execution_count": 45,
   "metadata": {},
   "outputs": [
    {
     "name": "stdout",
     "output_type": "stream",
     "text": [
      "안녕하세요\n",
      "오늘도\n",
      "내일도\n",
      "화이팅!!\n",
      "--------------------------------------------------\n",
      "안녕하세요\n",
      "오늘도\n",
      "내일도\n",
      "화이팅!!\n",
      "--------------------------------------------------\n",
      "안녕하세요\n",
      "오늘도\n",
      "내일도\n",
      "화이팅!!\n",
      "--------------------------------------------------\n"
     ]
    }
   ],
   "source": [
    "print_n_times(3, '안녕하세요', '오늘도', '내일도', '화이팅!!')"
   ]
  },
  {
   "cell_type": "markdown",
   "metadata": {},
   "source": [
    "## 8.4 기본 매개변수\n"
   ]
  },
  {
   "cell_type": "code",
   "execution_count": 46,
   "metadata": {},
   "outputs": [
    {
     "name": "stdout",
     "output_type": "stream",
     "text": [
      "Help on built-in function print in module builtins:\n",
      "\n",
      "print(*args, sep=' ', end='\\n', file=None, flush=False)\n",
      "    Prints the values to a stream, or to sys.stdout by default.\n",
      "    \n",
      "    sep\n",
      "      string inserted between values, default a space.\n",
      "    end\n",
      "      string appended after the last value, default a newline.\n",
      "    file\n",
      "      a file-like object (stream); defaults to the current sys.stdout.\n",
      "    flush\n",
      "      whether to forcibly flush the stream.\n",
      "\n"
     ]
    }
   ],
   "source": [
    "help(print)"
   ]
  },
  {
   "cell_type": "markdown",
   "metadata": {},
   "source": [
    "```\n",
    "print(*args, sep=' ', end='\\n', file=None, flush=False)\n",
    "```\n",
    "- 기본 매개변수\n",
    "    - sep=' '\n",
    "    - end='\\n'\n",
    "    - file=None\n",
    "    - flush=False\n",
    "- 제약조건\n",
    "    - 기본 매개변수 뒤에는 일반 매개변수가 올 수 없음\n"
   ]
  },
  {
   "cell_type": "markdown",
   "metadata": {},
   "source": [
    "#### 매개변수로 받은 문장을 2 번 출력하는 함수를 만들어보자. 가끔 필요할때 n 번 반복 출력 가능하도록 만들어보자."
   ]
  },
  {
   "cell_type": "code",
   "execution_count": 50,
   "metadata": {},
   "outputs": [],
   "source": [
    "def print_n_times(value, n=2):\n",
    "    for i in range(n):\n",
    "        print(value)"
   ]
  },
  {
   "cell_type": "code",
   "execution_count": 51,
   "metadata": {},
   "outputs": [
    {
     "name": "stdout",
     "output_type": "stream",
     "text": [
      "안녕하세요\n",
      "안녕하세요\n"
     ]
    }
   ],
   "source": [
    "print_n_times('안녕하세요')"
   ]
  },
  {
   "cell_type": "code",
   "execution_count": 52,
   "metadata": {},
   "outputs": [
    {
     "name": "stdout",
     "output_type": "stream",
     "text": [
      "안녕하세요\n",
      "안녕하세요\n",
      "안녕하세요\n",
      "안녕하세요\n",
      "안녕하세요\n"
     ]
    }
   ],
   "source": [
    "print_n_times('안녕하세요', n=5)"
   ]
  },
  {
   "cell_type": "code",
   "execution_count": 53,
   "metadata": {},
   "outputs": [
    {
     "name": "stdout",
     "output_type": "stream",
     "text": [
      "안녕하세요\n",
      "안녕하세요\n",
      "안녕하세요\n",
      "안녕하세요\n",
      "안녕하세요\n"
     ]
    }
   ],
   "source": [
    "print_n_times('안녕하세요', 5)"
   ]
  },
  {
   "cell_type": "markdown",
   "metadata": {},
   "source": [
    "- 매개변수와 기본 매개변수만 사용하는 경우에는 순서대로 값을 입력해도 문제 없음"
   ]
  },
  {
   "cell_type": "markdown",
   "metadata": {},
   "source": [
    "## 8.5 키워드 매개변수\n"
   ]
  },
  {
   "cell_type": "markdown",
   "metadata": {},
   "source": [
    "### 8.5.1 기본 매개변수가 가변 매개변수보다 앞에 올 때\n"
   ]
  },
  {
   "cell_type": "code",
   "execution_count": 56,
   "metadata": {},
   "outputs": [],
   "source": [
    "def print_n_times(n=2, *values):\n",
    "    for i in range(n):\n",
    "        for value in values:\n",
    "            print(value)\n",
    "        print('-'*50)"
   ]
  },
  {
   "cell_type": "code",
   "execution_count": null,
   "metadata": {},
   "outputs": [
    {
     "ename": "TypeError",
     "evalue": "'str' object cannot be interpreted as an integer",
     "output_type": "error",
     "traceback": [
      "\u001b[1;31m---------------------------------------------------------------------------\u001b[0m\n",
      "\u001b[1;31mTypeError\u001b[0m                                 Traceback (most recent call last)\n",
      "Cell \u001b[1;32mIn[57], line 1\u001b[0m\n",
      "\u001b[1;32m----> 1\u001b[0m print_n_times(\u001b[38;5;124m'\u001b[39m\u001b[38;5;124m안녕하세요\u001b[39m\u001b[38;5;124m'\u001b[39m, \u001b[38;5;124m'\u001b[39m\u001b[38;5;124m오늘도\u001b[39m\u001b[38;5;124m'\u001b[39m, \u001b[38;5;124m'\u001b[39m\u001b[38;5;124m내일도\u001b[39m\u001b[38;5;124m'\u001b[39m, \u001b[38;5;124m'\u001b[39m\u001b[38;5;124m화이팅!!\u001b[39m\u001b[38;5;124m'\u001b[39m)\n",
      "\n",
      "Cell \u001b[1;32mIn[56], line 2\u001b[0m, in \u001b[0;36mprint_n_times\u001b[1;34m(n, *values)\u001b[0m\n",
      "\u001b[0;32m      1\u001b[0m \u001b[38;5;28;01mdef\u001b[39;00m \u001b[38;5;21mprint_n_times\u001b[39m(n\u001b[38;5;241m=\u001b[39m\u001b[38;5;241m2\u001b[39m, \u001b[38;5;241m*\u001b[39mvalues):\n",
      "\u001b[1;32m----> 2\u001b[0m     \u001b[38;5;28;01mfor\u001b[39;00m i \u001b[38;5;129;01min\u001b[39;00m \u001b[38;5;28mrange\u001b[39m(n):\n",
      "\u001b[0;32m      3\u001b[0m         \u001b[38;5;28;01mfor\u001b[39;00m value \u001b[38;5;129;01min\u001b[39;00m values:\n",
      "\u001b[0;32m      4\u001b[0m             \u001b[38;5;28mprint\u001b[39m(value)\n",
      "\n",
      "\u001b[1;31mTypeError\u001b[0m: 'str' object cannot be interpreted as an integer"
     ]
    }
   ],
   "source": [
    "print_n_times('안녕하세요', '오늘도', '내일도', '화이팅!!')"
   ]
  },
  {
   "cell_type": "markdown",
   "metadata": {},
   "source": [
    "### 8.5.2 가변 매개변수가 기본 매개변수보다 앞에 올 때\n"
   ]
  },
  {
   "cell_type": "code",
   "execution_count": null,
   "metadata": {},
   "outputs": [],
   "source": [
    "def print_n_times(*values, n=2):\n",
    "    for i in range(n):\n",
    "        for value in values:\n",
    "            print(value)\n",
    "        print('-'*50)"
   ]
  },
  {
   "cell_type": "code",
   "execution_count": null,
   "metadata": {},
   "outputs": [
    {
     "name": "stdout",
     "output_type": "stream",
     "text": [
      "안녕하세요\n",
      "오늘도\n",
      "내일도\n",
      "화이팅!!\n",
      "--------------------------------------------------\n",
      "안녕하세요\n",
      "오늘도\n",
      "내일도\n",
      "화이팅!!\n",
      "--------------------------------------------------\n"
     ]
    }
   ],
   "source": [
    "print_n_times('안녕하세요', '오늘도', '내일도', '화이팅!!')"
   ]
  },
  {
   "cell_type": "code",
   "execution_count": 63,
   "metadata": {},
   "outputs": [
    {
     "name": "stdout",
     "output_type": "stream",
     "text": [
      "안녕하세요\n",
      "오늘도\n",
      "내일도\n",
      "화이팅!!\n",
      "3\n",
      "--------------------------------------------------\n",
      "안녕하세요\n",
      "오늘도\n",
      "내일도\n",
      "화이팅!!\n",
      "3\n",
      "--------------------------------------------------\n"
     ]
    }
   ],
   "source": [
    "print_n_times('안녕하세요', '오늘도', '내일도', '화이팅!!', 3)"
   ]
  },
  {
   "cell_type": "markdown",
   "metadata": {},
   "source": [
    "- 가변 매개변수와 기본 매개변수를 사용하면 순서 확인이 어려움, 따라서 그냥 입력하면 기본 매개변수로 인식되지 X\n",
    "- 아래의 방법을 이용해야 함"
   ]
  },
  {
   "cell_type": "markdown",
   "metadata": {},
   "source": [
    "### 8.5.3 키워드 매개변수\n"
   ]
  },
  {
   "cell_type": "code",
   "execution_count": null,
   "metadata": {},
   "outputs": [
    {
     "name": "stdout",
     "output_type": "stream",
     "text": [
      "안녕하세요\n",
      "오늘도\n",
      "내일도\n",
      "화이팅!!\n",
      "--------------------------------------------------\n",
      "안녕하세요\n",
      "오늘도\n",
      "내일도\n",
      "화이팅!!\n",
      "--------------------------------------------------\n",
      "안녕하세요\n",
      "오늘도\n",
      "내일도\n",
      "화이팅!!\n",
      "--------------------------------------------------\n"
     ]
    }
   ],
   "source": [
    "print_n_times('안녕하세요', '오늘도', '내일도', '화이팅!!', n=3)"
   ]
  },
  {
   "cell_type": "markdown",
   "metadata": {},
   "source": [
    "- 매개변수 이름을 지정해서 입력하는 매개변수를 **키워드 매개변수**라고 함"
   ]
  },
  {
   "cell_type": "markdown",
   "metadata": {},
   "source": [
    "### 8.5.4 기본 매개변수 중에서 필요한 값만 입력하기\n"
   ]
  },
  {
   "cell_type": "code",
   "execution_count": 73,
   "metadata": {},
   "outputs": [],
   "source": [
    "def test(a, b=10, c=100):\n",
    "    print('a = {}'.format(a))\n",
    "    print('b = {}'.format(b))\n",
    "    print('c = {}'.format(c))\n",
    "    print('a + b + c = {}'.format(a+b+c))"
   ]
  },
  {
   "cell_type": "code",
   "execution_count": 74,
   "metadata": {},
   "outputs": [
    {
     "name": "stdout",
     "output_type": "stream",
     "text": [
      "a = 10\n",
      "b = 20\n",
      "c = 30\n",
      "a + b + c = 60\n"
     ]
    }
   ],
   "source": [
    "test(10, 20, 30)"
   ]
  },
  {
   "cell_type": "code",
   "execution_count": 75,
   "metadata": {},
   "outputs": [
    {
     "name": "stdout",
     "output_type": "stream",
     "text": [
      "a = 10\n",
      "b = 20\n",
      "c = 30\n",
      "a + b + c = 60\n"
     ]
    }
   ],
   "source": [
    "test(a=10, b=20, c=30)"
   ]
  },
  {
   "cell_type": "code",
   "execution_count": 76,
   "metadata": {},
   "outputs": [
    {
     "name": "stdout",
     "output_type": "stream",
     "text": [
      "a = 10\n",
      "b = 20\n",
      "c = 30\n",
      "a + b + c = 60\n"
     ]
    }
   ],
   "source": [
    "test(c=30, b=20, a=10)"
   ]
  },
  {
   "cell_type": "code",
   "execution_count": 77,
   "metadata": {},
   "outputs": [
    {
     "name": "stdout",
     "output_type": "stream",
     "text": [
      "a = 10\n",
      "b = 10\n",
      "c = 100\n",
      "a + b + c = 120\n"
     ]
    }
   ],
   "source": [
    "test(a=10)"
   ]
  },
  {
   "cell_type": "code",
   "execution_count": 78,
   "metadata": {},
   "outputs": [
    {
     "name": "stdout",
     "output_type": "stream",
     "text": [
      "a = 10\n",
      "b = 10\n",
      "c = 200\n",
      "a + b + c = 220\n"
     ]
    }
   ],
   "source": [
    "test(a=10, c=200)"
   ]
  },
  {
   "cell_type": "code",
   "execution_count": 79,
   "metadata": {},
   "outputs": [
    {
     "ename": "TypeError",
     "evalue": "test() missing 1 required positional argument: 'a'",
     "output_type": "error",
     "traceback": [
      "\u001b[1;31m---------------------------------------------------------------------------\u001b[0m",
      "\u001b[1;31mTypeError\u001b[0m                                 Traceback (most recent call last)",
      "Cell \u001b[1;32mIn[79], line 1\u001b[0m\n\u001b[1;32m----> 1\u001b[0m test(b\u001b[38;5;241m=\u001b[39m\u001b[38;5;241m10\u001b[39m, c\u001b[38;5;241m=\u001b[39m\u001b[38;5;241m200\u001b[39m)\n",
      "\u001b[1;31mTypeError\u001b[0m: test() missing 1 required positional argument: 'a'"
     ]
    }
   ],
   "source": [
    "test(b=10, c=200)"
   ]
  },
  {
   "cell_type": "markdown",
   "metadata": {},
   "source": [
    "#### print 함수의 예"
   ]
  },
  {
   "cell_type": "code",
   "execution_count": null,
   "metadata": {},
   "outputs": [
    {
     "name": "stdout",
     "output_type": "stream",
     "text": [
      "안\n",
      "녕\n",
      "하\n",
      "세\n",
      "요\n"
     ]
    }
   ],
   "source": [
    "for i in '안녕하세요':\n",
    "    print(i)"
   ]
  },
  {
   "cell_type": "markdown",
   "metadata": {},
   "source": [
    "- for 반복문을 이용하지만 가로로 쓰고 싶은 경우는?"
   ]
  },
  {
   "cell_type": "code",
   "execution_count": null,
   "metadata": {},
   "outputs": [
    {
     "name": "stdout",
     "output_type": "stream",
     "text": [
      "Help on built-in function print in module builtins:\n",
      "\n",
      "print(*args, sep=' ', end='\\n', file=None, flush=False)\n",
      "    Prints the values to a stream, or to sys.stdout by default.\n",
      "    \n",
      "    sep\n",
      "      string inserted between values, default a space.\n",
      "    end\n",
      "      string appended after the last value, default a newline.\n",
      "    file\n",
      "      a file-like object (stream); defaults to the current sys.stdout.\n",
      "    flush\n",
      "      whether to forcibly flush the stream.\n",
      "\n"
     ]
    }
   ],
   "source": [
    "help(print)"
   ]
  },
  {
   "cell_type": "code",
   "execution_count": null,
   "metadata": {},
   "outputs": [
    {
     "name": "stdout",
     "output_type": "stream",
     "text": [
      "안녕하세요"
     ]
    }
   ],
   "source": [
    "for i in '안녕하세요':\n",
    "    print(i, end='')"
   ]
  },
  {
   "cell_type": "code",
   "execution_count": null,
   "metadata": {},
   "outputs": [
    {
     "name": "stdout",
     "output_type": "stream",
     "text": [
      "안녕 하세요\n"
     ]
    }
   ],
   "source": [
    "print('안녕', '하세요')"
   ]
  },
  {
   "cell_type": "markdown",
   "metadata": {},
   "source": [
    "- 위의 출력 결과에서 띄어쓰기를 없애고 싶은 경우는?"
   ]
  },
  {
   "cell_type": "code",
   "execution_count": null,
   "metadata": {},
   "outputs": [
    {
     "name": "stdout",
     "output_type": "stream",
     "text": [
      "안녕하세요\n"
     ]
    }
   ],
   "source": [
    "print('안녕', '하세요', sep='')"
   ]
  },
  {
   "cell_type": "markdown",
   "metadata": {},
   "source": [
    "## 8.6 리턴\n"
   ]
  },
  {
   "cell_type": "markdown",
   "metadata": {},
   "source": [
    "- 함수를 실행하고 난 뒤 생기는 결과물 : 리턴값\n",
    "\n",
    "```\n",
    "value = input('정수를 입력해주세요.> ')\n",
    "```"
   ]
  },
  {
   "cell_type": "markdown",
   "metadata": {},
   "source": [
    "### 8.6.1 리턴 키워드와 아무것도 리턴하지 않기\n"
   ]
  },
  {
   "cell_type": "markdown",
   "metadata": {},
   "source": [
    "#### print_n_times 함수 실행 결과를 return_value 라는 변수에 할당해보자"
   ]
  },
  {
   "cell_type": "code",
   "execution_count": 81,
   "metadata": {},
   "outputs": [
    {
     "name": "stdout",
     "output_type": "stream",
     "text": [
      "안녕하세요\n",
      "--------------------------------------------------\n",
      "안녕하세요\n",
      "--------------------------------------------------\n"
     ]
    }
   ],
   "source": [
    "return_value = print_n_times('안녕하세요')"
   ]
  },
  {
   "cell_type": "code",
   "execution_count": 82,
   "metadata": {},
   "outputs": [
    {
     "name": "stdout",
     "output_type": "stream",
     "text": [
      "None\n"
     ]
    }
   ],
   "source": [
    "print(return_value)"
   ]
  },
  {
   "cell_type": "markdown",
   "metadata": {},
   "source": [
    "#### return 키워드를 이용해서 None이라는 값을 리턴값으로 주자"
   ]
  },
  {
   "cell_type": "code",
   "execution_count": 93,
   "metadata": {},
   "outputs": [
    {
     "name": "stdout",
     "output_type": "stream",
     "text": [
      "\n",
      "Here is a list of the Python keywords.  Enter any keyword to get more help.\n",
      "\n",
      "False               class               from                or\n",
      "None                continue            global              pass\n",
      "True                def                 if                  raise\n",
      "and                 del                 import              return\n",
      "as                  elif                in                  try\n",
      "assert              else                is                  while\n",
      "async               except              lambda              with\n",
      "await               finally             nonlocal            yield\n",
      "break               for                 not                 \n",
      "\n"
     ]
    }
   ],
   "source": [
    "help('keywords')"
   ]
  },
  {
   "cell_type": "code",
   "execution_count": 83,
   "metadata": {},
   "outputs": [],
   "source": [
    "def return_test():\n",
    "    print('A의 위치입니다.')\n",
    "    return\n",
    "    print('B의 위치입니다.')"
   ]
  },
  {
   "cell_type": "code",
   "execution_count": 84,
   "metadata": {},
   "outputs": [
    {
     "name": "stdout",
     "output_type": "stream",
     "text": [
      "A의 위치입니다.\n"
     ]
    }
   ],
   "source": [
    "return_value = return_test()"
   ]
  },
  {
   "cell_type": "code",
   "execution_count": 86,
   "metadata": {},
   "outputs": [],
   "source": [
    "return_value"
   ]
  },
  {
   "cell_type": "code",
   "execution_count": 85,
   "metadata": {},
   "outputs": [
    {
     "name": "stdout",
     "output_type": "stream",
     "text": [
      "None\n"
     ]
    }
   ],
   "source": [
    "print(return_value)"
   ]
  },
  {
   "cell_type": "code",
   "execution_count": 87,
   "metadata": {},
   "outputs": [],
   "source": [
    "def return_test():\n",
    "    print('A의 위치입니다.')\n",
    "    return None"
   ]
  },
  {
   "cell_type": "code",
   "execution_count": 88,
   "metadata": {},
   "outputs": [
    {
     "name": "stdout",
     "output_type": "stream",
     "text": [
      "A의 위치입니다.\n"
     ]
    }
   ],
   "source": [
    "return_value = return_test()"
   ]
  },
  {
   "cell_type": "code",
   "execution_count": 91,
   "metadata": {},
   "outputs": [],
   "source": [
    "return_value"
   ]
  },
  {
   "cell_type": "code",
   "execution_count": 92,
   "metadata": {},
   "outputs": [
    {
     "name": "stdout",
     "output_type": "stream",
     "text": [
      "None\n"
     ]
    }
   ],
   "source": [
    "print(return_value)"
   ]
  },
  {
   "cell_type": "markdown",
   "metadata": {},
   "source": [
    "### 8.6.2 자료와 함께 리턴하기\n"
   ]
  },
  {
   "cell_type": "code",
   "execution_count": 94,
   "metadata": {},
   "outputs": [],
   "source": [
    "def return_test():\n",
    "    return 100"
   ]
  },
  {
   "cell_type": "code",
   "execution_count": 95,
   "metadata": {},
   "outputs": [],
   "source": [
    "return_value = return_test()"
   ]
  },
  {
   "cell_type": "code",
   "execution_count": 96,
   "metadata": {},
   "outputs": [
    {
     "name": "stdout",
     "output_type": "stream",
     "text": [
      "100\n"
     ]
    }
   ],
   "source": [
    "print(return_value)"
   ]
  },
  {
   "cell_type": "markdown",
   "metadata": {},
   "source": [
    "## 8.7 기본적인 함수의 활용"
   ]
  },
  {
   "cell_type": "markdown",
   "metadata": {},
   "source": [
    "```\n",
    "def 함수(매개변수):\n",
    "    변수 = 초깃값\n",
    "    # 여러가지 처리1\n",
    "    # 여러가지 처리2\n",
    "    # 여러가지 처리3\n",
    "    return 변수\n",
    "```"
   ]
  },
  {
   "cell_type": "markdown",
   "metadata": {},
   "source": [
    "- *args\n",
    "- **kwargs"
   ]
  },
  {
   "cell_type": "markdown",
   "metadata": {},
   "source": [
    "#### 범위 내부의 정수를 모두 더하는 함수\n",
    "- 1부터 n까지 더하는 함수를 만들어보자\n",
    "    - for 반복문을 이용해서 구하는 방법\n",
    "    - sum 함수를 이용해서 구하는 방법\n",
    "    - 둘 다 이용한 방법\n",
    "    - ..."
   ]
  },
  {
   "cell_type": "markdown",
   "metadata": {},
   "source": [
    "- 1부터 n까지 m 간격을 두고 더하는 함수를 만들어보자\n",
    "    - 예시) 1부터 5까지 1간격을 두면 [1,2,3,4,5] --> 모두 더하면 15\n",
    "    - 예시) 1부터 5까지 2간격을 두면 [1,3,5] --> 모두 더하면 9\n",
    "    - 예시) 1부터 5까지 3간격을 두명 [1,4] --> 모두 더하면 5"
   ]
  },
  {
   "cell_type": "markdown",
   "metadata": {},
   "source": [
    "- l부터 n까지 m 간격을 두고 더하는 함수를 만들어보자"
   ]
  },
  {
   "cell_type": "code",
   "execution_count": 9,
   "metadata": {},
   "outputs": [],
   "source": [
    "def elements_sum(n):\n",
    "    total = sum(range(n+1)) \n",
    "    return total"
   ]
  },
  {
   "cell_type": "code",
   "execution_count": 10,
   "metadata": {},
   "outputs": [
    {
     "data": {
      "text/plain": [
       "55"
      ]
     },
     "execution_count": 10,
     "metadata": {},
     "output_type": "execute_result"
    }
   ],
   "source": [
    "elements_sum(10)"
   ]
  },
  {
   "cell_type": "code",
   "execution_count": 11,
   "metadata": {},
   "outputs": [],
   "source": [
    "def elements_sum(n):\n",
    "    total = 0\n",
    "    for i in range(1,n+1):\n",
    "        total += i\n",
    "    return total"
   ]
  },
  {
   "cell_type": "code",
   "execution_count": 12,
   "metadata": {},
   "outputs": [
    {
     "data": {
      "text/plain": [
       "55"
      ]
     },
     "execution_count": 12,
     "metadata": {},
     "output_type": "execute_result"
    }
   ],
   "source": [
    "elements_sum(10)"
   ]
  },
  {
   "cell_type": "code",
   "execution_count": 13,
   "metadata": {},
   "outputs": [],
   "source": [
    "def elements_step_sum(n, step):\n",
    "    total = 0\n",
    "    for i in range(1,n+1, step):\n",
    "        total += i\n",
    "    return total"
   ]
  },
  {
   "cell_type": "code",
   "execution_count": 14,
   "metadata": {},
   "outputs": [
    {
     "data": {
      "text/plain": [
       "22"
      ]
     },
     "execution_count": 14,
     "metadata": {},
     "output_type": "execute_result"
    }
   ],
   "source": [
    "elements_step_sum(10, 3)"
   ]
  },
  {
   "cell_type": "code",
   "execution_count": 15,
   "metadata": {},
   "outputs": [],
   "source": [
    "def elements_range_sum(start, stop, step):\n",
    "    total = 0\n",
    "    for i in range(start, stop+1, step):\n",
    "        total += i\n",
    "    return total"
   ]
  },
  {
   "cell_type": "code",
   "execution_count": 16,
   "metadata": {},
   "outputs": [
    {
     "data": {
      "text/plain": [
       "96"
      ]
     },
     "execution_count": 16,
     "metadata": {},
     "output_type": "execute_result"
    }
   ],
   "source": [
    "elements_range_sum(5, 20, 2)"
   ]
  },
  {
   "cell_type": "code",
   "execution_count": null,
   "metadata": {},
   "outputs": [],
   "source": []
  }
 ],
 "metadata": {
  "kernelspec": {
   "display_name": "base",
   "language": "python",
   "name": "python3"
  },
  "language_info": {
   "codemirror_mode": {
    "name": "ipython",
    "version": 3
   },
   "file_extension": ".py",
   "mimetype": "text/x-python",
   "name": "python",
   "nbconvert_exporter": "python",
   "pygments_lexer": "ipython3",
   "version": "3.10.13"
  }
 },
 "nbformat": 4,
 "nbformat_minor": 2
}
